{
 "cells": [
  {
   "cell_type": "code",
   "execution_count": 31,
   "id": "6b753621-9950-491f-8acf-abda539b8dc4",
   "metadata": {
    "tags": []
   },
   "outputs": [],
   "source": [
    "#Importing library!"
   ]
  },
  {
   "cell_type": "code",
   "execution_count": 2,
   "id": "4077db7f-9439-4eae-9fbc-ea0d1faa38a1",
   "metadata": {
    "tags": []
   },
   "outputs": [],
   "source": [
    "import datetime as dt\n",
    "import pandas as pd\n",
    "import yfinance as yf\n",
    "from pandas_datareader import data as pdr\n"
   ]
  },
  {
   "cell_type": "code",
   "execution_count": 2,
   "id": "fb28a007-b572-4b13-80fc-8e5b70325262",
   "metadata": {
    "tags": []
   },
   "outputs": [],
   "source": [
    "yf.pdr_override()"
   ]
  },
  {
   "cell_type": "code",
   "execution_count": 3,
   "id": "3a90b0cf-1d93-45ab-be96-83fc96b46151",
   "metadata": {
    "tags": []
   },
   "outputs": [],
   "source": [
    "#Step 1 : selecting dates "
   ]
  },
  {
   "cell_type": "code",
   "execution_count": 4,
   "id": "299bbd42-eef2-43e6-83b9-a9b95c5f0178",
   "metadata": {
    "tags": []
   },
   "outputs": [
    {
     "data": {
      "text/plain": [
       "(datetime.datetime(2022, 3, 8, 15, 59, 16, 841633),\n",
       " datetime.datetime(2023, 4, 12, 15, 59, 16, 841633))"
      ]
     },
     "execution_count": 4,
     "metadata": {},
     "output_type": "execute_result"
    }
   ],
   "source": [
    "end=dt.datetime.now()\n",
    "#dt.datetime.today() is the same\n",
    "start=end-dt.timedelta(days=400)\n",
    "#dt.datetime(YYYY,MM,DD) can be used also\n",
    "start,end\n",
    "#The display is (YYYY,MM,DD,hour,minute,second,microsecond)"
   ]
  },
  {
   "cell_type": "code",
   "execution_count": 5,
   "id": "0c3721a7-01df-4a77-af66-af4694ec5c50",
   "metadata": {
    "tags": []
   },
   "outputs": [],
   "source": [
    "#Step 2: selecting stocks to analyse\n",
    "#https://sg.finance.yahoo.com/ to check tickers"
   ]
  },
  {
   "cell_type": "code",
   "execution_count": 6,
   "id": "ead2dfb5-ac3d-4fa1-ad98-d3a02363f351",
   "metadata": {
    "tags": []
   },
   "outputs": [
    {
     "data": {
      "text/plain": [
       "['TSLA', 'BABA', 'GOOG']"
      ]
     },
     "execution_count": 6,
     "metadata": {},
     "output_type": "execute_result"
    }
   ],
   "source": [
    "stocklist=['TSLA','BABA','GOOG']\n",
    "stocklist"
   ]
  },
  {
   "cell_type": "code",
   "execution_count": 7,
   "id": "7d2165d4-50ce-47e7-9db1-99c7e401cb14",
   "metadata": {
    "tags": []
   },
   "outputs": [],
   "source": [
    "#step 3 : call pandas data reder module"
   ]
  },
  {
   "cell_type": "code",
   "execution_count": 8,
   "id": "aba31623-834e-4d56-949e-440c5e06a5ae",
   "metadata": {
    "tags": []
   },
   "outputs": [
    {
     "name": "stdout",
     "output_type": "stream",
     "text": [
      "[*********************100%***********************]  3 of 3 completed\n"
     ]
    },
    {
     "data": {
      "text/html": [
       "<div>\n",
       "<style scoped>\n",
       "    .dataframe tbody tr th:only-of-type {\n",
       "        vertical-align: middle;\n",
       "    }\n",
       "\n",
       "    .dataframe tbody tr th {\n",
       "        vertical-align: top;\n",
       "    }\n",
       "\n",
       "    .dataframe thead tr th {\n",
       "        text-align: left;\n",
       "    }\n",
       "\n",
       "    .dataframe thead tr:last-of-type th {\n",
       "        text-align: right;\n",
       "    }\n",
       "</style>\n",
       "<table border=\"1\" class=\"dataframe\">\n",
       "  <thead>\n",
       "    <tr>\n",
       "      <th></th>\n",
       "      <th colspan=\"3\" halign=\"left\">Adj Close</th>\n",
       "      <th colspan=\"3\" halign=\"left\">Close</th>\n",
       "      <th colspan=\"3\" halign=\"left\">High</th>\n",
       "      <th colspan=\"3\" halign=\"left\">Low</th>\n",
       "      <th colspan=\"3\" halign=\"left\">Open</th>\n",
       "      <th colspan=\"3\" halign=\"left\">Volume</th>\n",
       "    </tr>\n",
       "    <tr>\n",
       "      <th></th>\n",
       "      <th>BABA</th>\n",
       "      <th>GOOG</th>\n",
       "      <th>TSLA</th>\n",
       "      <th>BABA</th>\n",
       "      <th>GOOG</th>\n",
       "      <th>TSLA</th>\n",
       "      <th>BABA</th>\n",
       "      <th>GOOG</th>\n",
       "      <th>TSLA</th>\n",
       "      <th>BABA</th>\n",
       "      <th>GOOG</th>\n",
       "      <th>TSLA</th>\n",
       "      <th>BABA</th>\n",
       "      <th>GOOG</th>\n",
       "      <th>TSLA</th>\n",
       "      <th>BABA</th>\n",
       "      <th>GOOG</th>\n",
       "      <th>TSLA</th>\n",
       "    </tr>\n",
       "    <tr>\n",
       "      <th>Date</th>\n",
       "      <th></th>\n",
       "      <th></th>\n",
       "      <th></th>\n",
       "      <th></th>\n",
       "      <th></th>\n",
       "      <th></th>\n",
       "      <th></th>\n",
       "      <th></th>\n",
       "      <th></th>\n",
       "      <th></th>\n",
       "      <th></th>\n",
       "      <th></th>\n",
       "      <th></th>\n",
       "      <th></th>\n",
       "      <th></th>\n",
       "      <th></th>\n",
       "      <th></th>\n",
       "      <th></th>\n",
       "    </tr>\n",
       "  </thead>\n",
       "  <tbody>\n",
       "    <tr>\n",
       "      <th>2023-04-04</th>\n",
       "      <td>100.720001</td>\n",
       "      <td>105.120003</td>\n",
       "      <td>192.580002</td>\n",
       "      <td>100.720001</td>\n",
       "      <td>105.120003</td>\n",
       "      <td>192.580002</td>\n",
       "      <td>101.470001</td>\n",
       "      <td>106.099998</td>\n",
       "      <td>198.740005</td>\n",
       "      <td>97.260002</td>\n",
       "      <td>104.599998</td>\n",
       "      <td>190.320007</td>\n",
       "      <td>98.940002</td>\n",
       "      <td>104.839996</td>\n",
       "      <td>197.320007</td>\n",
       "      <td>26868400</td>\n",
       "      <td>20377200</td>\n",
       "      <td>126463800</td>\n",
       "    </tr>\n",
       "    <tr>\n",
       "      <th>2023-04-05</th>\n",
       "      <td>98.550003</td>\n",
       "      <td>104.949997</td>\n",
       "      <td>185.520004</td>\n",
       "      <td>98.550003</td>\n",
       "      <td>104.949997</td>\n",
       "      <td>185.520004</td>\n",
       "      <td>100.449997</td>\n",
       "      <td>106.540001</td>\n",
       "      <td>190.679993</td>\n",
       "      <td>97.660004</td>\n",
       "      <td>104.101997</td>\n",
       "      <td>183.759995</td>\n",
       "      <td>99.239998</td>\n",
       "      <td>106.120003</td>\n",
       "      <td>190.520004</td>\n",
       "      <td>20117700</td>\n",
       "      <td>21864200</td>\n",
       "      <td>133882500</td>\n",
       "    </tr>\n",
       "    <tr>\n",
       "      <th>2023-04-06</th>\n",
       "      <td>102.739998</td>\n",
       "      <td>108.900002</td>\n",
       "      <td>185.059998</td>\n",
       "      <td>102.739998</td>\n",
       "      <td>108.900002</td>\n",
       "      <td>185.059998</td>\n",
       "      <td>103.239998</td>\n",
       "      <td>109.629997</td>\n",
       "      <td>186.389999</td>\n",
       "      <td>98.269997</td>\n",
       "      <td>104.815002</td>\n",
       "      <td>179.740005</td>\n",
       "      <td>98.529999</td>\n",
       "      <td>105.769997</td>\n",
       "      <td>183.080002</td>\n",
       "      <td>26849200</td>\n",
       "      <td>34684200</td>\n",
       "      <td>123857900</td>\n",
       "    </tr>\n",
       "    <tr>\n",
       "      <th>2023-04-10</th>\n",
       "      <td>101.540001</td>\n",
       "      <td>106.949997</td>\n",
       "      <td>184.509995</td>\n",
       "      <td>101.540001</td>\n",
       "      <td>106.949997</td>\n",
       "      <td>184.509995</td>\n",
       "      <td>102.830002</td>\n",
       "      <td>107.970001</td>\n",
       "      <td>185.100006</td>\n",
       "      <td>100.589996</td>\n",
       "      <td>105.599998</td>\n",
       "      <td>176.110001</td>\n",
       "      <td>100.620003</td>\n",
       "      <td>107.389999</td>\n",
       "      <td>179.940002</td>\n",
       "      <td>16308300</td>\n",
       "      <td>19741500</td>\n",
       "      <td>142154600</td>\n",
       "    </tr>\n",
       "    <tr>\n",
       "      <th>2023-04-11</th>\n",
       "      <td>99.760002</td>\n",
       "      <td>106.120003</td>\n",
       "      <td>186.789993</td>\n",
       "      <td>99.760002</td>\n",
       "      <td>106.120003</td>\n",
       "      <td>186.789993</td>\n",
       "      <td>102.540001</td>\n",
       "      <td>107.220001</td>\n",
       "      <td>189.190002</td>\n",
       "      <td>99.199997</td>\n",
       "      <td>105.279999</td>\n",
       "      <td>185.649994</td>\n",
       "      <td>102.459999</td>\n",
       "      <td>106.919998</td>\n",
       "      <td>186.690002</td>\n",
       "      <td>18993400</td>\n",
       "      <td>18710000</td>\n",
       "      <td>115557400</td>\n",
       "    </tr>\n",
       "  </tbody>\n",
       "</table>\n",
       "</div>"
      ],
      "text/plain": [
       "             Adj Close                               Close               \n",
       "                  BABA        GOOG        TSLA        BABA        GOOG   \n",
       "Date                                                                     \n",
       "2023-04-04  100.720001  105.120003  192.580002  100.720001  105.120003  \\\n",
       "2023-04-05   98.550003  104.949997  185.520004   98.550003  104.949997   \n",
       "2023-04-06  102.739998  108.900002  185.059998  102.739998  108.900002   \n",
       "2023-04-10  101.540001  106.949997  184.509995  101.540001  106.949997   \n",
       "2023-04-11   99.760002  106.120003  186.789993   99.760002  106.120003   \n",
       "\n",
       "                              High                                 Low   \n",
       "                  TSLA        BABA        GOOG        TSLA        BABA   \n",
       "Date                                                                     \n",
       "2023-04-04  192.580002  101.470001  106.099998  198.740005   97.260002  \\\n",
       "2023-04-05  185.520004  100.449997  106.540001  190.679993   97.660004   \n",
       "2023-04-06  185.059998  103.239998  109.629997  186.389999   98.269997   \n",
       "2023-04-10  184.509995  102.830002  107.970001  185.100006  100.589996   \n",
       "2023-04-11  186.789993  102.540001  107.220001  189.190002   99.199997   \n",
       "\n",
       "                                          Open                           \n",
       "                  GOOG        TSLA        BABA        GOOG        TSLA   \n",
       "Date                                                                     \n",
       "2023-04-04  104.599998  190.320007   98.940002  104.839996  197.320007  \\\n",
       "2023-04-05  104.101997  183.759995   99.239998  106.120003  190.520004   \n",
       "2023-04-06  104.815002  179.740005   98.529999  105.769997  183.080002   \n",
       "2023-04-10  105.599998  176.110001  100.620003  107.389999  179.940002   \n",
       "2023-04-11  105.279999  185.649994  102.459999  106.919998  186.690002   \n",
       "\n",
       "              Volume                       \n",
       "                BABA      GOOG       TSLA  \n",
       "Date                                       \n",
       "2023-04-04  26868400  20377200  126463800  \n",
       "2023-04-05  20117700  21864200  133882500  \n",
       "2023-04-06  26849200  34684200  123857900  \n",
       "2023-04-10  16308300  19741500  142154600  \n",
       "2023-04-11  18993400  18710000  115557400  "
      ]
     },
     "execution_count": 8,
     "metadata": {},
     "output_type": "execute_result"
    }
   ],
   "source": [
    "df = pdr.get_data_yahoo(stocklist,start,end)\n",
    "#https://pandas.pydata.org/docs/reference/api/pandas.DataFrame.html\n",
    "#df.head() = first 5 row\n",
    "#df.tail() = last 5 row\n",
    "df.tail()"
   ]
  },
  {
   "cell_type": "code",
   "execution_count": 9,
   "id": "50b4476b-dc69-480d-9805-e53a958e094c",
   "metadata": {
    "tags": []
   },
   "outputs": [
    {
     "data": {
      "text/plain": [
       "MultiIndex([('Adj Close', 'BABA'),\n",
       "            ('Adj Close', 'GOOG'),\n",
       "            ('Adj Close', 'TSLA'),\n",
       "            (    'Close', 'BABA'),\n",
       "            (    'Close', 'GOOG'),\n",
       "            (    'Close', 'TSLA'),\n",
       "            (     'High', 'BABA'),\n",
       "            (     'High', 'GOOG'),\n",
       "            (     'High', 'TSLA'),\n",
       "            (      'Low', 'BABA'),\n",
       "            (      'Low', 'GOOG'),\n",
       "            (      'Low', 'TSLA'),\n",
       "            (     'Open', 'BABA'),\n",
       "            (     'Open', 'GOOG'),\n",
       "            (     'Open', 'TSLA'),\n",
       "            (   'Volume', 'BABA'),\n",
       "            (   'Volume', 'GOOG'),\n",
       "            (   'Volume', 'TSLA')],\n",
       "           )"
      ]
     },
     "execution_count": 9,
     "metadata": {},
     "output_type": "execute_result"
    }
   ],
   "source": [
    "df.columns"
   ]
  },
  {
   "cell_type": "code",
   "execution_count": 10,
   "id": "8cb7520d-4ca4-48a8-b627-57b99ebd3ff0",
   "metadata": {
    "tags": []
   },
   "outputs": [
    {
     "data": {
      "text/html": [
       "<div>\n",
       "<style scoped>\n",
       "    .dataframe tbody tr th:only-of-type {\n",
       "        vertical-align: middle;\n",
       "    }\n",
       "\n",
       "    .dataframe tbody tr th {\n",
       "        vertical-align: top;\n",
       "    }\n",
       "\n",
       "    .dataframe thead th {\n",
       "        text-align: right;\n",
       "    }\n",
       "</style>\n",
       "<table border=\"1\" class=\"dataframe\">\n",
       "  <thead>\n",
       "    <tr style=\"text-align: right;\">\n",
       "      <th></th>\n",
       "      <th>BABA</th>\n",
       "      <th>GOOG</th>\n",
       "      <th>TSLA</th>\n",
       "    </tr>\n",
       "    <tr>\n",
       "      <th>Date</th>\n",
       "      <th></th>\n",
       "      <th></th>\n",
       "      <th></th>\n",
       "    </tr>\n",
       "  </thead>\n",
       "  <tbody>\n",
       "    <tr>\n",
       "      <th>2022-03-08</th>\n",
       "      <td>97.500000</td>\n",
       "      <td>127.278503</td>\n",
       "      <td>274.799988</td>\n",
       "    </tr>\n",
       "    <tr>\n",
       "      <th>2022-03-09</th>\n",
       "      <td>100.930000</td>\n",
       "      <td>133.865997</td>\n",
       "      <td>286.323334</td>\n",
       "    </tr>\n",
       "    <tr>\n",
       "      <th>2022-03-10</th>\n",
       "      <td>92.919998</td>\n",
       "      <td>132.682007</td>\n",
       "      <td>279.433319</td>\n",
       "    </tr>\n",
       "    <tr>\n",
       "      <th>2022-03-11</th>\n",
       "      <td>86.709999</td>\n",
       "      <td>130.475494</td>\n",
       "      <td>265.116669</td>\n",
       "    </tr>\n",
       "    <tr>\n",
       "      <th>2022-03-14</th>\n",
       "      <td>77.760002</td>\n",
       "      <td>126.740997</td>\n",
       "      <td>255.456665</td>\n",
       "    </tr>\n",
       "  </tbody>\n",
       "</table>\n",
       "</div>"
      ],
      "text/plain": [
       "                  BABA        GOOG        TSLA\n",
       "Date                                          \n",
       "2022-03-08   97.500000  127.278503  274.799988\n",
       "2022-03-09  100.930000  133.865997  286.323334\n",
       "2022-03-10   92.919998  132.682007  279.433319\n",
       "2022-03-11   86.709999  130.475494  265.116669\n",
       "2022-03-14   77.760002  126.740997  255.456665"
      ]
     },
     "execution_count": 10,
     "metadata": {},
     "output_type": "execute_result"
    }
   ],
   "source": [
    "close=df.Close\n",
    "close.head()\n"
   ]
  },
  {
   "cell_type": "code",
   "execution_count": 11,
   "id": "66f54d7d-14d1-4d7e-9b58-d072dc8ea60f",
   "metadata": {
    "tags": []
   },
   "outputs": [
    {
     "data": {
      "text/html": [
       "<div>\n",
       "<style scoped>\n",
       "    .dataframe tbody tr th:only-of-type {\n",
       "        vertical-align: middle;\n",
       "    }\n",
       "\n",
       "    .dataframe tbody tr th {\n",
       "        vertical-align: top;\n",
       "    }\n",
       "\n",
       "    .dataframe thead th {\n",
       "        text-align: right;\n",
       "    }\n",
       "</style>\n",
       "<table border=\"1\" class=\"dataframe\">\n",
       "  <thead>\n",
       "    <tr style=\"text-align: right;\">\n",
       "      <th></th>\n",
       "      <th>BABA</th>\n",
       "      <th>GOOG</th>\n",
       "      <th>TSLA</th>\n",
       "    </tr>\n",
       "  </thead>\n",
       "  <tbody>\n",
       "    <tr>\n",
       "      <th>count</th>\n",
       "      <td>275.000000</td>\n",
       "      <td>275.000000</td>\n",
       "      <td>275.000000</td>\n",
       "    </tr>\n",
       "    <tr>\n",
       "      <th>mean</th>\n",
       "      <td>93.906436</td>\n",
       "      <td>107.488969</td>\n",
       "      <td>233.715382</td>\n",
       "    </tr>\n",
       "    <tr>\n",
       "      <th>std</th>\n",
       "      <td>13.735245</td>\n",
       "      <td>13.767361</td>\n",
       "      <td>61.264867</td>\n",
       "    </tr>\n",
       "    <tr>\n",
       "      <th>min</th>\n",
       "      <td>63.150002</td>\n",
       "      <td>83.489998</td>\n",
       "      <td>108.099998</td>\n",
       "    </tr>\n",
       "    <tr>\n",
       "      <th>25%</th>\n",
       "      <td>85.725002</td>\n",
       "      <td>96.655003</td>\n",
       "      <td>190.809998</td>\n",
       "    </tr>\n",
       "    <tr>\n",
       "      <th>50%</th>\n",
       "      <td>92.430000</td>\n",
       "      <td>105.839500</td>\n",
       "      <td>228.520004</td>\n",
       "    </tr>\n",
       "    <tr>\n",
       "      <th>75%</th>\n",
       "      <td>103.705002</td>\n",
       "      <td>115.346752</td>\n",
       "      <td>285.571671</td>\n",
       "    </tr>\n",
       "    <tr>\n",
       "      <th>max</th>\n",
       "      <td>122.389999</td>\n",
       "      <td>143.642502</td>\n",
       "      <td>381.816681</td>\n",
       "    </tr>\n",
       "  </tbody>\n",
       "</table>\n",
       "</div>"
      ],
      "text/plain": [
       "             BABA        GOOG        TSLA\n",
       "count  275.000000  275.000000  275.000000\n",
       "mean    93.906436  107.488969  233.715382\n",
       "std     13.735245   13.767361   61.264867\n",
       "min     63.150002   83.489998  108.099998\n",
       "25%     85.725002   96.655003  190.809998\n",
       "50%     92.430000  105.839500  228.520004\n",
       "75%    103.705002  115.346752  285.571671\n",
       "max    122.389999  143.642502  381.816681"
      ]
     },
     "execution_count": 11,
     "metadata": {},
     "output_type": "execute_result"
    }
   ],
   "source": [
    "close.describe()\n",
    "#close.describe(percentiles=[0.1,0.5,0.9]) #to play with the percentiles\n",
    "#close[close.index>end-dt.timedelta(days=100)].describe()"
   ]
  },
  {
   "cell_type": "code",
   "execution_count": 12,
   "id": "5bc36240-5fac-421f-bdb8-991cd2b28a70",
   "metadata": {
    "tags": []
   },
   "outputs": [
    {
     "data": {
      "text/plain": [
       "<Axes: xlabel='Date'>"
      ]
     },
     "execution_count": 12,
     "metadata": {},
     "output_type": "execute_result"
    },
    {
     "data": {
      "image/png": "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",
      "text/plain": [
       "<Figure size 640x480 with 1 Axes>"
      ]
     },
     "metadata": {},
     "output_type": "display_data"
    }
   ],
   "source": [
    "#close.plot(figsize=(12,8))\n",
    "close.plot()"
   ]
  },
  {
   "cell_type": "code",
   "execution_count": 13,
   "id": "4384f996-aaf0-4ea9-a735-1cb05eb9d1e1",
   "metadata": {
    "tags": []
   },
   "outputs": [
    {
     "data": {
      "text/html": [
       "        <script type=\"text/javascript\">\n",
       "        window.PlotlyConfig = {MathJaxConfig: 'local'};\n",
       "        if (window.MathJax && window.MathJax.Hub && window.MathJax.Hub.Config) {window.MathJax.Hub.Config({SVG: {font: \"STIX-Web\"}});}\n",
       "        if (typeof require !== 'undefined') {\n",
       "        require.undef(\"plotly\");\n",
       "        requirejs.config({\n",
       "            paths: {\n",
       "                'plotly': ['https://cdn.plot.ly/plotly-2.20.0.min']\n",
       "            }\n",
       "        });\n",
       "        require(['plotly'], function(Plotly) {\n",
       "            window._Plotly = Plotly;\n",
       "        });\n",
       "        }\n",
       "        </script>\n",
       "        "
      ]
     },
     "metadata": {},
     "output_type": "display_data"
    }
   ],
   "source": [
    "import plotly.offline as pyo\n",
    "pyo.init_notebook_mode(connected=True)\n",
    "\n",
    "pd.options.plotting.backend='plotly'"
   ]
  },
  {
   "cell_type": "code",
   "execution_count": 14,
   "id": "4fc691fc-a539-48ab-8149-3fa6b79d6d2b",
   "metadata": {
    "tags": []
   },
   "outputs": [
    {
     "data": {
      "application/vnd.plotly.v1+json": {
       "config": {
        "plotlyServerURL": "https://plot.ly"
       },
       "data": [
        {
         "hovertemplate": "variable=BABA<br>Date=%{x}<br>value=%{y}<extra></extra>",
         "legendgroup": "BABA",
         "line": {
          "color": "#636efa",
          "dash": "solid"
         },
         "marker": {
          "symbol": "circle"
         },
         "mode": "lines",
         "name": "BABA",
         "orientation": "v",
         "showlegend": true,
         "type": "scatter",
         "x": [
          "2022-03-08T00:00:00",
          "2022-03-09T00:00:00",
          "2022-03-10T00:00:00",
          "2022-03-11T00:00:00",
          "2022-03-14T00:00:00",
          "2022-03-15T00:00:00",
          "2022-03-16T00:00:00",
          "2022-03-17T00:00:00",
          "2022-03-18T00:00:00",
          "2022-03-21T00:00:00",
          "2022-03-22T00:00:00",
          "2022-03-23T00:00:00",
          "2022-03-24T00:00:00",
          "2022-03-25T00:00:00",
          "2022-03-28T00:00:00",
          "2022-03-29T00:00:00",
          "2022-03-30T00:00:00",
          "2022-03-31T00:00:00",
          "2022-04-01T00:00:00",
          "2022-04-04T00:00:00",
          "2022-04-05T00:00:00",
          "2022-04-06T00:00:00",
          "2022-04-07T00:00:00",
          "2022-04-08T00:00:00",
          "2022-04-11T00:00:00",
          "2022-04-12T00:00:00",
          "2022-04-13T00:00:00",
          "2022-04-14T00:00:00",
          "2022-04-18T00:00:00",
          "2022-04-19T00:00:00",
          "2022-04-20T00:00:00",
          "2022-04-21T00:00:00",
          "2022-04-22T00:00:00",
          "2022-04-25T00:00:00",
          "2022-04-26T00:00:00",
          "2022-04-27T00:00:00",
          "2022-04-28T00:00:00",
          "2022-04-29T00:00:00",
          "2022-05-02T00:00:00",
          "2022-05-03T00:00:00",
          "2022-05-04T00:00:00",
          "2022-05-05T00:00:00",
          "2022-05-06T00:00:00",
          "2022-05-09T00:00:00",
          "2022-05-10T00:00:00",
          "2022-05-11T00:00:00",
          "2022-05-12T00:00:00",
          "2022-05-13T00:00:00",
          "2022-05-16T00:00:00",
          "2022-05-17T00:00:00",
          "2022-05-18T00:00:00",
          "2022-05-19T00:00:00",
          "2022-05-20T00:00:00",
          "2022-05-23T00:00:00",
          "2022-05-24T00:00:00",
          "2022-05-25T00:00:00",
          "2022-05-26T00:00:00",
          "2022-05-27T00:00:00",
          "2022-05-31T00:00:00",
          "2022-06-01T00:00:00",
          "2022-06-02T00:00:00",
          "2022-06-03T00:00:00",
          "2022-06-06T00:00:00",
          "2022-06-07T00:00:00",
          "2022-06-08T00:00:00",
          "2022-06-09T00:00:00",
          "2022-06-10T00:00:00",
          "2022-06-13T00:00:00",
          "2022-06-14T00:00:00",
          "2022-06-15T00:00:00",
          "2022-06-16T00:00:00",
          "2022-06-17T00:00:00",
          "2022-06-21T00:00:00",
          "2022-06-22T00:00:00",
          "2022-06-23T00:00:00",
          "2022-06-24T00:00:00",
          "2022-06-27T00:00:00",
          "2022-06-28T00:00:00",
          "2022-06-29T00:00:00",
          "2022-06-30T00:00:00",
          "2022-07-01T00:00:00",
          "2022-07-05T00:00:00",
          "2022-07-06T00:00:00",
          "2022-07-07T00:00:00",
          "2022-07-08T00:00:00",
          "2022-07-11T00:00:00",
          "2022-07-12T00:00:00",
          "2022-07-13T00:00:00",
          "2022-07-14T00:00:00",
          "2022-07-15T00:00:00",
          "2022-07-18T00:00:00",
          "2022-07-19T00:00:00",
          "2022-07-20T00:00:00",
          "2022-07-21T00:00:00",
          "2022-07-22T00:00:00",
          "2022-07-25T00:00:00",
          "2022-07-26T00:00:00",
          "2022-07-27T00:00:00",
          "2022-07-28T00:00:00",
          "2022-07-29T00:00:00",
          "2022-08-01T00:00:00",
          "2022-08-02T00:00:00",
          "2022-08-03T00:00:00",
          "2022-08-04T00:00:00",
          "2022-08-05T00:00:00",
          "2022-08-08T00:00:00",
          "2022-08-09T00:00:00",
          "2022-08-10T00:00:00",
          "2022-08-11T00:00:00",
          "2022-08-12T00:00:00",
          "2022-08-15T00:00:00",
          "2022-08-16T00:00:00",
          "2022-08-17T00:00:00",
          "2022-08-18T00:00:00",
          "2022-08-19T00:00:00",
          "2022-08-22T00:00:00",
          "2022-08-23T00:00:00",
          "2022-08-24T00:00:00",
          "2022-08-25T00:00:00",
          "2022-08-26T00:00:00",
          "2022-08-29T00:00:00",
          "2022-08-30T00:00:00",
          "2022-08-31T00:00:00",
          "2022-09-01T00:00:00",
          "2022-09-02T00:00:00",
          "2022-09-06T00:00:00",
          "2022-09-07T00:00:00",
          "2022-09-08T00:00:00",
          "2022-09-09T00:00:00",
          "2022-09-12T00:00:00",
          "2022-09-13T00:00:00",
          "2022-09-14T00:00:00",
          "2022-09-15T00:00:00",
          "2022-09-16T00:00:00",
          "2022-09-19T00:00:00",
          "2022-09-20T00:00:00",
          "2022-09-21T00:00:00",
          "2022-09-22T00:00:00",
          "2022-09-23T00:00:00",
          "2022-09-26T00:00:00",
          "2022-09-27T00:00:00",
          "2022-09-28T00:00:00",
          "2022-09-29T00:00:00",
          "2022-09-30T00:00:00",
          "2022-10-03T00:00:00",
          "2022-10-04T00:00:00",
          "2022-10-05T00:00:00",
          "2022-10-06T00:00:00",
          "2022-10-07T00:00:00",
          "2022-10-10T00:00:00",
          "2022-10-11T00:00:00",
          "2022-10-12T00:00:00",
          "2022-10-13T00:00:00",
          "2022-10-14T00:00:00",
          "2022-10-17T00:00:00",
          "2022-10-18T00:00:00",
          "2022-10-19T00:00:00",
          "2022-10-20T00:00:00",
          "2022-10-21T00:00:00",
          "2022-10-24T00:00:00",
          "2022-10-25T00:00:00",
          "2022-10-26T00:00:00",
          "2022-10-27T00:00:00",
          "2022-10-28T00:00:00",
          "2022-10-31T00:00:00",
          "2022-11-01T00:00:00",
          "2022-11-02T00:00:00",
          "2022-11-03T00:00:00",
          "2022-11-04T00:00:00",
          "2022-11-07T00:00:00",
          "2022-11-08T00:00:00",
          "2022-11-09T00:00:00",
          "2022-11-10T00:00:00",
          "2022-11-11T00:00:00",
          "2022-11-14T00:00:00",
          "2022-11-15T00:00:00",
          "2022-11-16T00:00:00",
          "2022-11-17T00:00:00",
          "2022-11-18T00:00:00",
          "2022-11-21T00:00:00",
          "2022-11-22T00:00:00",
          "2022-11-23T00:00:00",
          "2022-11-25T00:00:00",
          "2022-11-28T00:00:00",
          "2022-11-29T00:00:00",
          "2022-11-30T00:00:00",
          "2022-12-01T00:00:00",
          "2022-12-02T00:00:00",
          "2022-12-05T00:00:00",
          "2022-12-06T00:00:00",
          "2022-12-07T00:00:00",
          "2022-12-08T00:00:00",
          "2022-12-09T00:00:00",
          "2022-12-12T00:00:00",
          "2022-12-13T00:00:00",
          "2022-12-14T00:00:00",
          "2022-12-15T00:00:00",
          "2022-12-16T00:00:00",
          "2022-12-19T00:00:00",
          "2022-12-20T00:00:00",
          "2022-12-21T00:00:00",
          "2022-12-22T00:00:00",
          "2022-12-23T00:00:00",
          "2022-12-27T00:00:00",
          "2022-12-28T00:00:00",
          "2022-12-29T00:00:00",
          "2022-12-30T00:00:00",
          "2023-01-03T00:00:00",
          "2023-01-04T00:00:00",
          "2023-01-05T00:00:00",
          "2023-01-06T00:00:00",
          "2023-01-09T00:00:00",
          "2023-01-10T00:00:00",
          "2023-01-11T00:00:00",
          "2023-01-12T00:00:00",
          "2023-01-13T00:00:00",
          "2023-01-17T00:00:00",
          "2023-01-18T00:00:00",
          "2023-01-19T00:00:00",
          "2023-01-20T00:00:00",
          "2023-01-23T00:00:00",
          "2023-01-24T00:00:00",
          "2023-01-25T00:00:00",
          "2023-01-26T00:00:00",
          "2023-01-27T00:00:00",
          "2023-01-30T00:00:00",
          "2023-01-31T00:00:00",
          "2023-02-01T00:00:00",
          "2023-02-02T00:00:00",
          "2023-02-03T00:00:00",
          "2023-02-06T00:00:00",
          "2023-02-07T00:00:00",
          "2023-02-08T00:00:00",
          "2023-02-09T00:00:00",
          "2023-02-10T00:00:00",
          "2023-02-13T00:00:00",
          "2023-02-14T00:00:00",
          "2023-02-15T00:00:00",
          "2023-02-16T00:00:00",
          "2023-02-17T00:00:00",
          "2023-02-21T00:00:00",
          "2023-02-22T00:00:00",
          "2023-02-23T00:00:00",
          "2023-02-24T00:00:00",
          "2023-02-27T00:00:00",
          "2023-02-28T00:00:00",
          "2023-03-01T00:00:00",
          "2023-03-02T00:00:00",
          "2023-03-03T00:00:00",
          "2023-03-06T00:00:00",
          "2023-03-07T00:00:00",
          "2023-03-08T00:00:00",
          "2023-03-09T00:00:00",
          "2023-03-10T00:00:00",
          "2023-03-13T00:00:00",
          "2023-03-14T00:00:00",
          "2023-03-15T00:00:00",
          "2023-03-16T00:00:00",
          "2023-03-17T00:00:00",
          "2023-03-20T00:00:00",
          "2023-03-21T00:00:00",
          "2023-03-22T00:00:00",
          "2023-03-23T00:00:00",
          "2023-03-24T00:00:00",
          "2023-03-27T00:00:00",
          "2023-03-28T00:00:00",
          "2023-03-29T00:00:00",
          "2023-03-30T00:00:00",
          "2023-03-31T00:00:00",
          "2023-04-03T00:00:00",
          "2023-04-04T00:00:00",
          "2023-04-05T00:00:00",
          "2023-04-06T00:00:00",
          "2023-04-10T00:00:00",
          "2023-04-11T00:00:00"
         ],
         "xaxis": "x",
         "y": [
          97.5,
          100.93000030517578,
          92.91999816894531,
          86.70999908447266,
          77.76000213623047,
          76.76000213623047,
          104.9800033569336,
          100.37000274658203,
          108.30000305175781,
          103.58999633789062,
          114.98999786376953,
          117.23999786376953,
          115.1500015258789,
          112.98999786376953,
          115.08999633789062,
          116.70999908447266,
          116.58000183105469,
          108.80000305175781,
          110.19999694824219,
          117.5,
          111,
          107.68000030517578,
          104.2699966430664,
          103.52999877929688,
          101.55000305175781,
          99.75,
          100.02999877929688,
          95.48999786376953,
          94.70999908447266,
          93.5,
          89.41000366210938,
          85.98999786376953,
          86.48999786376953,
          85.83999633789062,
          83.98999786376953,
          88.31999969482422,
          90.91000366210938,
          97.08999633789062,
          101.20999908447266,
          100.37999725341797,
          101.41000366210938,
          94.63999938964844,
          90.05000305175781,
          84.83999633789062,
          84.56999969482422,
          81.7300033569336,
          81.08999633789062,
          87.98999786376953,
          86.4800033569336,
          91.98999786376953,
          87.30999755859375,
          87.69000244140625,
          86.79000091552734,
          87.2300033569336,
          82.47000122070312,
          82.30999755859375,
          94.4800033569336,
          93.41000366210938,
          96.05000305175781,
          93.37999725341797,
          97.5,
          93.20999908447266,
          99.01000213623047,
          104.31999969482422,
          119.62000274658203,
          109.9000015258789,
          109.83999633789062,
          98.5199966430664,
          105.2300033569336,
          108.02999877929688,
          101.44999694824219,
          102.23999786376953,
          106.38999938964844,
          105.1500015258789,
          112.11000061035156,
          117.62000274658203,
          118.7300033569336,
          116.76000213623047,
          116.02999877929688,
          113.68000030517578,
          116,
          120.12999725341797,
          119.12000274658203,
          122.38999938964844,
          120.9000015258789,
          109.56999969482422,
          109.20999908447266,
          109.0999984741211,
          103.76000213623047,
          102.44000244140625,
          103.13999938964844,
          104.75,
          103.95999908447266,
          105.12999725341797,
          100.61000061035156,
          101.05999755859375,
          101.44000244140625,
          102.77999877929688,
          100.55000305175781,
          89.37000274658203,
          90.33999633789062,
          92.62000274658203,
          95.72000122070312,
          97.43000030517578,
          92.55999755859375,
          90.83999633789062,
          91.19000244140625,
          92.43000030517578,
          94.87000274658203,
          94.7699966430664,
          94.19999694824219,
          92.6500015258789,
          89.7699966430664,
          90.73999786376953,
          89.62999725341797,
          90.02999877929688,
          89.83000183105469,
          92.5199966430664,
          99.88999938964844,
          98,
          96.5999984741211,
          93.83999633789062,
          95.41000366210938,
          93.70999908447266,
          91.80000305175781,
          88.44999694824219,
          90.5999984741211,
          89.5199966430664,
          92.13999938964844,
          94.69000244140625,
          89.47000122070312,
          88.91999816894531,
          88.83000183105469,
          86.43000030517578,
          87.66000366210938,
          85.80000305175781,
          81.5999984741211,
          80.70999908447266,
          78.80000305175781,
          78.91000366210938,
          77.87000274658203,
          80.98999786376953,
          79.05999755859375,
          79.98999786376953,
          80.44999694824219,
          84.11000061035156,
          84.38999938964844,
          84.31999969482422,
          81.23999786376953,
          79.23999786376953,
          75.37000274658203,
          75.7300033569336,
          75.01000213623047,
          73.0199966430664,
          76.7699966430664,
          76.33999633789062,
          71.2699966430664,
          72.0199966430664,
          72.18000030517578,
          63.150001525878906,
          63.220001220703125,
          68.51000213623047,
          65.83999633789062,
          63.7400016784668,
          63.58000183105469,
          65.86000061035156,
          64.69999694824219,
          65.20999908447266,
          69.80999755859375,
          69.70999908447266,
          68.12999725341797,
          64.83999633789062,
          69.7699966430664,
          70.7699966430664,
          71.33000183105469,
          79.30000305175781,
          78.16000366210938,
          84.26000213623047,
          80.4800033569336,
          76.93000030517578,
          75.98999786376953,
          78.5,
          75.5,
          75.87999725341797,
          79.86000061035156,
          87.55999755859375,
          85.94000244140625,
          90.05999755859375,
          90.5199966430664,
          91.44999694824219,
          88.33000183105469,
          94.16999816894531,
          91.33999633789062,
          89.41000366210938,
          91.41000366210938,
          90.91000366210938,
          86.20999908447266,
          86.79000091552734,
          87.16000366210938,
          85.91999816894531,
          87.80999755859375,
          87.97000122070312,
          85.6500015258789,
          89.86000061035156,
          87.19999694824219,
          89.12999725341797,
          88.08999633789062,
          91.9800033569336,
          103.91999816894531,
          104.58000183105469,
          107.4000015258789,
          110.83000183105469,
          114.87999725341797,
          115.0199966430664,
          113.1500015258789,
          117.01000213623047,
          115.19000244140625,
          113.22000122070312,
          116.58000183105469,
          119.86000061035156,
          119.52999877929688,
          119.44000244140625,
          120.25,
          120.56999969482422,
          118.37999725341797,
          111.19999694824219,
          110.19999694824219,
          112.81999969482422,
          109.73999786376953,
          106.33000183105469,
          105.44999694824219,
          105.5,
          105.11000061035156,
          108.45999908447266,
          103.6500015258789,
          104.79000091552734,
          104.22000122070312,
          103.08000183105469,
          103.11000061035156,
          100.01000213623047,
          95.0999984741211,
          94.77999877929688,
          94.16000366210938,
          89,
          89.25,
          87.79000091552734,
          89.94999694824219,
          89.75,
          89.69999694824219,
          89.62000274658203,
          88.7300033569336,
          86.94999694824219,
          83.37000274658203,
          82.95999908447266,
          82.9000015258789,
          83.8499984741211,
          81.51000213623047,
          82.22000122070312,
          81.66999816894531,
          81,
          83.69999694824219,
          83.6500015258789,
          86.5199966430664,
          86.9000015258789,
          86.12000274658203,
          98.4000015258789,
          99.91999816894531,
          103.37999725341797,
          102.18000030517578,
          98.38999938964844,
          100.72000122070312,
          98.55000305175781,
          102.73999786376953,
          101.54000091552734,
          99.76000213623047
         ],
         "yaxis": "y"
        },
        {
         "hovertemplate": "variable=GOOG<br>Date=%{x}<br>value=%{y}<extra></extra>",
         "legendgroup": "GOOG",
         "line": {
          "color": "#EF553B",
          "dash": "solid"
         },
         "marker": {
          "symbol": "circle"
         },
         "mode": "lines",
         "name": "GOOG",
         "orientation": "v",
         "showlegend": true,
         "type": "scatter",
         "x": [
          "2022-03-08T00:00:00",
          "2022-03-09T00:00:00",
          "2022-03-10T00:00:00",
          "2022-03-11T00:00:00",
          "2022-03-14T00:00:00",
          "2022-03-15T00:00:00",
          "2022-03-16T00:00:00",
          "2022-03-17T00:00:00",
          "2022-03-18T00:00:00",
          "2022-03-21T00:00:00",
          "2022-03-22T00:00:00",
          "2022-03-23T00:00:00",
          "2022-03-24T00:00:00",
          "2022-03-25T00:00:00",
          "2022-03-28T00:00:00",
          "2022-03-29T00:00:00",
          "2022-03-30T00:00:00",
          "2022-03-31T00:00:00",
          "2022-04-01T00:00:00",
          "2022-04-04T00:00:00",
          "2022-04-05T00:00:00",
          "2022-04-06T00:00:00",
          "2022-04-07T00:00:00",
          "2022-04-08T00:00:00",
          "2022-04-11T00:00:00",
          "2022-04-12T00:00:00",
          "2022-04-13T00:00:00",
          "2022-04-14T00:00:00",
          "2022-04-18T00:00:00",
          "2022-04-19T00:00:00",
          "2022-04-20T00:00:00",
          "2022-04-21T00:00:00",
          "2022-04-22T00:00:00",
          "2022-04-25T00:00:00",
          "2022-04-26T00:00:00",
          "2022-04-27T00:00:00",
          "2022-04-28T00:00:00",
          "2022-04-29T00:00:00",
          "2022-05-02T00:00:00",
          "2022-05-03T00:00:00",
          "2022-05-04T00:00:00",
          "2022-05-05T00:00:00",
          "2022-05-06T00:00:00",
          "2022-05-09T00:00:00",
          "2022-05-10T00:00:00",
          "2022-05-11T00:00:00",
          "2022-05-12T00:00:00",
          "2022-05-13T00:00:00",
          "2022-05-16T00:00:00",
          "2022-05-17T00:00:00",
          "2022-05-18T00:00:00",
          "2022-05-19T00:00:00",
          "2022-05-20T00:00:00",
          "2022-05-23T00:00:00",
          "2022-05-24T00:00:00",
          "2022-05-25T00:00:00",
          "2022-05-26T00:00:00",
          "2022-05-27T00:00:00",
          "2022-05-31T00:00:00",
          "2022-06-01T00:00:00",
          "2022-06-02T00:00:00",
          "2022-06-03T00:00:00",
          "2022-06-06T00:00:00",
          "2022-06-07T00:00:00",
          "2022-06-08T00:00:00",
          "2022-06-09T00:00:00",
          "2022-06-10T00:00:00",
          "2022-06-13T00:00:00",
          "2022-06-14T00:00:00",
          "2022-06-15T00:00:00",
          "2022-06-16T00:00:00",
          "2022-06-17T00:00:00",
          "2022-06-21T00:00:00",
          "2022-06-22T00:00:00",
          "2022-06-23T00:00:00",
          "2022-06-24T00:00:00",
          "2022-06-27T00:00:00",
          "2022-06-28T00:00:00",
          "2022-06-29T00:00:00",
          "2022-06-30T00:00:00",
          "2022-07-01T00:00:00",
          "2022-07-05T00:00:00",
          "2022-07-06T00:00:00",
          "2022-07-07T00:00:00",
          "2022-07-08T00:00:00",
          "2022-07-11T00:00:00",
          "2022-07-12T00:00:00",
          "2022-07-13T00:00:00",
          "2022-07-14T00:00:00",
          "2022-07-15T00:00:00",
          "2022-07-18T00:00:00",
          "2022-07-19T00:00:00",
          "2022-07-20T00:00:00",
          "2022-07-21T00:00:00",
          "2022-07-22T00:00:00",
          "2022-07-25T00:00:00",
          "2022-07-26T00:00:00",
          "2022-07-27T00:00:00",
          "2022-07-28T00:00:00",
          "2022-07-29T00:00:00",
          "2022-08-01T00:00:00",
          "2022-08-02T00:00:00",
          "2022-08-03T00:00:00",
          "2022-08-04T00:00:00",
          "2022-08-05T00:00:00",
          "2022-08-08T00:00:00",
          "2022-08-09T00:00:00",
          "2022-08-10T00:00:00",
          "2022-08-11T00:00:00",
          "2022-08-12T00:00:00",
          "2022-08-15T00:00:00",
          "2022-08-16T00:00:00",
          "2022-08-17T00:00:00",
          "2022-08-18T00:00:00",
          "2022-08-19T00:00:00",
          "2022-08-22T00:00:00",
          "2022-08-23T00:00:00",
          "2022-08-24T00:00:00",
          "2022-08-25T00:00:00",
          "2022-08-26T00:00:00",
          "2022-08-29T00:00:00",
          "2022-08-30T00:00:00",
          "2022-08-31T00:00:00",
          "2022-09-01T00:00:00",
          "2022-09-02T00:00:00",
          "2022-09-06T00:00:00",
          "2022-09-07T00:00:00",
          "2022-09-08T00:00:00",
          "2022-09-09T00:00:00",
          "2022-09-12T00:00:00",
          "2022-09-13T00:00:00",
          "2022-09-14T00:00:00",
          "2022-09-15T00:00:00",
          "2022-09-16T00:00:00",
          "2022-09-19T00:00:00",
          "2022-09-20T00:00:00",
          "2022-09-21T00:00:00",
          "2022-09-22T00:00:00",
          "2022-09-23T00:00:00",
          "2022-09-26T00:00:00",
          "2022-09-27T00:00:00",
          "2022-09-28T00:00:00",
          "2022-09-29T00:00:00",
          "2022-09-30T00:00:00",
          "2022-10-03T00:00:00",
          "2022-10-04T00:00:00",
          "2022-10-05T00:00:00",
          "2022-10-06T00:00:00",
          "2022-10-07T00:00:00",
          "2022-10-10T00:00:00",
          "2022-10-11T00:00:00",
          "2022-10-12T00:00:00",
          "2022-10-13T00:00:00",
          "2022-10-14T00:00:00",
          "2022-10-17T00:00:00",
          "2022-10-18T00:00:00",
          "2022-10-19T00:00:00",
          "2022-10-20T00:00:00",
          "2022-10-21T00:00:00",
          "2022-10-24T00:00:00",
          "2022-10-25T00:00:00",
          "2022-10-26T00:00:00",
          "2022-10-27T00:00:00",
          "2022-10-28T00:00:00",
          "2022-10-31T00:00:00",
          "2022-11-01T00:00:00",
          "2022-11-02T00:00:00",
          "2022-11-03T00:00:00",
          "2022-11-04T00:00:00",
          "2022-11-07T00:00:00",
          "2022-11-08T00:00:00",
          "2022-11-09T00:00:00",
          "2022-11-10T00:00:00",
          "2022-11-11T00:00:00",
          "2022-11-14T00:00:00",
          "2022-11-15T00:00:00",
          "2022-11-16T00:00:00",
          "2022-11-17T00:00:00",
          "2022-11-18T00:00:00",
          "2022-11-21T00:00:00",
          "2022-11-22T00:00:00",
          "2022-11-23T00:00:00",
          "2022-11-25T00:00:00",
          "2022-11-28T00:00:00",
          "2022-11-29T00:00:00",
          "2022-11-30T00:00:00",
          "2022-12-01T00:00:00",
          "2022-12-02T00:00:00",
          "2022-12-05T00:00:00",
          "2022-12-06T00:00:00",
          "2022-12-07T00:00:00",
          "2022-12-08T00:00:00",
          "2022-12-09T00:00:00",
          "2022-12-12T00:00:00",
          "2022-12-13T00:00:00",
          "2022-12-14T00:00:00",
          "2022-12-15T00:00:00",
          "2022-12-16T00:00:00",
          "2022-12-19T00:00:00",
          "2022-12-20T00:00:00",
          "2022-12-21T00:00:00",
          "2022-12-22T00:00:00",
          "2022-12-23T00:00:00",
          "2022-12-27T00:00:00",
          "2022-12-28T00:00:00",
          "2022-12-29T00:00:00",
          "2022-12-30T00:00:00",
          "2023-01-03T00:00:00",
          "2023-01-04T00:00:00",
          "2023-01-05T00:00:00",
          "2023-01-06T00:00:00",
          "2023-01-09T00:00:00",
          "2023-01-10T00:00:00",
          "2023-01-11T00:00:00",
          "2023-01-12T00:00:00",
          "2023-01-13T00:00:00",
          "2023-01-17T00:00:00",
          "2023-01-18T00:00:00",
          "2023-01-19T00:00:00",
          "2023-01-20T00:00:00",
          "2023-01-23T00:00:00",
          "2023-01-24T00:00:00",
          "2023-01-25T00:00:00",
          "2023-01-26T00:00:00",
          "2023-01-27T00:00:00",
          "2023-01-30T00:00:00",
          "2023-01-31T00:00:00",
          "2023-02-01T00:00:00",
          "2023-02-02T00:00:00",
          "2023-02-03T00:00:00",
          "2023-02-06T00:00:00",
          "2023-02-07T00:00:00",
          "2023-02-08T00:00:00",
          "2023-02-09T00:00:00",
          "2023-02-10T00:00:00",
          "2023-02-13T00:00:00",
          "2023-02-14T00:00:00",
          "2023-02-15T00:00:00",
          "2023-02-16T00:00:00",
          "2023-02-17T00:00:00",
          "2023-02-21T00:00:00",
          "2023-02-22T00:00:00",
          "2023-02-23T00:00:00",
          "2023-02-24T00:00:00",
          "2023-02-27T00:00:00",
          "2023-02-28T00:00:00",
          "2023-03-01T00:00:00",
          "2023-03-02T00:00:00",
          "2023-03-03T00:00:00",
          "2023-03-06T00:00:00",
          "2023-03-07T00:00:00",
          "2023-03-08T00:00:00",
          "2023-03-09T00:00:00",
          "2023-03-10T00:00:00",
          "2023-03-13T00:00:00",
          "2023-03-14T00:00:00",
          "2023-03-15T00:00:00",
          "2023-03-16T00:00:00",
          "2023-03-17T00:00:00",
          "2023-03-20T00:00:00",
          "2023-03-21T00:00:00",
          "2023-03-22T00:00:00",
          "2023-03-23T00:00:00",
          "2023-03-24T00:00:00",
          "2023-03-27T00:00:00",
          "2023-03-28T00:00:00",
          "2023-03-29T00:00:00",
          "2023-03-30T00:00:00",
          "2023-03-31T00:00:00",
          "2023-04-03T00:00:00",
          "2023-04-04T00:00:00",
          "2023-04-05T00:00:00",
          "2023-04-06T00:00:00",
          "2023-04-10T00:00:00",
          "2023-04-11T00:00:00"
         ],
         "xaxis": "x",
         "y": [
          127.27850341796875,
          133.86599731445312,
          132.6820068359375,
          130.47549438476562,
          126.74099731445312,
          129.66050720214844,
          133.6905059814453,
          134.60049438476562,
          136.80149841308594,
          136.47850036621094,
          140.27749633789062,
          138.5034942626953,
          141.31199645996094,
          141.52149963378906,
          141.9499969482422,
          143.25,
          142.64450073242188,
          139.64950561523438,
          140.6999969482422,
          143.6425018310547,
          141.06300354003906,
          137.17599487304688,
          136.46499633789062,
          134.010498046875,
          129.79649353027344,
          128.37449645996094,
          130.28599548339844,
          127.25299835205078,
          127.96099853515625,
          130.531005859375,
          128.24549865722656,
          124.9375,
          119.61399841308594,
          123.25,
          119.50599670410156,
          115.02050018310547,
          119.4114990234375,
          114.96649932861328,
          117.15699768066406,
          118.12950134277344,
          122.57499694824219,
          116.74649810791016,
          115.66000366210938,
          113.08399963378906,
          114.58450317382812,
          113.96099853515625,
          113.16100311279297,
          116.5155029296875,
          114.7925033569336,
          116.70149993896484,
          112.4010009765625,
          110.74549865722656,
          109.31300354003906,
          111.66649627685547,
          105.9260025024414,
          105.8395004272461,
          108.2959976196289,
          112.79900360107422,
          114.03900146484375,
          114.13700103759766,
          117.74600219726562,
          114.56400299072266,
          117.010498046875,
          117.22949981689453,
          117.23799896240234,
          114.91799926757812,
          111.42749786376953,
          106.87650299072266,
          107.19400024414062,
          110.3905029296875,
          106.63600158691406,
          107.8655014038086,
          112.01499938964844,
          112.03399658203125,
          112.68450164794922,
          118.53800201416016,
          116.62249755859375,
          112.57150268554688,
          112.25650024414062,
          109.37249755859375,
          109.08100128173828,
          113.88700103759766,
          115.2135009765625,
          119.30599975585938,
          120.16850280761719,
          116.52249908447266,
          114.84950256347656,
          112.18699645996094,
          111.44000244140625,
          112.76699829101562,
          109.91000366210938,
          114.62000274658203,
          114.69999694824219,
          115.04000091552734,
          108.36000061035156,
          108.20999908447266,
          105.44000244140625,
          113.5999984741211,
          114.58999633789062,
          116.63999938964844,
          115.4800033569336,
          115.9000015258789,
          118.77999877929688,
          118.87000274658203,
          118.22000122070312,
          118.13999938964844,
          117.5,
          120.6500015258789,
          119.81999969482422,
          122.6500015258789,
          122.87999725341797,
          122.51000213623047,
          120.31999969482422,
          120.86000061035156,
          118.12000274658203,
          115.06999969482422,
          114.7699966430664,
          114.69999694824219,
          117.69999694824219,
          111.30000305175781,
          110.33999633789062,
          109.91000366210938,
          109.1500015258789,
          110.55000305175781,
          108.68000030517578,
          107.4800033569336,
          110.4800033569336,
          109.41999816894531,
          111.77999877929688,
          111.87000274658203,
          105.30999755859375,
          105.87000274658203,
          103.9000015258789,
          103.62999725341797,
          103.8499984741211,
          101.83000183105469,
          100.01000213623047,
          100.56999969482422,
          99.16999816894531,
          98.80999755859375,
          98.08999633789062,
          100.73999786376953,
          98.08999633789062,
          96.1500015258789,
          99.30000305175781,
          102.41000366210938,
          102.22000122070312,
          102.23999786376953,
          99.56999969482422,
          98.70999908447266,
          98.05000305175781,
          98.30000305175781,
          99.70999908447266,
          97.18000030517578,
          100.77999877929688,
          101.38999938964844,
          100.29000091552734,
          100.52999877929688,
          101.4800033569336,
          102.97000122070312,
          104.93000030517578,
          94.81999969482422,
          92.5999984741211,
          96.58000183105469,
          94.66000366210938,
          90.5,
          87.06999969482422,
          83.48999786376953,
          86.69999694824219,
          88.6500015258789,
          88.91000366210938,
          87.4000015258789,
          94.16999816894531,
          96.7300033569336,
          96.02999877929688,
          98.72000122070312,
          98.98999786376953,
          98.5,
          97.80000305175781,
          95.83000183105469,
          97.33000183105469,
          98.81999969482422,
          97.5999984741211,
          96.25,
          95.44000244140625,
          101.44999694824219,
          101.27999877929688,
          100.83000183105469,
          99.87000274658203,
          97.30999755859375,
          95.1500015258789,
          93.94999694824219,
          93.06999969482422,
          93.55999755859375,
          95.8499984741211,
          95.30999755859375,
          91.19999694824219,
          90.86000061035156,
          89.1500015258789,
          89.62999725341797,
          90.25,
          88.26000213623047,
          89.80999755859375,
          87.93000030517578,
          86.45999908447266,
          88.94999694824219,
          88.7300033569336,
          89.69999694824219,
          88.70999908447266,
          86.7699966430664,
          88.16000366210938,
          88.80000305175781,
          89.23999786376953,
          92.26000213623047,
          91.91000366210938,
          92.80000305175781,
          92.16000366210938,
          91.77999877929688,
          93.91000366210938,
          99.27999877929688,
          101.20999908447266,
          99.20999908447266,
          96.7300033569336,
          99.16000366210938,
          100.70999908447266,
          97.94999694824219,
          99.87000274658203,
          101.43000030517578,
          108.80000305175781,
          105.22000122070312,
          103.47000122070312,
          108.04000091552734,
          100,
          95.45999908447266,
          94.86000061035156,
          95,
          94.94999694824219,
          97.0999984741211,
          95.77999877929688,
          94.58999633789062,
          92.05000305175781,
          91.80000305175781,
          91.06999969482422,
          89.3499984741211,
          90.0999984741211,
          90.30000305175781,
          90.51000213623047,
          92.30999755859375,
          94.0199966430664,
          95.58000183105469,
          94.16999816894531,
          94.6500015258789,
          92.66000366210938,
          91.01000213623047,
          91.66000366210938,
          94.25,
          96.55000305175781,
          101.06999969482422,
          102.45999908447266,
          101.93000030517578,
          105.83999633789062,
          104.22000122070312,
          106.26000213623047,
          106.05999755859375,
          103.05999755859375,
          101.36000061035156,
          101.9000015258789,
          101.31999969482422,
          104,
          104.91000366210938,
          105.12000274658203,
          104.94999694824219,
          108.9000015258789,
          106.94999694824219,
          106.12000274658203
         ],
         "yaxis": "y"
        },
        {
         "hovertemplate": "variable=TSLA<br>Date=%{x}<br>value=%{y}<extra></extra>",
         "legendgroup": "TSLA",
         "line": {
          "color": "#00cc96",
          "dash": "solid"
         },
         "marker": {
          "symbol": "circle"
         },
         "mode": "lines",
         "name": "TSLA",
         "orientation": "v",
         "showlegend": true,
         "type": "scatter",
         "x": [
          "2022-03-08T00:00:00",
          "2022-03-09T00:00:00",
          "2022-03-10T00:00:00",
          "2022-03-11T00:00:00",
          "2022-03-14T00:00:00",
          "2022-03-15T00:00:00",
          "2022-03-16T00:00:00",
          "2022-03-17T00:00:00",
          "2022-03-18T00:00:00",
          "2022-03-21T00:00:00",
          "2022-03-22T00:00:00",
          "2022-03-23T00:00:00",
          "2022-03-24T00:00:00",
          "2022-03-25T00:00:00",
          "2022-03-28T00:00:00",
          "2022-03-29T00:00:00",
          "2022-03-30T00:00:00",
          "2022-03-31T00:00:00",
          "2022-04-01T00:00:00",
          "2022-04-04T00:00:00",
          "2022-04-05T00:00:00",
          "2022-04-06T00:00:00",
          "2022-04-07T00:00:00",
          "2022-04-08T00:00:00",
          "2022-04-11T00:00:00",
          "2022-04-12T00:00:00",
          "2022-04-13T00:00:00",
          "2022-04-14T00:00:00",
          "2022-04-18T00:00:00",
          "2022-04-19T00:00:00",
          "2022-04-20T00:00:00",
          "2022-04-21T00:00:00",
          "2022-04-22T00:00:00",
          "2022-04-25T00:00:00",
          "2022-04-26T00:00:00",
          "2022-04-27T00:00:00",
          "2022-04-28T00:00:00",
          "2022-04-29T00:00:00",
          "2022-05-02T00:00:00",
          "2022-05-03T00:00:00",
          "2022-05-04T00:00:00",
          "2022-05-05T00:00:00",
          "2022-05-06T00:00:00",
          "2022-05-09T00:00:00",
          "2022-05-10T00:00:00",
          "2022-05-11T00:00:00",
          "2022-05-12T00:00:00",
          "2022-05-13T00:00:00",
          "2022-05-16T00:00:00",
          "2022-05-17T00:00:00",
          "2022-05-18T00:00:00",
          "2022-05-19T00:00:00",
          "2022-05-20T00:00:00",
          "2022-05-23T00:00:00",
          "2022-05-24T00:00:00",
          "2022-05-25T00:00:00",
          "2022-05-26T00:00:00",
          "2022-05-27T00:00:00",
          "2022-05-31T00:00:00",
          "2022-06-01T00:00:00",
          "2022-06-02T00:00:00",
          "2022-06-03T00:00:00",
          "2022-06-06T00:00:00",
          "2022-06-07T00:00:00",
          "2022-06-08T00:00:00",
          "2022-06-09T00:00:00",
          "2022-06-10T00:00:00",
          "2022-06-13T00:00:00",
          "2022-06-14T00:00:00",
          "2022-06-15T00:00:00",
          "2022-06-16T00:00:00",
          "2022-06-17T00:00:00",
          "2022-06-21T00:00:00",
          "2022-06-22T00:00:00",
          "2022-06-23T00:00:00",
          "2022-06-24T00:00:00",
          "2022-06-27T00:00:00",
          "2022-06-28T00:00:00",
          "2022-06-29T00:00:00",
          "2022-06-30T00:00:00",
          "2022-07-01T00:00:00",
          "2022-07-05T00:00:00",
          "2022-07-06T00:00:00",
          "2022-07-07T00:00:00",
          "2022-07-08T00:00:00",
          "2022-07-11T00:00:00",
          "2022-07-12T00:00:00",
          "2022-07-13T00:00:00",
          "2022-07-14T00:00:00",
          "2022-07-15T00:00:00",
          "2022-07-18T00:00:00",
          "2022-07-19T00:00:00",
          "2022-07-20T00:00:00",
          "2022-07-21T00:00:00",
          "2022-07-22T00:00:00",
          "2022-07-25T00:00:00",
          "2022-07-26T00:00:00",
          "2022-07-27T00:00:00",
          "2022-07-28T00:00:00",
          "2022-07-29T00:00:00",
          "2022-08-01T00:00:00",
          "2022-08-02T00:00:00",
          "2022-08-03T00:00:00",
          "2022-08-04T00:00:00",
          "2022-08-05T00:00:00",
          "2022-08-08T00:00:00",
          "2022-08-09T00:00:00",
          "2022-08-10T00:00:00",
          "2022-08-11T00:00:00",
          "2022-08-12T00:00:00",
          "2022-08-15T00:00:00",
          "2022-08-16T00:00:00",
          "2022-08-17T00:00:00",
          "2022-08-18T00:00:00",
          "2022-08-19T00:00:00",
          "2022-08-22T00:00:00",
          "2022-08-23T00:00:00",
          "2022-08-24T00:00:00",
          "2022-08-25T00:00:00",
          "2022-08-26T00:00:00",
          "2022-08-29T00:00:00",
          "2022-08-30T00:00:00",
          "2022-08-31T00:00:00",
          "2022-09-01T00:00:00",
          "2022-09-02T00:00:00",
          "2022-09-06T00:00:00",
          "2022-09-07T00:00:00",
          "2022-09-08T00:00:00",
          "2022-09-09T00:00:00",
          "2022-09-12T00:00:00",
          "2022-09-13T00:00:00",
          "2022-09-14T00:00:00",
          "2022-09-15T00:00:00",
          "2022-09-16T00:00:00",
          "2022-09-19T00:00:00",
          "2022-09-20T00:00:00",
          "2022-09-21T00:00:00",
          "2022-09-22T00:00:00",
          "2022-09-23T00:00:00",
          "2022-09-26T00:00:00",
          "2022-09-27T00:00:00",
          "2022-09-28T00:00:00",
          "2022-09-29T00:00:00",
          "2022-09-30T00:00:00",
          "2022-10-03T00:00:00",
          "2022-10-04T00:00:00",
          "2022-10-05T00:00:00",
          "2022-10-06T00:00:00",
          "2022-10-07T00:00:00",
          "2022-10-10T00:00:00",
          "2022-10-11T00:00:00",
          "2022-10-12T00:00:00",
          "2022-10-13T00:00:00",
          "2022-10-14T00:00:00",
          "2022-10-17T00:00:00",
          "2022-10-18T00:00:00",
          "2022-10-19T00:00:00",
          "2022-10-20T00:00:00",
          "2022-10-21T00:00:00",
          "2022-10-24T00:00:00",
          "2022-10-25T00:00:00",
          "2022-10-26T00:00:00",
          "2022-10-27T00:00:00",
          "2022-10-28T00:00:00",
          "2022-10-31T00:00:00",
          "2022-11-01T00:00:00",
          "2022-11-02T00:00:00",
          "2022-11-03T00:00:00",
          "2022-11-04T00:00:00",
          "2022-11-07T00:00:00",
          "2022-11-08T00:00:00",
          "2022-11-09T00:00:00",
          "2022-11-10T00:00:00",
          "2022-11-11T00:00:00",
          "2022-11-14T00:00:00",
          "2022-11-15T00:00:00",
          "2022-11-16T00:00:00",
          "2022-11-17T00:00:00",
          "2022-11-18T00:00:00",
          "2022-11-21T00:00:00",
          "2022-11-22T00:00:00",
          "2022-11-23T00:00:00",
          "2022-11-25T00:00:00",
          "2022-11-28T00:00:00",
          "2022-11-29T00:00:00",
          "2022-11-30T00:00:00",
          "2022-12-01T00:00:00",
          "2022-12-02T00:00:00",
          "2022-12-05T00:00:00",
          "2022-12-06T00:00:00",
          "2022-12-07T00:00:00",
          "2022-12-08T00:00:00",
          "2022-12-09T00:00:00",
          "2022-12-12T00:00:00",
          "2022-12-13T00:00:00",
          "2022-12-14T00:00:00",
          "2022-12-15T00:00:00",
          "2022-12-16T00:00:00",
          "2022-12-19T00:00:00",
          "2022-12-20T00:00:00",
          "2022-12-21T00:00:00",
          "2022-12-22T00:00:00",
          "2022-12-23T00:00:00",
          "2022-12-27T00:00:00",
          "2022-12-28T00:00:00",
          "2022-12-29T00:00:00",
          "2022-12-30T00:00:00",
          "2023-01-03T00:00:00",
          "2023-01-04T00:00:00",
          "2023-01-05T00:00:00",
          "2023-01-06T00:00:00",
          "2023-01-09T00:00:00",
          "2023-01-10T00:00:00",
          "2023-01-11T00:00:00",
          "2023-01-12T00:00:00",
          "2023-01-13T00:00:00",
          "2023-01-17T00:00:00",
          "2023-01-18T00:00:00",
          "2023-01-19T00:00:00",
          "2023-01-20T00:00:00",
          "2023-01-23T00:00:00",
          "2023-01-24T00:00:00",
          "2023-01-25T00:00:00",
          "2023-01-26T00:00:00",
          "2023-01-27T00:00:00",
          "2023-01-30T00:00:00",
          "2023-01-31T00:00:00",
          "2023-02-01T00:00:00",
          "2023-02-02T00:00:00",
          "2023-02-03T00:00:00",
          "2023-02-06T00:00:00",
          "2023-02-07T00:00:00",
          "2023-02-08T00:00:00",
          "2023-02-09T00:00:00",
          "2023-02-10T00:00:00",
          "2023-02-13T00:00:00",
          "2023-02-14T00:00:00",
          "2023-02-15T00:00:00",
          "2023-02-16T00:00:00",
          "2023-02-17T00:00:00",
          "2023-02-21T00:00:00",
          "2023-02-22T00:00:00",
          "2023-02-23T00:00:00",
          "2023-02-24T00:00:00",
          "2023-02-27T00:00:00",
          "2023-02-28T00:00:00",
          "2023-03-01T00:00:00",
          "2023-03-02T00:00:00",
          "2023-03-03T00:00:00",
          "2023-03-06T00:00:00",
          "2023-03-07T00:00:00",
          "2023-03-08T00:00:00",
          "2023-03-09T00:00:00",
          "2023-03-10T00:00:00",
          "2023-03-13T00:00:00",
          "2023-03-14T00:00:00",
          "2023-03-15T00:00:00",
          "2023-03-16T00:00:00",
          "2023-03-17T00:00:00",
          "2023-03-20T00:00:00",
          "2023-03-21T00:00:00",
          "2023-03-22T00:00:00",
          "2023-03-23T00:00:00",
          "2023-03-24T00:00:00",
          "2023-03-27T00:00:00",
          "2023-03-28T00:00:00",
          "2023-03-29T00:00:00",
          "2023-03-30T00:00:00",
          "2023-03-31T00:00:00",
          "2023-04-03T00:00:00",
          "2023-04-04T00:00:00",
          "2023-04-05T00:00:00",
          "2023-04-06T00:00:00",
          "2023-04-10T00:00:00",
          "2023-04-11T00:00:00"
         ],
         "xaxis": "x",
         "y": [
          274.79998779296875,
          286.3233337402344,
          279.4333190917969,
          265.1166687011719,
          255.4566650390625,
          267.2966613769531,
          280.07666015625,
          290.5333251953125,
          301.7966613769531,
          307.0533447265625,
          331.32666015625,
          333.03668212890625,
          337.97332763671875,
          336.8800048828125,
          363.9466552734375,
          366.5233459472656,
          364.663330078125,
          359.20001220703125,
          361.5299987792969,
          381.8166809082031,
          363.7533264160156,
          348.586669921875,
          352.4200134277344,
          341.8299865722656,
          325.30999755859375,
          328.98333740234375,
          340.7900085449219,
          328.3333435058594,
          334.7633361816406,
          342.7166748046875,
          325.73333740234375,
          336.260009765625,
          335.01666259765625,
          332.67333984375,
          292.1400146484375,
          293.836669921875,
          292.5033264160156,
          290.2533264160156,
          300.9800109863281,
          303.0833435058594,
          317.5400085449219,
          291.09332275390625,
          288.54998779296875,
          262.3699951171875,
          266.67999267578125,
          244.6666717529297,
          242.6666717529297,
          256.5299987792969,
          241.4566650390625,
          253.8699951171875,
          236.60333251953125,
          236.47332763671875,
          221.3000030517578,
          224.96665954589844,
          209.3866729736328,
          219.60000610351562,
          235.91000366210938,
          253.2100067138672,
          252.75332641601562,
          246.7899932861328,
          258.3333435058594,
          234.51666259765625,
          238.27999877929688,
          238.8866729736328,
          241.86666870117188,
          239.7066650390625,
          232.22999572753906,
          215.73666381835938,
          220.88999938964844,
          233,
          213.10000610351562,
          216.75999450683594,
          237.0366668701172,
          236.086669921875,
          235.07000732421875,
          245.7066650390625,
          244.9199981689453,
          232.663330078125,
          228.49000549316406,
          224.47332763671875,
          227.26333618164062,
          233.06666564941406,
          231.73333740234375,
          244.5433349609375,
          250.76333618164062,
          234.3433380126953,
          233.07000732421875,
          237.0399932861328,
          238.31333923339844,
          240.06666564941406,
          240.54666137695312,
          245.52999877929688,
          247.5,
          271.7066650390625,
          272.24334716796875,
          268.4333190917969,
          258.8599853515625,
          274.82000732421875,
          280.8999938964844,
          297.1499938964844,
          297.27667236328125,
          300.586669921875,
          307.39666748046875,
          308.6333312988281,
          288.1700134277344,
          290.42333984375,
          283.3333435058594,
          294.3566589355469,
          286.6300048828125,
          300.0299987792969,
          309.32000732421875,
          306.5633239746094,
          303.9966735839844,
          302.8699951171875,
          296.6666564941406,
          289.913330078125,
          296.4533386230469,
          297.0966796875,
          296.07000732421875,
          288.0899963378906,
          284.82000732421875,
          277.70001220703125,
          275.6099853515625,
          277.1600036621094,
          270.2099914550781,
          274.4200134277344,
          283.70001220703125,
          289.260009765625,
          299.67999267578125,
          304.4200134277344,
          292.1300048828125,
          302.6099853515625,
          303.75,
          303.3500061035156,
          309.07000732421875,
          308.7300109863281,
          300.79998779296875,
          288.5899963378906,
          275.3299865722656,
          276.010009765625,
          282.94000244140625,
          287.80999755859375,
          268.2099914550781,
          265.25,
          242.39999389648438,
          249.44000244140625,
          240.80999755859375,
          238.1300048828125,
          223.07000732421875,
          222.9600067138672,
          216.5,
          217.24000549316406,
          221.72000122070312,
          204.99000549316406,
          219.35000610351562,
          220.19000244140625,
          222.0399932861328,
          207.27999877929688,
          214.44000244140625,
          211.25,
          222.4199981689453,
          224.63999938964844,
          225.08999633789062,
          228.52000427246094,
          227.5399932861328,
          227.82000732421875,
          214.97999572753906,
          215.30999755859375,
          207.47000122070312,
          197.0800018310547,
          191.3000030517578,
          177.58999633789062,
          190.72000122070312,
          195.97000122070312,
          190.9499969482422,
          194.4199981689453,
          186.9199981689453,
          183.1699981689453,
          180.19000244140625,
          167.8699951171875,
          169.91000366210938,
          183.1999969482422,
          182.86000061035156,
          182.9199981689453,
          180.8300018310547,
          194.6999969482422,
          194.6999969482422,
          194.86000061035156,
          182.4499969482422,
          179.82000732421875,
          174.0399932861328,
          173.44000244140625,
          179.0500030517578,
          167.82000732421875,
          160.9499969482422,
          156.8000030517578,
          157.6699981689453,
          150.22999572753906,
          149.8699951171875,
          137.8000030517578,
          137.57000732421875,
          125.3499984741211,
          123.1500015258789,
          109.0999984741211,
          112.70999908447266,
          121.81999969482422,
          123.18000030517578,
          108.0999984741211,
          113.63999938964844,
          110.33999633789062,
          113.05999755859375,
          119.7699966430664,
          118.8499984741211,
          123.22000122070312,
          123.55999755859375,
          122.4000015258789,
          131.49000549316406,
          128.77999877929688,
          127.16999816894531,
          133.4199981689453,
          143.75,
          143.88999938964844,
          144.42999267578125,
          160.27000427246094,
          177.89999389648438,
          166.66000366210938,
          173.22000122070312,
          181.41000366210938,
          188.27000427246094,
          189.97999572753906,
          194.75999450683594,
          196.80999755859375,
          201.2899932861328,
          207.32000732421875,
          196.88999938964844,
          194.63999938964844,
          209.25,
          214.24000549316406,
          202.0399932861328,
          208.30999755859375,
          197.3699951171875,
          200.86000061035156,
          202.07000732421875,
          196.8800048828125,
          207.6300048828125,
          205.7100067138672,
          202.77000427246094,
          190.89999389648438,
          197.7899932861328,
          193.80999755859375,
          187.7100067138672,
          182,
          172.9199981689453,
          173.44000244140625,
          174.47999572753906,
          183.25999450683594,
          180.4499969482422,
          184.1300048828125,
          180.1300048828125,
          183.25,
          197.5800018310547,
          191.14999389648438,
          192.22000122070312,
          190.41000366210938,
          191.80999755859375,
          189.19000244140625,
          193.8800048828125,
          195.27999877929688,
          207.4600067138672,
          194.77000427246094,
          192.5800018310547,
          185.52000427246094,
          185.05999755859375,
          184.50999450683594,
          186.7899932861328
         ],
         "yaxis": "y"
        }
       ],
       "layout": {
        "autosize": true,
        "legend": {
         "title": {
          "text": "variable"
         },
         "tracegroupgap": 0
        },
        "margin": {
         "t": 60
        },
        "template": {
         "data": {
          "bar": [
           {
            "error_x": {
             "color": "#2a3f5f"
            },
            "error_y": {
             "color": "#2a3f5f"
            },
            "marker": {
             "line": {
              "color": "#E5ECF6",
              "width": 0.5
             },
             "pattern": {
              "fillmode": "overlay",
              "size": 10,
              "solidity": 0.2
             }
            },
            "type": "bar"
           }
          ],
          "barpolar": [
           {
            "marker": {
             "line": {
              "color": "#E5ECF6",
              "width": 0.5
             },
             "pattern": {
              "fillmode": "overlay",
              "size": 10,
              "solidity": 0.2
             }
            },
            "type": "barpolar"
           }
          ],
          "carpet": [
           {
            "aaxis": {
             "endlinecolor": "#2a3f5f",
             "gridcolor": "white",
             "linecolor": "white",
             "minorgridcolor": "white",
             "startlinecolor": "#2a3f5f"
            },
            "baxis": {
             "endlinecolor": "#2a3f5f",
             "gridcolor": "white",
             "linecolor": "white",
             "minorgridcolor": "white",
             "startlinecolor": "#2a3f5f"
            },
            "type": "carpet"
           }
          ],
          "choropleth": [
           {
            "colorbar": {
             "outlinewidth": 0,
             "ticks": ""
            },
            "type": "choropleth"
           }
          ],
          "contour": [
           {
            "colorbar": {
             "outlinewidth": 0,
             "ticks": ""
            },
            "colorscale": [
             [
              0,
              "#0d0887"
             ],
             [
              0.1111111111111111,
              "#46039f"
             ],
             [
              0.2222222222222222,
              "#7201a8"
             ],
             [
              0.3333333333333333,
              "#9c179e"
             ],
             [
              0.4444444444444444,
              "#bd3786"
             ],
             [
              0.5555555555555556,
              "#d8576b"
             ],
             [
              0.6666666666666666,
              "#ed7953"
             ],
             [
              0.7777777777777778,
              "#fb9f3a"
             ],
             [
              0.8888888888888888,
              "#fdca26"
             ],
             [
              1,
              "#f0f921"
             ]
            ],
            "type": "contour"
           }
          ],
          "contourcarpet": [
           {
            "colorbar": {
             "outlinewidth": 0,
             "ticks": ""
            },
            "type": "contourcarpet"
           }
          ],
          "heatmap": [
           {
            "colorbar": {
             "outlinewidth": 0,
             "ticks": ""
            },
            "colorscale": [
             [
              0,
              "#0d0887"
             ],
             [
              0.1111111111111111,
              "#46039f"
             ],
             [
              0.2222222222222222,
              "#7201a8"
             ],
             [
              0.3333333333333333,
              "#9c179e"
             ],
             [
              0.4444444444444444,
              "#bd3786"
             ],
             [
              0.5555555555555556,
              "#d8576b"
             ],
             [
              0.6666666666666666,
              "#ed7953"
             ],
             [
              0.7777777777777778,
              "#fb9f3a"
             ],
             [
              0.8888888888888888,
              "#fdca26"
             ],
             [
              1,
              "#f0f921"
             ]
            ],
            "type": "heatmap"
           }
          ],
          "heatmapgl": [
           {
            "colorbar": {
             "outlinewidth": 0,
             "ticks": ""
            },
            "colorscale": [
             [
              0,
              "#0d0887"
             ],
             [
              0.1111111111111111,
              "#46039f"
             ],
             [
              0.2222222222222222,
              "#7201a8"
             ],
             [
              0.3333333333333333,
              "#9c179e"
             ],
             [
              0.4444444444444444,
              "#bd3786"
             ],
             [
              0.5555555555555556,
              "#d8576b"
             ],
             [
              0.6666666666666666,
              "#ed7953"
             ],
             [
              0.7777777777777778,
              "#fb9f3a"
             ],
             [
              0.8888888888888888,
              "#fdca26"
             ],
             [
              1,
              "#f0f921"
             ]
            ],
            "type": "heatmapgl"
           }
          ],
          "histogram": [
           {
            "marker": {
             "pattern": {
              "fillmode": "overlay",
              "size": 10,
              "solidity": 0.2
             }
            },
            "type": "histogram"
           }
          ],
          "histogram2d": [
           {
            "colorbar": {
             "outlinewidth": 0,
             "ticks": ""
            },
            "colorscale": [
             [
              0,
              "#0d0887"
             ],
             [
              0.1111111111111111,
              "#46039f"
             ],
             [
              0.2222222222222222,
              "#7201a8"
             ],
             [
              0.3333333333333333,
              "#9c179e"
             ],
             [
              0.4444444444444444,
              "#bd3786"
             ],
             [
              0.5555555555555556,
              "#d8576b"
             ],
             [
              0.6666666666666666,
              "#ed7953"
             ],
             [
              0.7777777777777778,
              "#fb9f3a"
             ],
             [
              0.8888888888888888,
              "#fdca26"
             ],
             [
              1,
              "#f0f921"
             ]
            ],
            "type": "histogram2d"
           }
          ],
          "histogram2dcontour": [
           {
            "colorbar": {
             "outlinewidth": 0,
             "ticks": ""
            },
            "colorscale": [
             [
              0,
              "#0d0887"
             ],
             [
              0.1111111111111111,
              "#46039f"
             ],
             [
              0.2222222222222222,
              "#7201a8"
             ],
             [
              0.3333333333333333,
              "#9c179e"
             ],
             [
              0.4444444444444444,
              "#bd3786"
             ],
             [
              0.5555555555555556,
              "#d8576b"
             ],
             [
              0.6666666666666666,
              "#ed7953"
             ],
             [
              0.7777777777777778,
              "#fb9f3a"
             ],
             [
              0.8888888888888888,
              "#fdca26"
             ],
             [
              1,
              "#f0f921"
             ]
            ],
            "type": "histogram2dcontour"
           }
          ],
          "mesh3d": [
           {
            "colorbar": {
             "outlinewidth": 0,
             "ticks": ""
            },
            "type": "mesh3d"
           }
          ],
          "parcoords": [
           {
            "line": {
             "colorbar": {
              "outlinewidth": 0,
              "ticks": ""
             }
            },
            "type": "parcoords"
           }
          ],
          "pie": [
           {
            "automargin": true,
            "type": "pie"
           }
          ],
          "scatter": [
           {
            "fillpattern": {
             "fillmode": "overlay",
             "size": 10,
             "solidity": 0.2
            },
            "type": "scatter"
           }
          ],
          "scatter3d": [
           {
            "line": {
             "colorbar": {
              "outlinewidth": 0,
              "ticks": ""
             }
            },
            "marker": {
             "colorbar": {
              "outlinewidth": 0,
              "ticks": ""
             }
            },
            "type": "scatter3d"
           }
          ],
          "scattercarpet": [
           {
            "marker": {
             "colorbar": {
              "outlinewidth": 0,
              "ticks": ""
             }
            },
            "type": "scattercarpet"
           }
          ],
          "scattergeo": [
           {
            "marker": {
             "colorbar": {
              "outlinewidth": 0,
              "ticks": ""
             }
            },
            "type": "scattergeo"
           }
          ],
          "scattergl": [
           {
            "marker": {
             "colorbar": {
              "outlinewidth": 0,
              "ticks": ""
             }
            },
            "type": "scattergl"
           }
          ],
          "scattermapbox": [
           {
            "marker": {
             "colorbar": {
              "outlinewidth": 0,
              "ticks": ""
             }
            },
            "type": "scattermapbox"
           }
          ],
          "scatterpolar": [
           {
            "marker": {
             "colorbar": {
              "outlinewidth": 0,
              "ticks": ""
             }
            },
            "type": "scatterpolar"
           }
          ],
          "scatterpolargl": [
           {
            "marker": {
             "colorbar": {
              "outlinewidth": 0,
              "ticks": ""
             }
            },
            "type": "scatterpolargl"
           }
          ],
          "scatterternary": [
           {
            "marker": {
             "colorbar": {
              "outlinewidth": 0,
              "ticks": ""
             }
            },
            "type": "scatterternary"
           }
          ],
          "surface": [
           {
            "colorbar": {
             "outlinewidth": 0,
             "ticks": ""
            },
            "colorscale": [
             [
              0,
              "#0d0887"
             ],
             [
              0.1111111111111111,
              "#46039f"
             ],
             [
              0.2222222222222222,
              "#7201a8"
             ],
             [
              0.3333333333333333,
              "#9c179e"
             ],
             [
              0.4444444444444444,
              "#bd3786"
             ],
             [
              0.5555555555555556,
              "#d8576b"
             ],
             [
              0.6666666666666666,
              "#ed7953"
             ],
             [
              0.7777777777777778,
              "#fb9f3a"
             ],
             [
              0.8888888888888888,
              "#fdca26"
             ],
             [
              1,
              "#f0f921"
             ]
            ],
            "type": "surface"
           }
          ],
          "table": [
           {
            "cells": {
             "fill": {
              "color": "#EBF0F8"
             },
             "line": {
              "color": "white"
             }
            },
            "header": {
             "fill": {
              "color": "#C8D4E3"
             },
             "line": {
              "color": "white"
             }
            },
            "type": "table"
           }
          ]
         },
         "layout": {
          "annotationdefaults": {
           "arrowcolor": "#2a3f5f",
           "arrowhead": 0,
           "arrowwidth": 1
          },
          "autotypenumbers": "strict",
          "coloraxis": {
           "colorbar": {
            "outlinewidth": 0,
            "ticks": ""
           }
          },
          "colorscale": {
           "diverging": [
            [
             0,
             "#8e0152"
            ],
            [
             0.1,
             "#c51b7d"
            ],
            [
             0.2,
             "#de77ae"
            ],
            [
             0.3,
             "#f1b6da"
            ],
            [
             0.4,
             "#fde0ef"
            ],
            [
             0.5,
             "#f7f7f7"
            ],
            [
             0.6,
             "#e6f5d0"
            ],
            [
             0.7,
             "#b8e186"
            ],
            [
             0.8,
             "#7fbc41"
            ],
            [
             0.9,
             "#4d9221"
            ],
            [
             1,
             "#276419"
            ]
           ],
           "sequential": [
            [
             0,
             "#0d0887"
            ],
            [
             0.1111111111111111,
             "#46039f"
            ],
            [
             0.2222222222222222,
             "#7201a8"
            ],
            [
             0.3333333333333333,
             "#9c179e"
            ],
            [
             0.4444444444444444,
             "#bd3786"
            ],
            [
             0.5555555555555556,
             "#d8576b"
            ],
            [
             0.6666666666666666,
             "#ed7953"
            ],
            [
             0.7777777777777778,
             "#fb9f3a"
            ],
            [
             0.8888888888888888,
             "#fdca26"
            ],
            [
             1,
             "#f0f921"
            ]
           ],
           "sequentialminus": [
            [
             0,
             "#0d0887"
            ],
            [
             0.1111111111111111,
             "#46039f"
            ],
            [
             0.2222222222222222,
             "#7201a8"
            ],
            [
             0.3333333333333333,
             "#9c179e"
            ],
            [
             0.4444444444444444,
             "#bd3786"
            ],
            [
             0.5555555555555556,
             "#d8576b"
            ],
            [
             0.6666666666666666,
             "#ed7953"
            ],
            [
             0.7777777777777778,
             "#fb9f3a"
            ],
            [
             0.8888888888888888,
             "#fdca26"
            ],
            [
             1,
             "#f0f921"
            ]
           ]
          },
          "colorway": [
           "#636efa",
           "#EF553B",
           "#00cc96",
           "#ab63fa",
           "#FFA15A",
           "#19d3f3",
           "#FF6692",
           "#B6E880",
           "#FF97FF",
           "#FECB52"
          ],
          "font": {
           "color": "#2a3f5f"
          },
          "geo": {
           "bgcolor": "white",
           "lakecolor": "white",
           "landcolor": "#E5ECF6",
           "showlakes": true,
           "showland": true,
           "subunitcolor": "white"
          },
          "hoverlabel": {
           "align": "left"
          },
          "hovermode": "closest",
          "mapbox": {
           "style": "light"
          },
          "paper_bgcolor": "white",
          "plot_bgcolor": "#E5ECF6",
          "polar": {
           "angularaxis": {
            "gridcolor": "white",
            "linecolor": "white",
            "ticks": ""
           },
           "bgcolor": "#E5ECF6",
           "radialaxis": {
            "gridcolor": "white",
            "linecolor": "white",
            "ticks": ""
           }
          },
          "scene": {
           "xaxis": {
            "backgroundcolor": "#E5ECF6",
            "gridcolor": "white",
            "gridwidth": 2,
            "linecolor": "white",
            "showbackground": true,
            "ticks": "",
            "zerolinecolor": "white"
           },
           "yaxis": {
            "backgroundcolor": "#E5ECF6",
            "gridcolor": "white",
            "gridwidth": 2,
            "linecolor": "white",
            "showbackground": true,
            "ticks": "",
            "zerolinecolor": "white"
           },
           "zaxis": {
            "backgroundcolor": "#E5ECF6",
            "gridcolor": "white",
            "gridwidth": 2,
            "linecolor": "white",
            "showbackground": true,
            "ticks": "",
            "zerolinecolor": "white"
           }
          },
          "shapedefaults": {
           "line": {
            "color": "#2a3f5f"
           }
          },
          "ternary": {
           "aaxis": {
            "gridcolor": "white",
            "linecolor": "white",
            "ticks": ""
           },
           "baxis": {
            "gridcolor": "white",
            "linecolor": "white",
            "ticks": ""
           },
           "bgcolor": "#E5ECF6",
           "caxis": {
            "gridcolor": "white",
            "linecolor": "white",
            "ticks": ""
           }
          },
          "title": {
           "x": 0.05
          },
          "xaxis": {
           "automargin": true,
           "gridcolor": "white",
           "linecolor": "white",
           "ticks": "",
           "title": {
            "standoff": 15
           },
           "zerolinecolor": "white",
           "zerolinewidth": 2
          },
          "yaxis": {
           "automargin": true,
           "gridcolor": "white",
           "linecolor": "white",
           "ticks": "",
           "title": {
            "standoff": 15
           },
           "zerolinecolor": "white",
           "zerolinewidth": 2
          }
         }
        },
        "xaxis": {
         "anchor": "y",
         "autorange": true,
         "domain": [
          0,
          1
         ],
         "range": [
          "2022-03-08",
          "2023-04-11"
         ],
         "title": {
          "text": "Date"
         },
         "type": "date"
        },
        "yaxis": {
         "anchor": "x",
         "autorange": true,
         "domain": [
          0,
          1
         ],
         "range": [
          45.446297115749786,
          399.5203853183323
         ],
         "title": {
          "text": "value"
         },
         "type": "linear"
        }
       }
      },
      "image/png": "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",
      "text/html": [
       "<div>                            <div id=\"a7d9eaf7-3381-4423-8174-a1fa055cba0c\" class=\"plotly-graph-div\" style=\"height:525px; width:100%;\"></div>            <script type=\"text/javascript\">                require([\"plotly\"], function(Plotly) {                    window.PLOTLYENV=window.PLOTLYENV || {};                                    if (document.getElementById(\"a7d9eaf7-3381-4423-8174-a1fa055cba0c\")) {                    Plotly.newPlot(                        \"a7d9eaf7-3381-4423-8174-a1fa055cba0c\",                        [{\"hovertemplate\":\"variable=BABA<br>Date=%{x}<br>value=%{y}<extra></extra>\",\"legendgroup\":\"BABA\",\"line\":{\"color\":\"#636efa\",\"dash\":\"solid\"},\"marker\":{\"symbol\":\"circle\"},\"mode\":\"lines\",\"name\":\"BABA\",\"orientation\":\"v\",\"showlegend\":true,\"x\":[\"2022-03-08T00:00:00\",\"2022-03-09T00:00:00\",\"2022-03-10T00:00:00\",\"2022-03-11T00:00:00\",\"2022-03-14T00:00:00\",\"2022-03-15T00:00:00\",\"2022-03-16T00:00:00\",\"2022-03-17T00:00:00\",\"2022-03-18T00:00:00\",\"2022-03-21T00:00:00\",\"2022-03-22T00:00:00\",\"2022-03-23T00:00:00\",\"2022-03-24T00:00:00\",\"2022-03-25T00:00:00\",\"2022-03-28T00:00:00\",\"2022-03-29T00:00:00\",\"2022-03-30T00:00:00\",\"2022-03-31T00:00:00\",\"2022-04-01T00:00:00\",\"2022-04-04T00:00:00\",\"2022-04-05T00:00:00\",\"2022-04-06T00:00:00\",\"2022-04-07T00:00:00\",\"2022-04-08T00:00:00\",\"2022-04-11T00:00:00\",\"2022-04-12T00:00:00\",\"2022-04-13T00:00:00\",\"2022-04-14T00:00:00\",\"2022-04-18T00:00:00\",\"2022-04-19T00:00:00\",\"2022-04-20T00:00:00\",\"2022-04-21T00:00:00\",\"2022-04-22T00:00:00\",\"2022-04-25T00:00:00\",\"2022-04-26T00:00:00\",\"2022-04-27T00:00:00\",\"2022-04-28T00:00:00\",\"2022-04-29T00:00:00\",\"2022-05-02T00:00:00\",\"2022-05-03T00:00:00\",\"2022-05-04T00:00:00\",\"2022-05-05T00:00:00\",\"2022-05-06T00:00:00\",\"2022-05-09T00:00:00\",\"2022-05-10T00:00:00\",\"2022-05-11T00:00:00\",\"2022-05-12T00:00:00\",\"2022-05-13T00:00:00\",\"2022-05-16T00:00:00\",\"2022-05-17T00:00:00\",\"2022-05-18T00:00:00\",\"2022-05-19T00:00:00\",\"2022-05-20T00:00:00\",\"2022-05-23T00:00:00\",\"2022-05-24T00:00:00\",\"2022-05-25T00:00:00\",\"2022-05-26T00:00:00\",\"2022-05-27T00:00:00\",\"2022-05-31T00:00:00\",\"2022-06-01T00:00:00\",\"2022-06-02T00:00:00\",\"2022-06-03T00:00:00\",\"2022-06-06T00:00:00\",\"2022-06-07T00:00:00\",\"2022-06-08T00:00:00\",\"2022-06-09T00:00:00\",\"2022-06-10T00:00:00\",\"2022-06-13T00:00:00\",\"2022-06-14T00:00:00\",\"2022-06-15T00:00:00\",\"2022-06-16T00:00:00\",\"2022-06-17T00:00:00\",\"2022-06-21T00:00:00\",\"2022-06-22T00:00:00\",\"2022-06-23T00:00:00\",\"2022-06-24T00:00:00\",\"2022-06-27T00:00:00\",\"2022-06-28T00:00:00\",\"2022-06-29T00:00:00\",\"2022-06-30T00:00:00\",\"2022-07-01T00:00:00\",\"2022-07-05T00:00:00\",\"2022-07-06T00:00:00\",\"2022-07-07T00:00:00\",\"2022-07-08T00:00:00\",\"2022-07-11T00:00:00\",\"2022-07-12T00:00:00\",\"2022-07-13T00:00:00\",\"2022-07-14T00:00:00\",\"2022-07-15T00:00:00\",\"2022-07-18T00:00:00\",\"2022-07-19T00:00:00\",\"2022-07-20T00:00:00\",\"2022-07-21T00:00:00\",\"2022-07-22T00:00:00\",\"2022-07-25T00:00:00\",\"2022-07-26T00:00:00\",\"2022-07-27T00:00:00\",\"2022-07-28T00:00:00\",\"2022-07-29T00:00:00\",\"2022-08-01T00:00:00\",\"2022-08-02T00:00:00\",\"2022-08-03T00:00:00\",\"2022-08-04T00:00:00\",\"2022-08-05T00:00:00\",\"2022-08-08T00:00:00\",\"2022-08-09T00:00:00\",\"2022-08-10T00:00:00\",\"2022-08-11T00:00:00\",\"2022-08-12T00:00:00\",\"2022-08-15T00:00:00\",\"2022-08-16T00:00:00\",\"2022-08-17T00:00:00\",\"2022-08-18T00:00:00\",\"2022-08-19T00:00:00\",\"2022-08-22T00:00:00\",\"2022-08-23T00:00:00\",\"2022-08-24T00:00:00\",\"2022-08-25T00:00:00\",\"2022-08-26T00:00:00\",\"2022-08-29T00:00:00\",\"2022-08-30T00:00:00\",\"2022-08-31T00:00:00\",\"2022-09-01T00:00:00\",\"2022-09-02T00:00:00\",\"2022-09-06T00:00:00\",\"2022-09-07T00:00:00\",\"2022-09-08T00:00:00\",\"2022-09-09T00:00:00\",\"2022-09-12T00:00:00\",\"2022-09-13T00:00:00\",\"2022-09-14T00:00:00\",\"2022-09-15T00:00:00\",\"2022-09-16T00:00:00\",\"2022-09-19T00:00:00\",\"2022-09-20T00:00:00\",\"2022-09-21T00:00:00\",\"2022-09-22T00:00:00\",\"2022-09-23T00:00:00\",\"2022-09-26T00:00:00\",\"2022-09-27T00:00:00\",\"2022-09-28T00:00:00\",\"2022-09-29T00:00:00\",\"2022-09-30T00:00:00\",\"2022-10-03T00:00:00\",\"2022-10-04T00:00:00\",\"2022-10-05T00:00:00\",\"2022-10-06T00:00:00\",\"2022-10-07T00:00:00\",\"2022-10-10T00:00:00\",\"2022-10-11T00:00:00\",\"2022-10-12T00:00:00\",\"2022-10-13T00:00:00\",\"2022-10-14T00:00:00\",\"2022-10-17T00:00:00\",\"2022-10-18T00:00:00\",\"2022-10-19T00:00:00\",\"2022-10-20T00:00:00\",\"2022-10-21T00:00:00\",\"2022-10-24T00:00:00\",\"2022-10-25T00:00:00\",\"2022-10-26T00:00:00\",\"2022-10-27T00:00:00\",\"2022-10-28T00:00:00\",\"2022-10-31T00:00:00\",\"2022-11-01T00:00:00\",\"2022-11-02T00:00:00\",\"2022-11-03T00:00:00\",\"2022-11-04T00:00:00\",\"2022-11-07T00:00:00\",\"2022-11-08T00:00:00\",\"2022-11-09T00:00:00\",\"2022-11-10T00:00:00\",\"2022-11-11T00:00:00\",\"2022-11-14T00:00:00\",\"2022-11-15T00:00:00\",\"2022-11-16T00:00:00\",\"2022-11-17T00:00:00\",\"2022-11-18T00:00:00\",\"2022-11-21T00:00:00\",\"2022-11-22T00:00:00\",\"2022-11-23T00:00:00\",\"2022-11-25T00:00:00\",\"2022-11-28T00:00:00\",\"2022-11-29T00:00:00\",\"2022-11-30T00:00:00\",\"2022-12-01T00:00:00\",\"2022-12-02T00:00:00\",\"2022-12-05T00:00:00\",\"2022-12-06T00:00:00\",\"2022-12-07T00:00:00\",\"2022-12-08T00:00:00\",\"2022-12-09T00:00:00\",\"2022-12-12T00:00:00\",\"2022-12-13T00:00:00\",\"2022-12-14T00:00:00\",\"2022-12-15T00:00:00\",\"2022-12-16T00:00:00\",\"2022-12-19T00:00:00\",\"2022-12-20T00:00:00\",\"2022-12-21T00:00:00\",\"2022-12-22T00:00:00\",\"2022-12-23T00:00:00\",\"2022-12-27T00:00:00\",\"2022-12-28T00:00:00\",\"2022-12-29T00:00:00\",\"2022-12-30T00:00:00\",\"2023-01-03T00:00:00\",\"2023-01-04T00:00:00\",\"2023-01-05T00:00:00\",\"2023-01-06T00:00:00\",\"2023-01-09T00:00:00\",\"2023-01-10T00:00:00\",\"2023-01-11T00:00:00\",\"2023-01-12T00:00:00\",\"2023-01-13T00:00:00\",\"2023-01-17T00:00:00\",\"2023-01-18T00:00:00\",\"2023-01-19T00:00:00\",\"2023-01-20T00:00:00\",\"2023-01-23T00:00:00\",\"2023-01-24T00:00:00\",\"2023-01-25T00:00:00\",\"2023-01-26T00:00:00\",\"2023-01-27T00:00:00\",\"2023-01-30T00:00:00\",\"2023-01-31T00:00:00\",\"2023-02-01T00:00:00\",\"2023-02-02T00:00:00\",\"2023-02-03T00:00:00\",\"2023-02-06T00:00:00\",\"2023-02-07T00:00:00\",\"2023-02-08T00:00:00\",\"2023-02-09T00:00:00\",\"2023-02-10T00:00:00\",\"2023-02-13T00:00:00\",\"2023-02-14T00:00:00\",\"2023-02-15T00:00:00\",\"2023-02-16T00:00:00\",\"2023-02-17T00:00:00\",\"2023-02-21T00:00:00\",\"2023-02-22T00:00:00\",\"2023-02-23T00:00:00\",\"2023-02-24T00:00:00\",\"2023-02-27T00:00:00\",\"2023-02-28T00:00:00\",\"2023-03-01T00:00:00\",\"2023-03-02T00:00:00\",\"2023-03-03T00:00:00\",\"2023-03-06T00:00:00\",\"2023-03-07T00:00:00\",\"2023-03-08T00:00:00\",\"2023-03-09T00:00:00\",\"2023-03-10T00:00:00\",\"2023-03-13T00:00:00\",\"2023-03-14T00:00:00\",\"2023-03-15T00:00:00\",\"2023-03-16T00:00:00\",\"2023-03-17T00:00:00\",\"2023-03-20T00:00:00\",\"2023-03-21T00:00:00\",\"2023-03-22T00:00:00\",\"2023-03-23T00:00:00\",\"2023-03-24T00:00:00\",\"2023-03-27T00:00:00\",\"2023-03-28T00:00:00\",\"2023-03-29T00:00:00\",\"2023-03-30T00:00:00\",\"2023-03-31T00:00:00\",\"2023-04-03T00:00:00\",\"2023-04-04T00:00:00\",\"2023-04-05T00:00:00\",\"2023-04-06T00:00:00\",\"2023-04-10T00:00:00\",\"2023-04-11T00:00:00\"],\"xaxis\":\"x\",\"y\":[97.5,100.93000030517578,92.91999816894531,86.70999908447266,77.76000213623047,76.76000213623047,104.9800033569336,100.37000274658203,108.30000305175781,103.58999633789062,114.98999786376953,117.23999786376953,115.1500015258789,112.98999786376953,115.08999633789062,116.70999908447266,116.58000183105469,108.80000305175781,110.19999694824219,117.5,111.0,107.68000030517578,104.2699966430664,103.52999877929688,101.55000305175781,99.75,100.02999877929688,95.48999786376953,94.70999908447266,93.5,89.41000366210938,85.98999786376953,86.48999786376953,85.83999633789062,83.98999786376953,88.31999969482422,90.91000366210938,97.08999633789062,101.20999908447266,100.37999725341797,101.41000366210938,94.63999938964844,90.05000305175781,84.83999633789062,84.56999969482422,81.7300033569336,81.08999633789062,87.98999786376953,86.4800033569336,91.98999786376953,87.30999755859375,87.69000244140625,86.79000091552734,87.2300033569336,82.47000122070312,82.30999755859375,94.4800033569336,93.41000366210938,96.05000305175781,93.37999725341797,97.5,93.20999908447266,99.01000213623047,104.31999969482422,119.62000274658203,109.9000015258789,109.83999633789062,98.5199966430664,105.2300033569336,108.02999877929688,101.44999694824219,102.23999786376953,106.38999938964844,105.1500015258789,112.11000061035156,117.62000274658203,118.7300033569336,116.76000213623047,116.02999877929688,113.68000030517578,116.0,120.12999725341797,119.12000274658203,122.38999938964844,120.9000015258789,109.56999969482422,109.20999908447266,109.0999984741211,103.76000213623047,102.44000244140625,103.13999938964844,104.75,103.95999908447266,105.12999725341797,100.61000061035156,101.05999755859375,101.44000244140625,102.77999877929688,100.55000305175781,89.37000274658203,90.33999633789062,92.62000274658203,95.72000122070312,97.43000030517578,92.55999755859375,90.83999633789062,91.19000244140625,92.43000030517578,94.87000274658203,94.7699966430664,94.19999694824219,92.6500015258789,89.7699966430664,90.73999786376953,89.62999725341797,90.02999877929688,89.83000183105469,92.5199966430664,99.88999938964844,98.0,96.5999984741211,93.83999633789062,95.41000366210938,93.70999908447266,91.80000305175781,88.44999694824219,90.5999984741211,89.5199966430664,92.13999938964844,94.69000244140625,89.47000122070312,88.91999816894531,88.83000183105469,86.43000030517578,87.66000366210938,85.80000305175781,81.5999984741211,80.70999908447266,78.80000305175781,78.91000366210938,77.87000274658203,80.98999786376953,79.05999755859375,79.98999786376953,80.44999694824219,84.11000061035156,84.38999938964844,84.31999969482422,81.23999786376953,79.23999786376953,75.37000274658203,75.7300033569336,75.01000213623047,73.0199966430664,76.7699966430664,76.33999633789062,71.2699966430664,72.0199966430664,72.18000030517578,63.150001525878906,63.220001220703125,68.51000213623047,65.83999633789062,63.7400016784668,63.58000183105469,65.86000061035156,64.69999694824219,65.20999908447266,69.80999755859375,69.70999908447266,68.12999725341797,64.83999633789062,69.7699966430664,70.7699966430664,71.33000183105469,79.30000305175781,78.16000366210938,84.26000213623047,80.4800033569336,76.93000030517578,75.98999786376953,78.5,75.5,75.87999725341797,79.86000061035156,87.55999755859375,85.94000244140625,90.05999755859375,90.5199966430664,91.44999694824219,88.33000183105469,94.16999816894531,91.33999633789062,89.41000366210938,91.41000366210938,90.91000366210938,86.20999908447266,86.79000091552734,87.16000366210938,85.91999816894531,87.80999755859375,87.97000122070312,85.6500015258789,89.86000061035156,87.19999694824219,89.12999725341797,88.08999633789062,91.9800033569336,103.91999816894531,104.58000183105469,107.4000015258789,110.83000183105469,114.87999725341797,115.0199966430664,113.1500015258789,117.01000213623047,115.19000244140625,113.22000122070312,116.58000183105469,119.86000061035156,119.52999877929688,119.44000244140625,120.25,120.56999969482422,118.37999725341797,111.19999694824219,110.19999694824219,112.81999969482422,109.73999786376953,106.33000183105469,105.44999694824219,105.5,105.11000061035156,108.45999908447266,103.6500015258789,104.79000091552734,104.22000122070312,103.08000183105469,103.11000061035156,100.01000213623047,95.0999984741211,94.77999877929688,94.16000366210938,89.0,89.25,87.79000091552734,89.94999694824219,89.75,89.69999694824219,89.62000274658203,88.7300033569336,86.94999694824219,83.37000274658203,82.95999908447266,82.9000015258789,83.8499984741211,81.51000213623047,82.22000122070312,81.66999816894531,81.0,83.69999694824219,83.6500015258789,86.5199966430664,86.9000015258789,86.12000274658203,98.4000015258789,99.91999816894531,103.37999725341797,102.18000030517578,98.38999938964844,100.72000122070312,98.55000305175781,102.73999786376953,101.54000091552734,99.76000213623047],\"yaxis\":\"y\",\"type\":\"scatter\"},{\"hovertemplate\":\"variable=GOOG<br>Date=%{x}<br>value=%{y}<extra></extra>\",\"legendgroup\":\"GOOG\",\"line\":{\"color\":\"#EF553B\",\"dash\":\"solid\"},\"marker\":{\"symbol\":\"circle\"},\"mode\":\"lines\",\"name\":\"GOOG\",\"orientation\":\"v\",\"showlegend\":true,\"x\":[\"2022-03-08T00:00:00\",\"2022-03-09T00:00:00\",\"2022-03-10T00:00:00\",\"2022-03-11T00:00:00\",\"2022-03-14T00:00:00\",\"2022-03-15T00:00:00\",\"2022-03-16T00:00:00\",\"2022-03-17T00:00:00\",\"2022-03-18T00:00:00\",\"2022-03-21T00:00:00\",\"2022-03-22T00:00:00\",\"2022-03-23T00:00:00\",\"2022-03-24T00:00:00\",\"2022-03-25T00:00:00\",\"2022-03-28T00:00:00\",\"2022-03-29T00:00:00\",\"2022-03-30T00:00:00\",\"2022-03-31T00:00:00\",\"2022-04-01T00:00:00\",\"2022-04-04T00:00:00\",\"2022-04-05T00:00:00\",\"2022-04-06T00:00:00\",\"2022-04-07T00:00:00\",\"2022-04-08T00:00:00\",\"2022-04-11T00:00:00\",\"2022-04-12T00:00:00\",\"2022-04-13T00:00:00\",\"2022-04-14T00:00:00\",\"2022-04-18T00:00:00\",\"2022-04-19T00:00:00\",\"2022-04-20T00:00:00\",\"2022-04-21T00:00:00\",\"2022-04-22T00:00:00\",\"2022-04-25T00:00:00\",\"2022-04-26T00:00:00\",\"2022-04-27T00:00:00\",\"2022-04-28T00:00:00\",\"2022-04-29T00:00:00\",\"2022-05-02T00:00:00\",\"2022-05-03T00:00:00\",\"2022-05-04T00:00:00\",\"2022-05-05T00:00:00\",\"2022-05-06T00:00:00\",\"2022-05-09T00:00:00\",\"2022-05-10T00:00:00\",\"2022-05-11T00:00:00\",\"2022-05-12T00:00:00\",\"2022-05-13T00:00:00\",\"2022-05-16T00:00:00\",\"2022-05-17T00:00:00\",\"2022-05-18T00:00:00\",\"2022-05-19T00:00:00\",\"2022-05-20T00:00:00\",\"2022-05-23T00:00:00\",\"2022-05-24T00:00:00\",\"2022-05-25T00:00:00\",\"2022-05-26T00:00:00\",\"2022-05-27T00:00:00\",\"2022-05-31T00:00:00\",\"2022-06-01T00:00:00\",\"2022-06-02T00:00:00\",\"2022-06-03T00:00:00\",\"2022-06-06T00:00:00\",\"2022-06-07T00:00:00\",\"2022-06-08T00:00:00\",\"2022-06-09T00:00:00\",\"2022-06-10T00:00:00\",\"2022-06-13T00:00:00\",\"2022-06-14T00:00:00\",\"2022-06-15T00:00:00\",\"2022-06-16T00:00:00\",\"2022-06-17T00:00:00\",\"2022-06-21T00:00:00\",\"2022-06-22T00:00:00\",\"2022-06-23T00:00:00\",\"2022-06-24T00:00:00\",\"2022-06-27T00:00:00\",\"2022-06-28T00:00:00\",\"2022-06-29T00:00:00\",\"2022-06-30T00:00:00\",\"2022-07-01T00:00:00\",\"2022-07-05T00:00:00\",\"2022-07-06T00:00:00\",\"2022-07-07T00:00:00\",\"2022-07-08T00:00:00\",\"2022-07-11T00:00:00\",\"2022-07-12T00:00:00\",\"2022-07-13T00:00:00\",\"2022-07-14T00:00:00\",\"2022-07-15T00:00:00\",\"2022-07-18T00:00:00\",\"2022-07-19T00:00:00\",\"2022-07-20T00:00:00\",\"2022-07-21T00:00:00\",\"2022-07-22T00:00:00\",\"2022-07-25T00:00:00\",\"2022-07-26T00:00:00\",\"2022-07-27T00:00:00\",\"2022-07-28T00:00:00\",\"2022-07-29T00:00:00\",\"2022-08-01T00:00:00\",\"2022-08-02T00:00:00\",\"2022-08-03T00:00:00\",\"2022-08-04T00:00:00\",\"2022-08-05T00:00:00\",\"2022-08-08T00:00:00\",\"2022-08-09T00:00:00\",\"2022-08-10T00:00:00\",\"2022-08-11T00:00:00\",\"2022-08-12T00:00:00\",\"2022-08-15T00:00:00\",\"2022-08-16T00:00:00\",\"2022-08-17T00:00:00\",\"2022-08-18T00:00:00\",\"2022-08-19T00:00:00\",\"2022-08-22T00:00:00\",\"2022-08-23T00:00:00\",\"2022-08-24T00:00:00\",\"2022-08-25T00:00:00\",\"2022-08-26T00:00:00\",\"2022-08-29T00:00:00\",\"2022-08-30T00:00:00\",\"2022-08-31T00:00:00\",\"2022-09-01T00:00:00\",\"2022-09-02T00:00:00\",\"2022-09-06T00:00:00\",\"2022-09-07T00:00:00\",\"2022-09-08T00:00:00\",\"2022-09-09T00:00:00\",\"2022-09-12T00:00:00\",\"2022-09-13T00:00:00\",\"2022-09-14T00:00:00\",\"2022-09-15T00:00:00\",\"2022-09-16T00:00:00\",\"2022-09-19T00:00:00\",\"2022-09-20T00:00:00\",\"2022-09-21T00:00:00\",\"2022-09-22T00:00:00\",\"2022-09-23T00:00:00\",\"2022-09-26T00:00:00\",\"2022-09-27T00:00:00\",\"2022-09-28T00:00:00\",\"2022-09-29T00:00:00\",\"2022-09-30T00:00:00\",\"2022-10-03T00:00:00\",\"2022-10-04T00:00:00\",\"2022-10-05T00:00:00\",\"2022-10-06T00:00:00\",\"2022-10-07T00:00:00\",\"2022-10-10T00:00:00\",\"2022-10-11T00:00:00\",\"2022-10-12T00:00:00\",\"2022-10-13T00:00:00\",\"2022-10-14T00:00:00\",\"2022-10-17T00:00:00\",\"2022-10-18T00:00:00\",\"2022-10-19T00:00:00\",\"2022-10-20T00:00:00\",\"2022-10-21T00:00:00\",\"2022-10-24T00:00:00\",\"2022-10-25T00:00:00\",\"2022-10-26T00:00:00\",\"2022-10-27T00:00:00\",\"2022-10-28T00:00:00\",\"2022-10-31T00:00:00\",\"2022-11-01T00:00:00\",\"2022-11-02T00:00:00\",\"2022-11-03T00:00:00\",\"2022-11-04T00:00:00\",\"2022-11-07T00:00:00\",\"2022-11-08T00:00:00\",\"2022-11-09T00:00:00\",\"2022-11-10T00:00:00\",\"2022-11-11T00:00:00\",\"2022-11-14T00:00:00\",\"2022-11-15T00:00:00\",\"2022-11-16T00:00:00\",\"2022-11-17T00:00:00\",\"2022-11-18T00:00:00\",\"2022-11-21T00:00:00\",\"2022-11-22T00:00:00\",\"2022-11-23T00:00:00\",\"2022-11-25T00:00:00\",\"2022-11-28T00:00:00\",\"2022-11-29T00:00:00\",\"2022-11-30T00:00:00\",\"2022-12-01T00:00:00\",\"2022-12-02T00:00:00\",\"2022-12-05T00:00:00\",\"2022-12-06T00:00:00\",\"2022-12-07T00:00:00\",\"2022-12-08T00:00:00\",\"2022-12-09T00:00:00\",\"2022-12-12T00:00:00\",\"2022-12-13T00:00:00\",\"2022-12-14T00:00:00\",\"2022-12-15T00:00:00\",\"2022-12-16T00:00:00\",\"2022-12-19T00:00:00\",\"2022-12-20T00:00:00\",\"2022-12-21T00:00:00\",\"2022-12-22T00:00:00\",\"2022-12-23T00:00:00\",\"2022-12-27T00:00:00\",\"2022-12-28T00:00:00\",\"2022-12-29T00:00:00\",\"2022-12-30T00:00:00\",\"2023-01-03T00:00:00\",\"2023-01-04T00:00:00\",\"2023-01-05T00:00:00\",\"2023-01-06T00:00:00\",\"2023-01-09T00:00:00\",\"2023-01-10T00:00:00\",\"2023-01-11T00:00:00\",\"2023-01-12T00:00:00\",\"2023-01-13T00:00:00\",\"2023-01-17T00:00:00\",\"2023-01-18T00:00:00\",\"2023-01-19T00:00:00\",\"2023-01-20T00:00:00\",\"2023-01-23T00:00:00\",\"2023-01-24T00:00:00\",\"2023-01-25T00:00:00\",\"2023-01-26T00:00:00\",\"2023-01-27T00:00:00\",\"2023-01-30T00:00:00\",\"2023-01-31T00:00:00\",\"2023-02-01T00:00:00\",\"2023-02-02T00:00:00\",\"2023-02-03T00:00:00\",\"2023-02-06T00:00:00\",\"2023-02-07T00:00:00\",\"2023-02-08T00:00:00\",\"2023-02-09T00:00:00\",\"2023-02-10T00:00:00\",\"2023-02-13T00:00:00\",\"2023-02-14T00:00:00\",\"2023-02-15T00:00:00\",\"2023-02-16T00:00:00\",\"2023-02-17T00:00:00\",\"2023-02-21T00:00:00\",\"2023-02-22T00:00:00\",\"2023-02-23T00:00:00\",\"2023-02-24T00:00:00\",\"2023-02-27T00:00:00\",\"2023-02-28T00:00:00\",\"2023-03-01T00:00:00\",\"2023-03-02T00:00:00\",\"2023-03-03T00:00:00\",\"2023-03-06T00:00:00\",\"2023-03-07T00:00:00\",\"2023-03-08T00:00:00\",\"2023-03-09T00:00:00\",\"2023-03-10T00:00:00\",\"2023-03-13T00:00:00\",\"2023-03-14T00:00:00\",\"2023-03-15T00:00:00\",\"2023-03-16T00:00:00\",\"2023-03-17T00:00:00\",\"2023-03-20T00:00:00\",\"2023-03-21T00:00:00\",\"2023-03-22T00:00:00\",\"2023-03-23T00:00:00\",\"2023-03-24T00:00:00\",\"2023-03-27T00:00:00\",\"2023-03-28T00:00:00\",\"2023-03-29T00:00:00\",\"2023-03-30T00:00:00\",\"2023-03-31T00:00:00\",\"2023-04-03T00:00:00\",\"2023-04-04T00:00:00\",\"2023-04-05T00:00:00\",\"2023-04-06T00:00:00\",\"2023-04-10T00:00:00\",\"2023-04-11T00:00:00\"],\"xaxis\":\"x\",\"y\":[127.27850341796875,133.86599731445312,132.6820068359375,130.47549438476562,126.74099731445312,129.66050720214844,133.6905059814453,134.60049438476562,136.80149841308594,136.47850036621094,140.27749633789062,138.5034942626953,141.31199645996094,141.52149963378906,141.9499969482422,143.25,142.64450073242188,139.64950561523438,140.6999969482422,143.6425018310547,141.06300354003906,137.17599487304688,136.46499633789062,134.010498046875,129.79649353027344,128.37449645996094,130.28599548339844,127.25299835205078,127.96099853515625,130.531005859375,128.24549865722656,124.9375,119.61399841308594,123.25,119.50599670410156,115.02050018310547,119.4114990234375,114.96649932861328,117.15699768066406,118.12950134277344,122.57499694824219,116.74649810791016,115.66000366210938,113.08399963378906,114.58450317382812,113.96099853515625,113.16100311279297,116.5155029296875,114.7925033569336,116.70149993896484,112.4010009765625,110.74549865722656,109.31300354003906,111.66649627685547,105.9260025024414,105.8395004272461,108.2959976196289,112.79900360107422,114.03900146484375,114.13700103759766,117.74600219726562,114.56400299072266,117.010498046875,117.22949981689453,117.23799896240234,114.91799926757812,111.42749786376953,106.87650299072266,107.19400024414062,110.3905029296875,106.63600158691406,107.8655014038086,112.01499938964844,112.03399658203125,112.68450164794922,118.53800201416016,116.62249755859375,112.57150268554688,112.25650024414062,109.37249755859375,109.08100128173828,113.88700103759766,115.2135009765625,119.30599975585938,120.16850280761719,116.52249908447266,114.84950256347656,112.18699645996094,111.44000244140625,112.76699829101562,109.91000366210938,114.62000274658203,114.69999694824219,115.04000091552734,108.36000061035156,108.20999908447266,105.44000244140625,113.5999984741211,114.58999633789062,116.63999938964844,115.4800033569336,115.9000015258789,118.77999877929688,118.87000274658203,118.22000122070312,118.13999938964844,117.5,120.6500015258789,119.81999969482422,122.6500015258789,122.87999725341797,122.51000213623047,120.31999969482422,120.86000061035156,118.12000274658203,115.06999969482422,114.7699966430664,114.69999694824219,117.69999694824219,111.30000305175781,110.33999633789062,109.91000366210938,109.1500015258789,110.55000305175781,108.68000030517578,107.4800033569336,110.4800033569336,109.41999816894531,111.77999877929688,111.87000274658203,105.30999755859375,105.87000274658203,103.9000015258789,103.62999725341797,103.8499984741211,101.83000183105469,100.01000213623047,100.56999969482422,99.16999816894531,98.80999755859375,98.08999633789062,100.73999786376953,98.08999633789062,96.1500015258789,99.30000305175781,102.41000366210938,102.22000122070312,102.23999786376953,99.56999969482422,98.70999908447266,98.05000305175781,98.30000305175781,99.70999908447266,97.18000030517578,100.77999877929688,101.38999938964844,100.29000091552734,100.52999877929688,101.4800033569336,102.97000122070312,104.93000030517578,94.81999969482422,92.5999984741211,96.58000183105469,94.66000366210938,90.5,87.06999969482422,83.48999786376953,86.69999694824219,88.6500015258789,88.91000366210938,87.4000015258789,94.16999816894531,96.7300033569336,96.02999877929688,98.72000122070312,98.98999786376953,98.5,97.80000305175781,95.83000183105469,97.33000183105469,98.81999969482422,97.5999984741211,96.25,95.44000244140625,101.44999694824219,101.27999877929688,100.83000183105469,99.87000274658203,97.30999755859375,95.1500015258789,93.94999694824219,93.06999969482422,93.55999755859375,95.8499984741211,95.30999755859375,91.19999694824219,90.86000061035156,89.1500015258789,89.62999725341797,90.25,88.26000213623047,89.80999755859375,87.93000030517578,86.45999908447266,88.94999694824219,88.7300033569336,89.69999694824219,88.70999908447266,86.7699966430664,88.16000366210938,88.80000305175781,89.23999786376953,92.26000213623047,91.91000366210938,92.80000305175781,92.16000366210938,91.77999877929688,93.91000366210938,99.27999877929688,101.20999908447266,99.20999908447266,96.7300033569336,99.16000366210938,100.70999908447266,97.94999694824219,99.87000274658203,101.43000030517578,108.80000305175781,105.22000122070312,103.47000122070312,108.04000091552734,100.0,95.45999908447266,94.86000061035156,95.0,94.94999694824219,97.0999984741211,95.77999877929688,94.58999633789062,92.05000305175781,91.80000305175781,91.06999969482422,89.3499984741211,90.0999984741211,90.30000305175781,90.51000213623047,92.30999755859375,94.0199966430664,95.58000183105469,94.16999816894531,94.6500015258789,92.66000366210938,91.01000213623047,91.66000366210938,94.25,96.55000305175781,101.06999969482422,102.45999908447266,101.93000030517578,105.83999633789062,104.22000122070312,106.26000213623047,106.05999755859375,103.05999755859375,101.36000061035156,101.9000015258789,101.31999969482422,104.0,104.91000366210938,105.12000274658203,104.94999694824219,108.9000015258789,106.94999694824219,106.12000274658203],\"yaxis\":\"y\",\"type\":\"scatter\"},{\"hovertemplate\":\"variable=TSLA<br>Date=%{x}<br>value=%{y}<extra></extra>\",\"legendgroup\":\"TSLA\",\"line\":{\"color\":\"#00cc96\",\"dash\":\"solid\"},\"marker\":{\"symbol\":\"circle\"},\"mode\":\"lines\",\"name\":\"TSLA\",\"orientation\":\"v\",\"showlegend\":true,\"x\":[\"2022-03-08T00:00:00\",\"2022-03-09T00:00:00\",\"2022-03-10T00:00:00\",\"2022-03-11T00:00:00\",\"2022-03-14T00:00:00\",\"2022-03-15T00:00:00\",\"2022-03-16T00:00:00\",\"2022-03-17T00:00:00\",\"2022-03-18T00:00:00\",\"2022-03-21T00:00:00\",\"2022-03-22T00:00:00\",\"2022-03-23T00:00:00\",\"2022-03-24T00:00:00\",\"2022-03-25T00:00:00\",\"2022-03-28T00:00:00\",\"2022-03-29T00:00:00\",\"2022-03-30T00:00:00\",\"2022-03-31T00:00:00\",\"2022-04-01T00:00:00\",\"2022-04-04T00:00:00\",\"2022-04-05T00:00:00\",\"2022-04-06T00:00:00\",\"2022-04-07T00:00:00\",\"2022-04-08T00:00:00\",\"2022-04-11T00:00:00\",\"2022-04-12T00:00:00\",\"2022-04-13T00:00:00\",\"2022-04-14T00:00:00\",\"2022-04-18T00:00:00\",\"2022-04-19T00:00:00\",\"2022-04-20T00:00:00\",\"2022-04-21T00:00:00\",\"2022-04-22T00:00:00\",\"2022-04-25T00:00:00\",\"2022-04-26T00:00:00\",\"2022-04-27T00:00:00\",\"2022-04-28T00:00:00\",\"2022-04-29T00:00:00\",\"2022-05-02T00:00:00\",\"2022-05-03T00:00:00\",\"2022-05-04T00:00:00\",\"2022-05-05T00:00:00\",\"2022-05-06T00:00:00\",\"2022-05-09T00:00:00\",\"2022-05-10T00:00:00\",\"2022-05-11T00:00:00\",\"2022-05-12T00:00:00\",\"2022-05-13T00:00:00\",\"2022-05-16T00:00:00\",\"2022-05-17T00:00:00\",\"2022-05-18T00:00:00\",\"2022-05-19T00:00:00\",\"2022-05-20T00:00:00\",\"2022-05-23T00:00:00\",\"2022-05-24T00:00:00\",\"2022-05-25T00:00:00\",\"2022-05-26T00:00:00\",\"2022-05-27T00:00:00\",\"2022-05-31T00:00:00\",\"2022-06-01T00:00:00\",\"2022-06-02T00:00:00\",\"2022-06-03T00:00:00\",\"2022-06-06T00:00:00\",\"2022-06-07T00:00:00\",\"2022-06-08T00:00:00\",\"2022-06-09T00:00:00\",\"2022-06-10T00:00:00\",\"2022-06-13T00:00:00\",\"2022-06-14T00:00:00\",\"2022-06-15T00:00:00\",\"2022-06-16T00:00:00\",\"2022-06-17T00:00:00\",\"2022-06-21T00:00:00\",\"2022-06-22T00:00:00\",\"2022-06-23T00:00:00\",\"2022-06-24T00:00:00\",\"2022-06-27T00:00:00\",\"2022-06-28T00:00:00\",\"2022-06-29T00:00:00\",\"2022-06-30T00:00:00\",\"2022-07-01T00:00:00\",\"2022-07-05T00:00:00\",\"2022-07-06T00:00:00\",\"2022-07-07T00:00:00\",\"2022-07-08T00:00:00\",\"2022-07-11T00:00:00\",\"2022-07-12T00:00:00\",\"2022-07-13T00:00:00\",\"2022-07-14T00:00:00\",\"2022-07-15T00:00:00\",\"2022-07-18T00:00:00\",\"2022-07-19T00:00:00\",\"2022-07-20T00:00:00\",\"2022-07-21T00:00:00\",\"2022-07-22T00:00:00\",\"2022-07-25T00:00:00\",\"2022-07-26T00:00:00\",\"2022-07-27T00:00:00\",\"2022-07-28T00:00:00\",\"2022-07-29T00:00:00\",\"2022-08-01T00:00:00\",\"2022-08-02T00:00:00\",\"2022-08-03T00:00:00\",\"2022-08-04T00:00:00\",\"2022-08-05T00:00:00\",\"2022-08-08T00:00:00\",\"2022-08-09T00:00:00\",\"2022-08-10T00:00:00\",\"2022-08-11T00:00:00\",\"2022-08-12T00:00:00\",\"2022-08-15T00:00:00\",\"2022-08-16T00:00:00\",\"2022-08-17T00:00:00\",\"2022-08-18T00:00:00\",\"2022-08-19T00:00:00\",\"2022-08-22T00:00:00\",\"2022-08-23T00:00:00\",\"2022-08-24T00:00:00\",\"2022-08-25T00:00:00\",\"2022-08-26T00:00:00\",\"2022-08-29T00:00:00\",\"2022-08-30T00:00:00\",\"2022-08-31T00:00:00\",\"2022-09-01T00:00:00\",\"2022-09-02T00:00:00\",\"2022-09-06T00:00:00\",\"2022-09-07T00:00:00\",\"2022-09-08T00:00:00\",\"2022-09-09T00:00:00\",\"2022-09-12T00:00:00\",\"2022-09-13T00:00:00\",\"2022-09-14T00:00:00\",\"2022-09-15T00:00:00\",\"2022-09-16T00:00:00\",\"2022-09-19T00:00:00\",\"2022-09-20T00:00:00\",\"2022-09-21T00:00:00\",\"2022-09-22T00:00:00\",\"2022-09-23T00:00:00\",\"2022-09-26T00:00:00\",\"2022-09-27T00:00:00\",\"2022-09-28T00:00:00\",\"2022-09-29T00:00:00\",\"2022-09-30T00:00:00\",\"2022-10-03T00:00:00\",\"2022-10-04T00:00:00\",\"2022-10-05T00:00:00\",\"2022-10-06T00:00:00\",\"2022-10-07T00:00:00\",\"2022-10-10T00:00:00\",\"2022-10-11T00:00:00\",\"2022-10-12T00:00:00\",\"2022-10-13T00:00:00\",\"2022-10-14T00:00:00\",\"2022-10-17T00:00:00\",\"2022-10-18T00:00:00\",\"2022-10-19T00:00:00\",\"2022-10-20T00:00:00\",\"2022-10-21T00:00:00\",\"2022-10-24T00:00:00\",\"2022-10-25T00:00:00\",\"2022-10-26T00:00:00\",\"2022-10-27T00:00:00\",\"2022-10-28T00:00:00\",\"2022-10-31T00:00:00\",\"2022-11-01T00:00:00\",\"2022-11-02T00:00:00\",\"2022-11-03T00:00:00\",\"2022-11-04T00:00:00\",\"2022-11-07T00:00:00\",\"2022-11-08T00:00:00\",\"2022-11-09T00:00:00\",\"2022-11-10T00:00:00\",\"2022-11-11T00:00:00\",\"2022-11-14T00:00:00\",\"2022-11-15T00:00:00\",\"2022-11-16T00:00:00\",\"2022-11-17T00:00:00\",\"2022-11-18T00:00:00\",\"2022-11-21T00:00:00\",\"2022-11-22T00:00:00\",\"2022-11-23T00:00:00\",\"2022-11-25T00:00:00\",\"2022-11-28T00:00:00\",\"2022-11-29T00:00:00\",\"2022-11-30T00:00:00\",\"2022-12-01T00:00:00\",\"2022-12-02T00:00:00\",\"2022-12-05T00:00:00\",\"2022-12-06T00:00:00\",\"2022-12-07T00:00:00\",\"2022-12-08T00:00:00\",\"2022-12-09T00:00:00\",\"2022-12-12T00:00:00\",\"2022-12-13T00:00:00\",\"2022-12-14T00:00:00\",\"2022-12-15T00:00:00\",\"2022-12-16T00:00:00\",\"2022-12-19T00:00:00\",\"2022-12-20T00:00:00\",\"2022-12-21T00:00:00\",\"2022-12-22T00:00:00\",\"2022-12-23T00:00:00\",\"2022-12-27T00:00:00\",\"2022-12-28T00:00:00\",\"2022-12-29T00:00:00\",\"2022-12-30T00:00:00\",\"2023-01-03T00:00:00\",\"2023-01-04T00:00:00\",\"2023-01-05T00:00:00\",\"2023-01-06T00:00:00\",\"2023-01-09T00:00:00\",\"2023-01-10T00:00:00\",\"2023-01-11T00:00:00\",\"2023-01-12T00:00:00\",\"2023-01-13T00:00:00\",\"2023-01-17T00:00:00\",\"2023-01-18T00:00:00\",\"2023-01-19T00:00:00\",\"2023-01-20T00:00:00\",\"2023-01-23T00:00:00\",\"2023-01-24T00:00:00\",\"2023-01-25T00:00:00\",\"2023-01-26T00:00:00\",\"2023-01-27T00:00:00\",\"2023-01-30T00:00:00\",\"2023-01-31T00:00:00\",\"2023-02-01T00:00:00\",\"2023-02-02T00:00:00\",\"2023-02-03T00:00:00\",\"2023-02-06T00:00:00\",\"2023-02-07T00:00:00\",\"2023-02-08T00:00:00\",\"2023-02-09T00:00:00\",\"2023-02-10T00:00:00\",\"2023-02-13T00:00:00\",\"2023-02-14T00:00:00\",\"2023-02-15T00:00:00\",\"2023-02-16T00:00:00\",\"2023-02-17T00:00:00\",\"2023-02-21T00:00:00\",\"2023-02-22T00:00:00\",\"2023-02-23T00:00:00\",\"2023-02-24T00:00:00\",\"2023-02-27T00:00:00\",\"2023-02-28T00:00:00\",\"2023-03-01T00:00:00\",\"2023-03-02T00:00:00\",\"2023-03-03T00:00:00\",\"2023-03-06T00:00:00\",\"2023-03-07T00:00:00\",\"2023-03-08T00:00:00\",\"2023-03-09T00:00:00\",\"2023-03-10T00:00:00\",\"2023-03-13T00:00:00\",\"2023-03-14T00:00:00\",\"2023-03-15T00:00:00\",\"2023-03-16T00:00:00\",\"2023-03-17T00:00:00\",\"2023-03-20T00:00:00\",\"2023-03-21T00:00:00\",\"2023-03-22T00:00:00\",\"2023-03-23T00:00:00\",\"2023-03-24T00:00:00\",\"2023-03-27T00:00:00\",\"2023-03-28T00:00:00\",\"2023-03-29T00:00:00\",\"2023-03-30T00:00:00\",\"2023-03-31T00:00:00\",\"2023-04-03T00:00:00\",\"2023-04-04T00:00:00\",\"2023-04-05T00:00:00\",\"2023-04-06T00:00:00\",\"2023-04-10T00:00:00\",\"2023-04-11T00:00:00\"],\"xaxis\":\"x\",\"y\":[274.79998779296875,286.3233337402344,279.4333190917969,265.1166687011719,255.4566650390625,267.2966613769531,280.07666015625,290.5333251953125,301.7966613769531,307.0533447265625,331.32666015625,333.03668212890625,337.97332763671875,336.8800048828125,363.9466552734375,366.5233459472656,364.663330078125,359.20001220703125,361.5299987792969,381.8166809082031,363.7533264160156,348.586669921875,352.4200134277344,341.8299865722656,325.30999755859375,328.98333740234375,340.7900085449219,328.3333435058594,334.7633361816406,342.7166748046875,325.73333740234375,336.260009765625,335.01666259765625,332.67333984375,292.1400146484375,293.836669921875,292.5033264160156,290.2533264160156,300.9800109863281,303.0833435058594,317.5400085449219,291.09332275390625,288.54998779296875,262.3699951171875,266.67999267578125,244.6666717529297,242.6666717529297,256.5299987792969,241.4566650390625,253.8699951171875,236.60333251953125,236.47332763671875,221.3000030517578,224.96665954589844,209.3866729736328,219.60000610351562,235.91000366210938,253.2100067138672,252.75332641601562,246.7899932861328,258.3333435058594,234.51666259765625,238.27999877929688,238.8866729736328,241.86666870117188,239.7066650390625,232.22999572753906,215.73666381835938,220.88999938964844,233.0,213.10000610351562,216.75999450683594,237.0366668701172,236.086669921875,235.07000732421875,245.7066650390625,244.9199981689453,232.663330078125,228.49000549316406,224.47332763671875,227.26333618164062,233.06666564941406,231.73333740234375,244.5433349609375,250.76333618164062,234.3433380126953,233.07000732421875,237.0399932861328,238.31333923339844,240.06666564941406,240.54666137695312,245.52999877929688,247.5,271.7066650390625,272.24334716796875,268.4333190917969,258.8599853515625,274.82000732421875,280.8999938964844,297.1499938964844,297.27667236328125,300.586669921875,307.39666748046875,308.6333312988281,288.1700134277344,290.42333984375,283.3333435058594,294.3566589355469,286.6300048828125,300.0299987792969,309.32000732421875,306.5633239746094,303.9966735839844,302.8699951171875,296.6666564941406,289.913330078125,296.4533386230469,297.0966796875,296.07000732421875,288.0899963378906,284.82000732421875,277.70001220703125,275.6099853515625,277.1600036621094,270.2099914550781,274.4200134277344,283.70001220703125,289.260009765625,299.67999267578125,304.4200134277344,292.1300048828125,302.6099853515625,303.75,303.3500061035156,309.07000732421875,308.7300109863281,300.79998779296875,288.5899963378906,275.3299865722656,276.010009765625,282.94000244140625,287.80999755859375,268.2099914550781,265.25,242.39999389648438,249.44000244140625,240.80999755859375,238.1300048828125,223.07000732421875,222.9600067138672,216.5,217.24000549316406,221.72000122070312,204.99000549316406,219.35000610351562,220.19000244140625,222.0399932861328,207.27999877929688,214.44000244140625,211.25,222.4199981689453,224.63999938964844,225.08999633789062,228.52000427246094,227.5399932861328,227.82000732421875,214.97999572753906,215.30999755859375,207.47000122070312,197.0800018310547,191.3000030517578,177.58999633789062,190.72000122070312,195.97000122070312,190.9499969482422,194.4199981689453,186.9199981689453,183.1699981689453,180.19000244140625,167.8699951171875,169.91000366210938,183.1999969482422,182.86000061035156,182.9199981689453,180.8300018310547,194.6999969482422,194.6999969482422,194.86000061035156,182.4499969482422,179.82000732421875,174.0399932861328,173.44000244140625,179.0500030517578,167.82000732421875,160.9499969482422,156.8000030517578,157.6699981689453,150.22999572753906,149.8699951171875,137.8000030517578,137.57000732421875,125.3499984741211,123.1500015258789,109.0999984741211,112.70999908447266,121.81999969482422,123.18000030517578,108.0999984741211,113.63999938964844,110.33999633789062,113.05999755859375,119.7699966430664,118.8499984741211,123.22000122070312,123.55999755859375,122.4000015258789,131.49000549316406,128.77999877929688,127.16999816894531,133.4199981689453,143.75,143.88999938964844,144.42999267578125,160.27000427246094,177.89999389648438,166.66000366210938,173.22000122070312,181.41000366210938,188.27000427246094,189.97999572753906,194.75999450683594,196.80999755859375,201.2899932861328,207.32000732421875,196.88999938964844,194.63999938964844,209.25,214.24000549316406,202.0399932861328,208.30999755859375,197.3699951171875,200.86000061035156,202.07000732421875,196.8800048828125,207.6300048828125,205.7100067138672,202.77000427246094,190.89999389648438,197.7899932861328,193.80999755859375,187.7100067138672,182.0,172.9199981689453,173.44000244140625,174.47999572753906,183.25999450683594,180.4499969482422,184.1300048828125,180.1300048828125,183.25,197.5800018310547,191.14999389648438,192.22000122070312,190.41000366210938,191.80999755859375,189.19000244140625,193.8800048828125,195.27999877929688,207.4600067138672,194.77000427246094,192.5800018310547,185.52000427246094,185.05999755859375,184.50999450683594,186.7899932861328],\"yaxis\":\"y\",\"type\":\"scatter\"}],                        {\"template\":{\"data\":{\"histogram2dcontour\":[{\"type\":\"histogram2dcontour\",\"colorbar\":{\"outlinewidth\":0,\"ticks\":\"\"},\"colorscale\":[[0.0,\"#0d0887\"],[0.1111111111111111,\"#46039f\"],[0.2222222222222222,\"#7201a8\"],[0.3333333333333333,\"#9c179e\"],[0.4444444444444444,\"#bd3786\"],[0.5555555555555556,\"#d8576b\"],[0.6666666666666666,\"#ed7953\"],[0.7777777777777778,\"#fb9f3a\"],[0.8888888888888888,\"#fdca26\"],[1.0,\"#f0f921\"]]}],\"choropleth\":[{\"type\":\"choropleth\",\"colorbar\":{\"outlinewidth\":0,\"ticks\":\"\"}}],\"histogram2d\":[{\"type\":\"histogram2d\",\"colorbar\":{\"outlinewidth\":0,\"ticks\":\"\"},\"colorscale\":[[0.0,\"#0d0887\"],[0.1111111111111111,\"#46039f\"],[0.2222222222222222,\"#7201a8\"],[0.3333333333333333,\"#9c179e\"],[0.4444444444444444,\"#bd3786\"],[0.5555555555555556,\"#d8576b\"],[0.6666666666666666,\"#ed7953\"],[0.7777777777777778,\"#fb9f3a\"],[0.8888888888888888,\"#fdca26\"],[1.0,\"#f0f921\"]]}],\"heatmap\":[{\"type\":\"heatmap\",\"colorbar\":{\"outlinewidth\":0,\"ticks\":\"\"},\"colorscale\":[[0.0,\"#0d0887\"],[0.1111111111111111,\"#46039f\"],[0.2222222222222222,\"#7201a8\"],[0.3333333333333333,\"#9c179e\"],[0.4444444444444444,\"#bd3786\"],[0.5555555555555556,\"#d8576b\"],[0.6666666666666666,\"#ed7953\"],[0.7777777777777778,\"#fb9f3a\"],[0.8888888888888888,\"#fdca26\"],[1.0,\"#f0f921\"]]}],\"heatmapgl\":[{\"type\":\"heatmapgl\",\"colorbar\":{\"outlinewidth\":0,\"ticks\":\"\"},\"colorscale\":[[0.0,\"#0d0887\"],[0.1111111111111111,\"#46039f\"],[0.2222222222222222,\"#7201a8\"],[0.3333333333333333,\"#9c179e\"],[0.4444444444444444,\"#bd3786\"],[0.5555555555555556,\"#d8576b\"],[0.6666666666666666,\"#ed7953\"],[0.7777777777777778,\"#fb9f3a\"],[0.8888888888888888,\"#fdca26\"],[1.0,\"#f0f921\"]]}],\"contourcarpet\":[{\"type\":\"contourcarpet\",\"colorbar\":{\"outlinewidth\":0,\"ticks\":\"\"}}],\"contour\":[{\"type\":\"contour\",\"colorbar\":{\"outlinewidth\":0,\"ticks\":\"\"},\"colorscale\":[[0.0,\"#0d0887\"],[0.1111111111111111,\"#46039f\"],[0.2222222222222222,\"#7201a8\"],[0.3333333333333333,\"#9c179e\"],[0.4444444444444444,\"#bd3786\"],[0.5555555555555556,\"#d8576b\"],[0.6666666666666666,\"#ed7953\"],[0.7777777777777778,\"#fb9f3a\"],[0.8888888888888888,\"#fdca26\"],[1.0,\"#f0f921\"]]}],\"surface\":[{\"type\":\"surface\",\"colorbar\":{\"outlinewidth\":0,\"ticks\":\"\"},\"colorscale\":[[0.0,\"#0d0887\"],[0.1111111111111111,\"#46039f\"],[0.2222222222222222,\"#7201a8\"],[0.3333333333333333,\"#9c179e\"],[0.4444444444444444,\"#bd3786\"],[0.5555555555555556,\"#d8576b\"],[0.6666666666666666,\"#ed7953\"],[0.7777777777777778,\"#fb9f3a\"],[0.8888888888888888,\"#fdca26\"],[1.0,\"#f0f921\"]]}],\"mesh3d\":[{\"type\":\"mesh3d\",\"colorbar\":{\"outlinewidth\":0,\"ticks\":\"\"}}],\"scatter\":[{\"fillpattern\":{\"fillmode\":\"overlay\",\"size\":10,\"solidity\":0.2},\"type\":\"scatter\"}],\"parcoords\":[{\"type\":\"parcoords\",\"line\":{\"colorbar\":{\"outlinewidth\":0,\"ticks\":\"\"}}}],\"scatterpolargl\":[{\"type\":\"scatterpolargl\",\"marker\":{\"colorbar\":{\"outlinewidth\":0,\"ticks\":\"\"}}}],\"bar\":[{\"error_x\":{\"color\":\"#2a3f5f\"},\"error_y\":{\"color\":\"#2a3f5f\"},\"marker\":{\"line\":{\"color\":\"#E5ECF6\",\"width\":0.5},\"pattern\":{\"fillmode\":\"overlay\",\"size\":10,\"solidity\":0.2}},\"type\":\"bar\"}],\"scattergeo\":[{\"type\":\"scattergeo\",\"marker\":{\"colorbar\":{\"outlinewidth\":0,\"ticks\":\"\"}}}],\"scatterpolar\":[{\"type\":\"scatterpolar\",\"marker\":{\"colorbar\":{\"outlinewidth\":0,\"ticks\":\"\"}}}],\"histogram\":[{\"marker\":{\"pattern\":{\"fillmode\":\"overlay\",\"size\":10,\"solidity\":0.2}},\"type\":\"histogram\"}],\"scattergl\":[{\"type\":\"scattergl\",\"marker\":{\"colorbar\":{\"outlinewidth\":0,\"ticks\":\"\"}}}],\"scatter3d\":[{\"type\":\"scatter3d\",\"line\":{\"colorbar\":{\"outlinewidth\":0,\"ticks\":\"\"}},\"marker\":{\"colorbar\":{\"outlinewidth\":0,\"ticks\":\"\"}}}],\"scattermapbox\":[{\"type\":\"scattermapbox\",\"marker\":{\"colorbar\":{\"outlinewidth\":0,\"ticks\":\"\"}}}],\"scatterternary\":[{\"type\":\"scatterternary\",\"marker\":{\"colorbar\":{\"outlinewidth\":0,\"ticks\":\"\"}}}],\"scattercarpet\":[{\"type\":\"scattercarpet\",\"marker\":{\"colorbar\":{\"outlinewidth\":0,\"ticks\":\"\"}}}],\"carpet\":[{\"aaxis\":{\"endlinecolor\":\"#2a3f5f\",\"gridcolor\":\"white\",\"linecolor\":\"white\",\"minorgridcolor\":\"white\",\"startlinecolor\":\"#2a3f5f\"},\"baxis\":{\"endlinecolor\":\"#2a3f5f\",\"gridcolor\":\"white\",\"linecolor\":\"white\",\"minorgridcolor\":\"white\",\"startlinecolor\":\"#2a3f5f\"},\"type\":\"carpet\"}],\"table\":[{\"cells\":{\"fill\":{\"color\":\"#EBF0F8\"},\"line\":{\"color\":\"white\"}},\"header\":{\"fill\":{\"color\":\"#C8D4E3\"},\"line\":{\"color\":\"white\"}},\"type\":\"table\"}],\"barpolar\":[{\"marker\":{\"line\":{\"color\":\"#E5ECF6\",\"width\":0.5},\"pattern\":{\"fillmode\":\"overlay\",\"size\":10,\"solidity\":0.2}},\"type\":\"barpolar\"}],\"pie\":[{\"automargin\":true,\"type\":\"pie\"}]},\"layout\":{\"autotypenumbers\":\"strict\",\"colorway\":[\"#636efa\",\"#EF553B\",\"#00cc96\",\"#ab63fa\",\"#FFA15A\",\"#19d3f3\",\"#FF6692\",\"#B6E880\",\"#FF97FF\",\"#FECB52\"],\"font\":{\"color\":\"#2a3f5f\"},\"hovermode\":\"closest\",\"hoverlabel\":{\"align\":\"left\"},\"paper_bgcolor\":\"white\",\"plot_bgcolor\":\"#E5ECF6\",\"polar\":{\"bgcolor\":\"#E5ECF6\",\"angularaxis\":{\"gridcolor\":\"white\",\"linecolor\":\"white\",\"ticks\":\"\"},\"radialaxis\":{\"gridcolor\":\"white\",\"linecolor\":\"white\",\"ticks\":\"\"}},\"ternary\":{\"bgcolor\":\"#E5ECF6\",\"aaxis\":{\"gridcolor\":\"white\",\"linecolor\":\"white\",\"ticks\":\"\"},\"baxis\":{\"gridcolor\":\"white\",\"linecolor\":\"white\",\"ticks\":\"\"},\"caxis\":{\"gridcolor\":\"white\",\"linecolor\":\"white\",\"ticks\":\"\"}},\"coloraxis\":{\"colorbar\":{\"outlinewidth\":0,\"ticks\":\"\"}},\"colorscale\":{\"sequential\":[[0.0,\"#0d0887\"],[0.1111111111111111,\"#46039f\"],[0.2222222222222222,\"#7201a8\"],[0.3333333333333333,\"#9c179e\"],[0.4444444444444444,\"#bd3786\"],[0.5555555555555556,\"#d8576b\"],[0.6666666666666666,\"#ed7953\"],[0.7777777777777778,\"#fb9f3a\"],[0.8888888888888888,\"#fdca26\"],[1.0,\"#f0f921\"]],\"sequentialminus\":[[0.0,\"#0d0887\"],[0.1111111111111111,\"#46039f\"],[0.2222222222222222,\"#7201a8\"],[0.3333333333333333,\"#9c179e\"],[0.4444444444444444,\"#bd3786\"],[0.5555555555555556,\"#d8576b\"],[0.6666666666666666,\"#ed7953\"],[0.7777777777777778,\"#fb9f3a\"],[0.8888888888888888,\"#fdca26\"],[1.0,\"#f0f921\"]],\"diverging\":[[0,\"#8e0152\"],[0.1,\"#c51b7d\"],[0.2,\"#de77ae\"],[0.3,\"#f1b6da\"],[0.4,\"#fde0ef\"],[0.5,\"#f7f7f7\"],[0.6,\"#e6f5d0\"],[0.7,\"#b8e186\"],[0.8,\"#7fbc41\"],[0.9,\"#4d9221\"],[1,\"#276419\"]]},\"xaxis\":{\"gridcolor\":\"white\",\"linecolor\":\"white\",\"ticks\":\"\",\"title\":{\"standoff\":15},\"zerolinecolor\":\"white\",\"automargin\":true,\"zerolinewidth\":2},\"yaxis\":{\"gridcolor\":\"white\",\"linecolor\":\"white\",\"ticks\":\"\",\"title\":{\"standoff\":15},\"zerolinecolor\":\"white\",\"automargin\":true,\"zerolinewidth\":2},\"scene\":{\"xaxis\":{\"backgroundcolor\":\"#E5ECF6\",\"gridcolor\":\"white\",\"linecolor\":\"white\",\"showbackground\":true,\"ticks\":\"\",\"zerolinecolor\":\"white\",\"gridwidth\":2},\"yaxis\":{\"backgroundcolor\":\"#E5ECF6\",\"gridcolor\":\"white\",\"linecolor\":\"white\",\"showbackground\":true,\"ticks\":\"\",\"zerolinecolor\":\"white\",\"gridwidth\":2},\"zaxis\":{\"backgroundcolor\":\"#E5ECF6\",\"gridcolor\":\"white\",\"linecolor\":\"white\",\"showbackground\":true,\"ticks\":\"\",\"zerolinecolor\":\"white\",\"gridwidth\":2}},\"shapedefaults\":{\"line\":{\"color\":\"#2a3f5f\"}},\"annotationdefaults\":{\"arrowcolor\":\"#2a3f5f\",\"arrowhead\":0,\"arrowwidth\":1},\"geo\":{\"bgcolor\":\"white\",\"landcolor\":\"#E5ECF6\",\"subunitcolor\":\"white\",\"showland\":true,\"showlakes\":true,\"lakecolor\":\"white\"},\"title\":{\"x\":0.05},\"mapbox\":{\"style\":\"light\"}}},\"xaxis\":{\"anchor\":\"y\",\"domain\":[0.0,1.0],\"title\":{\"text\":\"Date\"}},\"yaxis\":{\"anchor\":\"x\",\"domain\":[0.0,1.0],\"title\":{\"text\":\"value\"}},\"legend\":{\"title\":{\"text\":\"variable\"},\"tracegroupgap\":0},\"margin\":{\"t\":60}},                        {\"responsive\": true}                    ).then(function(){\n",
       "                            \n",
       "var gd = document.getElementById('a7d9eaf7-3381-4423-8174-a1fa055cba0c');\n",
       "var x = new MutationObserver(function (mutations, observer) {{\n",
       "        var display = window.getComputedStyle(gd).display;\n",
       "        if (!display || display === 'none') {{\n",
       "            console.log([gd, 'removed!']);\n",
       "            Plotly.purge(gd);\n",
       "            observer.disconnect();\n",
       "        }}\n",
       "}});\n",
       "\n",
       "// Listen for the removal of the full notebook cells\n",
       "var notebookContainer = gd.closest('#notebook-container');\n",
       "if (notebookContainer) {{\n",
       "    x.observe(notebookContainer, {childList: true});\n",
       "}}\n",
       "\n",
       "// Listen for the clearing of the current output cell\n",
       "var outputEl = gd.closest('.output');\n",
       "if (outputEl) {{\n",
       "    x.observe(outputEl, {childList: true});\n",
       "}}\n",
       "\n",
       "                        })                };                });            </script>        </div>"
      ]
     },
     "metadata": {},
     "output_type": "display_data"
    }
   ],
   "source": [
    "close.plot()"
   ]
  },
  {
   "cell_type": "code",
   "execution_count": 17,
   "id": "589f7a01-ff73-472c-ad15-e6c5a67f4383",
   "metadata": {},
   "outputs": [
    {
     "data": {
      "application/vnd.plotly.v1+json": {
       "config": {
        "plotlyServerURL": "https://plot.ly"
       },
       "data": [
        {
         "alignmentgroup": "True",
         "bingroup": "x",
         "hovertemplate": "variable=TSLA<br>value=%{x}<br>count=%{y}<extra></extra>",
         "legendgroup": "TSLA",
         "marker": {
          "color": "#636efa",
          "pattern": {
           "shape": ""
          }
         },
         "name": "TSLA",
         "offsetgroup": "TSLA",
         "orientation": "v",
         "showlegend": true,
         "type": "histogram",
         "x": [
          null,
          0.04193357517885765,
          -0.024063755330148706,
          -0.0512345859010529,
          -0.036436802368687404,
          0.046348355546253384,
          0.047812040425278646,
          0.037335010469022656,
          0.03876779427650434,
          0.017417963888751054,
          0.07905243778179138,
          0.005161136057840299,
          0.014823128420135223,
          -0.003234937980317265,
          0.0803450783611821,
          0.007079858095940583,
          -0.00507475414515135,
          -0.014981813142339484,
          0.006486599368272561,
          0.05611341298759176,
          -0.047308971544201106,
          -0.041694894294368345,
          0.010996816105212748,
          -0.03004944796541842,
          -0.048328086073804455,
          0.011291813566499442,
          0.03588835603591267,
          -0.03655231880843268,
          0.019583733431163042,
          0.023758093445249484,
          -0.04955503671370076,
          0.03231684066245499,
          -0.003697576672395231,
          -0.006994645387893739,
          -0.12184121881948873,
          0.005807678470473254,
          -0.004537702888526063,
          -0.007692220213591394,
          0.03695628471433299,
          0.006988279761963367,
          0.04769864576468552,
          -0.08328615317548016,
          -0.008737180698190294,
          -0.09072948807249681,
          0.016427173986372612,
          -0.08254582843646041,
          -0.008174386751047313,
          0.05712909369145702,
          -0.05875856161837267,
          0.05141017778952928,
          -0.06801379812405906,
          -0.0005494634476534976,
          -0.06416505716141863,
          0.01656871415985961,
          -0.06925464690507588,
          0.04877737911795821,
          0.07427138936829314,
          0.07333306253742577,
          -0.001803563389055185,
          -0.02359349020027357,
          0.04677398003874078,
          -0.09219359988526965,
          0.0160472016783606,
          0.0025460558898939833,
          0.012474516432601446,
          -0.008930555308462429,
          -0.031190911234383223,
          -0.07102153990705962,
          0.023887157055640484,
          0.05482367080362738,
          -0.08540769912654234,
          0.017174980283869212,
          0.0935443480214786,
          -0.004007805884153504,
          -0.004306310889948484,
          0.04524889345059324,
          -0.0032016505127857586,
          -0.0500435578248114,
          -0.01793718238090891,
          -0.017579227799377373,
          0.012429131666979787,
          0.025535704813974602,
          -0.005720802000385383,
          0.055279044880592876,
          0.02543516968760029,
          -0.06548005948146851,
          -0.005433611636988744,
          0.017033448479672808,
          0.005371861218914864,
          0.0073572315408600986,
          0.001999426810217919,
          0.020716718219316865,
          0.008023464466653252,
          0.09780470722853529,
          0.0019752262198982073,
          -0.013994935471540293,
          -0.0356637312112531,
          0.061655036992220635,
          0.02212352234272652,
          0.05784976985791013,
          0.00042631152414229767,
          0.011134400598203698,
          0.02265568716125621,
          0.004023022853486102,
          -0.0663030068235908,
          0.007819434052879659,
          -0.024412625864385085,
          0.03890581776676605,
          -0.026249292544206493,
          0.046750143628413676,
          0.03096359891583922,
          -0.008912075793144236,
          -0.008372333511224461,
          -0.0037062197211366055,
          -0.020481852686155544,
          -0.022764022407583906,
          0.0225584954757323,
          0.002170125887066332,
          -0.003455684406709514,
          -0.026953121859416895,
          -0.01135058160727187,
          -0.0249982267189629,
          -0.007526203685978228,
          0.005623955563764049,
          -0.02507581222110289,
          0.015580556255471167,
          0.03381677109982606,
          0.01959815762903916,
          0.03602289482946186,
          0.01581694096302666,
          -0.04037188096320543,
          0.03587437200418364,
          0.003767273730617582,
          -0.0013168523341049454,
          0.018856110452001085,
          -0.0011000625419275156,
          -0.025685948599634356,
          -0.040591728559117746,
          -0.04594757245188685,
          0.0024698479153155706,
          0.02510775852537339,
          0.017212112374233923,
          -0.06810050474193607,
          -0.011036096899372572,
          -0.08614516909902215,
          0.029042940273044104,
          -0.034597517632881325,
          -0.011129075632041241,
          -0.06324275500689214,
          -0.0004931214719139376,
          -0.02897383620084637,
          0.003418039229395209,
          0.020622332969329804,
          -0.07545550981161053,
          0.07005219876844393,
          0.003829479437051919,
          0.008401793106927569,
          -0.0664744863679374,
          0.03454266549727758,
          -0.014875967194030837,
          0.05287573097725584,
          0.009981122376490958,
          0.00200319154854367,
          0.015238384603380561,
          -0.004288512900427199,
          0.0012306146011606955,
          -0.05636033352596026,
          0.0015350350619269815,
          -0.03641259777431871,
          -0.05007952633400592,
          -0.02932818513088775,
          -0.07166757185130745,
          0.07393437216942544,
          0.027527264924482875,
          -0.02561618738169713,
          0.018172303095892017,
          -0.03857627852399581,
          -0.020062058831236462,
          -0.016269016527425406,
          -0.06837231343190053,
          0.012152311933396831,
          0.07821783885404354,
          -0.0018558752377418886,
          0.0003281065208000644,
          -0.011425739989130657,
          0.07670184691003823,
          0,
          0.0008217959148295595,
          -0.06368676805520912,
          -0.01441485156488942,
          -0.032143331123685615,
          -0.003447430865732959,
          0.0323454827685834,
          -0.0627198857086465,
          -0.04093677795344208,
          -0.025784367661833008,
          0.005548438139381551,
          -0.047187179094365206,
          -0.00239632976495896,
          -0.08053641461716088,
          -0.0016690545895901021,
          -0.08882756559936855,
          -0.017550833466474902,
          -0.1140885333144338,
          0.03308891531476843,
          0.0808269069678893,
          0.011164017515666869,
          -0.12242248574195735,
          0.05124885285593783,
          -0.029039097760312105,
          0.024651090365942707,
          0.059349011404278285,
          -0.007681374256751861,
          0.036769060182475055,
          0.0027592625752506095,
          -0.009388119582672827,
          0.07426473736900463,
          -0.020609982513142944,
          -0.012501946153228194,
          0.0491468120625187,
          0.07742468874848996,
          0.0009739087975544347,
          0.003752820129427681,
          0.10967259156647335,
          0.11000180416824756,
          -0.06318150994943417,
          0.03936155894904236,
          0.047280928205116535,
          0.03781489703913388,
          0.009082654784473565,
          0.025160537355481072,
          0.010525791279409002,
          0.022763049555982517,
          0.029956849516678652,
          -0.05030873801899527,
          -0.011427700782035255,
          0.0750616556523096,
          0.02384709913101113,
          -0.05694553722096751,
          0.031033480898909227,
          -0.05251789433835996,
          0.017682553475729224,
          0.006024129792842503,
          -0.025684180003413215,
          0.0546017865369246,
          -0.009247209573726933,
          -0.014291975817664837,
          -0.05853928157947319,
          0.03609219282314147,
          -0.020122331071529054,
          -0.03147407730028162,
          -0.03041929843714275,
          -0.04989011995084991,
          0.0030071956856769777,
          0.005996271168666301,
          0.050320947926932424,
          -0.015333393227232373,
          0.020393505108375454,
          -0.02172378153438792,
          0.017320796272765726,
          0.07819919143822474,
          -0.03254381959196684,
          0.0055977366381618765,
          -0.009416281069083654,
          0.007352522816861606,
          -0.013659325116185062,
          0.024789906342217005,
          0.007220929756684091,
          0.06237201971890638,
          -0.061168427796826186,
          -0.011244043709844997,
          -0.036660076287605925,
          -0.002479553165553039,
          -0.0029720256079851515,
          0.012357047570192181
         ],
         "xaxis": "x",
         "yaxis": "y"
        }
       ],
       "layout": {
        "autosize": true,
        "barmode": "relative",
        "legend": {
         "title": {
          "text": "variable"
         },
         "tracegroupgap": 0
        },
        "margin": {
         "t": 60
        },
        "template": {
         "data": {
          "bar": [
           {
            "error_x": {
             "color": "#2a3f5f"
            },
            "error_y": {
             "color": "#2a3f5f"
            },
            "marker": {
             "line": {
              "color": "#E5ECF6",
              "width": 0.5
             },
             "pattern": {
              "fillmode": "overlay",
              "size": 10,
              "solidity": 0.2
             }
            },
            "type": "bar"
           }
          ],
          "barpolar": [
           {
            "marker": {
             "line": {
              "color": "#E5ECF6",
              "width": 0.5
             },
             "pattern": {
              "fillmode": "overlay",
              "size": 10,
              "solidity": 0.2
             }
            },
            "type": "barpolar"
           }
          ],
          "carpet": [
           {
            "aaxis": {
             "endlinecolor": "#2a3f5f",
             "gridcolor": "white",
             "linecolor": "white",
             "minorgridcolor": "white",
             "startlinecolor": "#2a3f5f"
            },
            "baxis": {
             "endlinecolor": "#2a3f5f",
             "gridcolor": "white",
             "linecolor": "white",
             "minorgridcolor": "white",
             "startlinecolor": "#2a3f5f"
            },
            "type": "carpet"
           }
          ],
          "choropleth": [
           {
            "colorbar": {
             "outlinewidth": 0,
             "ticks": ""
            },
            "type": "choropleth"
           }
          ],
          "contour": [
           {
            "colorbar": {
             "outlinewidth": 0,
             "ticks": ""
            },
            "colorscale": [
             [
              0,
              "#0d0887"
             ],
             [
              0.1111111111111111,
              "#46039f"
             ],
             [
              0.2222222222222222,
              "#7201a8"
             ],
             [
              0.3333333333333333,
              "#9c179e"
             ],
             [
              0.4444444444444444,
              "#bd3786"
             ],
             [
              0.5555555555555556,
              "#d8576b"
             ],
             [
              0.6666666666666666,
              "#ed7953"
             ],
             [
              0.7777777777777778,
              "#fb9f3a"
             ],
             [
              0.8888888888888888,
              "#fdca26"
             ],
             [
              1,
              "#f0f921"
             ]
            ],
            "type": "contour"
           }
          ],
          "contourcarpet": [
           {
            "colorbar": {
             "outlinewidth": 0,
             "ticks": ""
            },
            "type": "contourcarpet"
           }
          ],
          "heatmap": [
           {
            "colorbar": {
             "outlinewidth": 0,
             "ticks": ""
            },
            "colorscale": [
             [
              0,
              "#0d0887"
             ],
             [
              0.1111111111111111,
              "#46039f"
             ],
             [
              0.2222222222222222,
              "#7201a8"
             ],
             [
              0.3333333333333333,
              "#9c179e"
             ],
             [
              0.4444444444444444,
              "#bd3786"
             ],
             [
              0.5555555555555556,
              "#d8576b"
             ],
             [
              0.6666666666666666,
              "#ed7953"
             ],
             [
              0.7777777777777778,
              "#fb9f3a"
             ],
             [
              0.8888888888888888,
              "#fdca26"
             ],
             [
              1,
              "#f0f921"
             ]
            ],
            "type": "heatmap"
           }
          ],
          "heatmapgl": [
           {
            "colorbar": {
             "outlinewidth": 0,
             "ticks": ""
            },
            "colorscale": [
             [
              0,
              "#0d0887"
             ],
             [
              0.1111111111111111,
              "#46039f"
             ],
             [
              0.2222222222222222,
              "#7201a8"
             ],
             [
              0.3333333333333333,
              "#9c179e"
             ],
             [
              0.4444444444444444,
              "#bd3786"
             ],
             [
              0.5555555555555556,
              "#d8576b"
             ],
             [
              0.6666666666666666,
              "#ed7953"
             ],
             [
              0.7777777777777778,
              "#fb9f3a"
             ],
             [
              0.8888888888888888,
              "#fdca26"
             ],
             [
              1,
              "#f0f921"
             ]
            ],
            "type": "heatmapgl"
           }
          ],
          "histogram": [
           {
            "marker": {
             "pattern": {
              "fillmode": "overlay",
              "size": 10,
              "solidity": 0.2
             }
            },
            "type": "histogram"
           }
          ],
          "histogram2d": [
           {
            "colorbar": {
             "outlinewidth": 0,
             "ticks": ""
            },
            "colorscale": [
             [
              0,
              "#0d0887"
             ],
             [
              0.1111111111111111,
              "#46039f"
             ],
             [
              0.2222222222222222,
              "#7201a8"
             ],
             [
              0.3333333333333333,
              "#9c179e"
             ],
             [
              0.4444444444444444,
              "#bd3786"
             ],
             [
              0.5555555555555556,
              "#d8576b"
             ],
             [
              0.6666666666666666,
              "#ed7953"
             ],
             [
              0.7777777777777778,
              "#fb9f3a"
             ],
             [
              0.8888888888888888,
              "#fdca26"
             ],
             [
              1,
              "#f0f921"
             ]
            ],
            "type": "histogram2d"
           }
          ],
          "histogram2dcontour": [
           {
            "colorbar": {
             "outlinewidth": 0,
             "ticks": ""
            },
            "colorscale": [
             [
              0,
              "#0d0887"
             ],
             [
              0.1111111111111111,
              "#46039f"
             ],
             [
              0.2222222222222222,
              "#7201a8"
             ],
             [
              0.3333333333333333,
              "#9c179e"
             ],
             [
              0.4444444444444444,
              "#bd3786"
             ],
             [
              0.5555555555555556,
              "#d8576b"
             ],
             [
              0.6666666666666666,
              "#ed7953"
             ],
             [
              0.7777777777777778,
              "#fb9f3a"
             ],
             [
              0.8888888888888888,
              "#fdca26"
             ],
             [
              1,
              "#f0f921"
             ]
            ],
            "type": "histogram2dcontour"
           }
          ],
          "mesh3d": [
           {
            "colorbar": {
             "outlinewidth": 0,
             "ticks": ""
            },
            "type": "mesh3d"
           }
          ],
          "parcoords": [
           {
            "line": {
             "colorbar": {
              "outlinewidth": 0,
              "ticks": ""
             }
            },
            "type": "parcoords"
           }
          ],
          "pie": [
           {
            "automargin": true,
            "type": "pie"
           }
          ],
          "scatter": [
           {
            "fillpattern": {
             "fillmode": "overlay",
             "size": 10,
             "solidity": 0.2
            },
            "type": "scatter"
           }
          ],
          "scatter3d": [
           {
            "line": {
             "colorbar": {
              "outlinewidth": 0,
              "ticks": ""
             }
            },
            "marker": {
             "colorbar": {
              "outlinewidth": 0,
              "ticks": ""
             }
            },
            "type": "scatter3d"
           }
          ],
          "scattercarpet": [
           {
            "marker": {
             "colorbar": {
              "outlinewidth": 0,
              "ticks": ""
             }
            },
            "type": "scattercarpet"
           }
          ],
          "scattergeo": [
           {
            "marker": {
             "colorbar": {
              "outlinewidth": 0,
              "ticks": ""
             }
            },
            "type": "scattergeo"
           }
          ],
          "scattergl": [
           {
            "marker": {
             "colorbar": {
              "outlinewidth": 0,
              "ticks": ""
             }
            },
            "type": "scattergl"
           }
          ],
          "scattermapbox": [
           {
            "marker": {
             "colorbar": {
              "outlinewidth": 0,
              "ticks": ""
             }
            },
            "type": "scattermapbox"
           }
          ],
          "scatterpolar": [
           {
            "marker": {
             "colorbar": {
              "outlinewidth": 0,
              "ticks": ""
             }
            },
            "type": "scatterpolar"
           }
          ],
          "scatterpolargl": [
           {
            "marker": {
             "colorbar": {
              "outlinewidth": 0,
              "ticks": ""
             }
            },
            "type": "scatterpolargl"
           }
          ],
          "scatterternary": [
           {
            "marker": {
             "colorbar": {
              "outlinewidth": 0,
              "ticks": ""
             }
            },
            "type": "scatterternary"
           }
          ],
          "surface": [
           {
            "colorbar": {
             "outlinewidth": 0,
             "ticks": ""
            },
            "colorscale": [
             [
              0,
              "#0d0887"
             ],
             [
              0.1111111111111111,
              "#46039f"
             ],
             [
              0.2222222222222222,
              "#7201a8"
             ],
             [
              0.3333333333333333,
              "#9c179e"
             ],
             [
              0.4444444444444444,
              "#bd3786"
             ],
             [
              0.5555555555555556,
              "#d8576b"
             ],
             [
              0.6666666666666666,
              "#ed7953"
             ],
             [
              0.7777777777777778,
              "#fb9f3a"
             ],
             [
              0.8888888888888888,
              "#fdca26"
             ],
             [
              1,
              "#f0f921"
             ]
            ],
            "type": "surface"
           }
          ],
          "table": [
           {
            "cells": {
             "fill": {
              "color": "#EBF0F8"
             },
             "line": {
              "color": "white"
             }
            },
            "header": {
             "fill": {
              "color": "#C8D4E3"
             },
             "line": {
              "color": "white"
             }
            },
            "type": "table"
           }
          ]
         },
         "layout": {
          "annotationdefaults": {
           "arrowcolor": "#2a3f5f",
           "arrowhead": 0,
           "arrowwidth": 1
          },
          "autotypenumbers": "strict",
          "coloraxis": {
           "colorbar": {
            "outlinewidth": 0,
            "ticks": ""
           }
          },
          "colorscale": {
           "diverging": [
            [
             0,
             "#8e0152"
            ],
            [
             0.1,
             "#c51b7d"
            ],
            [
             0.2,
             "#de77ae"
            ],
            [
             0.3,
             "#f1b6da"
            ],
            [
             0.4,
             "#fde0ef"
            ],
            [
             0.5,
             "#f7f7f7"
            ],
            [
             0.6,
             "#e6f5d0"
            ],
            [
             0.7,
             "#b8e186"
            ],
            [
             0.8,
             "#7fbc41"
            ],
            [
             0.9,
             "#4d9221"
            ],
            [
             1,
             "#276419"
            ]
           ],
           "sequential": [
            [
             0,
             "#0d0887"
            ],
            [
             0.1111111111111111,
             "#46039f"
            ],
            [
             0.2222222222222222,
             "#7201a8"
            ],
            [
             0.3333333333333333,
             "#9c179e"
            ],
            [
             0.4444444444444444,
             "#bd3786"
            ],
            [
             0.5555555555555556,
             "#d8576b"
            ],
            [
             0.6666666666666666,
             "#ed7953"
            ],
            [
             0.7777777777777778,
             "#fb9f3a"
            ],
            [
             0.8888888888888888,
             "#fdca26"
            ],
            [
             1,
             "#f0f921"
            ]
           ],
           "sequentialminus": [
            [
             0,
             "#0d0887"
            ],
            [
             0.1111111111111111,
             "#46039f"
            ],
            [
             0.2222222222222222,
             "#7201a8"
            ],
            [
             0.3333333333333333,
             "#9c179e"
            ],
            [
             0.4444444444444444,
             "#bd3786"
            ],
            [
             0.5555555555555556,
             "#d8576b"
            ],
            [
             0.6666666666666666,
             "#ed7953"
            ],
            [
             0.7777777777777778,
             "#fb9f3a"
            ],
            [
             0.8888888888888888,
             "#fdca26"
            ],
            [
             1,
             "#f0f921"
            ]
           ]
          },
          "colorway": [
           "#636efa",
           "#EF553B",
           "#00cc96",
           "#ab63fa",
           "#FFA15A",
           "#19d3f3",
           "#FF6692",
           "#B6E880",
           "#FF97FF",
           "#FECB52"
          ],
          "font": {
           "color": "#2a3f5f"
          },
          "geo": {
           "bgcolor": "white",
           "lakecolor": "white",
           "landcolor": "#E5ECF6",
           "showlakes": true,
           "showland": true,
           "subunitcolor": "white"
          },
          "hoverlabel": {
           "align": "left"
          },
          "hovermode": "closest",
          "mapbox": {
           "style": "light"
          },
          "paper_bgcolor": "white",
          "plot_bgcolor": "#E5ECF6",
          "polar": {
           "angularaxis": {
            "gridcolor": "white",
            "linecolor": "white",
            "ticks": ""
           },
           "bgcolor": "#E5ECF6",
           "radialaxis": {
            "gridcolor": "white",
            "linecolor": "white",
            "ticks": ""
           }
          },
          "scene": {
           "xaxis": {
            "backgroundcolor": "#E5ECF6",
            "gridcolor": "white",
            "gridwidth": 2,
            "linecolor": "white",
            "showbackground": true,
            "ticks": "",
            "zerolinecolor": "white"
           },
           "yaxis": {
            "backgroundcolor": "#E5ECF6",
            "gridcolor": "white",
            "gridwidth": 2,
            "linecolor": "white",
            "showbackground": true,
            "ticks": "",
            "zerolinecolor": "white"
           },
           "zaxis": {
            "backgroundcolor": "#E5ECF6",
            "gridcolor": "white",
            "gridwidth": 2,
            "linecolor": "white",
            "showbackground": true,
            "ticks": "",
            "zerolinecolor": "white"
           }
          },
          "shapedefaults": {
           "line": {
            "color": "#2a3f5f"
           }
          },
          "ternary": {
           "aaxis": {
            "gridcolor": "white",
            "linecolor": "white",
            "ticks": ""
           },
           "baxis": {
            "gridcolor": "white",
            "linecolor": "white",
            "ticks": ""
           },
           "bgcolor": "#E5ECF6",
           "caxis": {
            "gridcolor": "white",
            "linecolor": "white",
            "ticks": ""
           }
          },
          "title": {
           "x": 0.05
          },
          "xaxis": {
           "automargin": true,
           "gridcolor": "white",
           "linecolor": "white",
           "ticks": "",
           "title": {
            "standoff": 15
           },
           "zerolinecolor": "white",
           "zerolinewidth": 2
          },
          "yaxis": {
           "automargin": true,
           "gridcolor": "white",
           "linecolor": "white",
           "ticks": "",
           "title": {
            "standoff": 15
           },
           "zerolinecolor": "white",
           "zerolinewidth": 2
          }
         }
        },
        "xaxis": {
         "anchor": "y",
         "autorange": true,
         "domain": [
          0,
          1
         ],
         "range": [
          -0.125,
          0.11499999999999999
         ],
         "title": {
          "text": "value"
         },
         "type": "linear"
        },
        "yaxis": {
         "anchor": "x",
         "autorange": true,
         "domain": [
          0,
          1
         ],
         "range": [
          0,
          42.10526315789474
         ],
         "title": {
          "text": "count"
         }
        }
       }
      },
      "image/png": "iVBORw0KGgoAAAANSUhEUgAAA7UAAAFoCAYAAACIZtztAAAAAXNSR0IArs4c6QAAIABJREFUeF7t3XucXlV5L/AnCSThEpCKclEEpSjgpaCH6jmKV46nQqkISsGgCIIYtYBiKOAFJUdCiQKiknKRW0UjCsVS4KhFKegpFCkUrMCxyE1AsIgQDSEQcj57l0knk0kys9f7ztrr3d/5R0z2s/ezvs+aeeeX/V4mLVu2bFn4IkCAAAECBAgQIECAAAECBQpMEmoLnJqWCRAgQIAAAQIECBAgQKAWEGptBAIECBAgQIAAAQIECBAoVkCoLXZ0GidAgAABAgQIECBAgAABodYeIECAAAECBAgQIECAAIFiBYTaYkencQIECBAgQIAAAQIECBAQau0BAgQIECBAgAABAgQIEChWQKgtdnQaJ0CAAAECBAgQIECAAAGh1h4gQIAAAQIECBAgQIAAgWIFhNpiR6dxAgQIECBAgAABAgQIEBBq7QECBAgQIECAAAECBAgQKFZAqC12dBonQIAAAQIECBAgQIAAAaHWHiBAgAABAgQIECBAgACBYgWE2mJHp3ECBAgQIECAAAECBAgQEGrtAQIECBAgQIAAAQIECBAoVkCoLXZ0GidAgAABAgQIECBAgAABodYeIECAAAECBAgQIECAAIFiBYTaYkencQIECBAgQIAAAQIECBAQau0BAgQIECBAgAABAgQIEChWQKgtdnQaJ0CAAAECBAgQIECAAAGh1h4gQIAAAQIECBAgQIAAgWIFhNpiR6dxAgQIECBAgAABAgQIEBBq7QECBAgQIECAAAECBAgQKFZAqC12dBonQIAAAQIECBAgQIAAAaHWHiBAgAABAgQIECBAgACBYgWE2mJHp3ECBAgQIECAAAECBAgQEGrtAQIECBAgQIAAAQIECBAoVkCoLXZ0GidAgAABAgQIECBAgAABodYeIECAAAECBAgQIECAAIFiBYTaYkencQIECBAgQIAAAQIECBAQau0BAgQIECBAgAABAgQIEChWQKgtdnQaJ0CAAAECBAgQIECAAAGh1h4gQIAAAQIECBAgQIAAgWIFhNpiR6dxAgQIECBAgAABAgQIEBBq7QECBAgQIECAAAECBAgQKFZAqC12dBonQIAAAQIECBAgQIAAAaHWHiBAgAABAgQIECBAgACBYgWE2mJHp3ECBAgQIECAAAECBAgQEGrtAQIECBAgQIAAAQIECBAoVkCoLXZ0GidAgAABAgQIECBAgAABodYeIECAAAECBAgQIECAAIFiBYTaYkencQIECBAgQIAAAQIECBAQau0BAgQIECBAgAABAgQIEChWQKgtdnQaJ0CAAAECBAgQIECAAAGh1h4gQIAAAQIECBAgQIAAgWIFhNpiR6dxAgQIECBAgAABAgQIEBBq7QECBAgQIECAAAECBAgQKFZAqC12dBonQIAAAQIECBAgQIAAAaHWHiBAgAABAgQIECBAgACBYgWE2mJHp3ECBAgQIECAAAECBAgQEGrtAQIECBAgQIAAAQIECBAoVkCoLXZ0GidAgAABAgQIECBAgAABodYeIECAAAECBAgQIECAAIFiBYTaYkencQIECBAgQIAAAQIECBAQau0BAgQIECBAgAABAgQIEChWQKgtdnQaJ0CAAAECBAgQIECAAAGh1h4gQIAAAQIECBAgQIAAgWIFhNpiR6dxAgQIECBAgAABAgQIEBBq7QECBAgQIECAAAECBAgQKFZAqC12dBonQIAAAQIECBAgQIAAAaE2cQ/c//DjiWdQToAAAQIECBAgQIBAKQKbP3udUlrtTJ9CbeKohdpEQOUECBAgQIAAAQIEChIQats3LKE2cSZCbSKgcgIECBAgQIAAAQIFCQi17RuWUJs4E6E2EVA5AQIECBAgQIAAgYIEhNr2DUuoTZyJUJsIqJwAAQIECBAgQIBAQQJCbfuGJdQmzkSoTQRUToAAAQIECBAgQKAgAaG2fcMSakeZyUmnX1j/6ccO2bv+38cXL4lj550dl115bf3/zz3lqNhph23r/xZq27epdUSAAAECBAgQIECgXwJCbb9km59XqB1hd/1Nt8UVP/zn2PQ5G8UH9tu9/tuLL7+6/t89d319PPLowph76gVx9KEzY6MNZwi1zfeeSgIECBAgQIAAAQLFCbQ11D61dGn85F9vj+222TI2nLHeGl2rjHPXvb9afiNvZEGVe44+/syY/aF9YustN1/j+XIeINQO0x8KrO/a/Y1x409/Xofa6i7tvPkLYuaeuywfZnUnd6stNq1Drju1ObevaxMgQIAAAQIECBCYWIG2htpHH/t9HHHcaXH4we+Ml73khWtEEWrXSFTmAWd87dJ4y86vqpu/8pob6lA78s5s9XfD79wKtWXOWtcECBAgQIAAAQIEmgi0NdSOdy1C7XjFCji+etrxvfc/VN99vePu+1cItecsuCJm7b9HrDN9ar2S6thrrru5vlW/8PGnClidFgkQIECAAAECBAgQ6IXAjHXWSj5NFShv+/d74sgP7xtrTZlSn+/BXz8Sx8w9M445bL947rOfFX/z7e/FN//uh/Efv3k0Xr3jdnHEB/88XvqSrepjh26yrbvO9Jh32oJ41SteHId/4F1x3EnnLX+68JNPPhUXXnpVXHDx9+PuXz4Y27zw+fHxWX8er93pZTFp0qT6HP92+12x6XP/IM7+xuX1eQ/cd9d4zzvfGtOnTa1v7g1/+vGyZcvix9f/ND4//5vx8zt/uVJPySgJJ/D044h6YMOD68hQO/w1tMM3URWAFy56MoFfKQECBAiUKvDRo/N2fvLcvNd3dQIECHRVYMa6aycv/Z77Hor/fcr5MefI98cmz9moPt8//tO/xvev/kl8+qPvrf9/dcxWL9g0pkyeHD/88Y3x3auuj898/ID6RlsVSKvA+ob//kdxwJ+/bdQQWr3Gtgqzz9t04/rvb7ntzvjSVy+KEz5xSPzBs2bU56gC8Ymf+mC8dqeXx+InlsQXz/p2bPwHG8ZB794tfvvY71YItf/6szvitHMvqXuo3n/oxp/+e318tYYXPO+5ySYpJxBqn/mXjk+dePZKji/f7kVx0mc+HGd9/TKvqU3ZZWoJECAwgAKfPi79X+pTWI77tGcKpfipJUCAQFOBXjz9eMmSJ+O4k8+P//n6/1YH0yqAnviVb8QOL90mdn3Lq1dqrbrpVgXQucccXL9ZbRVI/+GaG+qAusH669bHr+mNnUb+fXWOa2/4WXx29oHLn5F668/vjtPO+0587qiDYunSpctD7YtesFl88ayLYseXbVP3W309seTJ+Mznz40/edMfL/+zpqapdULtKILD79RWfz38+eYjN4PX1KZuQfUECBAoU0CoLXNuuiZAgECqQC9CbdVDdef1hptvr5+C/PBvHotjP39OfPLw98TzN3tOLHr8ifjW318VV1x5bTz51NJYuvTpWHedafGVuYcvD7Uj37l4ZE6pgvP3r7khFlzyg1j4u0UxZcrkWPT44vjy8YfXb4A72mtqq6dAf+KvzopPHvae2HCD9ZaH2s032XiFjzgdbjjnyAPrl3Dm/BJqxxBqfU5tzi3q2gQIEGingFDbzrnoigABAv0W6FWorQJk9RTkTx7+3vr1tT++/pY64D699OmY+6UL4oUv2Cz2/rM31U8dHu1O7epCbXVntXq2afV63I8c8I6Ysf66K93JXVWoHQrX6607faVQW31KzE47bNtv4nGfX6gdN9mKBe7UJgIqJ0CAQKECQm2hg9M2AQIEEgV6FWqrpxyf9NcXxn/7o5fEdTfeGq/741fEzq9++ahPI775Z3fE5//6m/HFOX8xpju1Q3dWh4fQXz7w6/qNqI494n3L79RWb/xUvSa2ugtcfa3q6cdbPn+TutfNNnl2/UZSbfsSahMnItQmAionQIBAoQJCbaGD0zYBAgQSBXoVaqs2rrnuljj3m1fEtGlrx2eOOCCeu/Gz4veLFsdRx58R7/iT18WbXrtjPPzIY/XraatPahnr04+rEFq9Rrd6KvN+e721fhOo0867JH7wo3+JL33usOWh9ktnXxzHzT6wfqOo6qnJc045P16x3Yvi3e/YZdQ3iqreXfkTh+1Xv/b36WVPx0O/fiQ2mLFerL/eOomqaeVCbZpfCLWJgMoJECBQqIBQW+jgtE2AAIFEgV6G2t/8dmF85JhT4o933C4OO2iv+qN2qq9/ueX/xXEnnb/8o3MOmrlb/Rrcww9+55ju1Favmb3zngdizsnn13eBq4/zOfSgveInN90We/3pG5aH2smTJ8evH/7tmD/S58af/jxOPuPbdX9Tp64du+z8ypg9a986jOf8EmoT9YXaREDlBAgQKFRAqC10cNomQIBAokAvQ21iK8qfERBqE7eCUJsIqJwAAQKFCgi1hQ5O2wQIEEgUEGoTAftQLtQmogq1iYDKCRAgUKiAUFvo4LRNgACBRAGhNhGwD+VCbSKqUJsIqJwAAQKFCgi1hQ5O2wQIEEgUEGoTAftQLtQmogq1iYDKCRAgUKiAUFvo4LRNgACBRAGhNhGwD+VCbSKqUJsIqJwAAQKFCgi1hQ5O2wQIEEgUEGoTAftQLtQmogq1iYDKCRAgUKiAUFvo4LRNgACBRAGhNhGwD+VCbSKqUJsIqJwAAQKFCgi1hQ5O2wQIEEgUEGoTAftQLtQmogq1iYDKCRAgUKiAUFvo4LRNgACBRIEcofaBByMee2zZmDvfbNNJscGMMR9e/IFCbeIIhdpEQOUECBAoVECoLXRw2iZAgECiQI5Qe9bfLI1rf/L0mDt//35T4r/vNHnMx5d+oFCbOEGhNhFQOQECBAoVEGoLHZy2CRAgkCgwyKH24suvjk+dePZKQru95TXx2dkHxk9v+0W87/ATlv/98D+/5rqb42OH7D2q7iOPLoxZR50cRxyyd+y0w7aJE1i5XKhNJBVqEwGVEyBAoFABobbQwWmbAAECiQKDHGqHaB5fvCTmzV8QM/fcJbbecvP6j++4+/6Yd9qCmHvMwbHRhis+t/n6m26L1YXa6u+v+OE/x6bP2Sg+sN/uiRMQansOKNT2nNQJCRAgUISAUFvEmDRJgACBngt0NdRWwfRbl15V37FdZ/rUFVzXFGrP+Nql8T92ell876rr44B93rZSKE4dkju1iYJCbSKgcgIECBQqINQWOjhtEyBAIFGgq6F26CnEe+/+xthz19ePOdRWd3gvuPgfYvasfeKKH1wbW2z+3J4/BVmoTdzUQm0ioHICBAgUKiDUFjo4bRMgQCBRoKuhdojtpNMvjK9+4/J4/767Ln8N7eru1Fav062+qiA8POCOvNubMhahNkUvIoTaREDlBAgQKFRAqC10cNomQIBAokDXQ+0QXxVWr73hZ8vfQGq019RWr809dt7ZcdmV1y5X32yTZ8fpJx6x/LW6ieOoy4XaREWhNhFQOQECBAoVEGoLHZy2CRAgkCgg1P4nYPV05LmnXhBHHzoz/v3O+0Z9o6jqzuyV19ywwptDDb9zmziK5eVCbaKkUJsIqJwAAQKFCgi1hQ5O2wQIEEgUEGr/E3D4G0dVH/Uz2p3a6qnKO7/6FSu8hrYfT0EWahM3tVCbCKicAAEChQoItYUOTtsECBBIFOhqqK1C7PDPqH35di+K+Sd8tH4n45F/VxEf9ZF945Zb76zv5A7/CKChpyS/a/c39uwNo4TaxE0t1CYCKidAgEChAkJtoYPTNgECBBIFuhBqE4kmvFyoTSQXahMBlRMgQKBQAaG20MFpmwABAokCOULt33/v6bj19qfH3Plub50S279k0piPL/1AoTZxgkJtIqByAgQIFCog1BY6OG0TIEAgUSBHqE1seeDLhdrEEQu1iYDKCRAgUKiAUFvo4LRNgACBRAGhNhGwD+VCbSKqUJsIqJwAAQKFCgi1hQ5O2wQIEEgUEGoTAftQLtQmogq1iYDKCRAgUKiAUFvo4LRNgACBRAGhNhGwD+VCbSKqUJsIqJwAAQKFCgi1hQ5O2wQIEEgUEGoTAftQLtQmogq1iYDKCRAgUKiAUFvo4LRNgACBRAGhNhGwD+VCbSKqUJsIqJwAAQKFCgi1hQ5O2wQIEEgUEGoTAftQLtQmogq1iYDKCRAgUKiAUFvo4LRNgACBRAGhNhGwD+VCbSKqUJsIqJwAAQKFCgi1hQ5O2wQIEEgUEGoTAftQLtQmogq1iYDKCRAgUKiAUFvo4LRNgACBRAGhNhGwD+VCbSKqUJsIqJwAAQKFCgi1hQ5O2wQIEEgUEGoTAftQLtQmogq1iYDKCRAgUKiAUFvo4LRNgACBRAGhNhGwD+VCbSKqUJsIqJwAAQKFCgi1hQ5O2wQIEEgUEGoTAftQLtQmogq1iYDKCRAgUKiAUFvo4LRNgACBRAGhNhGwD+VCbSKqUJsIqJwAAQKFCgi1hQ5O2wQIEEgUEGoTAftQLtQmogq1iYDKCRAgUKiAUFvo4LRNgACBRAGhNhGwD+VCbSKqUJsIqJwAAQKFCgi1hQ5O2wQIEEgUEGoTAftQLtQmogq1iYDKCRAgUKiAUFvo4LRNgACBRAGhNhGwD+VCbSKqUJsIqJwAAQKFCgi1hQ5O2wQIEEgUEGoTAftQLtQ+g3r9TbfF+w4/YTnxnCMPjD13fX39/x9fvCSOnXd2XHbltfX/P/eUo2KnHbat/1uo7cOudEoCBAgUICDUFjAkLRIgQKAPAkJtH1ATTynUPhNaL7rsH2Ov3d4Q60yfGo88ujCOPv7MmP2hfWLrLTePiy+/umauQm71d3NPvSCOPnRmbLThDKE2cQMqJ0CAQKkCQm2pk9M3AQIE0gSE2jS/flQLtaOoVndm581fEDP33CU232Tj5f9dBdzq66TTL4yttti0Drnu1PZjWzonAQIE2i8g1LZ/RjokQIBAPwSE2n6opp1TqB3Fr3oq8rcuvSo+O/vAWPzEEyvcma0OH37nVqhN24CqCRAgUKqAUFvq5PRNgACBNAGhNs2vH9VC7TOqw183+/LtXhTzT/ho/fTi6unG5yy4Imbtv0f91OTqqwq911x3c3zskL3j4cee6MdcnJMAAQIEWi7wl5+anLXDv5rzdNbruzgBAgS6KvDsDaZ1demtXbdQO8poqiA766iT44hD9o4/fOHzVnun9okn/VLR2t2tMQIECPRR4MMfX9rHs6/51F/5/JQ1H+QIAgQIEOi5wLS18/6jZs8XNAAnFGpXMcShpxi/7c2v8ZraAdjolkCAAIFeC3j6ca9FnY8AAQJlCHj6cfvmJNRG1E8xnj5t2vKnFw+/U1t9dE8VcO+691f1041HvjOy19S2b1PriAABAhMhINROhLJrECBAoH0CQm37ZiLUPhNqq6cb33LrL5ZPyOfUtm+z6ogAAQJtEhBq2zQNvRAgQGDiBITaibMe65WE2rFKreI4d2oTAZUTIECgUAGhttDBaZsAAQKJAkJtImAfyoXaRFShNhFQOQECBAoVyB1qc7Md9+mncrfg+gQIEMgiINRmYV/tRYXaxJkItYmAygkQIFCogFAr1Ba6dbVNgECigFCbCNiHcqE2EVWoTQRUToAAgUIFhFqhttCtq20CBBIFhNpEwD6UC7WJqEJtIqByAgQIFCog1Aq1hW5dbRMgkCgg1CYC9qFcqE1EFWoTAZUTIECgUAGhVqgtdOtqmwCBRAGhNhGwD+VCbSKqUJsIqJwAAQKFCgi1Qm2hW1fbBAgkCgi1iYB9KBdqE1GF2kRA5QQIEGgo0PVQ2ZBtYMq8+/LAjNJCCBQnINS2b2RCbeJMhNpEQOUECBBoKCDUNoQbkDKhdkAGaRkEChQQats3NKE2cSZCbSKgcgIECDQUEGobwg1ImVA7IIO0DAIFCgi17RuaUJs4E6E2EVA5AQIEGgoItQ3hBqRMqB2QQVoGgQIFhNr2DU2oTZyJUJsIqJwAAQINBYTahnADUibUDsggLYNAgQJCbfuGJtQmzkSoTQRUToAAgYYCQm1DuAEpE2oHZJCWQaBAAaG2fUMTahNnItQmAionQIBAQwGhtiHcgJQJtQMySMsgUKCAUNu+oQm1iTMRahMBlRMgQKChgFDbEG5AyoTaARmkZRAoUECobd/QhNrEmQi1iYDKCRAg0FBAqG0INyBlQu2ADNIyCBQoINS2b2hCbeJMhNpEQOUECBBoKCDUNoQbkDKhdkAGaRkEChQQats3NKE2cSZCbSKgcgIECDQUEGobwg1ImVA7IIO0DAIFCgi17RuaUJs4E6E2EVA5AQIEGgoItQ3hBqRMqB2QQVoGgQIFhNr2DU2oTZyJUJsIqJwAAQINBYTahnADUibUDsggLYNAgQJCbfuGJtQmzkSoTQRUToAAgYYCQm1DuAEpE2oHZJCWQaBAAaG2fUMTahNnItQmAionQIBAQwGhtiHcgJQJtQMySMsgUKCAUNu+oQm1iTMRahMBlRMgQKChgFDbEG5AyoTaARmkZRAoUECobd/QhNrEmQi1iYDKCRAg0FBAqG0INyBlQu2ADNIyCBQoINS2b2jZQ+2SJU/G3fc9GC98wWax1pQpKwit7u/aQinUtmUS+iBAoGsCQm3XJr7ieoXabs/f6gnkFBBqc+qPfu3sofaRRxfGOQuuiFn77xHrTJ+6QpfV38099YI4+tCZsdGGM9qnFxFCbSvHoikCBDogINR2YMirWaJQ2+35Wz2BnAJCbU79loXap59eFgt/tyiq4Pr1v70yDtjnbTF92trLu6z+/p9u+Lf4wY9ujDlHHhjrrTu9fXpCbStnoikCBLohINR2Y86rWqVQ2+35Wz2BnAJCbU79loXaxxcviW9d+sO49Pv/FD/7f3et1N3UqWvHa165fXzkgHfES1+yVfvknunIndrWjkZjBAgMuIBQO+ADXsPyhNpuz9/qCeQUEGpz6rcs1A618+hjv48LLv5+HLDPris9/bh9XCt3JNSWMCU9EiAwiAJC7SBOdexrEmrHbuVIAgR6KyDU9tazF2fL/praXiwi5zmE2pz6rk2AQJcFhNouTz9CqO32/K2eQE4BoTanfkvv1FZtVa+fvfPeB+LOex6In9/5y1j61NPLu91gxrqx125v8Jra9u0dHREgQCCrgFCblT/7xYXa7CPQAIHOCgi17Rt99ju1y5Yti0v+z49i/nnfiTe/7pWx/rrrrKAk1LZv0+iIAAECbRAQatswhXw9CLX57F2ZQNcFhNr27YDsofax3y2KOSefF39x4F7xguc9t31Ca+jI04+LG5mGCRAYEAGhdkAG2XAZQm1DOGUECCQLCLXJhD0/QfZQW8Jn0a5OXajt+Z50QgIECIxJQKgdE9PAHiTUDuxoLYxA6wWE2vaNKHuofWrp0jjt3Etil51fFdu/uL0f3bOq0Qm17dvUOiJAoBsCQm035ryqVQq13Z6/1RPIKSDU5tQf/drZQ231JlG/uPv+mDd/Qbzlda+MLTZf8SnI06atHS97yQuj+tzaNn4JtW2cip4IEOiCgFDbhSmveo1Cbbfnb/UEcgoItTn1Wxpqq8+pPe7k8+K+B349aofP2+w58emP7h8bbrBe+/QiQqht5Vg0RYBABwSE2g4MeTVLFGq7PX+rJ5BTQKjNqd/SUNs+kvF1JNSOz8vRBAgQ6JWAUNsryTLPI9SWOTddExgEAaG2fVPM/vTj9pGMryOhdnxejiZAgECvBITaXkmWeR6htsy56ZrAIAgIte2bYvZQ6+nH7dsUOiJAgEAJAkJtCVPqX49Cbf9snZkAgdULCLXt2yHZQ+2SJU/GT2+/M5544skVdB7+7WNxxQ+uiw++9+3x0hdvFZMnT2qfntfUtnImmiJAoBsCQm035ryqVQq13Z6/1RPIKSDU5tQf/drZQ+3qSO64+/74u+/+OD5ywDti7bXXap+eUNvKmWiKAIFuCAi13ZizUNvtOVs9gTYKCLXtm0qrQ+0jjy6MuadeEEcfOjM22nBG+/SE2lbORFMECHRDQKjtxpyF2m7P2eoJtFFAqG3fVFodau+576H40tkXxac+un9ssP667dMTals5E00RINANAaG2G3MWars9Z6sn0EYBobZ9U8kean+/aHFcdNk/xmMLF62g85tHF8YPfvQvcdhBe8Uef/K6mDSpv6+prZ7qfMiRX4gHHny47uPcU46KnXbYtv7vxxcviWPnnR2XXXntSn/n3Y/bt6l1RIBANwSE2m7MWajt9pytnkAbBYTa9k0le6hd1RtFVVSbbfLs2PL5m/Q90Fahdf55l8QB+7ytfppzFXDnnbYg5h5zcP3/L7786npye+76+hj5lGihtn2bWkcECHRDQKjtxpyF2m7P2eoJtFFAqG3fVLKH2vaR/Oed2XnzF8TMPXeJzTfZePl/b73l5nW7J51+YWy1xaZ1yBVq2zhBPREg0AUBobYLU171Gr37cbfnb/UEcgoItTn1R792a0LtosefiP/7k5/GbT+/p+50221eEK/ecbuYkeG1tMPvxla9jHyzquF3boXa9m1qHREg0A0BobYbc3antttztnoCbRQQats3lVaE2jvuui+O/N+nR3Un9AXP26RWuue+B+unAZ/4yUNi662eN6Fy1Z3YnV/9ivo1tVXAPWfBFTFr/z1inelT6z6uv+m2uOa6m+Njh+w9oX25GAECBAj8l8BBh634+eZsuiVw1hfX7taCrZYAAQIEVimQPdQ++eRTccKXvx5veu2O8bo/fvkKjf7on2+JH/74xjjqI++esM+pHX4XtmpmtI8VcqfWdxQBAgTyC7hTm38GOTvw9OOc+q5NoNsC7tS2b/7ZQ+3qPot2oj+ntgqrd937qxXuwA5/fa3X1LZvA+uIAIHuCgi13Z19tXKhttvzt3oCOQWE2pz6o187e6h97HeL4q++/PU49P17xSbP2WiFLh/89SNx6lcvir/8yLv7/jm1owXaoWaG/10VtI8+/syY/aF96qdLe01t+za1jggQ6IaAUNuNOa9qlUJtt+dv9QRyCgi1OfVbGmqXLVsWZ32wNVLFAAAfHklEQVT9srj/wYdj1nvfHs/d+Fl1pw/9x29j/vnfiT/cavN49zt26evH+lRBddZRJ8ctt/5iBaU5Rx5Yv8Oxz6lt38bVEQECBITabu8Bobbb87d6AjkFhNqc+i0NtVVbi59YEud/67sx//y/i+pza6uvDdZfNz64/9tj37e/OaZObe+bQbhT275NrSMCBLohINR2Y87u1HZ7zlZPoI0CQm37ppL96cfDSao3jfrdosdj8qTJsd5602OtKVPaJzaiI6G29SPSIAECAyog1A7oYMe4LHdqxwjlMAIEei4g1PacNPmErQi1Dzz0m9h4ow1Weofj3/x2YTz8yKOxzQufn7zQfp1AqO2XrPMSIEBg9QJCbbd3iFDb7flbPYGcAkJtTv3Rr5091P5+0eL43Bf/Jt7/7t3qN14a/vXLB34dZ3zt0vjLD7871lt3evv0IrxRVCunoikCBLogINR2YcqrXqNQ2+35Wz2BnAJCbU79lobaNn2kT5PxuFPbRE0NAQIE0gWE2nTDks8g1JY8Pb0TKFtAqG3f/Fpxp/azXzi3vlP7kq23WEHonvsequ/UHv0XM92pbd/e0REBAgSyCgi1WfmzX1yozT4CDRDorIBQ277RZw+1Fcl3vvvjuOiyf4yDZ+4e2794y5g8eVLc/u/3xmnnXRJ77faGePv/em375J7pyJ3a1o5GYwQIDLiAUDvgA17D8oTabs/f6gnkFBBqc+qPfu1WhNqnn14WP77+lph/3nfi326/K55aujS2f/FWcfDMP41ddn5VHXLb+iXUtnUy+iJAYNAFhNpBn/Dq1yfUdnv+Vk8gp4BQm1O/xaG2fSxj70ioHbuVIwkQINBLAaG2l5rlnUuoLW9mOiYwKAJCbfsm2Yo7te1jGXtHQu3YrRxJgACBXgoItb3ULO9cQm15M9MxgUEREGrbN0mhNnEmQm0ioHICBAg0FBBqG8INSJlQOyCDtAwCBQoIte0bmlCbOBOhNhFQOQECjQVyh7rcoSL3+hsPTmFPBHLvv54swkkIEChSQKht39iE2sSZCLWJgMoJEGgskDvU5Q4VudffeHAKeyKQe//1ZBFOQoBAkQJCbfvGJtQmzkSoTQRUToBAY4HcoS53qMi9/saDU9gTgdz7ryeLcBICBIoUEGrbNzahNnEmQm0ioHICBBoL5A51uUNF7vU3HpzCngjk3n89WYSTECBQpIBQ276xCbWJMxFqEwGVEyDQWCB3qMsdKnKvv/HgFPZEIPf+68kinIQAgSIFhNr2jU2oTZyJUJsIqJwAgcYCuUNd7lCRe/2NB6ewJwK5919PFuEkBAgUKSDUtm9sQm3iTITaREDlBAg0Fsgd6nKHitzrbzw4hT0RyL3/erIIJyFAoEgBobZ9YxNqE2ci1CYCKidAoLFA7lCXO1TkXn/jwSnsiUDu/deTRTgJAQJFCgi17RubUJs4E6E2EVA5AQKNBXKHutyhIvf6Gw9OYU8Ecu+/nizCSQgQKFJAqG3f2ITaxJkItYmAygkQaCyQO9TlDhW51994cAp7IpB7//VkEU5CgECRAkJt+8Ym1CbORKhNBFROgEBjgdyhLneoyL3+xoNT2BOB3PuvJ4twEgIEihQQats3NqE2cSZCbSKgcgIEGgsIdY3pFA6AQNdDbe7v/677D8C3kCUkCAi1CXh9KhVqE2GF2kRA5QQINBbI/Utt48YVEuiBQNdDVe7v/67792ALO0XBAkJt+4Yn1CbORKhNBFROgEBjgdy/1DZuXCGBHgh0PVTl/v7vun8PtrBTFCwg1LZveEJt4kyE2kRA5QQINBbI/Utt48YVEuiBQNdDVe7v/67792ALO0XBAkJt+4Yn1CbORKhNBFROgEBjgdy/1DZuXCGBHgh0PVTl/v7vun8PtrBTFCwg1LZveEJt4kyE2kRA5QQINBbI/Utt48YVEhgAgdyhLvf3f+71D8AWsoSCBYTa9g1PqE2ciVCbCKicAIHGArl/qW3cuEICAyCQO9Tl/v7Pvf4B2EKWULCAUNu+4Qm1iTMRahMBlRMg0Fgg9y+1jRtXSGAABHKHutzf/7nXPwBbyBIKFhBq2zc8oTZxJkJtIqByAgQaC+T+pbZx4woJDIBA7lCX+/s/9/oHYAtZQsECQm37hifUJs5EqE0EVE6AQGOB3L/UNm5cIYEBEMgd6nJ//+de/wBsIUsoWECobd/whNrEmQi1iYDKCRBoLJD7l9rGjSskMAACuUNd7u//3OsfgC1kCQULCLXtG55QmzgToTYRUDkBAo0Fcv9S27hxhQQGQCB3qMv9/Z97/QOwhSyhYAGhtn3DE2oTZyLUJgIqJ0CgsUDuX2obN66QwAAI5A51ub//c69/ALaQJRQsINS2b3hCbeJMhNpEQOUECDQWyP1LbePGFRIYAIHcoS7393/u9Q/AFrKEggWE2vYNT6hNnIlQmwionACBxgK5f6lt3LhCAgMgkDvU5f7+z73+AdhCllCwgFDbvuEJtYkzEWoTAZUTINBYIPcvtY0bV0iAQPECQm3xI7SABAGhNgGvT6VCbSKsUJsIqJwAgcYCQm1jOoUECCQKCLWJgMqLFhBq2zc+oTZxJkJtIqByAgQaCwi1jekUEiCQKCDUJgIqL1pAqG3f+ITaxJkItYmAygkQaCwg1DamU0iAQKKAUJsIqLxoAaG2feMTahNnItQmAionQKCxgFDbmE4hAQKJAkJtIqDyogWE2vaNT6hNnIlQmwionACBxgJCbWM6hQQIJAoItYmAyosWEGrbNz6hdthMHl+8JI6dd3a85lXbx567vn753wz9+WVXXlv/2bmnHBU77bBt/d9Cbfs2tY66I5A71OX+pS73+ruz06yUAIGRArl//pkIgZwCQm1O/dGvLdQ+4zIUXB9d+Pv4X2/caYVQe/HlV9dHVUH3kUcXxtxTL4ijD50ZG204Q6ht357WUYcEcoe63L/U5V5/h7aapRIgMEIg988/AyGQU0Cozakv1K5W//qbbot7738ottj8ufX/Dt2prcLuvPkLYuaeu8TWW25en+Ok0y+MrbbYtD7Gndr2bWoddUcgd6jL/Utd7vV3Z6dZKQEC7tTaAwT+S0Cobd9ucKd2xEyG35Wt/mrkndnqz4YfI9S2b1PrqDsCuUOdUNudvWalBAisKJD75595EMgpINTm1Hendkz6o4XacxZcEbP23yPWmT61Pkd1V/ea626Ojx2ydzzx5NNjOq+DCBDovcCHP7609ycdxxm/8vkp4zi694fmXn/vV+SMBAiUIpD7518pTvocTIFpa08ezIUVvCp3akcMb7x3ah9+bEnB49c6gTSBv/zUpLQTqCZAgACBIgX+as6yIvvWNIFeCDx7g/+80eWrPQJC7RpCrdfUtmez6qR9Armf/ts+ER0RIECgGwKeftyNOVvl6AKefty+nSHUriHUVn9d3b29695f1U83rl5je/TxZ8bsD+1Tv3GU19S2b1PraOIEhNqJs3YlAgQItElAqG3TNPQy0QJC7USLr/l6Qu0YQq3PqV3zRnJENwWE2m7O3aoJECAg1NoDXRYQats3faE2cSbu1CYCKi9aQKgtenyaJ0CAQGMBobYxncIBEBBq2zdEoTZxJkJtIqDyJAGhMolPMQECBAg0FBBqG8IpGwgBobZ9YxRqE2ci1CYCKk8SEGqT+BQTIECAQEMBobYhnLKBEBBq2zdGoTZxJkJtIqDyJAGhNolPMQECBAg0FBBqG8IpGwgBobZ9YxRqE2ci1CYCKk8SEGqT+BQTIECAQEMBobYhnLKBEBBq2zdGoTZxJkJtIqDyJAGhNolPMQECBAg0FBBqG8IpGwgBobZ9YxRqE2ci1CYCKk8SEGqT+BQTIECAQEOBrofa3I+/XfdvuG17VibU9oyyZycSahMphdpEQOVJArkfVJOaV0yAAAECxQp0PVTlfvztun/ubxyhNvcEVr6+UJs4E6E2EVB5kkDuB9Wk5hUTIECAQLECXQ9VuR9/u+6f+xtHqM09AaG25xMQantO6oTjEMj9oDqOVh1KgAABAgMk0PVQlfvxt+v+ub+VhNrcExBqez4BobbnpE44DoHcD6rjaNWhBAgQIDBAAl0PVbkff7vun/tbSajNPQGhtucTEGp7TuqE4xDI/aA6jlYdSoAAAQIEeiaQO9TlfvzNvf6eDbLQEwm17Ruc19QmzkSoTQRUniSQ+0E1qXnFBAgQIECgoUDuUJf78Tf3+huObWDKhNr2jVKoTZyJUJsIqDxJIPeDalLzigkQIECAQEOB3KEu9+Nv7vU3HNvAlAm17RulUJs4E6E2EVB5kkDuB9Wk5hUTIECAAIGGArlDXe7H39zrbzi2gSkTats3SqE2cSZCbSKg8iSB3A+qSc0rJkCAAAECDQVyh7rcj7+5199wbANTJtS2b5RCbeJMhNpEQOVJArkfVJOaV0yAAAECBBoK5A51uR9/c6+/4dgGpkyobd8ohdrEmQi1iYDKkwRyP6gmNa+YAAECBAg0FMgd6nI//uZef8OxDUyZUNu+UQq1iTMRahMBlScJ5H5QTWpeMQECBAgQaCiQO9TlfvzNvf6GYxuYMqG2faMUahNnItQmAipPEsj9oJrUvGICBAgQINBQIHeoy/34m3v9Dcc2MGVCbftGKdQmzkSoTQRUniSQ+0E1qXnFBAgQIECgoUDuUJf78Tf3+huObWDKhNr2jVKoTZyJUJsIqDxJIPeDalLzigkQIECAQEOB3KEu9+Nv7vU3HNvAlAm17RulUJs4E6E2ETCxvOsPKrnXnzg+5QQIECBAgEADAaG2AVoPS4TaHmL26FRCbSKkUJsImFieO9TlflDJvf7E8SknQIAAAQIEGgjk/v2jQcsDVSLUtm+cQm3iTITaRMDE8tyhLveDSu71J45POQECBAgQINBAIPfvHw1aHqgSobZ94xRqE2ci1CYCJpbnDnW5H1Ryrz9xfMoJECBAgACBBgK5f/9o0PJAlQi17RunUJs4E6E2ETCxPHeoy/2gknv9ieNTToAAAQIECDQQyP37R4OWB6pEqG3fOIXaxJkItYmAieVCXSKgcgIECBAgQKA4AaE278iE2rz+o11dqE2ciVCbCJhYLtQmAionQIAAAQIEihMQavOOTKjN6y/U9sFfqO0D6jhOKdSOA8uhBAgQIECAwEAICLV5xyjU5vUXavvgL9T2AXUcpxRqx4HlUAIECBAgQGAgBITavGMUavP6C7V98Bdq+4A6jlMKtePAcigBAgQIECAwEAJCbd4xCrV5/YXaPvgLtX1AHccphdpxYDmUAAECBAgQGAgBoTbvGIXavP5CbR/8hdo+oI7jlELtOLAcSoAAAQIECAyEgFCbd4xCbV5/obYP/kJtH1DHcUqhdhxYDiVAgAABAgQGQkCozTtGoTavv1DbB3+htg+o4zilUDsOLIcSIECAAAECAyEg1OYdo1Cb11+o7YO/UNsH1HGcUqgdB5ZDCRAgQIAAgYEQEGrzjlGozesv1PbBX6jtA+o4TinUjgPLoQQIECBAgMBACAi1ecco1Ob1F2r74H/QYU/24axjP2XXf6gJtWPfK44kQIAAAQIEBkPA739rZR3kWV9cO+v1XXxlgUnLli1bBqa5gFDb3K4XlUJtLxSdgwABAgQIEChJQKgVakvarxPRq1CbqCzUJgImlgu1iYDKCRAgQIAAgeIEhFqhtrhN2+eGhdpEYKE2ETCxXKhNBFROgAABAgQIFCcg1Aq1xW3aPjcs1CYCC7WJgInlQm0ioHICBAgQIECgOAGhVqgtbtP2uWGhdgzAjy9eEsfOOzsuu/La+uhzTzkqdtph2/q/c4faMbTf10Ny/1AVavs6XicnQIAAAQIECBAYIeCNotq3JYTaMczk4suvro/ac9fXxyOPLoy5p14QRx86MzbacIZQ++mnxiDYv0OE2v7ZOjMBAgQIECBAgMDKAkJt+3aFULuGmVR3aefNXxAz99wltt5y8/rok06/MLbaYtM65LpTK9S279taRwQIECBAgAABAv0SEGr7Jdv8vELtGuxG3pmtDh9+51aoFWqbf/upJECAAAECBAgQKE1AqG3fxITaMYTacxZcEbP23yPWmT61Pvr6m26La667OT52yN6dv1Ob+5u66/+o0L4fKToiQIAAAQIECAy2QO7ffwdbt9nqhNoxhNrhr6Edeae2GbsqAgQIECBAgAABAgQIEOiFgFC7BsU1vaa2F0NwDgIECBAgQIAAAQIECBBoJiDUjsGteg3tXff+qn66cfUa26OPPzNmf2if5W8cNYZTOIQAAQIECBAgQIAAAQIE+iAg1I4BdXWfUzuGcocQIECAAAECBAgQIECAQJ8EhNo+wTrt6AJ33H1/HHLkF+KBBx+Ol2/3oph/wkfrz/sd7as69hNzz4zPHX2wu+I2VGOB6iO4vvqNy+v6OUceWH8U12hfqzpu+J6t6ta0bxs3qrAzAmPdk50BsdCeCYz1MXZ1/1g/fH+u6edmzxp3ooEUGM/PuurY6qt6VqQvAk0EhNomamoaCYx8ffLwd5EeecKhQLvhBuvHkR/eV6htJK5o+B4b7fXxQ0KrO251+5QwgfEKjHVPjve8jicwnsfY4R9NOPyjC6dPmxbz5i+ImXvu4nHXlkoSGM/PuirQ/vONt8abX/fK+MB+uyddV3F3BYTa7s5+wldeBdULLv6HmD1rn/rjkVb3+uQzvnZpvGXnV8WV19xQ/+/WW24+4f26YPkC1QPlzq9+Rey0w7b1Yoa/Pn746lZ3XPXAfO/9D63yDm/5SlYwkQJj3ZMT2ZNrDYbAWB9jV/cGmG9782ti/nmXxAH7vG2Vz6IaDC2r6LfAWH/WVft26He96n+F2n5PZnDPL9QO7mxbt7KRd7xWd+esan5Nf9+6BWqoVQKj7Z/R7rqu6bgqCH/qxLOXr+39++7q6VGtmnQ5zaxpr5WzEp22UWCsj7HD78wOvfxn6M7tm167Y8w66uS45dZf1EvcbJNnx+knHuEflts48Bb31ORnnWdFtXighbQm1BYyqFLarH4ove/wE1Zq99xTjqr/bOQdr5H/kje8UKgtZep5+xwZOod+EfvinEPjuz+8boU7DiPvZAz948nIOxOjHTd07LHzzo7XvGp7d27zjr3Iq1c/08a614pcoKazCoz2rJLRHmOrUHvOgiti1v571M+aqr5WFSiqP//C6Reu9v0vsi7axVsp0ORnnVDbylEW1ZRQW9S4ym52rP+KPLRKobbseefufqz/UjzW44bW44E392TLvf5491q5K9V5DoGxPsau7k7tyDfS8zicY5LlX7PJzzqPreXPPfcKhNrcE+jQ9cf6eh+htkObos9LHetresZ63OruaPR5KU4/IALj2WsDsmTLmCCBsT7Gru41tULtBA2rA5cZ7886obYDm6LPSxRq+wzs9P8lMPQRAu/a/Y31G/dUP8C+delV8dnZB8b9D/5HzDttQcw95uDlb07hX4jtnlSB4XusOlf11OGh/Tf8TaNWd9zwHqo7HNXrzY44ZO/lbz6V2qP6bgmMda91S8VqeyGwusfYxU88EUcff2bM/tA+9etjh//8W92bNlbHXXvDz+rH6aGnKveiV+cYfIGxPv4OSQi1g78n+r1Cobbfws6/gsCqPkOv+nOh1mbph8CqPidv5Dshr+q4kZ/ZWL0+fOjdlPvRr3MOvsB4Prtx8DWssJcCq3qMHRlcV/U5tSM/l3u3t7xGoO3lgDp2rrE+/lYsQm3HNkcflivU9gHVKQkQIECAAAECBAgQIEBgYgSE2olxdhUCBAgQIECAAAECBAgQ6IOAUNsHVKckQIAAAQIECBAgQIAAgYkREGonxtlVCBAgQIAAAQIECBAgQKAPAkJtH1CdkgABAgQIECBAgAABAgQmRkConRhnVyFAgAABAgQIECBAgACBPggItX1AdUoCBAgQIECAAAECBAgQmBgBoXZinF2FAAECBAgQIECAAAECBPogINT2AdUpCRAgQIAAAQIECBAgQGBiBITaiXF2FQIECBAgQIAAAQIECBDog4BQ2wdUpyRAgAABAgQIECBAgACBiREQaifG2VUIECBAgAABAgQIECBAoA8CQm0fUJ2SAAECBAgQIECAAAECBCZGQKidGGdXIUCAAAECBAgQIECAAIE+CAi1fUB1SgIECBAgQIAAAQIECBCYGAGhdmKcXYUAAQIECBAgQIAAAQIE+iAg1PYB1SkJECBAgAABAgQIECBAYGIEhNqJcXYVAgQIEBgQgetvui2+delV8dnZB8Y606cOyKosgwABAgQIlCsg1JY7O50TIECAQAYBoTYDuksSIECAAIHVCAi1tgcBAgQIEBiHgFA7DiyHEiBAgACBCRAQaicA2SUIECBAoD0CVSg9/9vfixOO+UCst+70urHfL1ocRx1/Rrz3nW+NHV76h3HhpVfFBRd/P+7+5YOxzQufHx+f9efx2p1eFpMmTYrhobaqPXbe2fGu3d8YO+2w7fJFnnT6hbHVFpvGnru+vv6zf7v9rvjCX38zrrvx1pXO1x4ZnRAgQIAAgTIFhNoy56ZrAgQIEGgo8Ohjv49jTjgzPnLAO2K7bbasz3Lrz++OL5/zt3H8UQfHeutNr8Ps8zbdOKZPmxq33HZnfOmrF8UJnzgk/uBZM8Ydau+576H47BfOjSM/vG+8ZOst4q57fxXHfv6c+Nghe8cfbb91w1UoI0CAAAECBIYEhFp7gQABAgQ6JbBs2bI442t/H+uuMy3e88631mv/m29/LxY9/kR8YL8/re/GDv965NGFcfTxZ8bsD+0TW2+5+bhD7cWXX13fCR66VnXuU796UWy04YwV/qxTQ7BYAgQIECDQQwGhtoeYTkWAAAECZQjc/LM74twL/0/MOfL9dcOfOvGr8b69/yResf3WsWTJk/H9a26IBZf8IBb+blFMmTI5Fj2+OL58/OGNQm31VOSvfuPylWDev++u9d1aXwQIECBAgECagFCb5qeaAAECBAoUqO6cfuYL58SB++xad3/2gsvjM0ccUN+9Pevrl8V//ObR+unJM9ZfN8Z7p7a6E/z5v/5mHYCr19SOfH1tgVxaJkCAAAECrRYQals9Hs0RIECAQL8EvnHJlfHUU0vr06+11pTYd4+3xOOLl6z0xk+/fODXcczcM+PYI943pju19ZtOfe70eNNrd6xDbXWdO+95oH5N7VpTpvRrOc5LgAABAgQ6KyDUdnb0Fk6AAIFuC9x+x71x4le+USMMvYnTU0uX1n/2/M2eE/vt9dZY/MSSOO28S+IHP/qX+NLnDlsp1E6ftnZ88ayLYvLkSfHB9/xZrLXWWvEP19wQc04+Lz76gXfVobZ6o6gj58yPA/fdLd78uh1j8qTJ8dDDj8T0qVPjWRuu3+0hWD0BAgQIEOiBgFDbA0SnIECAAIHyBIbuyladf3b2gbHO9Kn1Iqq7qnNOPn/5x+8cetBe8ZObbou9/vQNK4XaqubhRx6rg/D3rv5JbLD+unHQu3er7wBvuMF6yz/S5xf3PBAnn/GtuPqf/rW+xitfsU188vD31ufzRYAAAQIECKQJCLVpfqoJECBAgAABAgQIECBAIKOAUJsR36UJECBAgAABAgQIECBAIE1AqE3zU02AAAECBAgQIECAAAECGQWE2oz4Lk2AAAECBAgQIECAAAECaQJCbZqfagIECBAgQIAAAQIECBDIKCDUZsR3aQIECBAgQIAAAQIECBBIExBq0/xUEyBAgAABAgQIECBAgEBGAaE2I75LEyBAgAABAgQIECBAgECagFCb5qeaAAECBAgQIECAAAECBDIKCLUZ8V2aAAECBAgQIECAAAECBNIEhNo0P9UECBAgQIAAAQIECBAgkFFAqM2I79IECBAgQIAAAQIECBAgkCYg1Kb5qSZAgAABAgQIECBAgACBjAJCbUZ8lyZAgAABAgQIECBAgACBNAGhNs1PNQECBAgQIECAAAECBAhkFBBqM+K7NAECBAgQIECAAAECBAikCQi1aX6qCRAgQIAAAQIECBAgQCCjgFCbEd+lCRAgQIAAAQIECBAgQCBNQKhN81NNgAABAgQIECBAgAABAhkFhNqM+C5NgAABAgQIECBAgAABAmkCQm2an2oCBAgQIECAAAECBAgQyCgg1GbEd2kCBAgQIECAAAECBAgQSBMQatP8VBMgQIAAAQIECBAgQIBARgGhNiO+SxMgQIAAAQIECBAgQIBAmoBQm+anmgABAgQIECBAgAABAgQyCgi1GfFdmgABAgQIECBAgAABAgTSBITaND/VBAgQIECAAAECBAgQIJBRQKjNiO/SBAgQIECAAAECBAgQIJAmINSm+akmQIAAAQIECBAgQIAAgYwCQm1GfJcmQIAAAQIECBAgQIAAgTQBoTbNTzUBAgQIECBAgAABAgQIZBQQajPiuzQBAgQIECBAgAABAgQIpAkItWl+qgkQIECAAAECBAgQIEAgo4BQmxHfpQkQIECAAAECBAgQIEAgTUCoTfNTTYAAAQIECBAgQIAAAQIZBYTajPguTYAAAQIECBAgQIAAAQJpAkJtmp9qAgQIECBAgAABAgQIEMgoINRmxHdpAgQIECBAgAABAgQIEEgTEGrT/FQTIECAAAECBAgQIECAQEaB/w/CRLAic+FwjwAAAABJRU5ErkJggg==",
      "text/html": [
       "<div>                            <div id=\"10c6dc55-42de-4d33-a296-2837d12d3e6c\" class=\"plotly-graph-div\" style=\"height:525px; width:100%;\"></div>            <script type=\"text/javascript\">                require([\"plotly\"], function(Plotly) {                    window.PLOTLYENV=window.PLOTLYENV || {};                                    if (document.getElementById(\"10c6dc55-42de-4d33-a296-2837d12d3e6c\")) {                    Plotly.newPlot(                        \"10c6dc55-42de-4d33-a296-2837d12d3e6c\",                        [{\"alignmentgroup\":\"True\",\"bingroup\":\"x\",\"hovertemplate\":\"variable=TSLA<br>value=%{x}<br>count=%{y}<extra></extra>\",\"legendgroup\":\"TSLA\",\"marker\":{\"color\":\"#636efa\",\"pattern\":{\"shape\":\"\"}},\"name\":\"TSLA\",\"offsetgroup\":\"TSLA\",\"orientation\":\"v\",\"showlegend\":true,\"x\":[null,0.04193357517885765,-0.024063755330148706,-0.0512345859010529,-0.036436802368687404,0.046348355546253384,0.047812040425278646,0.037335010469022656,0.03876779427650434,0.017417963888751054,0.07905243778179138,0.005161136057840299,0.014823128420135223,-0.003234937980317265,0.0803450783611821,0.007079858095940583,-0.00507475414515135,-0.014981813142339484,0.006486599368272561,0.05611341298759176,-0.047308971544201106,-0.041694894294368345,0.010996816105212748,-0.03004944796541842,-0.048328086073804455,0.011291813566499442,0.03588835603591267,-0.03655231880843268,0.019583733431163042,0.023758093445249484,-0.04955503671370076,0.03231684066245499,-0.003697576672395231,-0.006994645387893739,-0.12184121881948873,0.005807678470473254,-0.004537702888526063,-0.007692220213591394,0.03695628471433299,0.006988279761963367,0.04769864576468552,-0.08328615317548016,-0.008737180698190294,-0.09072948807249681,0.016427173986372612,-0.08254582843646041,-0.008174386751047313,0.05712909369145702,-0.05875856161837267,0.05141017778952928,-0.06801379812405906,-0.0005494634476534976,-0.06416505716141863,0.01656871415985961,-0.06925464690507588,0.04877737911795821,0.07427138936829314,0.07333306253742577,-0.001803563389055185,-0.02359349020027357,0.04677398003874078,-0.09219359988526965,0.0160472016783606,0.0025460558898939833,0.012474516432601446,-0.008930555308462429,-0.031190911234383223,-0.07102153990705962,0.023887157055640484,0.05482367080362738,-0.08540769912654234,0.017174980283869212,0.0935443480214786,-0.004007805884153504,-0.004306310889948484,0.04524889345059324,-0.0032016505127857586,-0.0500435578248114,-0.01793718238090891,-0.017579227799377373,0.012429131666979787,0.025535704813974602,-0.005720802000385383,0.055279044880592876,0.02543516968760029,-0.06548005948146851,-0.005433611636988744,0.017033448479672808,0.005371861218914864,0.0073572315408600986,0.001999426810217919,0.020716718219316865,0.008023464466653252,0.09780470722853529,0.0019752262198982073,-0.013994935471540293,-0.0356637312112531,0.061655036992220635,0.02212352234272652,0.05784976985791013,0.00042631152414229767,0.011134400598203698,0.02265568716125621,0.004023022853486102,-0.0663030068235908,0.007819434052879659,-0.024412625864385085,0.03890581776676605,-0.026249292544206493,0.046750143628413676,0.03096359891583922,-0.008912075793144236,-0.008372333511224461,-0.0037062197211366055,-0.020481852686155544,-0.022764022407583906,0.0225584954757323,0.002170125887066332,-0.003455684406709514,-0.026953121859416895,-0.01135058160727187,-0.0249982267189629,-0.007526203685978228,0.005623955563764049,-0.02507581222110289,0.015580556255471167,0.03381677109982606,0.01959815762903916,0.03602289482946186,0.01581694096302666,-0.04037188096320543,0.03587437200418364,0.003767273730617582,-0.0013168523341049454,0.018856110452001085,-0.0011000625419275156,-0.025685948599634356,-0.040591728559117746,-0.04594757245188685,0.0024698479153155706,0.02510775852537339,0.017212112374233923,-0.06810050474193607,-0.011036096899372572,-0.08614516909902215,0.029042940273044104,-0.034597517632881325,-0.011129075632041241,-0.06324275500689214,-0.0004931214719139376,-0.02897383620084637,0.003418039229395209,0.020622332969329804,-0.07545550981161053,0.07005219876844393,0.003829479437051919,0.008401793106927569,-0.0664744863679374,0.03454266549727758,-0.014875967194030837,0.05287573097725584,0.009981122376490958,0.00200319154854367,0.015238384603380561,-0.004288512900427199,0.0012306146011606955,-0.05636033352596026,0.0015350350619269815,-0.03641259777431871,-0.05007952633400592,-0.02932818513088775,-0.07166757185130745,0.07393437216942544,0.027527264924482875,-0.02561618738169713,0.018172303095892017,-0.03857627852399581,-0.020062058831236462,-0.016269016527425406,-0.06837231343190053,0.012152311933396831,0.07821783885404354,-0.0018558752377418886,0.0003281065208000644,-0.011425739989130657,0.07670184691003823,0.0,0.0008217959148295595,-0.06368676805520912,-0.01441485156488942,-0.032143331123685615,-0.003447430865732959,0.0323454827685834,-0.0627198857086465,-0.04093677795344208,-0.025784367661833008,0.005548438139381551,-0.047187179094365206,-0.00239632976495896,-0.08053641461716088,-0.0016690545895901021,-0.08882756559936855,-0.017550833466474902,-0.1140885333144338,0.03308891531476843,0.0808269069678893,0.011164017515666869,-0.12242248574195735,0.05124885285593783,-0.029039097760312105,0.024651090365942707,0.059349011404278285,-0.007681374256751861,0.036769060182475055,0.0027592625752506095,-0.009388119582672827,0.07426473736900463,-0.020609982513142944,-0.012501946153228194,0.0491468120625187,0.07742468874848996,0.0009739087975544347,0.003752820129427681,0.10967259156647335,0.11000180416824756,-0.06318150994943417,0.03936155894904236,0.047280928205116535,0.03781489703913388,0.009082654784473565,0.025160537355481072,0.010525791279409002,0.022763049555982517,0.029956849516678652,-0.05030873801899527,-0.011427700782035255,0.0750616556523096,0.02384709913101113,-0.05694553722096751,0.031033480898909227,-0.05251789433835996,0.017682553475729224,0.006024129792842503,-0.025684180003413215,0.0546017865369246,-0.009247209573726933,-0.014291975817664837,-0.05853928157947319,0.03609219282314147,-0.020122331071529054,-0.03147407730028162,-0.03041929843714275,-0.04989011995084991,0.0030071956856769777,0.005996271168666301,0.050320947926932424,-0.015333393227232373,0.020393505108375454,-0.02172378153438792,0.017320796272765726,0.07819919143822474,-0.03254381959196684,0.0055977366381618765,-0.009416281069083654,0.007352522816861606,-0.013659325116185062,0.024789906342217005,0.007220929756684091,0.06237201971890638,-0.061168427796826186,-0.011244043709844997,-0.036660076287605925,-0.002479553165553039,-0.0029720256079851515,0.012357047570192181],\"xaxis\":\"x\",\"yaxis\":\"y\",\"type\":\"histogram\"}],                        {\"template\":{\"data\":{\"histogram2dcontour\":[{\"type\":\"histogram2dcontour\",\"colorbar\":{\"outlinewidth\":0,\"ticks\":\"\"},\"colorscale\":[[0.0,\"#0d0887\"],[0.1111111111111111,\"#46039f\"],[0.2222222222222222,\"#7201a8\"],[0.3333333333333333,\"#9c179e\"],[0.4444444444444444,\"#bd3786\"],[0.5555555555555556,\"#d8576b\"],[0.6666666666666666,\"#ed7953\"],[0.7777777777777778,\"#fb9f3a\"],[0.8888888888888888,\"#fdca26\"],[1.0,\"#f0f921\"]]}],\"choropleth\":[{\"type\":\"choropleth\",\"colorbar\":{\"outlinewidth\":0,\"ticks\":\"\"}}],\"histogram2d\":[{\"type\":\"histogram2d\",\"colorbar\":{\"outlinewidth\":0,\"ticks\":\"\"},\"colorscale\":[[0.0,\"#0d0887\"],[0.1111111111111111,\"#46039f\"],[0.2222222222222222,\"#7201a8\"],[0.3333333333333333,\"#9c179e\"],[0.4444444444444444,\"#bd3786\"],[0.5555555555555556,\"#d8576b\"],[0.6666666666666666,\"#ed7953\"],[0.7777777777777778,\"#fb9f3a\"],[0.8888888888888888,\"#fdca26\"],[1.0,\"#f0f921\"]]}],\"heatmap\":[{\"type\":\"heatmap\",\"colorbar\":{\"outlinewidth\":0,\"ticks\":\"\"},\"colorscale\":[[0.0,\"#0d0887\"],[0.1111111111111111,\"#46039f\"],[0.2222222222222222,\"#7201a8\"],[0.3333333333333333,\"#9c179e\"],[0.4444444444444444,\"#bd3786\"],[0.5555555555555556,\"#d8576b\"],[0.6666666666666666,\"#ed7953\"],[0.7777777777777778,\"#fb9f3a\"],[0.8888888888888888,\"#fdca26\"],[1.0,\"#f0f921\"]]}],\"heatmapgl\":[{\"type\":\"heatmapgl\",\"colorbar\":{\"outlinewidth\":0,\"ticks\":\"\"},\"colorscale\":[[0.0,\"#0d0887\"],[0.1111111111111111,\"#46039f\"],[0.2222222222222222,\"#7201a8\"],[0.3333333333333333,\"#9c179e\"],[0.4444444444444444,\"#bd3786\"],[0.5555555555555556,\"#d8576b\"],[0.6666666666666666,\"#ed7953\"],[0.7777777777777778,\"#fb9f3a\"],[0.8888888888888888,\"#fdca26\"],[1.0,\"#f0f921\"]]}],\"contourcarpet\":[{\"type\":\"contourcarpet\",\"colorbar\":{\"outlinewidth\":0,\"ticks\":\"\"}}],\"contour\":[{\"type\":\"contour\",\"colorbar\":{\"outlinewidth\":0,\"ticks\":\"\"},\"colorscale\":[[0.0,\"#0d0887\"],[0.1111111111111111,\"#46039f\"],[0.2222222222222222,\"#7201a8\"],[0.3333333333333333,\"#9c179e\"],[0.4444444444444444,\"#bd3786\"],[0.5555555555555556,\"#d8576b\"],[0.6666666666666666,\"#ed7953\"],[0.7777777777777778,\"#fb9f3a\"],[0.8888888888888888,\"#fdca26\"],[1.0,\"#f0f921\"]]}],\"surface\":[{\"type\":\"surface\",\"colorbar\":{\"outlinewidth\":0,\"ticks\":\"\"},\"colorscale\":[[0.0,\"#0d0887\"],[0.1111111111111111,\"#46039f\"],[0.2222222222222222,\"#7201a8\"],[0.3333333333333333,\"#9c179e\"],[0.4444444444444444,\"#bd3786\"],[0.5555555555555556,\"#d8576b\"],[0.6666666666666666,\"#ed7953\"],[0.7777777777777778,\"#fb9f3a\"],[0.8888888888888888,\"#fdca26\"],[1.0,\"#f0f921\"]]}],\"mesh3d\":[{\"type\":\"mesh3d\",\"colorbar\":{\"outlinewidth\":0,\"ticks\":\"\"}}],\"scatter\":[{\"fillpattern\":{\"fillmode\":\"overlay\",\"size\":10,\"solidity\":0.2},\"type\":\"scatter\"}],\"parcoords\":[{\"type\":\"parcoords\",\"line\":{\"colorbar\":{\"outlinewidth\":0,\"ticks\":\"\"}}}],\"scatterpolargl\":[{\"type\":\"scatterpolargl\",\"marker\":{\"colorbar\":{\"outlinewidth\":0,\"ticks\":\"\"}}}],\"bar\":[{\"error_x\":{\"color\":\"#2a3f5f\"},\"error_y\":{\"color\":\"#2a3f5f\"},\"marker\":{\"line\":{\"color\":\"#E5ECF6\",\"width\":0.5},\"pattern\":{\"fillmode\":\"overlay\",\"size\":10,\"solidity\":0.2}},\"type\":\"bar\"}],\"scattergeo\":[{\"type\":\"scattergeo\",\"marker\":{\"colorbar\":{\"outlinewidth\":0,\"ticks\":\"\"}}}],\"scatterpolar\":[{\"type\":\"scatterpolar\",\"marker\":{\"colorbar\":{\"outlinewidth\":0,\"ticks\":\"\"}}}],\"histogram\":[{\"marker\":{\"pattern\":{\"fillmode\":\"overlay\",\"size\":10,\"solidity\":0.2}},\"type\":\"histogram\"}],\"scattergl\":[{\"type\":\"scattergl\",\"marker\":{\"colorbar\":{\"outlinewidth\":0,\"ticks\":\"\"}}}],\"scatter3d\":[{\"type\":\"scatter3d\",\"line\":{\"colorbar\":{\"outlinewidth\":0,\"ticks\":\"\"}},\"marker\":{\"colorbar\":{\"outlinewidth\":0,\"ticks\":\"\"}}}],\"scattermapbox\":[{\"type\":\"scattermapbox\",\"marker\":{\"colorbar\":{\"outlinewidth\":0,\"ticks\":\"\"}}}],\"scatterternary\":[{\"type\":\"scatterternary\",\"marker\":{\"colorbar\":{\"outlinewidth\":0,\"ticks\":\"\"}}}],\"scattercarpet\":[{\"type\":\"scattercarpet\",\"marker\":{\"colorbar\":{\"outlinewidth\":0,\"ticks\":\"\"}}}],\"carpet\":[{\"aaxis\":{\"endlinecolor\":\"#2a3f5f\",\"gridcolor\":\"white\",\"linecolor\":\"white\",\"minorgridcolor\":\"white\",\"startlinecolor\":\"#2a3f5f\"},\"baxis\":{\"endlinecolor\":\"#2a3f5f\",\"gridcolor\":\"white\",\"linecolor\":\"white\",\"minorgridcolor\":\"white\",\"startlinecolor\":\"#2a3f5f\"},\"type\":\"carpet\"}],\"table\":[{\"cells\":{\"fill\":{\"color\":\"#EBF0F8\"},\"line\":{\"color\":\"white\"}},\"header\":{\"fill\":{\"color\":\"#C8D4E3\"},\"line\":{\"color\":\"white\"}},\"type\":\"table\"}],\"barpolar\":[{\"marker\":{\"line\":{\"color\":\"#E5ECF6\",\"width\":0.5},\"pattern\":{\"fillmode\":\"overlay\",\"size\":10,\"solidity\":0.2}},\"type\":\"barpolar\"}],\"pie\":[{\"automargin\":true,\"type\":\"pie\"}]},\"layout\":{\"autotypenumbers\":\"strict\",\"colorway\":[\"#636efa\",\"#EF553B\",\"#00cc96\",\"#ab63fa\",\"#FFA15A\",\"#19d3f3\",\"#FF6692\",\"#B6E880\",\"#FF97FF\",\"#FECB52\"],\"font\":{\"color\":\"#2a3f5f\"},\"hovermode\":\"closest\",\"hoverlabel\":{\"align\":\"left\"},\"paper_bgcolor\":\"white\",\"plot_bgcolor\":\"#E5ECF6\",\"polar\":{\"bgcolor\":\"#E5ECF6\",\"angularaxis\":{\"gridcolor\":\"white\",\"linecolor\":\"white\",\"ticks\":\"\"},\"radialaxis\":{\"gridcolor\":\"white\",\"linecolor\":\"white\",\"ticks\":\"\"}},\"ternary\":{\"bgcolor\":\"#E5ECF6\",\"aaxis\":{\"gridcolor\":\"white\",\"linecolor\":\"white\",\"ticks\":\"\"},\"baxis\":{\"gridcolor\":\"white\",\"linecolor\":\"white\",\"ticks\":\"\"},\"caxis\":{\"gridcolor\":\"white\",\"linecolor\":\"white\",\"ticks\":\"\"}},\"coloraxis\":{\"colorbar\":{\"outlinewidth\":0,\"ticks\":\"\"}},\"colorscale\":{\"sequential\":[[0.0,\"#0d0887\"],[0.1111111111111111,\"#46039f\"],[0.2222222222222222,\"#7201a8\"],[0.3333333333333333,\"#9c179e\"],[0.4444444444444444,\"#bd3786\"],[0.5555555555555556,\"#d8576b\"],[0.6666666666666666,\"#ed7953\"],[0.7777777777777778,\"#fb9f3a\"],[0.8888888888888888,\"#fdca26\"],[1.0,\"#f0f921\"]],\"sequentialminus\":[[0.0,\"#0d0887\"],[0.1111111111111111,\"#46039f\"],[0.2222222222222222,\"#7201a8\"],[0.3333333333333333,\"#9c179e\"],[0.4444444444444444,\"#bd3786\"],[0.5555555555555556,\"#d8576b\"],[0.6666666666666666,\"#ed7953\"],[0.7777777777777778,\"#fb9f3a\"],[0.8888888888888888,\"#fdca26\"],[1.0,\"#f0f921\"]],\"diverging\":[[0,\"#8e0152\"],[0.1,\"#c51b7d\"],[0.2,\"#de77ae\"],[0.3,\"#f1b6da\"],[0.4,\"#fde0ef\"],[0.5,\"#f7f7f7\"],[0.6,\"#e6f5d0\"],[0.7,\"#b8e186\"],[0.8,\"#7fbc41\"],[0.9,\"#4d9221\"],[1,\"#276419\"]]},\"xaxis\":{\"gridcolor\":\"white\",\"linecolor\":\"white\",\"ticks\":\"\",\"title\":{\"standoff\":15},\"zerolinecolor\":\"white\",\"automargin\":true,\"zerolinewidth\":2},\"yaxis\":{\"gridcolor\":\"white\",\"linecolor\":\"white\",\"ticks\":\"\",\"title\":{\"standoff\":15},\"zerolinecolor\":\"white\",\"automargin\":true,\"zerolinewidth\":2},\"scene\":{\"xaxis\":{\"backgroundcolor\":\"#E5ECF6\",\"gridcolor\":\"white\",\"linecolor\":\"white\",\"showbackground\":true,\"ticks\":\"\",\"zerolinecolor\":\"white\",\"gridwidth\":2},\"yaxis\":{\"backgroundcolor\":\"#E5ECF6\",\"gridcolor\":\"white\",\"linecolor\":\"white\",\"showbackground\":true,\"ticks\":\"\",\"zerolinecolor\":\"white\",\"gridwidth\":2},\"zaxis\":{\"backgroundcolor\":\"#E5ECF6\",\"gridcolor\":\"white\",\"linecolor\":\"white\",\"showbackground\":true,\"ticks\":\"\",\"zerolinecolor\":\"white\",\"gridwidth\":2}},\"shapedefaults\":{\"line\":{\"color\":\"#2a3f5f\"}},\"annotationdefaults\":{\"arrowcolor\":\"#2a3f5f\",\"arrowhead\":0,\"arrowwidth\":1},\"geo\":{\"bgcolor\":\"white\",\"landcolor\":\"#E5ECF6\",\"subunitcolor\":\"white\",\"showland\":true,\"showlakes\":true,\"lakecolor\":\"white\"},\"title\":{\"x\":0.05},\"mapbox\":{\"style\":\"light\"}}},\"xaxis\":{\"anchor\":\"y\",\"domain\":[0.0,1.0],\"title\":{\"text\":\"value\"}},\"yaxis\":{\"anchor\":\"x\",\"domain\":[0.0,1.0],\"title\":{\"text\":\"count\"}},\"legend\":{\"title\":{\"text\":\"variable\"},\"tracegroupgap\":0},\"margin\":{\"t\":60},\"barmode\":\"relative\"},                        {\"responsive\": true}                    ).then(function(){\n",
       "                            \n",
       "var gd = document.getElementById('10c6dc55-42de-4d33-a296-2837d12d3e6c');\n",
       "var x = new MutationObserver(function (mutations, observer) {{\n",
       "        var display = window.getComputedStyle(gd).display;\n",
       "        if (!display || display === 'none') {{\n",
       "            console.log([gd, 'removed!']);\n",
       "            Plotly.purge(gd);\n",
       "            observer.disconnect();\n",
       "        }}\n",
       "}});\n",
       "\n",
       "// Listen for the removal of the full notebook cells\n",
       "var notebookContainer = gd.closest('#notebook-container');\n",
       "if (notebookContainer) {{\n",
       "    x.observe(notebookContainer, {childList: true});\n",
       "}}\n",
       "\n",
       "// Listen for the clearing of the current output cell\n",
       "var outputEl = gd.closest('.output');\n",
       "if (outputEl) {{\n",
       "    x.observe(outputEl, {childList: true});\n",
       "}}\n",
       "\n",
       "                        })                };                });            </script>        </div>"
      ]
     },
     "metadata": {},
     "output_type": "display_data"
    }
   ],
   "source": [
    "close['TSLA'].pct_change().plot(kind='hist')"
   ]
  },
}
