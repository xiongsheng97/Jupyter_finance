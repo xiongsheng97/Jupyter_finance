{
 "cells": [
  {
   "cell_type": "code",
   "execution_count": null,
   "id": "6b753621-9950-491f-8acf-abda539b8dc4",
   "metadata": {
    "tags": []
   },
   "outputs": [],
   "source": [
    "#Importing library!"
   ]
  },
  {
   "cell_type": "code",
   "execution_count": null,
   "id": "4077db7f-9439-4eae-9fbc-ea0d1faa38a1",
   "metadata": {
    "tags": []
   },
   "outputs": [],
   "source": [
    "import datetime as dt\n",
    "import pandas as pd\n",
    "import yfinance as yf\n",
    "from pandas_datareader import data as pdr\n"
   ]
  },
  {
   "cell_type": "code",
   "execution_count": null,
   "id": "fb28a007-b572-4b13-80fc-8e5b70325262",
   "metadata": {
    "tags": []
   },
   "outputs": [],
   "source": [
    "yf.pdr_override()"
   ]
  },
  {
   "cell_type": "code",
   "execution_count": null,
   "id": "3a90b0cf-1d93-45ab-be96-83fc96b46151",
   "metadata": {
    "tags": []
   },
   "outputs": [],
   "source": [
    "#Step 1 : selecting dates "
   ]
  },
  {
   "cell_type": "code",
   "execution_count": null,
   "id": "299bbd42-eef2-43e6-83b9-a9b95c5f0178",
   "metadata": {
    "tags": []
   },
   "outputs": [],
   "source": [
    "end=dt.datetime.now()\n",
    "#dt.datetime.today() is the same\n",
    "start=end-dt.timedelta(days=400)\n",
    "#dt.datetime(YYYY,MM,DD) can be used also\n",
    "start,end\n",
    "#The display is (YYYY,MM,DD,hour,minute,second,microsecond)"
   ]
  },
  {
   "cell_type": "code",
   "execution_count": null,
   "id": "0c3721a7-01df-4a77-af66-af4694ec5c50",
   "metadata": {
    "tags": []
   },
   "outputs": [],
   "source": [
    "#Step 2: selecting stocks to analyse\n",
    "#https://sg.finance.yahoo.com/ to check tickers"
   ]
  },
  {
   "cell_type": "code",
   "execution_count": null,
   "id": "ead2dfb5-ac3d-4fa1-ad98-d3a02363f351",
   "metadata": {
    "tags": []
   },
   "outputs": [],
   "source": [
    "stocklist=['TSLA','BABA','GOOG']\n",
    "stocklist"
   ]
  },
  {
   "cell_type": "code",
   "execution_count": null,
   "id": "7d2165d4-50ce-47e7-9db1-99c7e401cb14",
   "metadata": {
    "tags": []
   },
   "outputs": [],
   "source": [
    "#step 3 : call pandas data reder module"
   ]
  },
  {
   "cell_type": "code",
   "execution_count": null,
   "id": "aba31623-834e-4d56-949e-440c5e06a5ae",
   "metadata": {
    "tags": []
   },
   "outputs": [],
   "source": [
    "df = pdr.get_data_yahoo(stocklist,start,end)\n",
    "#https://pandas.pydata.org/docs/reference/api/pandas.DataFrame.html\n",
    "#df.head() = first 5 row\n",
    "#df.tail() = last 5 row\n",
    "df.tail()"
   ]
  },
  {
   "cell_type": "code",
   "execution_count": null,
   "id": "50b4476b-dc69-480d-9805-e53a958e094c",
   "metadata": {
    "tags": []
   },
   "outputs": [],
   "source": [
    "df.columns"
   ]
  },
  {
   "cell_type": "code",
   "execution_count": null,
   "id": "8cb7520d-4ca4-48a8-b627-57b99ebd3ff0",
   "metadata": {
    "tags": []
   },
   "outputs": [],
   "source": [
    "close=df.Close\n",
    "close.head()\n"
   ]
  },
  {
   "cell_type": "code",
   "execution_count": null,
   "id": "66f54d7d-14d1-4d7e-9b58-d072dc8ea60f",
   "metadata": {
    "tags": []
   },
   "outputs": [],
   "source": [
    "close.describe()\n",
    "#close.describe(percentiles=[0.1,0.5,0.9]) #to play with the percentiles\n",
    "#close[close.index>end-dt.timedelta(days=100)].describe()"
   ]
  },
  {
   "cell_type": "code",
   "execution_count": null,
   "id": "5bc36240-5fac-421f-bdb8-991cd2b28a70",
   "metadata": {
    "tags": []
   },
   "outputs": [],
   "source": [
    "#close.plot(figsize=(12,8))\n",
    "close.plot()"
   ]
  },
  {
   "cell_type": "code",
   "execution_count": null,
   "id": "4384f996-aaf0-4ea9-a735-1cb05eb9d1e1",
   "metadata": {
    "tags": []
   },
   "outputs": [],
   "source": [
    "import plotly.offline as pyo\n",
    "pyo.init_notebook_mode(connected=True)\n",
    "\n",
    "pd.options.plotting.backend='plotly'"
   ]
  },
  {
   "cell_type": "code",
   "execution_count": null,
   "id": "4fc691fc-a539-48ab-8149-3fa6b79d6d2b",
   "metadata": {
    "tags": []
   },
   "outputs": [],
   "source": [
    "close.plot()"
   ]
  },
  {
   "cell_type": "code",
   "execution_count": null,
   "id": "589f7a01-ff73-472c-ad15-e6c5a67f4383",
   "metadata": {},
   "outputs": [],
   "source": [
    "close['TSLA'].pct_change().plot(kind='hist')"
   ]
  },
  {
   "cell_type": "code",
   "execution_count": null,
   "id": "6a5d5eaf-588e-4dfe-855d-d9ded0425c70",
   "metadata": {},
   "outputs": [],
   "source": []
  },
  {
   "cell_type": "code",
   "execution_count": null,
   "id": "be8b0879-0183-43ca-a370-16b137749549",
   "metadata": {
    "tags": []
   },
   "outputs": [],
   "source": []
  },
  {
   "cell_type": "code",
   "execution_count": null,
   "id": "4707d56e-9eb5-40f1-b94e-e7509eb9728b",
   "metadata": {},
   "outputs": [],
   "source": []
  }
 ],
 "metadata": {
  "kernelspec": {
   "display_name": "Python 3 (ipykernel)",
   "language": "python",
   "name": "python3"
  },
  "language_info": {
   "codemirror_mode": {
    "name": "ipython",
    "version": 3
   },
   "file_extension": ".py",
   "mimetype": "text/x-python",
   "name": "python",
   "nbconvert_exporter": "python",
   "pygments_lexer": "ipython3",
   "version": "3.10.10"
  }
 },
 "nbformat": 4,
 "nbformat_minor": 5
}
