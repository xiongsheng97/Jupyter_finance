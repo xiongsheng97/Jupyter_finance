{
 "cells": [
  {
   "cell_type": "code",
   "execution_count": 1,
   "id": "6b753621-9950-491f-8acf-abda539b8dc4",
   "metadata": {
    "tags": []
   },
   "outputs": [],
   "source": [
    "#Importing library!"
   ]
  },
  {
   "cell_type": "code",
   "execution_count": 2,
   "id": "4077db7f-9439-4eae-9fbc-ea0d1faa38a1",
   "metadata": {
    "tags": []
   },
   "outputs": [],
   "source": [
    "import datetime as dt\n",
    "import pandas as pd\n",
    "import yfinance as yf\n",
    "from pandas_datareader import data as pdr\n"
   ]
  },
  {
   "cell_type": "code",
   "execution_count": 3,
   "id": "fb28a007-b572-4b13-80fc-8e5b70325262",
   "metadata": {
    "tags": []
   },
   "outputs": [],
   "source": [
    "yf.pdr_override()"
   ]
  },
  {
   "cell_type": "code",
   "execution_count": 4,
   "id": "3a90b0cf-1d93-45ab-be96-83fc96b46151",
   "metadata": {
    "tags": []
   },
   "outputs": [],
   "source": [
    "#Step 1 : selecting dates "
   ]
  },
  {
   "cell_type": "code",
   "execution_count": 5,
   "id": "299bbd42-eef2-43e6-83b9-a9b95c5f0178",
   "metadata": {
    "tags": []
   },
   "outputs": [
    {
     "data": {
      "text/plain": [
       "(datetime.datetime(2022, 3, 9, 21, 0, 9, 227448),\n",
       " datetime.datetime(2023, 4, 13, 21, 0, 9, 227448))"
      ]
     },
     "execution_count": 5,
     "metadata": {},
     "output_type": "execute_result"
    }
   ],
   "source": [
    "end=dt.datetime.now()\n",
    "#dt.datetime.today() is the same\n",
    "start=end-dt.timedelta(days=400)\n",
    "#dt.datetime(YYYY,MM,DD) can be used also\n",
    "start,end\n",
    "#The display is (YYYY,MM,DD,hour,minute,second,microsecond)"
   ]
  },
  {
   "cell_type": "code",
   "execution_count": 6,
   "id": "0c3721a7-01df-4a77-af66-af4694ec5c50",
   "metadata": {
    "tags": []
   },
   "outputs": [],
   "source": [
    "#Step 2: selecting stocks to analyse\n",
    "#https://sg.finance.yahoo.com/ to check tickers"
   ]
  },
  {
   "cell_type": "code",
   "execution_count": 7,
   "id": "ead2dfb5-ac3d-4fa1-ad98-d3a02363f351",
   "metadata": {
    "tags": []
   },
   "outputs": [
    {
     "data": {
      "text/plain": [
       "['TSLA', 'BABA', 'GOOG']"
      ]
     },
     "execution_count": 7,
     "metadata": {},
     "output_type": "execute_result"
    }
   ],
   "source": [
    "stocklist=['TSLA','BABA','GOOG']\n",
    "stocklist"
   ]
  },
  {
   "cell_type": "code",
   "execution_count": 8,
   "id": "7d2165d4-50ce-47e7-9db1-99c7e401cb14",
   "metadata": {
    "tags": []
   },
   "outputs": [],
   "source": [
    "#step 3 : call pandas data reder module"
   ]
  },
  {
   "cell_type": "code",
   "execution_count": 9,
   "id": "aba31623-834e-4d56-949e-440c5e06a5ae",
   "metadata": {
    "tags": []
   },
   "outputs": [
    {
     "name": "stdout",
     "output_type": "stream",
     "text": [
      "[*********************100%***********************]  3 of 3 completed\n"
     ]
    },
    {
     "data": {
      "text/html": [
       "<div>\n",
       "<style scoped>\n",
       "    .dataframe tbody tr th:only-of-type {\n",
       "        vertical-align: middle;\n",
       "    }\n",
       "\n",
       "    .dataframe tbody tr th {\n",
       "        vertical-align: top;\n",
       "    }\n",
       "\n",
       "    .dataframe thead tr th {\n",
       "        text-align: left;\n",
       "    }\n",
       "\n",
       "    .dataframe thead tr:last-of-type th {\n",
       "        text-align: right;\n",
       "    }\n",
       "</style>\n",
       "<table border=\"1\" class=\"dataframe\">\n",
       "  <thead>\n",
       "    <tr>\n",
       "      <th></th>\n",
       "      <th colspan=\"3\" halign=\"left\">Adj Close</th>\n",
       "      <th colspan=\"3\" halign=\"left\">Close</th>\n",
       "      <th colspan=\"3\" halign=\"left\">High</th>\n",
       "      <th colspan=\"3\" halign=\"left\">Low</th>\n",
       "      <th colspan=\"3\" halign=\"left\">Open</th>\n",
       "      <th colspan=\"3\" halign=\"left\">Volume</th>\n",
       "    </tr>\n",
       "    <tr>\n",
       "      <th></th>\n",
       "      <th>BABA</th>\n",
       "      <th>GOOG</th>\n",
       "      <th>TSLA</th>\n",
       "      <th>BABA</th>\n",
       "      <th>GOOG</th>\n",
       "      <th>TSLA</th>\n",
       "      <th>BABA</th>\n",
       "      <th>GOOG</th>\n",
       "      <th>TSLA</th>\n",
       "      <th>BABA</th>\n",
       "      <th>GOOG</th>\n",
       "      <th>TSLA</th>\n",
       "      <th>BABA</th>\n",
       "      <th>GOOG</th>\n",
       "      <th>TSLA</th>\n",
       "      <th>BABA</th>\n",
       "      <th>GOOG</th>\n",
       "      <th>TSLA</th>\n",
       "    </tr>\n",
       "    <tr>\n",
       "      <th>Date</th>\n",
       "      <th></th>\n",
       "      <th></th>\n",
       "      <th></th>\n",
       "      <th></th>\n",
       "      <th></th>\n",
       "      <th></th>\n",
       "      <th></th>\n",
       "      <th></th>\n",
       "      <th></th>\n",
       "      <th></th>\n",
       "      <th></th>\n",
       "      <th></th>\n",
       "      <th></th>\n",
       "      <th></th>\n",
       "      <th></th>\n",
       "      <th></th>\n",
       "      <th></th>\n",
       "      <th></th>\n",
       "    </tr>\n",
       "  </thead>\n",
       "  <tbody>\n",
       "    <tr>\n",
       "      <th>2023-04-05</th>\n",
       "      <td>98.550003</td>\n",
       "      <td>104.949997</td>\n",
       "      <td>185.520004</td>\n",
       "      <td>98.550003</td>\n",
       "      <td>104.949997</td>\n",
       "      <td>185.520004</td>\n",
       "      <td>100.449997</td>\n",
       "      <td>106.540001</td>\n",
       "      <td>190.679993</td>\n",
       "      <td>97.660004</td>\n",
       "      <td>104.101997</td>\n",
       "      <td>183.759995</td>\n",
       "      <td>99.239998</td>\n",
       "      <td>106.120003</td>\n",
       "      <td>190.520004</td>\n",
       "      <td>20117700</td>\n",
       "      <td>21864200</td>\n",
       "      <td>133882500</td>\n",
       "    </tr>\n",
       "    <tr>\n",
       "      <th>2023-04-06</th>\n",
       "      <td>102.739998</td>\n",
       "      <td>108.900002</td>\n",
       "      <td>185.059998</td>\n",
       "      <td>102.739998</td>\n",
       "      <td>108.900002</td>\n",
       "      <td>185.059998</td>\n",
       "      <td>103.239998</td>\n",
       "      <td>109.629997</td>\n",
       "      <td>186.389999</td>\n",
       "      <td>98.269997</td>\n",
       "      <td>104.815002</td>\n",
       "      <td>179.740005</td>\n",
       "      <td>98.529999</td>\n",
       "      <td>105.769997</td>\n",
       "      <td>183.080002</td>\n",
       "      <td>26849200</td>\n",
       "      <td>34684200</td>\n",
       "      <td>123857900</td>\n",
       "    </tr>\n",
       "    <tr>\n",
       "      <th>2023-04-10</th>\n",
       "      <td>101.540001</td>\n",
       "      <td>106.949997</td>\n",
       "      <td>184.509995</td>\n",
       "      <td>101.540001</td>\n",
       "      <td>106.949997</td>\n",
       "      <td>184.509995</td>\n",
       "      <td>102.830002</td>\n",
       "      <td>107.970001</td>\n",
       "      <td>185.100006</td>\n",
       "      <td>100.589996</td>\n",
       "      <td>105.599998</td>\n",
       "      <td>176.110001</td>\n",
       "      <td>100.620003</td>\n",
       "      <td>107.389999</td>\n",
       "      <td>179.940002</td>\n",
       "      <td>16308300</td>\n",
       "      <td>19741500</td>\n",
       "      <td>142154600</td>\n",
       "    </tr>\n",
       "    <tr>\n",
       "      <th>2023-04-11</th>\n",
       "      <td>99.760002</td>\n",
       "      <td>106.120003</td>\n",
       "      <td>186.789993</td>\n",
       "      <td>99.760002</td>\n",
       "      <td>106.120003</td>\n",
       "      <td>186.789993</td>\n",
       "      <td>102.540001</td>\n",
       "      <td>107.220001</td>\n",
       "      <td>189.190002</td>\n",
       "      <td>99.199997</td>\n",
       "      <td>105.279999</td>\n",
       "      <td>185.649994</td>\n",
       "      <td>102.459999</td>\n",
       "      <td>106.919998</td>\n",
       "      <td>186.690002</td>\n",
       "      <td>19017700</td>\n",
       "      <td>18721300</td>\n",
       "      <td>115770900</td>\n",
       "    </tr>\n",
       "    <tr>\n",
       "      <th>2023-04-12</th>\n",
       "      <td>93.839996</td>\n",
       "      <td>105.220001</td>\n",
       "      <td>180.539993</td>\n",
       "      <td>93.839996</td>\n",
       "      <td>105.220001</td>\n",
       "      <td>180.539993</td>\n",
       "      <td>98.889999</td>\n",
       "      <td>107.586998</td>\n",
       "      <td>191.580002</td>\n",
       "      <td>93.580002</td>\n",
       "      <td>104.970001</td>\n",
       "      <td>180.309998</td>\n",
       "      <td>97.820000</td>\n",
       "      <td>107.389999</td>\n",
       "      <td>190.740005</td>\n",
       "      <td>35100100</td>\n",
       "      <td>22742600</td>\n",
       "      <td>149783500</td>\n",
       "    </tr>\n",
       "  </tbody>\n",
       "</table>\n",
       "</div>"
      ],
      "text/plain": [
       "             Adj Close                               Close               \n",
       "                  BABA        GOOG        TSLA        BABA        GOOG   \n",
       "Date                                                                     \n",
       "2023-04-05   98.550003  104.949997  185.520004   98.550003  104.949997  \\\n",
       "2023-04-06  102.739998  108.900002  185.059998  102.739998  108.900002   \n",
       "2023-04-10  101.540001  106.949997  184.509995  101.540001  106.949997   \n",
       "2023-04-11   99.760002  106.120003  186.789993   99.760002  106.120003   \n",
       "2023-04-12   93.839996  105.220001  180.539993   93.839996  105.220001   \n",
       "\n",
       "                              High                                 Low   \n",
       "                  TSLA        BABA        GOOG        TSLA        BABA   \n",
       "Date                                                                     \n",
       "2023-04-05  185.520004  100.449997  106.540001  190.679993   97.660004  \\\n",
       "2023-04-06  185.059998  103.239998  109.629997  186.389999   98.269997   \n",
       "2023-04-10  184.509995  102.830002  107.970001  185.100006  100.589996   \n",
       "2023-04-11  186.789993  102.540001  107.220001  189.190002   99.199997   \n",
       "2023-04-12  180.539993   98.889999  107.586998  191.580002   93.580002   \n",
       "\n",
       "                                          Open                           \n",
       "                  GOOG        TSLA        BABA        GOOG        TSLA   \n",
       "Date                                                                     \n",
       "2023-04-05  104.101997  183.759995   99.239998  106.120003  190.520004  \\\n",
       "2023-04-06  104.815002  179.740005   98.529999  105.769997  183.080002   \n",
       "2023-04-10  105.599998  176.110001  100.620003  107.389999  179.940002   \n",
       "2023-04-11  105.279999  185.649994  102.459999  106.919998  186.690002   \n",
       "2023-04-12  104.970001  180.309998   97.820000  107.389999  190.740005   \n",
       "\n",
       "              Volume                       \n",
       "                BABA      GOOG       TSLA  \n",
       "Date                                       \n",
       "2023-04-05  20117700  21864200  133882500  \n",
       "2023-04-06  26849200  34684200  123857900  \n",
       "2023-04-10  16308300  19741500  142154600  \n",
       "2023-04-11  19017700  18721300  115770900  \n",
       "2023-04-12  35100100  22742600  149783500  "
      ]
     },
     "execution_count": 9,
     "metadata": {},
     "output_type": "execute_result"
    }
   ],
   "source": [
    "df = pdr.get_data_yahoo(stocklist,start,end)\n",
    "#https://pandas.pydata.org/docs/reference/api/pandas.DataFrame.html\n",
    "#df.head() = first 5 row\n",
    "#df.tail() = last 5 row\n",
    "df.tail()"
   ]
  },
  {
   "cell_type": "code",
   "execution_count": 10,
   "id": "50b4476b-dc69-480d-9805-e53a958e094c",
   "metadata": {
    "tags": []
   },
   "outputs": [
    {
     "data": {
      "text/plain": [
       "MultiIndex([('Adj Close', 'BABA'),\n",
       "            ('Adj Close', 'GOOG'),\n",
       "            ('Adj Close', 'TSLA'),\n",
       "            (    'Close', 'BABA'),\n",
       "            (    'Close', 'GOOG'),\n",
       "            (    'Close', 'TSLA'),\n",
       "            (     'High', 'BABA'),\n",
       "            (     'High', 'GOOG'),\n",
       "            (     'High', 'TSLA'),\n",
       "            (      'Low', 'BABA'),\n",
       "            (      'Low', 'GOOG'),\n",
       "            (      'Low', 'TSLA'),\n",
       "            (     'Open', 'BABA'),\n",
       "            (     'Open', 'GOOG'),\n",
       "            (     'Open', 'TSLA'),\n",
       "            (   'Volume', 'BABA'),\n",
       "            (   'Volume', 'GOOG'),\n",
       "            (   'Volume', 'TSLA')],\n",
       "           )"
      ]
     },
     "execution_count": 10,
     "metadata": {},
     "output_type": "execute_result"
    }
   ],
   "source": [
    "df.columns"
   ]
  },
  {
   "cell_type": "code",
   "execution_count": 11,
   "id": "8cb7520d-4ca4-48a8-b627-57b99ebd3ff0",
   "metadata": {
    "tags": []
   },
   "outputs": [
    {
     "data": {
      "text/html": [
       "<div>\n",
       "<style scoped>\n",
       "    .dataframe tbody tr th:only-of-type {\n",
       "        vertical-align: middle;\n",
       "    }\n",
       "\n",
       "    .dataframe tbody tr th {\n",
       "        vertical-align: top;\n",
       "    }\n",
       "\n",
       "    .dataframe thead th {\n",
       "        text-align: right;\n",
       "    }\n",
       "</style>\n",
       "<table border=\"1\" class=\"dataframe\">\n",
       "  <thead>\n",
       "    <tr style=\"text-align: right;\">\n",
       "      <th></th>\n",
       "      <th>BABA</th>\n",
       "      <th>GOOG</th>\n",
       "      <th>TSLA</th>\n",
       "    </tr>\n",
       "    <tr>\n",
       "      <th>Date</th>\n",
       "      <th></th>\n",
       "      <th></th>\n",
       "      <th></th>\n",
       "    </tr>\n",
       "  </thead>\n",
       "  <tbody>\n",
       "    <tr>\n",
       "      <th>2022-03-10</th>\n",
       "      <td>92.919998</td>\n",
       "      <td>132.682007</td>\n",
       "      <td>279.433319</td>\n",
       "    </tr>\n",
       "    <tr>\n",
       "      <th>2022-03-11</th>\n",
       "      <td>86.709999</td>\n",
       "      <td>130.475494</td>\n",
       "      <td>265.116669</td>\n",
       "    </tr>\n",
       "    <tr>\n",
       "      <th>2022-03-14</th>\n",
       "      <td>77.760002</td>\n",
       "      <td>126.740997</td>\n",
       "      <td>255.456665</td>\n",
       "    </tr>\n",
       "    <tr>\n",
       "      <th>2022-03-15</th>\n",
       "      <td>76.760002</td>\n",
       "      <td>129.660507</td>\n",
       "      <td>267.296661</td>\n",
       "    </tr>\n",
       "    <tr>\n",
       "      <th>2022-03-16</th>\n",
       "      <td>104.980003</td>\n",
       "      <td>133.690506</td>\n",
       "      <td>280.076660</td>\n",
       "    </tr>\n",
       "  </tbody>\n",
       "</table>\n",
       "</div>"
      ],
      "text/plain": [
       "                  BABA        GOOG        TSLA\n",
       "Date                                          \n",
       "2022-03-10   92.919998  132.682007  279.433319\n",
       "2022-03-11   86.709999  130.475494  265.116669\n",
       "2022-03-14   77.760002  126.740997  255.456665\n",
       "2022-03-15   76.760002  129.660507  267.296661\n",
       "2022-03-16  104.980003  133.690506  280.076660"
      ]
     },
     "execution_count": 11,
     "metadata": {},
     "output_type": "execute_result"
    }
   ],
   "source": [
    "close=df.Close\n",
    "close.head()\n"
   ]
  },
  {
   "cell_type": "code",
   "execution_count": 12,
   "id": "66f54d7d-14d1-4d7e-9b58-d072dc8ea60f",
   "metadata": {
    "tags": []
   },
   "outputs": [
    {
     "data": {
      "text/html": [
       "<div>\n",
       "<style scoped>\n",
       "    .dataframe tbody tr th:only-of-type {\n",
       "        vertical-align: middle;\n",
       "    }\n",
       "\n",
       "    .dataframe tbody tr th {\n",
       "        vertical-align: top;\n",
       "    }\n",
       "\n",
       "    .dataframe thead th {\n",
       "        text-align: right;\n",
       "    }\n",
       "</style>\n",
       "<table border=\"1\" class=\"dataframe\">\n",
       "  <thead>\n",
       "    <tr style=\"text-align: right;\">\n",
       "      <th></th>\n",
       "      <th>BABA</th>\n",
       "      <th>GOOG</th>\n",
       "      <th>TSLA</th>\n",
       "    </tr>\n",
       "  </thead>\n",
       "  <tbody>\n",
       "    <tr>\n",
       "      <th>count</th>\n",
       "      <td>274.000000</td>\n",
       "      <td>274.000000</td>\n",
       "      <td>274.000000</td>\n",
       "    </tr>\n",
       "    <tr>\n",
       "      <th>mean</th>\n",
       "      <td>93.867445</td>\n",
       "      <td>107.312197</td>\n",
       "      <td>233.179368</td>\n",
       "    </tr>\n",
       "    <tr>\n",
       "      <th>std</th>\n",
       "      <td>13.752036</td>\n",
       "      <td>13.646940</td>\n",
       "      <td>61.326024</td>\n",
       "    </tr>\n",
       "    <tr>\n",
       "      <th>min</th>\n",
       "      <td>63.150002</td>\n",
       "      <td>83.489998</td>\n",
       "      <td>108.099998</td>\n",
       "    </tr>\n",
       "    <tr>\n",
       "      <th>25%</th>\n",
       "      <td>85.687502</td>\n",
       "      <td>96.617502</td>\n",
       "      <td>190.487503</td>\n",
       "    </tr>\n",
       "    <tr>\n",
       "      <th>50%</th>\n",
       "      <td>92.285000</td>\n",
       "      <td>105.375000</td>\n",
       "      <td>228.155006</td>\n",
       "    </tr>\n",
       "    <tr>\n",
       "      <th>75%</th>\n",
       "      <td>103.732502</td>\n",
       "      <td>115.062500</td>\n",
       "      <td>284.540009</td>\n",
       "    </tr>\n",
       "    <tr>\n",
       "      <th>max</th>\n",
       "      <td>122.389999</td>\n",
       "      <td>143.642502</td>\n",
       "      <td>381.816681</td>\n",
       "    </tr>\n",
       "  </tbody>\n",
       "</table>\n",
       "</div>"
      ],
      "text/plain": [
       "             BABA        GOOG        TSLA\n",
       "count  274.000000  274.000000  274.000000\n",
       "mean    93.867445  107.312197  233.179368\n",
       "std     13.752036   13.646940   61.326024\n",
       "min     63.150002   83.489998  108.099998\n",
       "25%     85.687502   96.617502  190.487503\n",
       "50%     92.285000  105.375000  228.155006\n",
       "75%    103.732502  115.062500  284.540009\n",
       "max    122.389999  143.642502  381.816681"
      ]
     },
     "execution_count": 12,
     "metadata": {},
     "output_type": "execute_result"
    }
   ],
   "source": [
    "close.describe()\n",
    "#close.describe(percentiles=[0.1,0.5,0.9]) #to play with the percentiles\n",
    "#close[close.index>end-dt.timedelta(days=100)].describe()"
   ]
  },
  {
   "cell_type": "code",
   "execution_count": 13,
   "id": "5bc36240-5fac-421f-bdb8-991cd2b28a70",
   "metadata": {
    "tags": []
   },
   "outputs": [
    {
     "data": {
      "text/plain": [
       "<Axes: xlabel='Date'>"
      ]
     },
     "execution_count": 13,
     "metadata": {},
     "output_type": "execute_result"
    },
    {
     "data": {
      "image/png": "[encoded data removed]",
      "text/plain": [
       "<Figure size 640x480 with 1 Axes>"
      ]
     },
     "metadata": {},
     "output_type": "display_data"
    }
   ],
   "source": [
    "#close.plot(figsize=(12,8))\n",
    "close.plot()"
   ]
  },
  {
   "cell_type": "code",
   "execution_count": 14,
   "id": "4384f996-aaf0-4ea9-a735-1cb05eb9d1e1",
   "metadata": {
    "tags": []
   },
   "outputs": [
    {
     "data": {
      "text/html": [
       "        <script type=\"text/javascript\">\n",
       "        window.PlotlyConfig = {MathJaxConfig: 'local'};\n",
       "        if (window.MathJax && window.MathJax.Hub && window.MathJax.Hub.Config) {window.MathJax.Hub.Config({SVG: {font: \"STIX-Web\"}});}\n",
       "        if (typeof require !== 'undefined') {\n",
       "        require.undef(\"plotly\");\n",
       "        requirejs.config({\n",
       "            paths: {\n",
       "                'plotly': ['https://cdn.plot.ly/plotly-2.20.0.min']\n",
       "            }\n",
       "        });\n",
       "        require(['plotly'], function(Plotly) {\n",
       "            window._Plotly = Plotly;\n",
       "        });\n",
       "        }\n",
       "        </script>\n",
       "        "
      ]
     },
     "metadata": {},
     "output_type": "display_data"
    }
   ],
   "source": [
    "import plotly.offline as pyo\n",
    "pyo.init_notebook_mode(connected=True)\n",
    "\n",
    "pd.options.plotting.backend='plotly'"
   ]
  },
  {
   "cell_type": "code",
   "execution_count": 15,
   "id": "4fc691fc-a539-48ab-8149-3fa6b79d6d2b",
   "metadata": {
    "tags": []
   },
   "outputs": [
    {
     "data": {
      "application/vnd.plotly.v1+json": {
       "config": {
        "plotlyServerURL": "https://plot.ly"
       },
       "data": [
        {
         "hovertemplate": "variable=BABA<br>Date=%{x}<br>value=%{y}<extra></extra>",
         "legendgroup": "BABA",
         "line": {
          "color": "#636efa",
          "dash": "solid"
         },
         "marker": {
          "symbol": "circle"
         },
         "mode": "lines",
         "name": "BABA",
         "orientation": "v",
         "showlegend": true,
         "type": "scatter",
         "x": [
          "2022-03-10T00:00:00",
          "2022-03-11T00:00:00",
          "2022-03-14T00:00:00",
          "2022-03-15T00:00:00",
          "2022-03-16T00:00:00",
          "2022-03-17T00:00:00",
          "2022-03-18T00:00:00",
          "2022-03-21T00:00:00",
          "2022-03-22T00:00:00",
          "2022-03-23T00:00:00",
          "2022-03-24T00:00:00",
          "2022-03-25T00:00:00",
          "2022-03-28T00:00:00",
          "2022-03-29T00:00:00",
          "2022-03-30T00:00:00",
          "2022-03-31T00:00:00",
          "2022-04-01T00:00:00",
          "2022-04-04T00:00:00",
          "2022-04-05T00:00:00",
          "2022-04-06T00:00:00",
          "2022-04-07T00:00:00",
          "2022-04-08T00:00:00",
          "2022-04-11T00:00:00",
          "2022-04-12T00:00:00",
          "2022-04-13T00:00:00",
          "2022-04-14T00:00:00",
          "2022-04-18T00:00:00",
          "2022-04-19T00:00:00",
          "2022-04-20T00:00:00",
          "2022-04-21T00:00:00",
          "2022-04-22T00:00:00",
          "2022-04-25T00:00:00",
          "2022-04-26T00:00:00",
          "2022-04-27T00:00:00",
          "2022-04-28T00:00:00",
          "2022-04-29T00:00:00",
          "2022-05-02T00:00:00",
          "2022-05-03T00:00:00",
          "2022-05-04T00:00:00",
          "2022-05-05T00:00:00",
          "2022-05-06T00:00:00",
          "2022-05-09T00:00:00",
          "2022-05-10T00:00:00",
          "2022-05-11T00:00:00",
          "2022-05-12T00:00:00",
          "2022-05-13T00:00:00",
          "2022-05-16T00:00:00",
          "2022-05-17T00:00:00",
          "2022-05-18T00:00:00",
          "2022-05-19T00:00:00",
          "2022-05-20T00:00:00",
          "2022-05-23T00:00:00",
          "2022-05-24T00:00:00",
          "2022-05-25T00:00:00",
          "2022-05-26T00:00:00",
          "2022-05-27T00:00:00",
          "2022-05-31T00:00:00",
          "2022-06-01T00:00:00",
          "2022-06-02T00:00:00",
          "2022-06-03T00:00:00",
          "2022-06-06T00:00:00",
          "2022-06-07T00:00:00",
          "2022-06-08T00:00:00",
          "2022-06-09T00:00:00",
          "2022-06-10T00:00:00",
          "2022-06-13T00:00:00",
          "2022-06-14T00:00:00",
          "2022-06-15T00:00:00",
          "2022-06-16T00:00:00",
          "2022-06-17T00:00:00",
          "2022-06-21T00:00:00",
          "2022-06-22T00:00:00",
          "2022-06-23T00:00:00",
          "2022-06-24T00:00:00",
          "2022-06-27T00:00:00",
          "2022-06-28T00:00:00",
          "2022-06-29T00:00:00",
          "2022-06-30T00:00:00",
          "2022-07-01T00:00:00",
          "2022-07-05T00:00:00",
          "2022-07-06T00:00:00",
          "2022-07-07T00:00:00",
          "2022-07-08T00:00:00",
          "2022-07-11T00:00:00",
          "2022-07-12T00:00:00",
          "2022-07-13T00:00:00",
          "2022-07-14T00:00:00",
          "2022-07-15T00:00:00",
          "2022-07-18T00:00:00",
          "2022-07-19T00:00:00",
          "2022-07-20T00:00:00",
          "2022-07-21T00:00:00",
          "2022-07-22T00:00:00",
          "2022-07-25T00:00:00",
          "2022-07-26T00:00:00",
          "2022-07-27T00:00:00",
          "2022-07-28T00:00:00",
          "2022-07-29T00:00:00",
          "2022-08-01T00:00:00",
          "2022-08-02T00:00:00",
          "2022-08-03T00:00:00",
          "2022-08-04T00:00:00",
          "2022-08-05T00:00:00",
          "2022-08-08T00:00:00",
          "2022-08-09T00:00:00",
          "2022-08-10T00:00:00",
          "2022-08-11T00:00:00",
          "2022-08-12T00:00:00",
          "2022-08-15T00:00:00",
          "2022-08-16T00:00:00",
          "2022-08-17T00:00:00",
          "2022-08-18T00:00:00",
          "2022-08-19T00:00:00",
          "2022-08-22T00:00:00",
          "2022-08-23T00:00:00",
          "2022-08-24T00:00:00",
          "2022-08-25T00:00:00",
          "2022-08-26T00:00:00",
          "2022-08-29T00:00:00",
          "2022-08-30T00:00:00",
          "2022-08-31T00:00:00",
          "2022-09-01T00:00:00",
          "2022-09-02T00:00:00",
          "2022-09-06T00:00:00",
          "2022-09-07T00:00:00",
          "2022-09-08T00:00:00",
          "2022-09-09T00:00:00",
          "2022-09-12T00:00:00",
          "2022-09-13T00:00:00",
          "2022-09-14T00:00:00",
          "2022-09-15T00:00:00",
          "2022-09-16T00:00:00",
          "2022-09-19T00:00:00",
          "2022-09-20T00:00:00",
          "2022-09-21T00:00:00",
          "2022-09-22T00:00:00",
          "2022-09-23T00:00:00",
          "2022-09-26T00:00:00",
          "2022-09-27T00:00:00",
          "2022-09-28T00:00:00",
          "2022-09-29T00:00:00",
          "2022-09-30T00:00:00",
          "2022-10-03T00:00:00",
          "2022-10-04T00:00:00",
          "2022-10-05T00:00:00",
          "2022-10-06T00:00:00",
          "2022-10-07T00:00:00",
          "2022-10-10T00:00:00",
          "2022-10-11T00:00:00",
          "2022-10-12T00:00:00",
          "2022-10-13T00:00:00",
          "2022-10-14T00:00:00",
          "2022-10-17T00:00:00",
          "2022-10-18T00:00:00",
          "2022-10-19T00:00:00",
          "2022-10-20T00:00:00",
          "2022-10-21T00:00:00",
          "2022-10-24T00:00:00",
          "2022-10-25T00:00:00",
          "2022-10-26T00:00:00",
          "2022-10-27T00:00:00",
          "2022-10-28T00:00:00",
          "2022-10-31T00:00:00",
          "2022-11-01T00:00:00",
          "2022-11-02T00:00:00",
          "2022-11-03T00:00:00",
          "2022-11-04T00:00:00",
          "2022-11-07T00:00:00",
          "2022-11-08T00:00:00",
          "2022-11-09T00:00:00",
          "2022-11-10T00:00:00",
          "2022-11-11T00:00:00",
          "2022-11-14T00:00:00",
          "2022-11-15T00:00:00",
          "2022-11-16T00:00:00",
          "2022-11-17T00:00:00",
          "2022-11-18T00:00:00",
          "2022-11-21T00:00:00",
          "2022-11-22T00:00:00",
          "2022-11-23T00:00:00",
          "2022-11-25T00:00:00",
          "2022-11-28T00:00:00",
          "2022-11-29T00:00:00",
          "2022-11-30T00:00:00",
          "2022-12-01T00:00:00",
          "2022-12-02T00:00:00",
          "2022-12-05T00:00:00",
          "2022-12-06T00:00:00",
          "2022-12-07T00:00:00",
          "2022-12-08T00:00:00",
          "2022-12-09T00:00:00",
          "2022-12-12T00:00:00",
          "2022-12-13T00:00:00",
          "2022-12-14T00:00:00",
          "2022-12-15T00:00:00",
          "2022-12-16T00:00:00",
          "2022-12-19T00:00:00",
          "2022-12-20T00:00:00",
          "2022-12-21T00:00:00",
          "2022-12-22T00:00:00",
          "2022-12-23T00:00:00",
          "2022-12-27T00:00:00",
          "2022-12-28T00:00:00",
          "2022-12-29T00:00:00",
          "2022-12-30T00:00:00",
          "2023-01-03T00:00:00",
          "2023-01-04T00:00:00",
          "2023-01-05T00:00:00",
          "2023-01-06T00:00:00",
          "2023-01-09T00:00:00",
          "2023-01-10T00:00:00",
          "2023-01-11T00:00:00",
          "2023-01-12T00:00:00",
          "2023-01-13T00:00:00",
          "2023-01-17T00:00:00",
          "2023-01-18T00:00:00",
          "2023-01-19T00:00:00",
          "2023-01-20T00:00:00",
          "2023-01-23T00:00:00",
          "2023-01-24T00:00:00",
          "2023-01-25T00:00:00",
          "2023-01-26T00:00:00",
          "2023-01-27T00:00:00",
          "2023-01-30T00:00:00",
          "2023-01-31T00:00:00",
          "2023-02-01T00:00:00",
          "2023-02-02T00:00:00",
          "2023-02-03T00:00:00",
          "2023-02-06T00:00:00",
          "2023-02-07T00:00:00",
          "2023-02-08T00:00:00",
          "2023-02-09T00:00:00",
          "2023-02-10T00:00:00",
          "2023-02-13T00:00:00",
          "2023-02-14T00:00:00",
          "2023-02-15T00:00:00",
          "2023-02-16T00:00:00",
          "2023-02-17T00:00:00",
          "2023-02-21T00:00:00",
          "2023-02-22T00:00:00",
          "2023-02-23T00:00:00",
          "2023-02-24T00:00:00",
          "2023-02-27T00:00:00",
          "2023-02-28T00:00:00",
          "2023-03-01T00:00:00",
          "2023-03-02T00:00:00",
          "2023-03-03T00:00:00",
          "2023-03-06T00:00:00",
          "2023-03-07T00:00:00",
          "2023-03-08T00:00:00",
          "2023-03-09T00:00:00",
          "2023-03-10T00:00:00",
          "2023-03-13T00:00:00",
          "2023-03-14T00:00:00",
          "2023-03-15T00:00:00",
          "2023-03-16T00:00:00",
          "2023-03-17T00:00:00",
          "2023-03-20T00:00:00",
          "2023-03-21T00:00:00",
          "2023-03-22T00:00:00",
          "2023-03-23T00:00:00",
          "2023-03-24T00:00:00",
          "2023-03-27T00:00:00",
          "2023-03-28T00:00:00",
          "2023-03-29T00:00:00",
          "2023-03-30T00:00:00",
          "2023-03-31T00:00:00",
          "2023-04-03T00:00:00",
          "2023-04-04T00:00:00",
          "2023-04-05T00:00:00",
          "2023-04-06T00:00:00",
          "2023-04-10T00:00:00",
          "2023-04-11T00:00:00",
          "2023-04-12T00:00:00"
         ],
         "xaxis": "x",
         "y": [
          92.91999816894531,
          86.70999908447266,
          77.76000213623047,
          76.76000213623047,
          104.9800033569336,
          100.37000274658203,
          108.30000305175781,
          103.58999633789062,
          114.98999786376953,
          117.23999786376953,
          115.1500015258789,
          112.98999786376953,
          115.08999633789062,
          116.70999908447266,
          116.58000183105469,
          108.80000305175781,
          110.19999694824219,
          117.5,
          111,
          107.68000030517578,
          104.2699966430664,
          103.52999877929688,
          101.55000305175781,
          99.75,
          100.02999877929688,
          95.48999786376953,
          94.70999908447266,
          93.5,
          89.41000366210938,
          85.98999786376953,
          86.48999786376953,
          85.83999633789062,
          83.98999786376953,
          88.31999969482422,
          90.91000366210938,
          97.08999633789062,
          101.20999908447266,
          100.37999725341797,
          101.41000366210938,
          94.63999938964844,
          90.05000305175781,
          84.83999633789062,
          84.56999969482422,
          81.7300033569336,
          81.08999633789062,
          87.98999786376953,
          86.4800033569336,
          91.98999786376953,
          87.30999755859375,
          87.69000244140625,
          86.79000091552734,
          87.2300033569336,
          82.47000122070312,
          82.30999755859375,
          94.4800033569336,
          93.41000366210938,
          96.05000305175781,
          93.37999725341797,
          97.5,
          93.20999908447266,
          99.01000213623047,
          104.31999969482422,
          119.62000274658203,
          109.9000015258789,
          109.83999633789062,
          98.5199966430664,
          105.2300033569336,
          108.02999877929688,
          101.44999694824219,
          102.23999786376953,
          106.38999938964844,
          105.1500015258789,
          112.11000061035156,
          117.62000274658203,
          118.7300033569336,
          116.76000213623047,
          116.02999877929688,
          113.68000030517578,
          116,
          120.12999725341797,
          119.12000274658203,
          122.38999938964844,
          120.9000015258789,
          109.56999969482422,
          109.20999908447266,
          109.0999984741211,
          103.76000213623047,
          102.44000244140625,
          103.13999938964844,
          104.75,
          103.95999908447266,
          105.12999725341797,
          100.61000061035156,
          101.05999755859375,
          101.44000244140625,
          102.77999877929688,
          100.55000305175781,
          89.37000274658203,
          90.33999633789062,
          92.62000274658203,
          95.72000122070312,
          97.43000030517578,
          92.55999755859375,
          90.83999633789062,
          91.19000244140625,
          92.43000030517578,
          94.87000274658203,
          94.7699966430664,
          94.19999694824219,
          92.6500015258789,
          89.7699966430664,
          90.73999786376953,
          89.62999725341797,
          90.02999877929688,
          89.83000183105469,
          92.5199966430664,
          99.88999938964844,
          98,
          96.5999984741211,
          93.83999633789062,
          95.41000366210938,
          93.70999908447266,
          91.80000305175781,
          88.44999694824219,
          90.5999984741211,
          89.5199966430664,
          92.13999938964844,
          94.69000244140625,
          89.47000122070312,
          88.91999816894531,
          88.83000183105469,
          86.43000030517578,
          87.66000366210938,
          85.80000305175781,
          81.5999984741211,
          80.70999908447266,
          78.80000305175781,
          78.91000366210938,
          77.87000274658203,
          80.98999786376953,
          79.05999755859375,
          79.98999786376953,
          80.44999694824219,
          84.11000061035156,
          84.38999938964844,
          84.31999969482422,
          81.23999786376953,
          79.23999786376953,
          75.37000274658203,
          75.7300033569336,
          75.01000213623047,
          73.0199966430664,
          76.7699966430664,
          76.33999633789062,
          71.2699966430664,
          72.0199966430664,
          72.18000030517578,
          63.150001525878906,
          63.220001220703125,
          68.51000213623047,
          65.83999633789062,
          63.7400016784668,
          63.58000183105469,
          65.86000061035156,
          64.69999694824219,
          65.20999908447266,
          69.80999755859375,
          69.70999908447266,
          68.12999725341797,
          64.83999633789062,
          69.7699966430664,
          70.7699966430664,
          71.33000183105469,
          79.30000305175781,
          78.16000366210938,
          84.26000213623047,
          80.4800033569336,
          76.93000030517578,
          75.98999786376953,
          78.5,
          75.5,
          75.87999725341797,
          79.86000061035156,
          87.55999755859375,
          85.94000244140625,
          90.05999755859375,
          90.5199966430664,
          91.44999694824219,
          88.33000183105469,
          94.16999816894531,
          91.33999633789062,
          89.41000366210938,
          91.41000366210938,
          90.91000366210938,
          86.20999908447266,
          86.79000091552734,
          87.16000366210938,
          85.91999816894531,
          87.80999755859375,
          87.97000122070312,
          85.6500015258789,
          89.86000061035156,
          87.19999694824219,
          89.12999725341797,
          88.08999633789062,
          91.9800033569336,
          103.91999816894531,
          104.58000183105469,
          107.4000015258789,
          110.83000183105469,
          114.87999725341797,
          115.0199966430664,
          113.1500015258789,
          117.01000213623047,
          115.19000244140625,
          113.22000122070312,
          116.58000183105469,
          119.86000061035156,
          119.52999877929688,
          119.44000244140625,
          120.25,
          120.56999969482422,
          118.37999725341797,
          111.19999694824219,
          110.19999694824219,
          112.81999969482422,
          109.73999786376953,
          106.33000183105469,
          105.44999694824219,
          105.5,
          105.11000061035156,
          108.45999908447266,
          103.6500015258789,
          104.79000091552734,
          104.22000122070312,
          103.08000183105469,
          103.11000061035156,
          100.01000213623047,
          95.0999984741211,
          94.77999877929688,
          94.16000366210938,
          89,
          89.25,
          87.79000091552734,
          89.94999694824219,
          89.75,
          89.69999694824219,
          89.62000274658203,
          88.7300033569336,
          86.94999694824219,
          83.37000274658203,
          82.95999908447266,
          82.9000015258789,
          83.8499984741211,
          81.51000213623047,
          82.22000122070312,
          81.66999816894531,
          81,
          83.69999694824219,
          83.6500015258789,
          86.5199966430664,
          86.9000015258789,
          86.12000274658203,
          98.4000015258789,
          99.91999816894531,
          103.37999725341797,
          102.18000030517578,
          98.38999938964844,
          100.72000122070312,
          98.55000305175781,
          102.73999786376953,
          101.54000091552734,
          99.76000213623047,
          93.83999633789062
         ],
         "yaxis": "y"
        },
        {
         "hovertemplate": "variable=GOOG<br>Date=%{x}<br>value=%{y}<extra></extra>",
         "legendgroup": "GOOG",
         "line": {
          "color": "#EF553B",
          "dash": "solid"
         },
         "marker": {
          "symbol": "circle"
         },
         "mode": "lines",
         "name": "GOOG",
         "orientation": "v",
         "showlegend": true,
         "type": "scatter",
         "x": [
          "2022-03-10T00:00:00",
          "2022-03-11T00:00:00",
          "2022-03-14T00:00:00",
          "2022-03-15T00:00:00",
          "2022-03-16T00:00:00",
          "2022-03-17T00:00:00",
          "2022-03-18T00:00:00",
          "2022-03-21T00:00:00",
          "2022-03-22T00:00:00",
          "2022-03-23T00:00:00",
          "2022-03-24T00:00:00",
          "2022-03-25T00:00:00",
          "2022-03-28T00:00:00",
          "2022-03-29T00:00:00",
          "2022-03-30T00:00:00",
          "2022-03-31T00:00:00",
          "2022-04-01T00:00:00",
          "2022-04-04T00:00:00",
          "2022-04-05T00:00:00",
          "2022-04-06T00:00:00",
          "2022-04-07T00:00:00",
          "2022-04-08T00:00:00",
          "2022-04-11T00:00:00",
          "2022-04-12T00:00:00",
          "2022-04-13T00:00:00",
          "2022-04-14T00:00:00",
          "2022-04-18T00:00:00",
          "2022-04-19T00:00:00",
          "2022-04-20T00:00:00",
          "2022-04-21T00:00:00",
          "2022-04-22T00:00:00",
          "2022-04-25T00:00:00",
          "2022-04-26T00:00:00",
          "2022-04-27T00:00:00",
          "2022-04-28T00:00:00",
          "2022-04-29T00:00:00",
          "2022-05-02T00:00:00",
          "2022-05-03T00:00:00",
          "2022-05-04T00:00:00",
          "2022-05-05T00:00:00",
          "2022-05-06T00:00:00",
          "2022-05-09T00:00:00",
          "2022-05-10T00:00:00",
          "2022-05-11T00:00:00",
          "2022-05-12T00:00:00",
          "2022-05-13T00:00:00",
          "2022-05-16T00:00:00",
          "2022-05-17T00:00:00",
          "2022-05-18T00:00:00",
          "2022-05-19T00:00:00",
          "2022-05-20T00:00:00",
          "2022-05-23T00:00:00",
          "2022-05-24T00:00:00",
          "2022-05-25T00:00:00",
          "2022-05-26T00:00:00",
          "2022-05-27T00:00:00",
          "2022-05-31T00:00:00",
          "2022-06-01T00:00:00",
          "2022-06-02T00:00:00",
          "2022-06-03T00:00:00",
          "2022-06-06T00:00:00",
          "2022-06-07T00:00:00",
          "2022-06-08T00:00:00",
          "2022-06-09T00:00:00",
          "2022-06-10T00:00:00",
          "2022-06-13T00:00:00",
          "2022-06-14T00:00:00",
          "2022-06-15T00:00:00",
          "2022-06-16T00:00:00",
          "2022-06-17T00:00:00",
          "2022-06-21T00:00:00",
          "2022-06-22T00:00:00",
          "2022-06-23T00:00:00",
          "2022-06-24T00:00:00",
          "2022-06-27T00:00:00",
          "2022-06-28T00:00:00",
          "2022-06-29T00:00:00",
          "2022-06-30T00:00:00",
          "2022-07-01T00:00:00",
          "2022-07-05T00:00:00",
          "2022-07-06T00:00:00",
          "2022-07-07T00:00:00",
          "2022-07-08T00:00:00",
          "2022-07-11T00:00:00",
          "2022-07-12T00:00:00",
          "2022-07-13T00:00:00",
          "2022-07-14T00:00:00",
          "2022-07-15T00:00:00",
          "2022-07-18T00:00:00",
          "2022-07-19T00:00:00",
          "2022-07-20T00:00:00",
          "2022-07-21T00:00:00",
          "2022-07-22T00:00:00",
          "2022-07-25T00:00:00",
          "2022-07-26T00:00:00",
          "2022-07-27T00:00:00",
          "2022-07-28T00:00:00",
          "2022-07-29T00:00:00",
          "2022-08-01T00:00:00",
          "2022-08-02T00:00:00",
          "2022-08-03T00:00:00",
          "2022-08-04T00:00:00",
          "2022-08-05T00:00:00",
          "2022-08-08T00:00:00",
          "2022-08-09T00:00:00",
          "2022-08-10T00:00:00",
          "2022-08-11T00:00:00",
          "2022-08-12T00:00:00",
          "2022-08-15T00:00:00",
          "2022-08-16T00:00:00",
          "2022-08-17T00:00:00",
          "2022-08-18T00:00:00",
          "2022-08-19T00:00:00",
          "2022-08-22T00:00:00",
          "2022-08-23T00:00:00",
          "2022-08-24T00:00:00",
          "2022-08-25T00:00:00",
          "2022-08-26T00:00:00",
          "2022-08-29T00:00:00",
          "2022-08-30T00:00:00",
          "2022-08-31T00:00:00",
          "2022-09-01T00:00:00",
          "2022-09-02T00:00:00",
          "2022-09-06T00:00:00",
          "2022-09-07T00:00:00",
          "2022-09-08T00:00:00",
          "2022-09-09T00:00:00",
          "2022-09-12T00:00:00",
          "2022-09-13T00:00:00",
          "2022-09-14T00:00:00",
          "2022-09-15T00:00:00",
          "2022-09-16T00:00:00",
          "2022-09-19T00:00:00",
          "2022-09-20T00:00:00",
          "2022-09-21T00:00:00",
          "2022-09-22T00:00:00",
          "2022-09-23T00:00:00",
          "2022-09-26T00:00:00",
          "2022-09-27T00:00:00",
          "2022-09-28T00:00:00",
          "2022-09-29T00:00:00",
          "2022-09-30T00:00:00",
          "2022-10-03T00:00:00",
          "2022-10-04T00:00:00",
          "2022-10-05T00:00:00",
          "2022-10-06T00:00:00",
          "2022-10-07T00:00:00",
          "2022-10-10T00:00:00",
          "2022-10-11T00:00:00",
          "2022-10-12T00:00:00",
          "2022-10-13T00:00:00",
          "2022-10-14T00:00:00",
          "2022-10-17T00:00:00",
          "2022-10-18T00:00:00",
          "2022-10-19T00:00:00",
          "2022-10-20T00:00:00",
          "2022-10-21T00:00:00",
          "2022-10-24T00:00:00",
          "2022-10-25T00:00:00",
          "2022-10-26T00:00:00",
          "2022-10-27T00:00:00",
          "2022-10-28T00:00:00",
          "2022-10-31T00:00:00",
          "2022-11-01T00:00:00",
          "2022-11-02T00:00:00",
          "2022-11-03T00:00:00",
          "2022-11-04T00:00:00",
          "2022-11-07T00:00:00",
          "2022-11-08T00:00:00",
          "2022-11-09T00:00:00",
          "2022-11-10T00:00:00",
          "2022-11-11T00:00:00",
          "2022-11-14T00:00:00",
          "2022-11-15T00:00:00",
          "2022-11-16T00:00:00",
          "2022-11-17T00:00:00",
          "2022-11-18T00:00:00",
          "2022-11-21T00:00:00",
          "2022-11-22T00:00:00",
          "2022-11-23T00:00:00",
          "2022-11-25T00:00:00",
          "2022-11-28T00:00:00",
          "2022-11-29T00:00:00",
          "2022-11-30T00:00:00",
          "2022-12-01T00:00:00",
          "2022-12-02T00:00:00",
          "2022-12-05T00:00:00",
          "2022-12-06T00:00:00",
          "2022-12-07T00:00:00",
          "2022-12-08T00:00:00",
          "2022-12-09T00:00:00",
          "2022-12-12T00:00:00",
          "2022-12-13T00:00:00",
          "2022-12-14T00:00:00",
          "2022-12-15T00:00:00",
          "2022-12-16T00:00:00",
          "2022-12-19T00:00:00",
          "2022-12-20T00:00:00",
          "2022-12-21T00:00:00",
          "2022-12-22T00:00:00",
          "2022-12-23T00:00:00",
          "2022-12-27T00:00:00",
          "2022-12-28T00:00:00",
          "2022-12-29T00:00:00",
          "2022-12-30T00:00:00",
          "2023-01-03T00:00:00",
          "2023-01-04T00:00:00",
          "2023-01-05T00:00:00",
          "2023-01-06T00:00:00",
          "2023-01-09T00:00:00",
          "2023-01-10T00:00:00",
          "2023-01-11T00:00:00",
          "2023-01-12T00:00:00",
          "2023-01-13T00:00:00",
          "2023-01-17T00:00:00",
          "2023-01-18T00:00:00",
          "2023-01-19T00:00:00",
          "2023-01-20T00:00:00",
          "2023-01-23T00:00:00",
          "2023-01-24T00:00:00",
          "2023-01-25T00:00:00",
          "2023-01-26T00:00:00",
          "2023-01-27T00:00:00",
          "2023-01-30T00:00:00",
          "2023-01-31T00:00:00",
          "2023-02-01T00:00:00",
          "2023-02-02T00:00:00",
          "2023-02-03T00:00:00",
          "2023-02-06T00:00:00",
          "2023-02-07T00:00:00",
          "2023-02-08T00:00:00",
          "2023-02-09T00:00:00",
          "2023-02-10T00:00:00",
          "2023-02-13T00:00:00",
          "2023-02-14T00:00:00",
          "2023-02-15T00:00:00",
          "2023-02-16T00:00:00",
          "2023-02-17T00:00:00",
          "2023-02-21T00:00:00",
          "2023-02-22T00:00:00",
          "2023-02-23T00:00:00",
          "2023-02-24T00:00:00",
          "2023-02-27T00:00:00",
          "2023-02-28T00:00:00",
          "2023-03-01T00:00:00",
          "2023-03-02T00:00:00",
          "2023-03-03T00:00:00",
          "2023-03-06T00:00:00",
          "2023-03-07T00:00:00",
          "2023-03-08T00:00:00",
          "2023-03-09T00:00:00",
          "2023-03-10T00:00:00",
          "2023-03-13T00:00:00",
          "2023-03-14T00:00:00",
          "2023-03-15T00:00:00",
          "2023-03-16T00:00:00",
          "2023-03-17T00:00:00",
          "2023-03-20T00:00:00",
          "2023-03-21T00:00:00",
          "2023-03-22T00:00:00",
          "2023-03-23T00:00:00",
          "2023-03-24T00:00:00",
          "2023-03-27T00:00:00",
          "2023-03-28T00:00:00",
          "2023-03-29T00:00:00",
          "2023-03-30T00:00:00",
          "2023-03-31T00:00:00",
          "2023-04-03T00:00:00",
          "2023-04-04T00:00:00",
          "2023-04-05T00:00:00",
          "2023-04-06T00:00:00",
          "2023-04-10T00:00:00",
          "2023-04-11T00:00:00",
          "2023-04-12T00:00:00"
         ],
         "xaxis": "x",
         "y": [
          132.6820068359375,
          130.47549438476562,
          126.74099731445312,
          129.66050720214844,
          133.6905059814453,
          134.60049438476562,
          136.80149841308594,
          136.47850036621094,
          140.27749633789062,
          138.5034942626953,
          141.31199645996094,
          141.52149963378906,
          141.9499969482422,
          143.25,
          142.64450073242188,
          139.64950561523438,
          140.6999969482422,
          143.6425018310547,
          141.06300354003906,
          137.17599487304688,
          136.46499633789062,
          134.010498046875,
          129.79649353027344,
          128.37449645996094,
          130.28599548339844,
          127.25299835205078,
          127.96099853515625,
          130.531005859375,
          128.24549865722656,
          124.9375,
          119.61399841308594,
          123.25,
          119.50599670410156,
          115.02050018310547,
          119.4114990234375,
          114.96649932861328,
          117.15699768066406,
          118.12950134277344,
          122.57499694824219,
          116.74649810791016,
          115.66000366210938,
          113.08399963378906,
          114.58450317382812,
          113.96099853515625,
          113.16100311279297,
          116.5155029296875,
          114.7925033569336,
          116.70149993896484,
          112.4010009765625,
          110.74549865722656,
          109.31300354003906,
          111.66649627685547,
          105.9260025024414,
          105.8395004272461,
          108.2959976196289,
          112.79900360107422,
          114.03900146484375,
          114.13700103759766,
          117.74600219726562,
          114.56400299072266,
          117.010498046875,
          117.22949981689453,
          117.23799896240234,
          114.91799926757812,
          111.42749786376953,
          106.87650299072266,
          107.19400024414062,
          110.3905029296875,
          106.63600158691406,
          107.8655014038086,
          112.01499938964844,
          112.03399658203125,
          112.68450164794922,
          118.53800201416016,
          116.62249755859375,
          112.57150268554688,
          112.25650024414062,
          109.37249755859375,
          109.08100128173828,
          113.88700103759766,
          115.2135009765625,
          119.30599975585938,
          120.16850280761719,
          116.52249908447266,
          114.84950256347656,
          112.18699645996094,
          111.44000244140625,
          112.76699829101562,
          109.91000366210938,
          114.62000274658203,
          114.69999694824219,
          115.04000091552734,
          108.36000061035156,
          108.20999908447266,
          105.44000244140625,
          113.5999984741211,
          114.58999633789062,
          116.63999938964844,
          115.4800033569336,
          115.9000015258789,
          118.77999877929688,
          118.87000274658203,
          118.22000122070312,
          118.13999938964844,
          117.5,
          120.6500015258789,
          119.81999969482422,
          122.6500015258789,
          122.87999725341797,
          122.51000213623047,
          120.31999969482422,
          120.86000061035156,
          118.12000274658203,
          115.06999969482422,
          114.7699966430664,
          114.69999694824219,
          117.69999694824219,
          111.30000305175781,
          110.33999633789062,
          109.91000366210938,
          109.1500015258789,
          110.55000305175781,
          108.68000030517578,
          107.4800033569336,
          110.4800033569336,
          109.41999816894531,
          111.77999877929688,
          111.87000274658203,
          105.30999755859375,
          105.87000274658203,
          103.9000015258789,
          103.62999725341797,
          103.8499984741211,
          101.83000183105469,
          100.01000213623047,
          100.56999969482422,
          99.16999816894531,
          98.80999755859375,
          98.08999633789062,
          100.73999786376953,
          98.08999633789062,
          96.1500015258789,
          99.30000305175781,
          102.41000366210938,
          102.22000122070312,
          102.23999786376953,
          99.56999969482422,
          98.70999908447266,
          98.05000305175781,
          98.30000305175781,
          99.70999908447266,
          97.18000030517578,
          100.77999877929688,
          101.38999938964844,
          100.29000091552734,
          100.52999877929688,
          101.4800033569336,
          102.97000122070312,
          104.93000030517578,
          94.81999969482422,
          92.5999984741211,
          96.58000183105469,
          94.66000366210938,
          90.5,
          87.06999969482422,
          83.48999786376953,
          86.69999694824219,
          88.6500015258789,
          88.91000366210938,
          87.4000015258789,
          94.16999816894531,
          96.7300033569336,
          96.02999877929688,
          98.72000122070312,
          98.98999786376953,
          98.5,
          97.80000305175781,
          95.83000183105469,
          97.33000183105469,
          98.81999969482422,
          97.5999984741211,
          96.25,
          95.44000244140625,
          101.44999694824219,
          101.27999877929688,
          100.83000183105469,
          99.87000274658203,
          97.30999755859375,
          95.1500015258789,
          93.94999694824219,
          93.06999969482422,
          93.55999755859375,
          95.8499984741211,
          95.30999755859375,
          91.19999694824219,
          90.86000061035156,
          89.1500015258789,
          89.62999725341797,
          90.25,
          88.26000213623047,
          89.80999755859375,
          87.93000030517578,
          86.45999908447266,
          88.94999694824219,
          88.7300033569336,
          89.69999694824219,
          88.70999908447266,
          86.7699966430664,
          88.16000366210938,
          88.80000305175781,
          89.23999786376953,
          92.26000213623047,
          91.91000366210938,
          92.80000305175781,
          92.16000366210938,
          91.77999877929688,
          93.91000366210938,
          99.27999877929688,
          101.20999908447266,
          99.20999908447266,
          96.7300033569336,
          99.16000366210938,
          100.70999908447266,
          97.94999694824219,
          99.87000274658203,
          101.43000030517578,
          108.80000305175781,
          105.22000122070312,
          103.47000122070312,
          108.04000091552734,
          100,
          95.45999908447266,
          94.86000061035156,
          95,
          94.94999694824219,
          97.0999984741211,
          95.77999877929688,
          94.58999633789062,
          92.05000305175781,
          91.80000305175781,
          91.06999969482422,
          89.3499984741211,
          90.0999984741211,
          90.30000305175781,
          90.51000213623047,
          92.30999755859375,
          94.0199966430664,
          95.58000183105469,
          94.16999816894531,
          94.6500015258789,
          92.66000366210938,
          91.01000213623047,
          91.66000366210938,
          94.25,
          96.55000305175781,
          101.06999969482422,
          102.45999908447266,
          101.93000030517578,
          105.83999633789062,
          104.22000122070312,
          106.26000213623047,
          106.05999755859375,
          103.05999755859375,
          101.36000061035156,
          101.9000015258789,
          101.31999969482422,
          104,
          104.91000366210938,
          105.12000274658203,
          104.94999694824219,
          108.9000015258789,
          106.94999694824219,
          106.12000274658203,
          105.22000122070312
         ],
         "yaxis": "y"
        },
        {
         "hovertemplate": "variable=TSLA<br>Date=%{x}<br>value=%{y}<extra></extra>",
         "legendgroup": "TSLA",
         "line": {
          "color": "#00cc96",
          "dash": "solid"
         },
         "marker": {
          "symbol": "circle"
         },
         "mode": "lines",
         "name": "TSLA",
         "orientation": "v",
         "showlegend": true,
         "type": "scatter",
         "x": [
          "2022-03-10T00:00:00",
          "2022-03-11T00:00:00",
          "2022-03-14T00:00:00",
          "2022-03-15T00:00:00",
          "2022-03-16T00:00:00",
          "2022-03-17T00:00:00",
          "2022-03-18T00:00:00",
          "2022-03-21T00:00:00",
          "2022-03-22T00:00:00",
          "2022-03-23T00:00:00",
          "2022-03-24T00:00:00",
          "2022-03-25T00:00:00",
          "2022-03-28T00:00:00",
          "2022-03-29T00:00:00",
          "2022-03-30T00:00:00",
          "2022-03-31T00:00:00",
          "2022-04-01T00:00:00",
          "2022-04-04T00:00:00",
          "2022-04-05T00:00:00",
          "2022-04-06T00:00:00",
          "2022-04-07T00:00:00",
          "2022-04-08T00:00:00",
          "2022-04-11T00:00:00",
          "2022-04-12T00:00:00",
          "2022-04-13T00:00:00",
          "2022-04-14T00:00:00",
          "2022-04-18T00:00:00",
          "2022-04-19T00:00:00",
          "2022-04-20T00:00:00",
          "2022-04-21T00:00:00",
          "2022-04-22T00:00:00",
          "2022-04-25T00:00:00",
          "2022-04-26T00:00:00",
          "2022-04-27T00:00:00",
          "2022-04-28T00:00:00",
          "2022-04-29T00:00:00",
          "2022-05-02T00:00:00",
          "2022-05-03T00:00:00",
          "2022-05-04T00:00:00",
          "2022-05-05T00:00:00",
          "2022-05-06T00:00:00",
          "2022-05-09T00:00:00",
          "2022-05-10T00:00:00",
          "2022-05-11T00:00:00",
          "2022-05-12T00:00:00",
          "2022-05-13T00:00:00",
          "2022-05-16T00:00:00",
          "2022-05-17T00:00:00",
          "2022-05-18T00:00:00",
          "2022-05-19T00:00:00",
          "2022-05-20T00:00:00",
          "2022-05-23T00:00:00",
          "2022-05-24T00:00:00",
          "2022-05-25T00:00:00",
          "2022-05-26T00:00:00",
          "2022-05-27T00:00:00",
          "2022-05-31T00:00:00",
          "2022-06-01T00:00:00",
          "2022-06-02T00:00:00",
          "2022-06-03T00:00:00",
          "2022-06-06T00:00:00",
          "2022-06-07T00:00:00",
          "2022-06-08T00:00:00",
          "2022-06-09T00:00:00",
          "2022-06-10T00:00:00",
          "2022-06-13T00:00:00",
          "2022-06-14T00:00:00",
          "2022-06-15T00:00:00",
          "2022-06-16T00:00:00",
          "2022-06-17T00:00:00",
          "2022-06-21T00:00:00",
          "2022-06-22T00:00:00",
          "2022-06-23T00:00:00",
          "2022-06-24T00:00:00",
          "2022-06-27T00:00:00",
          "2022-06-28T00:00:00",
          "2022-06-29T00:00:00",
          "2022-06-30T00:00:00",
          "2022-07-01T00:00:00",
          "2022-07-05T00:00:00",
          "2022-07-06T00:00:00",
          "2022-07-07T00:00:00",
          "2022-07-08T00:00:00",
          "2022-07-11T00:00:00",
          "2022-07-12T00:00:00",
          "2022-07-13T00:00:00",
          "2022-07-14T00:00:00",
          "2022-07-15T00:00:00",
          "2022-07-18T00:00:00",
          "2022-07-19T00:00:00",
          "2022-07-20T00:00:00",
          "2022-07-21T00:00:00",
          "2022-07-22T00:00:00",
          "2022-07-25T00:00:00",
          "2022-07-26T00:00:00",
          "2022-07-27T00:00:00",
          "2022-07-28T00:00:00",
          "2022-07-29T00:00:00",
          "2022-08-01T00:00:00",
          "2022-08-02T00:00:00",
          "2022-08-03T00:00:00",
          "2022-08-04T00:00:00",
          "2022-08-05T00:00:00",
          "2022-08-08T00:00:00",
          "2022-08-09T00:00:00",
          "2022-08-10T00:00:00",
          "2022-08-11T00:00:00",
          "2022-08-12T00:00:00",
          "2022-08-15T00:00:00",
          "2022-08-16T00:00:00",
          "2022-08-17T00:00:00",
          "2022-08-18T00:00:00",
          "2022-08-19T00:00:00",
          "2022-08-22T00:00:00",
          "2022-08-23T00:00:00",
          "2022-08-24T00:00:00",
          "2022-08-25T00:00:00",
          "2022-08-26T00:00:00",
          "2022-08-29T00:00:00",
          "2022-08-30T00:00:00",
          "2022-08-31T00:00:00",
          "2022-09-01T00:00:00",
          "2022-09-02T00:00:00",
          "2022-09-06T00:00:00",
          "2022-09-07T00:00:00",
          "2022-09-08T00:00:00",
          "2022-09-09T00:00:00",
          "2022-09-12T00:00:00",
          "2022-09-13T00:00:00",
          "2022-09-14T00:00:00",
          "2022-09-15T00:00:00",
          "2022-09-16T00:00:00",
          "2022-09-19T00:00:00",
          "2022-09-20T00:00:00",
          "2022-09-21T00:00:00",
          "2022-09-22T00:00:00",
          "2022-09-23T00:00:00",
          "2022-09-26T00:00:00",
          "2022-09-27T00:00:00",
          "2022-09-28T00:00:00",
          "2022-09-29T00:00:00",
          "2022-09-30T00:00:00",
          "2022-10-03T00:00:00",
          "2022-10-04T00:00:00",
          "2022-10-05T00:00:00",
          "2022-10-06T00:00:00",
          "2022-10-07T00:00:00",
          "2022-10-10T00:00:00",
          "2022-10-11T00:00:00",
          "2022-10-12T00:00:00",
          "2022-10-13T00:00:00",
          "2022-10-14T00:00:00",
          "2022-10-17T00:00:00",
          "2022-10-18T00:00:00",
          "2022-10-19T00:00:00",
          "2022-10-20T00:00:00",
          "2022-10-21T00:00:00",
          "2022-10-24T00:00:00",
          "2022-10-25T00:00:00",
          "2022-10-26T00:00:00",
          "2022-10-27T00:00:00",
          "2022-10-28T00:00:00",
          "2022-10-31T00:00:00",
          "2022-11-01T00:00:00",
          "2022-11-02T00:00:00",
          "2022-11-03T00:00:00",
          "2022-11-04T00:00:00",
          "2022-11-07T00:00:00",
          "2022-11-08T00:00:00",
          "2022-11-09T00:00:00",
          "2022-11-10T00:00:00",
          "2022-11-11T00:00:00",
          "2022-11-14T00:00:00",
          "2022-11-15T00:00:00",
          "2022-11-16T00:00:00",
          "2022-11-17T00:00:00",
          "2022-11-18T00:00:00",
          "2022-11-21T00:00:00",
          "2022-11-22T00:00:00",
          "2022-11-23T00:00:00",
          "2022-11-25T00:00:00",
          "2022-11-28T00:00:00",
          "2022-11-29T00:00:00",
          "2022-11-30T00:00:00",
          "2022-12-01T00:00:00",
          "2022-12-02T00:00:00",
          "2022-12-05T00:00:00",
          "2022-12-06T00:00:00",
          "2022-12-07T00:00:00",
          "2022-12-08T00:00:00",
          "2022-12-09T00:00:00",
          "2022-12-12T00:00:00",
          "2022-12-13T00:00:00",
          "2022-12-14T00:00:00",
          "2022-12-15T00:00:00",
          "2022-12-16T00:00:00",
          "2022-12-19T00:00:00",
          "2022-12-20T00:00:00",
          "2022-12-21T00:00:00",
          "2022-12-22T00:00:00",
          "2022-12-23T00:00:00",
          "2022-12-27T00:00:00",
          "2022-12-28T00:00:00",
          "2022-12-29T00:00:00",
          "2022-12-30T00:00:00",
          "2023-01-03T00:00:00",
          "2023-01-04T00:00:00",
          "2023-01-05T00:00:00",
          "2023-01-06T00:00:00",
          "2023-01-09T00:00:00",
          "2023-01-10T00:00:00",
          "2023-01-11T00:00:00",
          "2023-01-12T00:00:00",
          "2023-01-13T00:00:00",
          "2023-01-17T00:00:00",
          "2023-01-18T00:00:00",
          "2023-01-19T00:00:00",
          "2023-01-20T00:00:00",
          "2023-01-23T00:00:00",
          "2023-01-24T00:00:00",
          "2023-01-25T00:00:00",
          "2023-01-26T00:00:00",
          "2023-01-27T00:00:00",
          "2023-01-30T00:00:00",
          "2023-01-31T00:00:00",
          "2023-02-01T00:00:00",
          "2023-02-02T00:00:00",
          "2023-02-03T00:00:00",
          "2023-02-06T00:00:00",
          "2023-02-07T00:00:00",
          "2023-02-08T00:00:00",
          "2023-02-09T00:00:00",
          "2023-02-10T00:00:00",
          "2023-02-13T00:00:00",
          "2023-02-14T00:00:00",
          "2023-02-15T00:00:00",
          "2023-02-16T00:00:00",
          "2023-02-17T00:00:00",
          "2023-02-21T00:00:00",
          "2023-02-22T00:00:00",
          "2023-02-23T00:00:00",
          "2023-02-24T00:00:00",
          "2023-02-27T00:00:00",
          "2023-02-28T00:00:00",
          "2023-03-01T00:00:00",
          "2023-03-02T00:00:00",
          "2023-03-03T00:00:00",
          "2023-03-06T00:00:00",
          "2023-03-07T00:00:00",
          "2023-03-08T00:00:00",
          "2023-03-09T00:00:00",
          "2023-03-10T00:00:00",
          "2023-03-13T00:00:00",
          "2023-03-14T00:00:00",
          "2023-03-15T00:00:00",
          "2023-03-16T00:00:00",
          "2023-03-17T00:00:00",
          "2023-03-20T00:00:00",
          "2023-03-21T00:00:00",
          "2023-03-22T00:00:00",
          "2023-03-23T00:00:00",
          "2023-03-24T00:00:00",
          "2023-03-27T00:00:00",
          "2023-03-28T00:00:00",
          "2023-03-29T00:00:00",
          "2023-03-30T00:00:00",
          "2023-03-31T00:00:00",
          "2023-04-03T00:00:00",
          "2023-04-04T00:00:00",
          "2023-04-05T00:00:00",
          "2023-04-06T00:00:00",
          "2023-04-10T00:00:00",
          "2023-04-11T00:00:00",
          "2023-04-12T00:00:00"
         ],
         "xaxis": "x",
         "y": [
          279.4333190917969,
          265.1166687011719,
          255.4566650390625,
          267.2966613769531,
          280.07666015625,
          290.5333251953125,
          301.7966613769531,
          307.0533447265625,
          331.32666015625,
          333.03668212890625,
          337.97332763671875,
          336.8800048828125,
          363.9466552734375,
          366.5233459472656,
          364.663330078125,
          359.20001220703125,
          361.5299987792969,
          381.8166809082031,
          363.7533264160156,
          348.586669921875,
          352.4200134277344,
          341.8299865722656,
          325.30999755859375,
          328.98333740234375,
          340.7900085449219,
          328.3333435058594,
          334.7633361816406,
          342.7166748046875,
          325.73333740234375,
          336.260009765625,
          335.01666259765625,
          332.67333984375,
          292.1400146484375,
          293.836669921875,
          292.5033264160156,
          290.2533264160156,
          300.9800109863281,
          303.0833435058594,
          317.5400085449219,
          291.09332275390625,
          288.54998779296875,
          262.3699951171875,
          266.67999267578125,
          244.6666717529297,
          242.6666717529297,
          256.5299987792969,
          241.4566650390625,
          253.8699951171875,
          236.60333251953125,
          236.47332763671875,
          221.3000030517578,
          224.96665954589844,
          209.3866729736328,
          219.60000610351562,
          235.91000366210938,
          253.2100067138672,
          252.75332641601562,
          246.7899932861328,
          258.3333435058594,
          234.51666259765625,
          238.27999877929688,
          238.8866729736328,
          241.86666870117188,
          239.7066650390625,
          232.22999572753906,
          215.73666381835938,
          220.88999938964844,
          233,
          213.10000610351562,
          216.75999450683594,
          237.0366668701172,
          236.086669921875,
          235.07000732421875,
          245.7066650390625,
          244.9199981689453,
          232.663330078125,
          228.49000549316406,
          224.47332763671875,
          227.26333618164062,
          233.06666564941406,
          231.73333740234375,
          244.5433349609375,
          250.76333618164062,
          234.3433380126953,
          233.07000732421875,
          237.0399932861328,
          238.31333923339844,
          240.06666564941406,
          240.54666137695312,
          245.52999877929688,
          247.5,
          271.7066650390625,
          272.24334716796875,
          268.4333190917969,
          258.8599853515625,
          274.82000732421875,
          280.8999938964844,
          297.1499938964844,
          297.27667236328125,
          300.586669921875,
          307.39666748046875,
          308.6333312988281,
          288.1700134277344,
          290.42333984375,
          283.3333435058594,
          294.3566589355469,
          286.6300048828125,
          300.0299987792969,
          309.32000732421875,
          306.5633239746094,
          303.9966735839844,
          302.8699951171875,
          296.6666564941406,
          289.913330078125,
          296.4533386230469,
          297.0966796875,
          296.07000732421875,
          288.0899963378906,
          284.82000732421875,
          277.70001220703125,
          275.6099853515625,
          277.1600036621094,
          270.2099914550781,
          274.4200134277344,
          283.70001220703125,
          289.260009765625,
          299.67999267578125,
          304.4200134277344,
          292.1300048828125,
          302.6099853515625,
          303.75,
          303.3500061035156,
          309.07000732421875,
          308.7300109863281,
          300.79998779296875,
          288.5899963378906,
          275.3299865722656,
          276.010009765625,
          282.94000244140625,
          287.80999755859375,
          268.2099914550781,
          265.25,
          242.39999389648438,
          249.44000244140625,
          240.80999755859375,
          238.1300048828125,
          223.07000732421875,
          222.9600067138672,
          216.5,
          217.24000549316406,
          221.72000122070312,
          204.99000549316406,
          219.35000610351562,
          220.19000244140625,
          222.0399932861328,
          207.27999877929688,
          214.44000244140625,
          211.25,
          222.4199981689453,
          224.63999938964844,
          225.08999633789062,
          228.52000427246094,
          227.5399932861328,
          227.82000732421875,
          214.97999572753906,
          215.30999755859375,
          207.47000122070312,
          197.0800018310547,
          191.3000030517578,
          177.58999633789062,
          190.72000122070312,
          195.97000122070312,
          190.9499969482422,
          194.4199981689453,
          186.9199981689453,
          183.1699981689453,
          180.19000244140625,
          167.8699951171875,
          169.91000366210938,
          183.1999969482422,
          182.86000061035156,
          182.9199981689453,
          180.8300018310547,
          194.6999969482422,
          194.6999969482422,
          194.86000061035156,
          182.4499969482422,
          179.82000732421875,
          174.0399932861328,
          173.44000244140625,
          179.0500030517578,
          167.82000732421875,
          160.9499969482422,
          156.8000030517578,
          157.6699981689453,
          150.22999572753906,
          149.8699951171875,
          137.8000030517578,
          137.57000732421875,
          125.3499984741211,
          123.1500015258789,
          109.0999984741211,
          112.70999908447266,
          121.81999969482422,
          123.18000030517578,
          108.0999984741211,
          113.63999938964844,
          110.33999633789062,
          113.05999755859375,
          119.7699966430664,
          118.8499984741211,
          123.22000122070312,
          123.55999755859375,
          122.4000015258789,
          131.49000549316406,
          128.77999877929688,
          127.16999816894531,
          133.4199981689453,
          143.75,
          143.88999938964844,
          144.42999267578125,
          160.27000427246094,
          177.89999389648438,
          166.66000366210938,
          173.22000122070312,
          181.41000366210938,
          188.27000427246094,
          189.97999572753906,
          194.75999450683594,
          196.80999755859375,
          201.2899932861328,
          207.32000732421875,
          196.88999938964844,
          194.63999938964844,
          209.25,
          214.24000549316406,
          202.0399932861328,
          208.30999755859375,
          197.3699951171875,
          200.86000061035156,
          202.07000732421875,
          196.8800048828125,
          207.6300048828125,
          205.7100067138672,
          202.77000427246094,
          190.89999389648438,
          197.7899932861328,
          193.80999755859375,
          187.7100067138672,
          182,
          172.9199981689453,
          173.44000244140625,
          174.47999572753906,
          183.25999450683594,
          180.4499969482422,
          184.1300048828125,
          180.1300048828125,
          183.25,
          197.5800018310547,
          191.14999389648438,
          192.22000122070312,
          190.41000366210938,
          191.80999755859375,
          189.19000244140625,
          193.8800048828125,
          195.27999877929688,
          207.4600067138672,
          194.77000427246094,
          192.5800018310547,
          185.52000427246094,
          185.05999755859375,
          184.50999450683594,
          186.7899932861328,
          180.5399932861328
         ],
         "yaxis": "y"
        }
       ],
       "layout": {
        "autosize": true,
        "legend": {
         "title": {
          "text": "variable"
         },
         "tracegroupgap": 0
        },
        "margin": {
         "t": 60
        },
        "template": {
         "data": {
          "bar": [
           {
            "error_x": {
             "color": "#2a3f5f"
            },
            "error_y": {
             "color": "#2a3f5f"
            },
            "marker": {
             "line": {
              "color": "#E5ECF6",
              "width": 0.5
             },
             "pattern": {
              "fillmode": "overlay",
              "size": 10,
              "solidity": 0.2
             }
            },
            "type": "bar"
           }
          ],
          "barpolar": [
           {
            "marker": {
             "line": {
              "color": "#E5ECF6",
              "width": 0.5
             },
             "pattern": {
              "fillmode": "overlay",
              "size": 10,
              "solidity": 0.2
             }
            },
            "type": "barpolar"
           }
          ],
          "carpet": [
           {
            "aaxis": {
             "endlinecolor": "#2a3f5f",
             "gridcolor": "white",
             "linecolor": "white",
             "minorgridcolor": "white",
             "startlinecolor": "#2a3f5f"
            },
            "baxis": {
             "endlinecolor": "#2a3f5f",
             "gridcolor": "white",
             "linecolor": "white",
             "minorgridcolor": "white",
             "startlinecolor": "#2a3f5f"
            },
            "type": "carpet"
           }
          ],
          "choropleth": [
           {
            "colorbar": {
             "outlinewidth": 0,
             "ticks": ""
            },
            "type": "choropleth"
           }
          ],
          "contour": [
           {
            "colorbar": {
             "outlinewidth": 0,
             "ticks": ""
            },
            "colorscale": [
             [
              0,
              "#0d0887"
             ],
             [
              0.1111111111111111,
              "#46039f"
             ],
             [
              0.2222222222222222,
              "#7201a8"
             ],
             [
              0.3333333333333333,
              "#9c179e"
             ],
             [
              0.4444444444444444,
              "#bd3786"
             ],
             [
              0.5555555555555556,
              "#d8576b"
             ],
             [
              0.6666666666666666,
              "#ed7953"
             ],
             [
              0.7777777777777778,
              "#fb9f3a"
             ],
             [
              0.8888888888888888,
              "#fdca26"
             ],
             [
              1,
              "#f0f921"
             ]
            ],
            "type": "contour"
           }
          ],
          "contourcarpet": [
           {
            "colorbar": {
             "outlinewidth": 0,
             "ticks": ""
            },
            "type": "contourcarpet"
           }
          ],
          "heatmap": [
           {
            "colorbar": {
             "outlinewidth": 0,
             "ticks": ""
            },
            "colorscale": [
             [
              0,
              "#0d0887"
             ],
             [
              0.1111111111111111,
              "#46039f"
             ],
             [
              0.2222222222222222,
              "#7201a8"
             ],
             [
              0.3333333333333333,
              "#9c179e"
             ],
             [
              0.4444444444444444,
              "#bd3786"
             ],
             [
              0.5555555555555556,
              "#d8576b"
             ],
             [
              0.6666666666666666,
              "#ed7953"
             ],
             [
              0.7777777777777778,
              "#fb9f3a"
             ],
             [
              0.8888888888888888,
              "#fdca26"
             ],
             [
              1,
              "#f0f921"
             ]
            ],
            "type": "heatmap"
           }
          ],
          "heatmapgl": [
           {
            "colorbar": {
             "outlinewidth": 0,
             "ticks": ""
            },
            "colorscale": [
             [
              0,
              "#0d0887"
             ],
             [
              0.1111111111111111,
              "#46039f"
             ],
             [
              0.2222222222222222,
              "#7201a8"
             ],
             [
              0.3333333333333333,
              "#9c179e"
             ],
             [
              0.4444444444444444,
              "#bd3786"
             ],
             [
              0.5555555555555556,
              "#d8576b"
             ],
             [
              0.6666666666666666,
              "#ed7953"
             ],
             [
              0.7777777777777778,
              "#fb9f3a"
             ],
             [
              0.8888888888888888,
              "#fdca26"
             ],
             [
              1,
              "#f0f921"
             ]
            ],
            "type": "heatmapgl"
           }
          ],
          "histogram": [
           {
            "marker": {
             "pattern": {
              "fillmode": "overlay",
              "size": 10,
              "solidity": 0.2
             }
            },
            "type": "histogram"
           }
          ],
          "histogram2d": [
           {
            "colorbar": {
             "outlinewidth": 0,
             "ticks": ""
            },
            "colorscale": [
             [
              0,
              "#0d0887"
             ],
             [
              0.1111111111111111,
              "#46039f"
             ],
             [
              0.2222222222222222,
              "#7201a8"
             ],
             [
              0.3333333333333333,
              "#9c179e"
             ],
             [
              0.4444444444444444,
              "#bd3786"
             ],
             [
              0.5555555555555556,
              "#d8576b"
             ],
             [
              0.6666666666666666,
              "#ed7953"
             ],
             [
              0.7777777777777778,
              "#fb9f3a"
             ],
             [
              0.8888888888888888,
              "#fdca26"
             ],
             [
              1,
              "#f0f921"
             ]
            ],
            "type": "histogram2d"
           }
          ],
          "histogram2dcontour": [
           {
            "colorbar": {
             "outlinewidth": 0,
             "ticks": ""
            },
            "colorscale": [
             [
              0,
              "#0d0887"
             ],
             [
              0.1111111111111111,
              "#46039f"
             ],
             [
              0.2222222222222222,
              "#7201a8"
             ],
             [
              0.3333333333333333,
              "#9c179e"
             ],
             [
              0.4444444444444444,
              "#bd3786"
             ],
             [
              0.5555555555555556,
              "#d8576b"
             ],
             [
              0.6666666666666666,
              "#ed7953"
             ],
             [
              0.7777777777777778,
              "#fb9f3a"
             ],
             [
              0.8888888888888888,
              "#fdca26"
             ],
             [
              1,
              "#f0f921"
             ]
            ],
            "type": "histogram2dcontour"
           }
          ],
          "mesh3d": [
           {
            "colorbar": {
             "outlinewidth": 0,
             "ticks": ""
            },
            "type": "mesh3d"
           }
          ],
          "parcoords": [
           {
            "line": {
             "colorbar": {
              "outlinewidth": 0,
              "ticks": ""
             }
            },
            "type": "parcoords"
           }
          ],
          "pie": [
           {
            "automargin": true,
            "type": "pie"
           }
          ],
          "scatter": [
           {
            "fillpattern": {
             "fillmode": "overlay",
             "size": 10,
             "solidity": 0.2
            },
            "type": "scatter"
           }
          ],
          "scatter3d": [
           {
            "line": {
             "colorbar": {
              "outlinewidth": 0,
              "ticks": ""
             }
            },
            "marker": {
             "colorbar": {
              "outlinewidth": 0,
              "ticks": ""
             }
            },
            "type": "scatter3d"
           }
          ],
          "scattercarpet": [
           {
            "marker": {
             "colorbar": {
              "outlinewidth": 0,
              "ticks": ""
             }
            },
            "type": "scattercarpet"
           }
          ],
          "scattergeo": [
           {
            "marker": {
             "colorbar": {
              "outlinewidth": 0,
              "ticks": ""
             }
            },
            "type": "scattergeo"
           }
          ],
          "scattergl": [
           {
            "marker": {
             "colorbar": {
              "outlinewidth": 0,
              "ticks": ""
             }
            },
            "type": "scattergl"
           }
          ],
          "scattermapbox": [
           {
            "marker": {
             "colorbar": {
              "outlinewidth": 0,
              "ticks": ""
             }
            },
            "type": "scattermapbox"
           }
          ],
          "scatterpolar": [
           {
            "marker": {
             "colorbar": {
              "outlinewidth": 0,
              "ticks": ""
             }
            },
            "type": "scatterpolar"
           }
          ],
          "scatterpolargl": [
           {
            "marker": {
             "colorbar": {
              "outlinewidth": 0,
              "ticks": ""
             }
            },
            "type": "scatterpolargl"
           }
          ],
          "scatterternary": [
           {
            "marker": {
             "colorbar": {
              "outlinewidth": 0,
              "ticks": ""
             }
            },
            "type": "scatterternary"
           }
          ],
          "surface": [
           {
            "colorbar": {
             "outlinewidth": 0,
             "ticks": ""
            },
            "colorscale": [
             [
              0,
              "#0d0887"
             ],
             [
              0.1111111111111111,
              "#46039f"
             ],
             [
              0.2222222222222222,
              "#7201a8"
             ],
             [
              0.3333333333333333,
              "#9c179e"
             ],
             [
              0.4444444444444444,
              "#bd3786"
             ],
             [
              0.5555555555555556,
              "#d8576b"
             ],
             [
              0.6666666666666666,
              "#ed7953"
             ],
             [
              0.7777777777777778,
              "#fb9f3a"
             ],
             [
              0.8888888888888888,
              "#fdca26"
             ],
             [
              1,
              "#f0f921"
             ]
            ],
            "type": "surface"
           }
          ],
          "table": [
           {
            "cells": {
             "fill": {
              "color": "#EBF0F8"
             },
             "line": {
              "color": "white"
             }
            },
            "header": {
             "fill": {
              "color": "#C8D4E3"
             },
             "line": {
              "color": "white"
             }
            },
            "type": "table"
           }
          ]
         },
         "layout": {
          "annotationdefaults": {
           "arrowcolor": "#2a3f5f",
           "arrowhead": 0,
           "arrowwidth": 1
          },
          "autotypenumbers": "strict",
          "coloraxis": {
           "colorbar": {
            "outlinewidth": 0,
            "ticks": ""
           }
          },
          "colorscale": {
           "diverging": [
            [
             0,
             "#8e0152"
            ],
            [
             0.1,
             "#c51b7d"
            ],
            [
             0.2,
             "#de77ae"
            ],
            [
             0.3,
             "#f1b6da"
            ],
            [
             0.4,
             "#fde0ef"
            ],
            [
             0.5,
             "#f7f7f7"
            ],
            [
             0.6,
             "#e6f5d0"
            ],
            [
             0.7,
             "#b8e186"
            ],
            [
             0.8,
             "#7fbc41"
            ],
            [
             0.9,
             "#4d9221"
            ],
            [
             1,
             "#276419"
            ]
           ],
           "sequential": [
            [
             0,
             "#0d0887"
            ],
            [
             0.1111111111111111,
             "#46039f"
            ],
            [
             0.2222222222222222,
             "#7201a8"
            ],
            [
             0.3333333333333333,
             "#9c179e"
            ],
            [
             0.4444444444444444,
             "#bd3786"
            ],
            [
             0.5555555555555556,
             "#d8576b"
            ],
            [
             0.6666666666666666,
             "#ed7953"
            ],
            [
             0.7777777777777778,
             "#fb9f3a"
            ],
            [
             0.8888888888888888,
             "#fdca26"
            ],
            [
             1,
             "#f0f921"
            ]
           ],
           "sequentialminus": [
            [
             0,
             "#0d0887"
            ],
            [
             0.1111111111111111,
             "#46039f"
            ],
            [
             0.2222222222222222,
             "#7201a8"
            ],
            [
             0.3333333333333333,
             "#9c179e"
            ],
            [
             0.4444444444444444,
             "#bd3786"
            ],
            [
             0.5555555555555556,
             "#d8576b"
            ],
            [
             0.6666666666666666,
             "#ed7953"
            ],
            [
             0.7777777777777778,
             "#fb9f3a"
            ],
            [
             0.8888888888888888,
             "#fdca26"
            ],
            [
             1,
             "#f0f921"
            ]
           ]
          },
          "colorway": [
           "#636efa",
           "#EF553B",
           "#00cc96",
           "#ab63fa",
           "#FFA15A",
           "#19d3f3",
           "#FF6692",
           "#B6E880",
           "#FF97FF",
           "#FECB52"
          ],
          "font": {
           "color": "#2a3f5f"
          },
          "geo": {
           "bgcolor": "white",
           "lakecolor": "white",
           "landcolor": "#E5ECF6",
           "showlakes": true,
           "showland": true,
           "subunitcolor": "white"
          },
          "hoverlabel": {
           "align": "left"
          },
          "hovermode": "closest",
          "mapbox": {
           "style": "light"
          },
          "paper_bgcolor": "white",
          "plot_bgcolor": "#E5ECF6",
          "polar": {
           "angularaxis": {
            "gridcolor": "white",
            "linecolor": "white",
            "ticks": ""
           },
           "bgcolor": "#E5ECF6",
           "radialaxis": {
            "gridcolor": "white",
            "linecolor": "white",
            "ticks": ""
           }
          },
          "scene": {
           "xaxis": {
            "backgroundcolor": "#E5ECF6",
            "gridcolor": "white",
            "gridwidth": 2,
            "linecolor": "white",
            "showbackground": true,
            "ticks": "",
            "zerolinecolor": "white"
           },
           "yaxis": {
            "backgroundcolor": "#E5ECF6",
            "gridcolor": "white",
            "gridwidth": 2,
            "linecolor": "white",
            "showbackground": true,
            "ticks": "",
            "zerolinecolor": "white"
           },
           "zaxis": {
            "backgroundcolor": "#E5ECF6",
            "gridcolor": "white",
            "gridwidth": 2,
            "linecolor": "white",
            "showbackground": true,
            "ticks": "",
            "zerolinecolor": "white"
           }
          },
          "shapedefaults": {
           "line": {
            "color": "#2a3f5f"
           }
          },
          "ternary": {
           "aaxis": {
            "gridcolor": "white",
            "linecolor": "white",
            "ticks": ""
           },
           "baxis": {
            "gridcolor": "white",
            "linecolor": "white",
            "ticks": ""
           },
           "bgcolor": "#E5ECF6",
           "caxis": {
            "gridcolor": "white",
            "linecolor": "white",
            "ticks": ""
           }
          },
          "title": {
           "x": 0.05
          },
          "xaxis": {
           "automargin": true,
           "gridcolor": "white",
           "linecolor": "white",
           "ticks": "",
           "title": {
            "standoff": 15
           },
           "zerolinecolor": "white",
           "zerolinewidth": 2
          },
          "yaxis": {
           "automargin": true,
           "gridcolor": "white",
           "linecolor": "white",
           "ticks": "",
           "title": {
            "standoff": 15
           },
           "zerolinecolor": "white",
           "zerolinewidth": 2
          }
         }
        },
        "xaxis": {
         "anchor": "y",
         "autorange": true,
         "domain": [
          0,
          1
         ],
         "range": [
          "2022-03-10",
          "2023-04-12"
         ],
         "title": {
          "text": "Date"
         },
         "type": "date"
        },
        "yaxis": {
         "anchor": "x",
         "autorange": true,
         "domain": [
          0,
          1
         ],
         "range": [
          45.446297115749786,
          399.5203853183323
         ],
         "title": {
          "text": "value"
         },
         "type": "linear"
        }
       }
      },
      "image/png": "[encoded data removed]",
      "text/html": [
       "<div>                            <div id=\"03708eeb-f82c-448f-bf9e-6946de6dc884\" class=\"plotly-graph-div\" style=\"height:525px; width:100%;\"></div>            <script type=\"text/javascript\">                require([\"plotly\"], function(Plotly) {                    window.PLOTLYENV=window.PLOTLYENV || {};                                    if (document.getElementById(\"03708eeb-f82c-448f-bf9e-6946de6dc884\")) {                    Plotly.newPlot(                        \"03708eeb-f82c-448f-bf9e-6946de6dc884\",                        [{\"hovertemplate\":\"variable=BABA<br>Date=%{x}<br>value=%{y}<extra></extra>\",\"legendgroup\":\"BABA\",\"line\":{\"color\":\"#636efa\",\"dash\":\"solid\"},\"marker\":{\"symbol\":\"circle\"},\"mode\":\"lines\",\"name\":\"BABA\",\"orientation\":\"v\",\"showlegend\":true,\"x\":[\"2022-03-10T00:00:00\",\"2022-03-11T00:00:00\",\"2022-03-14T00:00:00\",\"2022-03-15T00:00:00\",\"2022-03-16T00:00:00\",\"2022-03-17T00:00:00\",\"2022-03-18T00:00:00\",\"2022-03-21T00:00:00\",\"2022-03-22T00:00:00\",\"2022-03-23T00:00:00\",\"2022-03-24T00:00:00\",\"2022-03-25T00:00:00\",\"2022-03-28T00:00:00\",\"2022-03-29T00:00:00\",\"2022-03-30T00:00:00\",\"2022-03-31T00:00:00\",\"2022-04-01T00:00:00\",\"2022-04-04T00:00:00\",\"2022-04-05T00:00:00\",\"2022-04-06T00:00:00\",\"2022-04-07T00:00:00\",\"2022-04-08T00:00:00\",\"2022-04-11T00:00:00\",\"2022-04-12T00:00:00\",\"2022-04-13T00:00:00\",\"2022-04-14T00:00:00\",\"2022-04-18T00:00:00\",\"2022-04-19T00:00:00\",\"2022-04-20T00:00:00\",\"2022-04-21T00:00:00\",\"2022-04-22T00:00:00\",\"2022-04-25T00:00:00\",\"2022-04-26T00:00:00\",\"2022-04-27T00:00:00\",\"2022-04-28T00:00:00\",\"2022-04-29T00:00:00\",\"2022-05-02T00:00:00\",\"2022-05-03T00:00:00\",\"2022-05-04T00:00:00\",\"2022-05-05T00:00:00\",\"2022-05-06T00:00:00\",\"2022-05-09T00:00:00\",\"2022-05-10T00:00:00\",\"2022-05-11T00:00:00\",\"2022-05-12T00:00:00\",\"2022-05-13T00:00:00\",\"2022-05-16T00:00:00\",\"2022-05-17T00:00:00\",\"2022-05-18T00:00:00\",\"2022-05-19T00:00:00\",\"2022-05-20T00:00:00\",\"2022-05-23T00:00:00\",\"2022-05-24T00:00:00\",\"2022-05-25T00:00:00\",\"2022-05-26T00:00:00\",\"2022-05-27T00:00:00\",\"2022-05-31T00:00:00\",\"2022-06-01T00:00:00\",\"2022-06-02T00:00:00\",\"2022-06-03T00:00:00\",\"2022-06-06T00:00:00\",\"2022-06-07T00:00:00\",\"2022-06-08T00:00:00\",\"2022-06-09T00:00:00\",\"2022-06-10T00:00:00\",\"2022-06-13T00:00:00\",\"2022-06-14T00:00:00\",\"2022-06-15T00:00:00\",\"2022-06-16T00:00:00\",\"2022-06-17T00:00:00\",\"2022-06-21T00:00:00\",\"2022-06-22T00:00:00\",\"2022-06-23T00:00:00\",\"2022-06-24T00:00:00\",\"2022-06-27T00:00:00\",\"2022-06-28T00:00:00\",\"2022-06-29T00:00:00\",\"2022-06-30T00:00:00\",\"2022-07-01T00:00:00\",\"2022-07-05T00:00:00\",\"2022-07-06T00:00:00\",\"2022-07-07T00:00:00\",\"2022-07-08T00:00:00\",\"2022-07-11T00:00:00\",\"2022-07-12T00:00:00\",\"2022-07-13T00:00:00\",\"2022-07-14T00:00:00\",\"2022-07-15T00:00:00\",\"2022-07-18T00:00:00\",\"2022-07-19T00:00:00\",\"2022-07-20T00:00:00\",\"2022-07-21T00:00:00\",\"2022-07-22T00:00:00\",\"2022-07-25T00:00:00\",\"2022-07-26T00:00:00\",\"2022-07-27T00:00:00\",\"2022-07-28T00:00:00\",\"2022-07-29T00:00:00\",\"2022-08-01T00:00:00\",\"2022-08-02T00:00:00\",\"2022-08-03T00:00:00\",\"2022-08-04T00:00:00\",\"2022-08-05T00:00:00\",\"2022-08-08T00:00:00\",\"2022-08-09T00:00:00\",\"2022-08-10T00:00:00\",\"2022-08-11T00:00:00\",\"2022-08-12T00:00:00\",\"2022-08-15T00:00:00\",\"2022-08-16T00:00:00\",\"2022-08-17T00:00:00\",\"2022-08-18T00:00:00\",\"2022-08-19T00:00:00\",\"2022-08-22T00:00:00\",\"2022-08-23T00:00:00\",\"2022-08-24T00:00:00\",\"2022-08-25T00:00:00\",\"2022-08-26T00:00:00\",\"2022-08-29T00:00:00\",\"2022-08-30T00:00:00\",\"2022-08-31T00:00:00\",\"2022-09-01T00:00:00\",\"2022-09-02T00:00:00\",\"2022-09-06T00:00:00\",\"2022-09-07T00:00:00\",\"2022-09-08T00:00:00\",\"2022-09-09T00:00:00\",\"2022-09-12T00:00:00\",\"2022-09-13T00:00:00\",\"2022-09-14T00:00:00\",\"2022-09-15T00:00:00\",\"2022-09-16T00:00:00\",\"2022-09-19T00:00:00\",\"2022-09-20T00:00:00\",\"2022-09-21T00:00:00\",\"2022-09-22T00:00:00\",\"2022-09-23T00:00:00\",\"2022-09-26T00:00:00\",\"2022-09-27T00:00:00\",\"2022-09-28T00:00:00\",\"2022-09-29T00:00:00\",\"2022-09-30T00:00:00\",\"2022-10-03T00:00:00\",\"2022-10-04T00:00:00\",\"2022-10-05T00:00:00\",\"2022-10-06T00:00:00\",\"2022-10-07T00:00:00\",\"2022-10-10T00:00:00\",\"2022-10-11T00:00:00\",\"2022-10-12T00:00:00\",\"2022-10-13T00:00:00\",\"2022-10-14T00:00:00\",\"2022-10-17T00:00:00\",\"2022-10-18T00:00:00\",\"2022-10-19T00:00:00\",\"2022-10-20T00:00:00\",\"2022-10-21T00:00:00\",\"2022-10-24T00:00:00\",\"2022-10-25T00:00:00\",\"2022-10-26T00:00:00\",\"2022-10-27T00:00:00\",\"2022-10-28T00:00:00\",\"2022-10-31T00:00:00\",\"2022-11-01T00:00:00\",\"2022-11-02T00:00:00\",\"2022-11-03T00:00:00\",\"2022-11-04T00:00:00\",\"2022-11-07T00:00:00\",\"2022-11-08T00:00:00\",\"2022-11-09T00:00:00\",\"2022-11-10T00:00:00\",\"2022-11-11T00:00:00\",\"2022-11-14T00:00:00\",\"2022-11-15T00:00:00\",\"2022-11-16T00:00:00\",\"2022-11-17T00:00:00\",\"2022-11-18T00:00:00\",\"2022-11-21T00:00:00\",\"2022-11-22T00:00:00\",\"2022-11-23T00:00:00\",\"2022-11-25T00:00:00\",\"2022-11-28T00:00:00\",\"2022-11-29T00:00:00\",\"2022-11-30T00:00:00\",\"2022-12-01T00:00:00\",\"2022-12-02T00:00:00\",\"2022-12-05T00:00:00\",\"2022-12-06T00:00:00\",\"2022-12-07T00:00:00\",\"2022-12-08T00:00:00\",\"2022-12-09T00:00:00\",\"2022-12-12T00:00:00\",\"2022-12-13T00:00:00\",\"2022-12-14T00:00:00\",\"2022-12-15T00:00:00\",\"2022-12-16T00:00:00\",\"2022-12-19T00:00:00\",\"2022-12-20T00:00:00\",\"2022-12-21T00:00:00\",\"2022-12-22T00:00:00\",\"2022-12-23T00:00:00\",\"2022-12-27T00:00:00\",\"2022-12-28T00:00:00\",\"2022-12-29T00:00:00\",\"2022-12-30T00:00:00\",\"2023-01-03T00:00:00\",\"2023-01-04T00:00:00\",\"2023-01-05T00:00:00\",\"2023-01-06T00:00:00\",\"2023-01-09T00:00:00\",\"2023-01-10T00:00:00\",\"2023-01-11T00:00:00\",\"2023-01-12T00:00:00\",\"2023-01-13T00:00:00\",\"2023-01-17T00:00:00\",\"2023-01-18T00:00:00\",\"2023-01-19T00:00:00\",\"2023-01-20T00:00:00\",\"2023-01-23T00:00:00\",\"2023-01-24T00:00:00\",\"2023-01-25T00:00:00\",\"2023-01-26T00:00:00\",\"2023-01-27T00:00:00\",\"2023-01-30T00:00:00\",\"2023-01-31T00:00:00\",\"2023-02-01T00:00:00\",\"2023-02-02T00:00:00\",\"2023-02-03T00:00:00\",\"2023-02-06T00:00:00\",\"2023-02-07T00:00:00\",\"2023-02-08T00:00:00\",\"2023-02-09T00:00:00\",\"2023-02-10T00:00:00\",\"2023-02-13T00:00:00\",\"2023-02-14T00:00:00\",\"2023-02-15T00:00:00\",\"2023-02-16T00:00:00\",\"2023-02-17T00:00:00\",\"2023-02-21T00:00:00\",\"2023-02-22T00:00:00\",\"2023-02-23T00:00:00\",\"2023-02-24T00:00:00\",\"2023-02-27T00:00:00\",\"2023-02-28T00:00:00\",\"2023-03-01T00:00:00\",\"2023-03-02T00:00:00\",\"2023-03-03T00:00:00\",\"2023-03-06T00:00:00\",\"2023-03-07T00:00:00\",\"2023-03-08T00:00:00\",\"2023-03-09T00:00:00\",\"2023-03-10T00:00:00\",\"2023-03-13T00:00:00\",\"2023-03-14T00:00:00\",\"2023-03-15T00:00:00\",\"2023-03-16T00:00:00\",\"2023-03-17T00:00:00\",\"2023-03-20T00:00:00\",\"2023-03-21T00:00:00\",\"2023-03-22T00:00:00\",\"2023-03-23T00:00:00\",\"2023-03-24T00:00:00\",\"2023-03-27T00:00:00\",\"2023-03-28T00:00:00\",\"2023-03-29T00:00:00\",\"2023-03-30T00:00:00\",\"2023-03-31T00:00:00\",\"2023-04-03T00:00:00\",\"2023-04-04T00:00:00\",\"2023-04-05T00:00:00\",\"2023-04-06T00:00:00\",\"2023-04-10T00:00:00\",\"2023-04-11T00:00:00\",\"2023-04-12T00:00:00\"],\"xaxis\":\"x\",\"y\":[92.91999816894531,86.70999908447266,77.76000213623047,76.76000213623047,104.9800033569336,100.37000274658203,108.30000305175781,103.58999633789062,114.98999786376953,117.23999786376953,115.1500015258789,112.98999786376953,115.08999633789062,116.70999908447266,116.58000183105469,108.80000305175781,110.19999694824219,117.5,111.0,107.68000030517578,104.2699966430664,103.52999877929688,101.55000305175781,99.75,100.02999877929688,95.48999786376953,94.70999908447266,93.5,89.41000366210938,85.98999786376953,86.48999786376953,85.83999633789062,83.98999786376953,88.31999969482422,90.91000366210938,97.08999633789062,101.20999908447266,100.37999725341797,101.41000366210938,94.63999938964844,90.05000305175781,84.83999633789062,84.56999969482422,81.7300033569336,81.08999633789062,87.98999786376953,86.4800033569336,91.98999786376953,87.30999755859375,87.69000244140625,86.79000091552734,87.2300033569336,82.47000122070312,82.30999755859375,94.4800033569336,93.41000366210938,96.05000305175781,93.37999725341797,97.5,93.20999908447266,99.01000213623047,104.31999969482422,119.62000274658203,109.9000015258789,109.83999633789062,98.5199966430664,105.2300033569336,108.02999877929688,101.44999694824219,102.23999786376953,106.38999938964844,105.1500015258789,112.11000061035156,117.62000274658203,118.7300033569336,116.76000213623047,116.02999877929688,113.68000030517578,116.0,120.12999725341797,119.12000274658203,122.38999938964844,120.9000015258789,109.56999969482422,109.20999908447266,109.0999984741211,103.76000213623047,102.44000244140625,103.13999938964844,104.75,103.95999908447266,105.12999725341797,100.61000061035156,101.05999755859375,101.44000244140625,102.77999877929688,100.55000305175781,89.37000274658203,90.33999633789062,92.62000274658203,95.72000122070312,97.43000030517578,92.55999755859375,90.83999633789062,91.19000244140625,92.43000030517578,94.87000274658203,94.7699966430664,94.19999694824219,92.6500015258789,89.7699966430664,90.73999786376953,89.62999725341797,90.02999877929688,89.83000183105469,92.5199966430664,99.88999938964844,98.0,96.5999984741211,93.83999633789062,95.41000366210938,93.70999908447266,91.80000305175781,88.44999694824219,90.5999984741211,89.5199966430664,92.13999938964844,94.69000244140625,89.47000122070312,88.91999816894531,88.83000183105469,86.43000030517578,87.66000366210938,85.80000305175781,81.5999984741211,80.70999908447266,78.80000305175781,78.91000366210938,77.87000274658203,80.98999786376953,79.05999755859375,79.98999786376953,80.44999694824219,84.11000061035156,84.38999938964844,84.31999969482422,81.23999786376953,79.23999786376953,75.37000274658203,75.7300033569336,75.01000213623047,73.0199966430664,76.7699966430664,76.33999633789062,71.2699966430664,72.0199966430664,72.18000030517578,63.150001525878906,63.220001220703125,68.51000213623047,65.83999633789062,63.7400016784668,63.58000183105469,65.86000061035156,64.69999694824219,65.20999908447266,69.80999755859375,69.70999908447266,68.12999725341797,64.83999633789062,69.7699966430664,70.7699966430664,71.33000183105469,79.30000305175781,78.16000366210938,84.26000213623047,80.4800033569336,76.93000030517578,75.98999786376953,78.5,75.5,75.87999725341797,79.86000061035156,87.55999755859375,85.94000244140625,90.05999755859375,90.5199966430664,91.44999694824219,88.33000183105469,94.16999816894531,91.33999633789062,89.41000366210938,91.41000366210938,90.91000366210938,86.20999908447266,86.79000091552734,87.16000366210938,85.91999816894531,87.80999755859375,87.97000122070312,85.6500015258789,89.86000061035156,87.19999694824219,89.12999725341797,88.08999633789062,91.9800033569336,103.91999816894531,104.58000183105469,107.4000015258789,110.83000183105469,114.87999725341797,115.0199966430664,113.1500015258789,117.01000213623047,115.19000244140625,113.22000122070312,116.58000183105469,119.86000061035156,119.52999877929688,119.44000244140625,120.25,120.56999969482422,118.37999725341797,111.19999694824219,110.19999694824219,112.81999969482422,109.73999786376953,106.33000183105469,105.44999694824219,105.5,105.11000061035156,108.45999908447266,103.6500015258789,104.79000091552734,104.22000122070312,103.08000183105469,103.11000061035156,100.01000213623047,95.0999984741211,94.77999877929688,94.16000366210938,89.0,89.25,87.79000091552734,89.94999694824219,89.75,89.69999694824219,89.62000274658203,88.7300033569336,86.94999694824219,83.37000274658203,82.95999908447266,82.9000015258789,83.8499984741211,81.51000213623047,82.22000122070312,81.66999816894531,81.0,83.69999694824219,83.6500015258789,86.5199966430664,86.9000015258789,86.12000274658203,98.4000015258789,99.91999816894531,103.37999725341797,102.18000030517578,98.38999938964844,100.72000122070312,98.55000305175781,102.73999786376953,101.54000091552734,99.76000213623047,93.83999633789062],\"yaxis\":\"y\",\"type\":\"scatter\"},{\"hovertemplate\":\"variable=GOOG<br>Date=%{x}<br>value=%{y}<extra></extra>\",\"legendgroup\":\"GOOG\",\"line\":{\"color\":\"#EF553B\",\"dash\":\"solid\"},\"marker\":{\"symbol\":\"circle\"},\"mode\":\"lines\",\"name\":\"GOOG\",\"orientation\":\"v\",\"showlegend\":true,\"x\":[\"2022-03-10T00:00:00\",\"2022-03-11T00:00:00\",\"2022-03-14T00:00:00\",\"2022-03-15T00:00:00\",\"2022-03-16T00:00:00\",\"2022-03-17T00:00:00\",\"2022-03-18T00:00:00\",\"2022-03-21T00:00:00\",\"2022-03-22T00:00:00\",\"2022-03-23T00:00:00\",\"2022-03-24T00:00:00\",\"2022-03-25T00:00:00\",\"2022-03-28T00:00:00\",\"2022-03-29T00:00:00\",\"2022-03-30T00:00:00\",\"2022-03-31T00:00:00\",\"2022-04-01T00:00:00\",\"2022-04-04T00:00:00\",\"2022-04-05T00:00:00\",\"2022-04-06T00:00:00\",\"2022-04-07T00:00:00\",\"2022-04-08T00:00:00\",\"2022-04-11T00:00:00\",\"2022-04-12T00:00:00\",\"2022-04-13T00:00:00\",\"2022-04-14T00:00:00\",\"2022-04-18T00:00:00\",\"2022-04-19T00:00:00\",\"2022-04-20T00:00:00\",\"2022-04-21T00:00:00\",\"2022-04-22T00:00:00\",\"2022-04-25T00:00:00\",\"2022-04-26T00:00:00\",\"2022-04-27T00:00:00\",\"2022-04-28T00:00:00\",\"2022-04-29T00:00:00\",\"2022-05-02T00:00:00\",\"2022-05-03T00:00:00\",\"2022-05-04T00:00:00\",\"2022-05-05T00:00:00\",\"2022-05-06T00:00:00\",\"2022-05-09T00:00:00\",\"2022-05-10T00:00:00\",\"2022-05-11T00:00:00\",\"2022-05-12T00:00:00\",\"2022-05-13T00:00:00\",\"2022-05-16T00:00:00\",\"2022-05-17T00:00:00\",\"2022-05-18T00:00:00\",\"2022-05-19T00:00:00\",\"2022-05-20T00:00:00\",\"2022-05-23T00:00:00\",\"2022-05-24T00:00:00\",\"2022-05-25T00:00:00\",\"2022-05-26T00:00:00\",\"2022-05-27T00:00:00\",\"2022-05-31T00:00:00\",\"2022-06-01T00:00:00\",\"2022-06-02T00:00:00\",\"2022-06-03T00:00:00\",\"2022-06-06T00:00:00\",\"2022-06-07T00:00:00\",\"2022-06-08T00:00:00\",\"2022-06-09T00:00:00\",\"2022-06-10T00:00:00\",\"2022-06-13T00:00:00\",\"2022-06-14T00:00:00\",\"2022-06-15T00:00:00\",\"2022-06-16T00:00:00\",\"2022-06-17T00:00:00\",\"2022-06-21T00:00:00\",\"2022-06-22T00:00:00\",\"2022-06-23T00:00:00\",\"2022-06-24T00:00:00\",\"2022-06-27T00:00:00\",\"2022-06-28T00:00:00\",\"2022-06-29T00:00:00\",\"2022-06-30T00:00:00\",\"2022-07-01T00:00:00\",\"2022-07-05T00:00:00\",\"2022-07-06T00:00:00\",\"2022-07-07T00:00:00\",\"2022-07-08T00:00:00\",\"2022-07-11T00:00:00\",\"2022-07-12T00:00:00\",\"2022-07-13T00:00:00\",\"2022-07-14T00:00:00\",\"2022-07-15T00:00:00\",\"2022-07-18T00:00:00\",\"2022-07-19T00:00:00\",\"2022-07-20T00:00:00\",\"2022-07-21T00:00:00\",\"2022-07-22T00:00:00\",\"2022-07-25T00:00:00\",\"2022-07-26T00:00:00\",\"2022-07-27T00:00:00\",\"2022-07-28T00:00:00\",\"2022-07-29T00:00:00\",\"2022-08-01T00:00:00\",\"2022-08-02T00:00:00\",\"2022-08-03T00:00:00\",\"2022-08-04T00:00:00\",\"2022-08-05T00:00:00\",\"2022-08-08T00:00:00\",\"2022-08-09T00:00:00\",\"2022-08-10T00:00:00\",\"2022-08-11T00:00:00\",\"2022-08-12T00:00:00\",\"2022-08-15T00:00:00\",\"2022-08-16T00:00:00\",\"2022-08-17T00:00:00\",\"2022-08-18T00:00:00\",\"2022-08-19T00:00:00\",\"2022-08-22T00:00:00\",\"2022-08-23T00:00:00\",\"2022-08-24T00:00:00\",\"2022-08-25T00:00:00\",\"2022-08-26T00:00:00\",\"2022-08-29T00:00:00\",\"2022-08-30T00:00:00\",\"2022-08-31T00:00:00\",\"2022-09-01T00:00:00\",\"2022-09-02T00:00:00\",\"2022-09-06T00:00:00\",\"2022-09-07T00:00:00\",\"2022-09-08T00:00:00\",\"2022-09-09T00:00:00\",\"2022-09-12T00:00:00\",\"2022-09-13T00:00:00\",\"2022-09-14T00:00:00\",\"2022-09-15T00:00:00\",\"2022-09-16T00:00:00\",\"2022-09-19T00:00:00\",\"2022-09-20T00:00:00\",\"2022-09-21T00:00:00\",\"2022-09-22T00:00:00\",\"2022-09-23T00:00:00\",\"2022-09-26T00:00:00\",\"2022-09-27T00:00:00\",\"2022-09-28T00:00:00\",\"2022-09-29T00:00:00\",\"2022-09-30T00:00:00\",\"2022-10-03T00:00:00\",\"2022-10-04T00:00:00\",\"2022-10-05T00:00:00\",\"2022-10-06T00:00:00\",\"2022-10-07T00:00:00\",\"2022-10-10T00:00:00\",\"2022-10-11T00:00:00\",\"2022-10-12T00:00:00\",\"2022-10-13T00:00:00\",\"2022-10-14T00:00:00\",\"2022-10-17T00:00:00\",\"2022-10-18T00:00:00\",\"2022-10-19T00:00:00\",\"2022-10-20T00:00:00\",\"2022-10-21T00:00:00\",\"2022-10-24T00:00:00\",\"2022-10-25T00:00:00\",\"2022-10-26T00:00:00\",\"2022-10-27T00:00:00\",\"2022-10-28T00:00:00\",\"2022-10-31T00:00:00\",\"2022-11-01T00:00:00\",\"2022-11-02T00:00:00\",\"2022-11-03T00:00:00\",\"2022-11-04T00:00:00\",\"2022-11-07T00:00:00\",\"2022-11-08T00:00:00\",\"2022-11-09T00:00:00\",\"2022-11-10T00:00:00\",\"2022-11-11T00:00:00\",\"2022-11-14T00:00:00\",\"2022-11-15T00:00:00\",\"2022-11-16T00:00:00\",\"2022-11-17T00:00:00\",\"2022-11-18T00:00:00\",\"2022-11-21T00:00:00\",\"2022-11-22T00:00:00\",\"2022-11-23T00:00:00\",\"2022-11-25T00:00:00\",\"2022-11-28T00:00:00\",\"2022-11-29T00:00:00\",\"2022-11-30T00:00:00\",\"2022-12-01T00:00:00\",\"2022-12-02T00:00:00\",\"2022-12-05T00:00:00\",\"2022-12-06T00:00:00\",\"2022-12-07T00:00:00\",\"2022-12-08T00:00:00\",\"2022-12-09T00:00:00\",\"2022-12-12T00:00:00\",\"2022-12-13T00:00:00\",\"2022-12-14T00:00:00\",\"2022-12-15T00:00:00\",\"2022-12-16T00:00:00\",\"2022-12-19T00:00:00\",\"2022-12-20T00:00:00\",\"2022-12-21T00:00:00\",\"2022-12-22T00:00:00\",\"2022-12-23T00:00:00\",\"2022-12-27T00:00:00\",\"2022-12-28T00:00:00\",\"2022-12-29T00:00:00\",\"2022-12-30T00:00:00\",\"2023-01-03T00:00:00\",\"2023-01-04T00:00:00\",\"2023-01-05T00:00:00\",\"2023-01-06T00:00:00\",\"2023-01-09T00:00:00\",\"2023-01-10T00:00:00\",\"2023-01-11T00:00:00\",\"2023-01-12T00:00:00\",\"2023-01-13T00:00:00\",\"2023-01-17T00:00:00\",\"2023-01-18T00:00:00\",\"2023-01-19T00:00:00\",\"2023-01-20T00:00:00\",\"2023-01-23T00:00:00\",\"2023-01-24T00:00:00\",\"2023-01-25T00:00:00\",\"2023-01-26T00:00:00\",\"2023-01-27T00:00:00\",\"2023-01-30T00:00:00\",\"2023-01-31T00:00:00\",\"2023-02-01T00:00:00\",\"2023-02-02T00:00:00\",\"2023-02-03T00:00:00\",\"2023-02-06T00:00:00\",\"2023-02-07T00:00:00\",\"2023-02-08T00:00:00\",\"2023-02-09T00:00:00\",\"2023-02-10T00:00:00\",\"2023-02-13T00:00:00\",\"2023-02-14T00:00:00\",\"2023-02-15T00:00:00\",\"2023-02-16T00:00:00\",\"2023-02-17T00:00:00\",\"2023-02-21T00:00:00\",\"2023-02-22T00:00:00\",\"2023-02-23T00:00:00\",\"2023-02-24T00:00:00\",\"2023-02-27T00:00:00\",\"2023-02-28T00:00:00\",\"2023-03-01T00:00:00\",\"2023-03-02T00:00:00\",\"2023-03-03T00:00:00\",\"2023-03-06T00:00:00\",\"2023-03-07T00:00:00\",\"2023-03-08T00:00:00\",\"2023-03-09T00:00:00\",\"2023-03-10T00:00:00\",\"2023-03-13T00:00:00\",\"2023-03-14T00:00:00\",\"2023-03-15T00:00:00\",\"2023-03-16T00:00:00\",\"2023-03-17T00:00:00\",\"2023-03-20T00:00:00\",\"2023-03-21T00:00:00\",\"2023-03-22T00:00:00\",\"2023-03-23T00:00:00\",\"2023-03-24T00:00:00\",\"2023-03-27T00:00:00\",\"2023-03-28T00:00:00\",\"2023-03-29T00:00:00\",\"2023-03-30T00:00:00\",\"2023-03-31T00:00:00\",\"2023-04-03T00:00:00\",\"2023-04-04T00:00:00\",\"2023-04-05T00:00:00\",\"2023-04-06T00:00:00\",\"2023-04-10T00:00:00\",\"2023-04-11T00:00:00\",\"2023-04-12T00:00:00\"],\"xaxis\":\"x\",\"y\":[132.6820068359375,130.47549438476562,126.74099731445312,129.66050720214844,133.6905059814453,134.60049438476562,136.80149841308594,136.47850036621094,140.27749633789062,138.5034942626953,141.31199645996094,141.52149963378906,141.9499969482422,143.25,142.64450073242188,139.64950561523438,140.6999969482422,143.6425018310547,141.06300354003906,137.17599487304688,136.46499633789062,134.010498046875,129.79649353027344,128.37449645996094,130.28599548339844,127.25299835205078,127.96099853515625,130.531005859375,128.24549865722656,124.9375,119.61399841308594,123.25,119.50599670410156,115.02050018310547,119.4114990234375,114.96649932861328,117.15699768066406,118.12950134277344,122.57499694824219,116.74649810791016,115.66000366210938,113.08399963378906,114.58450317382812,113.96099853515625,113.16100311279297,116.5155029296875,114.7925033569336,116.70149993896484,112.4010009765625,110.74549865722656,109.31300354003906,111.66649627685547,105.9260025024414,105.8395004272461,108.2959976196289,112.79900360107422,114.03900146484375,114.13700103759766,117.74600219726562,114.56400299072266,117.010498046875,117.22949981689453,117.23799896240234,114.91799926757812,111.42749786376953,106.87650299072266,107.19400024414062,110.3905029296875,106.63600158691406,107.8655014038086,112.01499938964844,112.03399658203125,112.68450164794922,118.53800201416016,116.62249755859375,112.57150268554688,112.25650024414062,109.37249755859375,109.08100128173828,113.88700103759766,115.2135009765625,119.30599975585938,120.16850280761719,116.52249908447266,114.84950256347656,112.18699645996094,111.44000244140625,112.76699829101562,109.91000366210938,114.62000274658203,114.69999694824219,115.04000091552734,108.36000061035156,108.20999908447266,105.44000244140625,113.5999984741211,114.58999633789062,116.63999938964844,115.4800033569336,115.9000015258789,118.77999877929688,118.87000274658203,118.22000122070312,118.13999938964844,117.5,120.6500015258789,119.81999969482422,122.6500015258789,122.87999725341797,122.51000213623047,120.31999969482422,120.86000061035156,118.12000274658203,115.06999969482422,114.7699966430664,114.69999694824219,117.69999694824219,111.30000305175781,110.33999633789062,109.91000366210938,109.1500015258789,110.55000305175781,108.68000030517578,107.4800033569336,110.4800033569336,109.41999816894531,111.77999877929688,111.87000274658203,105.30999755859375,105.87000274658203,103.9000015258789,103.62999725341797,103.8499984741211,101.83000183105469,100.01000213623047,100.56999969482422,99.16999816894531,98.80999755859375,98.08999633789062,100.73999786376953,98.08999633789062,96.1500015258789,99.30000305175781,102.41000366210938,102.22000122070312,102.23999786376953,99.56999969482422,98.70999908447266,98.05000305175781,98.30000305175781,99.70999908447266,97.18000030517578,100.77999877929688,101.38999938964844,100.29000091552734,100.52999877929688,101.4800033569336,102.97000122070312,104.93000030517578,94.81999969482422,92.5999984741211,96.58000183105469,94.66000366210938,90.5,87.06999969482422,83.48999786376953,86.69999694824219,88.6500015258789,88.91000366210938,87.4000015258789,94.16999816894531,96.7300033569336,96.02999877929688,98.72000122070312,98.98999786376953,98.5,97.80000305175781,95.83000183105469,97.33000183105469,98.81999969482422,97.5999984741211,96.25,95.44000244140625,101.44999694824219,101.27999877929688,100.83000183105469,99.87000274658203,97.30999755859375,95.1500015258789,93.94999694824219,93.06999969482422,93.55999755859375,95.8499984741211,95.30999755859375,91.19999694824219,90.86000061035156,89.1500015258789,89.62999725341797,90.25,88.26000213623047,89.80999755859375,87.93000030517578,86.45999908447266,88.94999694824219,88.7300033569336,89.69999694824219,88.70999908447266,86.7699966430664,88.16000366210938,88.80000305175781,89.23999786376953,92.26000213623047,91.91000366210938,92.80000305175781,92.16000366210938,91.77999877929688,93.91000366210938,99.27999877929688,101.20999908447266,99.20999908447266,96.7300033569336,99.16000366210938,100.70999908447266,97.94999694824219,99.87000274658203,101.43000030517578,108.80000305175781,105.22000122070312,103.47000122070312,108.04000091552734,100.0,95.45999908447266,94.86000061035156,95.0,94.94999694824219,97.0999984741211,95.77999877929688,94.58999633789062,92.05000305175781,91.80000305175781,91.06999969482422,89.3499984741211,90.0999984741211,90.30000305175781,90.51000213623047,92.30999755859375,94.0199966430664,95.58000183105469,94.16999816894531,94.6500015258789,92.66000366210938,91.01000213623047,91.66000366210938,94.25,96.55000305175781,101.06999969482422,102.45999908447266,101.93000030517578,105.83999633789062,104.22000122070312,106.26000213623047,106.05999755859375,103.05999755859375,101.36000061035156,101.9000015258789,101.31999969482422,104.0,104.91000366210938,105.12000274658203,104.94999694824219,108.9000015258789,106.94999694824219,106.12000274658203,105.22000122070312],\"yaxis\":\"y\",\"type\":\"scatter\"},{\"hovertemplate\":\"variable=TSLA<br>Date=%{x}<br>value=%{y}<extra></extra>\",\"legendgroup\":\"TSLA\",\"line\":{\"color\":\"#00cc96\",\"dash\":\"solid\"},\"marker\":{\"symbol\":\"circle\"},\"mode\":\"lines\",\"name\":\"TSLA\",\"orientation\":\"v\",\"showlegend\":true,\"x\":[\"2022-03-10T00:00:00\",\"2022-03-11T00:00:00\",\"2022-03-14T00:00:00\",\"2022-03-15T00:00:00\",\"2022-03-16T00:00:00\",\"2022-03-17T00:00:00\",\"2022-03-18T00:00:00\",\"2022-03-21T00:00:00\",\"2022-03-22T00:00:00\",\"2022-03-23T00:00:00\",\"2022-03-24T00:00:00\",\"2022-03-25T00:00:00\",\"2022-03-28T00:00:00\",\"2022-03-29T00:00:00\",\"2022-03-30T00:00:00\",\"2022-03-31T00:00:00\",\"2022-04-01T00:00:00\",\"2022-04-04T00:00:00\",\"2022-04-05T00:00:00\",\"2022-04-06T00:00:00\",\"2022-04-07T00:00:00\",\"2022-04-08T00:00:00\",\"2022-04-11T00:00:00\",\"2022-04-12T00:00:00\",\"2022-04-13T00:00:00\",\"2022-04-14T00:00:00\",\"2022-04-18T00:00:00\",\"2022-04-19T00:00:00\",\"2022-04-20T00:00:00\",\"2022-04-21T00:00:00\",\"2022-04-22T00:00:00\",\"2022-04-25T00:00:00\",\"2022-04-26T00:00:00\",\"2022-04-27T00:00:00\",\"2022-04-28T00:00:00\",\"2022-04-29T00:00:00\",\"2022-05-02T00:00:00\",\"2022-05-03T00:00:00\",\"2022-05-04T00:00:00\",\"2022-05-05T00:00:00\",\"2022-05-06T00:00:00\",\"2022-05-09T00:00:00\",\"2022-05-10T00:00:00\",\"2022-05-11T00:00:00\",\"2022-05-12T00:00:00\",\"2022-05-13T00:00:00\",\"2022-05-16T00:00:00\",\"2022-05-17T00:00:00\",\"2022-05-18T00:00:00\",\"2022-05-19T00:00:00\",\"2022-05-20T00:00:00\",\"2022-05-23T00:00:00\",\"2022-05-24T00:00:00\",\"2022-05-25T00:00:00\",\"2022-05-26T00:00:00\",\"2022-05-27T00:00:00\",\"2022-05-31T00:00:00\",\"2022-06-01T00:00:00\",\"2022-06-02T00:00:00\",\"2022-06-03T00:00:00\",\"2022-06-06T00:00:00\",\"2022-06-07T00:00:00\",\"2022-06-08T00:00:00\",\"2022-06-09T00:00:00\",\"2022-06-10T00:00:00\",\"2022-06-13T00:00:00\",\"2022-06-14T00:00:00\",\"2022-06-15T00:00:00\",\"2022-06-16T00:00:00\",\"2022-06-17T00:00:00\",\"2022-06-21T00:00:00\",\"2022-06-22T00:00:00\",\"2022-06-23T00:00:00\",\"2022-06-24T00:00:00\",\"2022-06-27T00:00:00\",\"2022-06-28T00:00:00\",\"2022-06-29T00:00:00\",\"2022-06-30T00:00:00\",\"2022-07-01T00:00:00\",\"2022-07-05T00:00:00\",\"2022-07-06T00:00:00\",\"2022-07-07T00:00:00\",\"2022-07-08T00:00:00\",\"2022-07-11T00:00:00\",\"2022-07-12T00:00:00\",\"2022-07-13T00:00:00\",\"2022-07-14T00:00:00\",\"2022-07-15T00:00:00\",\"2022-07-18T00:00:00\",\"2022-07-19T00:00:00\",\"2022-07-20T00:00:00\",\"2022-07-21T00:00:00\",\"2022-07-22T00:00:00\",\"2022-07-25T00:00:00\",\"2022-07-26T00:00:00\",\"2022-07-27T00:00:00\",\"2022-07-28T00:00:00\",\"2022-07-29T00:00:00\",\"2022-08-01T00:00:00\",\"2022-08-02T00:00:00\",\"2022-08-03T00:00:00\",\"2022-08-04T00:00:00\",\"2022-08-05T00:00:00\",\"2022-08-08T00:00:00\",\"2022-08-09T00:00:00\",\"2022-08-10T00:00:00\",\"2022-08-11T00:00:00\",\"2022-08-12T00:00:00\",\"2022-08-15T00:00:00\",\"2022-08-16T00:00:00\",\"2022-08-17T00:00:00\",\"2022-08-18T00:00:00\",\"2022-08-19T00:00:00\",\"2022-08-22T00:00:00\",\"2022-08-23T00:00:00\",\"2022-08-24T00:00:00\",\"2022-08-25T00:00:00\",\"2022-08-26T00:00:00\",\"2022-08-29T00:00:00\",\"2022-08-30T00:00:00\",\"2022-08-31T00:00:00\",\"2022-09-01T00:00:00\",\"2022-09-02T00:00:00\",\"2022-09-06T00:00:00\",\"2022-09-07T00:00:00\",\"2022-09-08T00:00:00\",\"2022-09-09T00:00:00\",\"2022-09-12T00:00:00\",\"2022-09-13T00:00:00\",\"2022-09-14T00:00:00\",\"2022-09-15T00:00:00\",\"2022-09-16T00:00:00\",\"2022-09-19T00:00:00\",\"2022-09-20T00:00:00\",\"2022-09-21T00:00:00\",\"2022-09-22T00:00:00\",\"2022-09-23T00:00:00\",\"2022-09-26T00:00:00\",\"2022-09-27T00:00:00\",\"2022-09-28T00:00:00\",\"2022-09-29T00:00:00\",\"2022-09-30T00:00:00\",\"2022-10-03T00:00:00\",\"2022-10-04T00:00:00\",\"2022-10-05T00:00:00\",\"2022-10-06T00:00:00\",\"2022-10-07T00:00:00\",\"2022-10-10T00:00:00\",\"2022-10-11T00:00:00\",\"2022-10-12T00:00:00\",\"2022-10-13T00:00:00\",\"2022-10-14T00:00:00\",\"2022-10-17T00:00:00\",\"2022-10-18T00:00:00\",\"2022-10-19T00:00:00\",\"2022-10-20T00:00:00\",\"2022-10-21T00:00:00\",\"2022-10-24T00:00:00\",\"2022-10-25T00:00:00\",\"2022-10-26T00:00:00\",\"2022-10-27T00:00:00\",\"2022-10-28T00:00:00\",\"2022-10-31T00:00:00\",\"2022-11-01T00:00:00\",\"2022-11-02T00:00:00\",\"2022-11-03T00:00:00\",\"2022-11-04T00:00:00\",\"2022-11-07T00:00:00\",\"2022-11-08T00:00:00\",\"2022-11-09T00:00:00\",\"2022-11-10T00:00:00\",\"2022-11-11T00:00:00\",\"2022-11-14T00:00:00\",\"2022-11-15T00:00:00\",\"2022-11-16T00:00:00\",\"2022-11-17T00:00:00\",\"2022-11-18T00:00:00\",\"2022-11-21T00:00:00\",\"2022-11-22T00:00:00\",\"2022-11-23T00:00:00\",\"2022-11-25T00:00:00\",\"2022-11-28T00:00:00\",\"2022-11-29T00:00:00\",\"2022-11-30T00:00:00\",\"2022-12-01T00:00:00\",\"2022-12-02T00:00:00\",\"2022-12-05T00:00:00\",\"2022-12-06T00:00:00\",\"2022-12-07T00:00:00\",\"2022-12-08T00:00:00\",\"2022-12-09T00:00:00\",\"2022-12-12T00:00:00\",\"2022-12-13T00:00:00\",\"2022-12-14T00:00:00\",\"2022-12-15T00:00:00\",\"2022-12-16T00:00:00\",\"2022-12-19T00:00:00\",\"2022-12-20T00:00:00\",\"2022-12-21T00:00:00\",\"2022-12-22T00:00:00\",\"2022-12-23T00:00:00\",\"2022-12-27T00:00:00\",\"2022-12-28T00:00:00\",\"2022-12-29T00:00:00\",\"2022-12-30T00:00:00\",\"2023-01-03T00:00:00\",\"2023-01-04T00:00:00\",\"2023-01-05T00:00:00\",\"2023-01-06T00:00:00\",\"2023-01-09T00:00:00\",\"2023-01-10T00:00:00\",\"2023-01-11T00:00:00\",\"2023-01-12T00:00:00\",\"2023-01-13T00:00:00\",\"2023-01-17T00:00:00\",\"2023-01-18T00:00:00\",\"2023-01-19T00:00:00\",\"2023-01-20T00:00:00\",\"2023-01-23T00:00:00\",\"2023-01-24T00:00:00\",\"2023-01-25T00:00:00\",\"2023-01-26T00:00:00\",\"2023-01-27T00:00:00\",\"2023-01-30T00:00:00\",\"2023-01-31T00:00:00\",\"2023-02-01T00:00:00\",\"2023-02-02T00:00:00\",\"2023-02-03T00:00:00\",\"2023-02-06T00:00:00\",\"2023-02-07T00:00:00\",\"2023-02-08T00:00:00\",\"2023-02-09T00:00:00\",\"2023-02-10T00:00:00\",\"2023-02-13T00:00:00\",\"2023-02-14T00:00:00\",\"2023-02-15T00:00:00\",\"2023-02-16T00:00:00\",\"2023-02-17T00:00:00\",\"2023-02-21T00:00:00\",\"2023-02-22T00:00:00\",\"2023-02-23T00:00:00\",\"2023-02-24T00:00:00\",\"2023-02-27T00:00:00\",\"2023-02-28T00:00:00\",\"2023-03-01T00:00:00\",\"2023-03-02T00:00:00\",\"2023-03-03T00:00:00\",\"2023-03-06T00:00:00\",\"2023-03-07T00:00:00\",\"2023-03-08T00:00:00\",\"2023-03-09T00:00:00\",\"2023-03-10T00:00:00\",\"2023-03-13T00:00:00\",\"2023-03-14T00:00:00\",\"2023-03-15T00:00:00\",\"2023-03-16T00:00:00\",\"2023-03-17T00:00:00\",\"2023-03-20T00:00:00\",\"2023-03-21T00:00:00\",\"2023-03-22T00:00:00\",\"2023-03-23T00:00:00\",\"2023-03-24T00:00:00\",\"2023-03-27T00:00:00\",\"2023-03-28T00:00:00\",\"2023-03-29T00:00:00\",\"2023-03-30T00:00:00\",\"2023-03-31T00:00:00\",\"2023-04-03T00:00:00\",\"2023-04-04T00:00:00\",\"2023-04-05T00:00:00\",\"2023-04-06T00:00:00\",\"2023-04-10T00:00:00\",\"2023-04-11T00:00:00\",\"2023-04-12T00:00:00\"],\"xaxis\":\"x\",\"y\":[279.4333190917969,265.1166687011719,255.4566650390625,267.2966613769531,280.07666015625,290.5333251953125,301.7966613769531,307.0533447265625,331.32666015625,333.03668212890625,337.97332763671875,336.8800048828125,363.9466552734375,366.5233459472656,364.663330078125,359.20001220703125,361.5299987792969,381.8166809082031,363.7533264160156,348.586669921875,352.4200134277344,341.8299865722656,325.30999755859375,328.98333740234375,340.7900085449219,328.3333435058594,334.7633361816406,342.7166748046875,325.73333740234375,336.260009765625,335.01666259765625,332.67333984375,292.1400146484375,293.836669921875,292.5033264160156,290.2533264160156,300.9800109863281,303.0833435058594,317.5400085449219,291.09332275390625,288.54998779296875,262.3699951171875,266.67999267578125,244.6666717529297,242.6666717529297,256.5299987792969,241.4566650390625,253.8699951171875,236.60333251953125,236.47332763671875,221.3000030517578,224.96665954589844,209.3866729736328,219.60000610351562,235.91000366210938,253.2100067138672,252.75332641601562,246.7899932861328,258.3333435058594,234.51666259765625,238.27999877929688,238.8866729736328,241.86666870117188,239.7066650390625,232.22999572753906,215.73666381835938,220.88999938964844,233.0,213.10000610351562,216.75999450683594,237.0366668701172,236.086669921875,235.07000732421875,245.7066650390625,244.9199981689453,232.663330078125,228.49000549316406,224.47332763671875,227.26333618164062,233.06666564941406,231.73333740234375,244.5433349609375,250.76333618164062,234.3433380126953,233.07000732421875,237.0399932861328,238.31333923339844,240.06666564941406,240.54666137695312,245.52999877929688,247.5,271.7066650390625,272.24334716796875,268.4333190917969,258.8599853515625,274.82000732421875,280.8999938964844,297.1499938964844,297.27667236328125,300.586669921875,307.39666748046875,308.6333312988281,288.1700134277344,290.42333984375,283.3333435058594,294.3566589355469,286.6300048828125,300.0299987792969,309.32000732421875,306.5633239746094,303.9966735839844,302.8699951171875,296.6666564941406,289.913330078125,296.4533386230469,297.0966796875,296.07000732421875,288.0899963378906,284.82000732421875,277.70001220703125,275.6099853515625,277.1600036621094,270.2099914550781,274.4200134277344,283.70001220703125,289.260009765625,299.67999267578125,304.4200134277344,292.1300048828125,302.6099853515625,303.75,303.3500061035156,309.07000732421875,308.7300109863281,300.79998779296875,288.5899963378906,275.3299865722656,276.010009765625,282.94000244140625,287.80999755859375,268.2099914550781,265.25,242.39999389648438,249.44000244140625,240.80999755859375,238.1300048828125,223.07000732421875,222.9600067138672,216.5,217.24000549316406,221.72000122070312,204.99000549316406,219.35000610351562,220.19000244140625,222.0399932861328,207.27999877929688,214.44000244140625,211.25,222.4199981689453,224.63999938964844,225.08999633789062,228.52000427246094,227.5399932861328,227.82000732421875,214.97999572753906,215.30999755859375,207.47000122070312,197.0800018310547,191.3000030517578,177.58999633789062,190.72000122070312,195.97000122070312,190.9499969482422,194.4199981689453,186.9199981689453,183.1699981689453,180.19000244140625,167.8699951171875,169.91000366210938,183.1999969482422,182.86000061035156,182.9199981689453,180.8300018310547,194.6999969482422,194.6999969482422,194.86000061035156,182.4499969482422,179.82000732421875,174.0399932861328,173.44000244140625,179.0500030517578,167.82000732421875,160.9499969482422,156.8000030517578,157.6699981689453,150.22999572753906,149.8699951171875,137.8000030517578,137.57000732421875,125.3499984741211,123.1500015258789,109.0999984741211,112.70999908447266,121.81999969482422,123.18000030517578,108.0999984741211,113.63999938964844,110.33999633789062,113.05999755859375,119.7699966430664,118.8499984741211,123.22000122070312,123.55999755859375,122.4000015258789,131.49000549316406,128.77999877929688,127.16999816894531,133.4199981689453,143.75,143.88999938964844,144.42999267578125,160.27000427246094,177.89999389648438,166.66000366210938,173.22000122070312,181.41000366210938,188.27000427246094,189.97999572753906,194.75999450683594,196.80999755859375,201.2899932861328,207.32000732421875,196.88999938964844,194.63999938964844,209.25,214.24000549316406,202.0399932861328,208.30999755859375,197.3699951171875,200.86000061035156,202.07000732421875,196.8800048828125,207.6300048828125,205.7100067138672,202.77000427246094,190.89999389648438,197.7899932861328,193.80999755859375,187.7100067138672,182.0,172.9199981689453,173.44000244140625,174.47999572753906,183.25999450683594,180.4499969482422,184.1300048828125,180.1300048828125,183.25,197.5800018310547,191.14999389648438,192.22000122070312,190.41000366210938,191.80999755859375,189.19000244140625,193.8800048828125,195.27999877929688,207.4600067138672,194.77000427246094,192.5800018310547,185.52000427246094,185.05999755859375,184.50999450683594,186.7899932861328,180.5399932861328],\"yaxis\":\"y\",\"type\":\"scatter\"}],                        {\"template\":{\"data\":{\"histogram2dcontour\":[{\"type\":\"histogram2dcontour\",\"colorbar\":{\"outlinewidth\":0,\"ticks\":\"\"},\"colorscale\":[[0.0,\"#0d0887\"],[0.1111111111111111,\"#46039f\"],[0.2222222222222222,\"#7201a8\"],[0.3333333333333333,\"#9c179e\"],[0.4444444444444444,\"#bd3786\"],[0.5555555555555556,\"#d8576b\"],[0.6666666666666666,\"#ed7953\"],[0.7777777777777778,\"#fb9f3a\"],[0.8888888888888888,\"#fdca26\"],[1.0,\"#f0f921\"]]}],\"choropleth\":[{\"type\":\"choropleth\",\"colorbar\":{\"outlinewidth\":0,\"ticks\":\"\"}}],\"histogram2d\":[{\"type\":\"histogram2d\",\"colorbar\":{\"outlinewidth\":0,\"ticks\":\"\"},\"colorscale\":[[0.0,\"#0d0887\"],[0.1111111111111111,\"#46039f\"],[0.2222222222222222,\"#7201a8\"],[0.3333333333333333,\"#9c179e\"],[0.4444444444444444,\"#bd3786\"],[0.5555555555555556,\"#d8576b\"],[0.6666666666666666,\"#ed7953\"],[0.7777777777777778,\"#fb9f3a\"],[0.8888888888888888,\"#fdca26\"],[1.0,\"#f0f921\"]]}],\"heatmap\":[{\"type\":\"heatmap\",\"colorbar\":{\"outlinewidth\":0,\"ticks\":\"\"},\"colorscale\":[[0.0,\"#0d0887\"],[0.1111111111111111,\"#46039f\"],[0.2222222222222222,\"#7201a8\"],[0.3333333333333333,\"#9c179e\"],[0.4444444444444444,\"#bd3786\"],[0.5555555555555556,\"#d8576b\"],[0.6666666666666666,\"#ed7953\"],[0.7777777777777778,\"#fb9f3a\"],[0.8888888888888888,\"#fdca26\"],[1.0,\"#f0f921\"]]}],\"heatmapgl\":[{\"type\":\"heatmapgl\",\"colorbar\":{\"outlinewidth\":0,\"ticks\":\"\"},\"colorscale\":[[0.0,\"#0d0887\"],[0.1111111111111111,\"#46039f\"],[0.2222222222222222,\"#7201a8\"],[0.3333333333333333,\"#9c179e\"],[0.4444444444444444,\"#bd3786\"],[0.5555555555555556,\"#d8576b\"],[0.6666666666666666,\"#ed7953\"],[0.7777777777777778,\"#fb9f3a\"],[0.8888888888888888,\"#fdca26\"],[1.0,\"#f0f921\"]]}],\"contourcarpet\":[{\"type\":\"contourcarpet\",\"colorbar\":{\"outlinewidth\":0,\"ticks\":\"\"}}],\"contour\":[{\"type\":\"contour\",\"colorbar\":{\"outlinewidth\":0,\"ticks\":\"\"},\"colorscale\":[[0.0,\"#0d0887\"],[0.1111111111111111,\"#46039f\"],[0.2222222222222222,\"#7201a8\"],[0.3333333333333333,\"#9c179e\"],[0.4444444444444444,\"#bd3786\"],[0.5555555555555556,\"#d8576b\"],[0.6666666666666666,\"#ed7953\"],[0.7777777777777778,\"#fb9f3a\"],[0.8888888888888888,\"#fdca26\"],[1.0,\"#f0f921\"]]}],\"surface\":[{\"type\":\"surface\",\"colorbar\":{\"outlinewidth\":0,\"ticks\":\"\"},\"colorscale\":[[0.0,\"#0d0887\"],[0.1111111111111111,\"#46039f\"],[0.2222222222222222,\"#7201a8\"],[0.3333333333333333,\"#9c179e\"],[0.4444444444444444,\"#bd3786\"],[0.5555555555555556,\"#d8576b\"],[0.6666666666666666,\"#ed7953\"],[0.7777777777777778,\"#fb9f3a\"],[0.8888888888888888,\"#fdca26\"],[1.0,\"#f0f921\"]]}],\"mesh3d\":[{\"type\":\"mesh3d\",\"colorbar\":{\"outlinewidth\":0,\"ticks\":\"\"}}],\"scatter\":[{\"fillpattern\":{\"fillmode\":\"overlay\",\"size\":10,\"solidity\":0.2},\"type\":\"scatter\"}],\"parcoords\":[{\"type\":\"parcoords\",\"line\":{\"colorbar\":{\"outlinewidth\":0,\"ticks\":\"\"}}}],\"scatterpolargl\":[{\"type\":\"scatterpolargl\",\"marker\":{\"colorbar\":{\"outlinewidth\":0,\"ticks\":\"\"}}}],\"bar\":[{\"error_x\":{\"color\":\"#2a3f5f\"},\"error_y\":{\"color\":\"#2a3f5f\"},\"marker\":{\"line\":{\"color\":\"#E5ECF6\",\"width\":0.5},\"pattern\":{\"fillmode\":\"overlay\",\"size\":10,\"solidity\":0.2}},\"type\":\"bar\"}],\"scattergeo\":[{\"type\":\"scattergeo\",\"marker\":{\"colorbar\":{\"outlinewidth\":0,\"ticks\":\"\"}}}],\"scatterpolar\":[{\"type\":\"scatterpolar\",\"marker\":{\"colorbar\":{\"outlinewidth\":0,\"ticks\":\"\"}}}],\"histogram\":[{\"marker\":{\"pattern\":{\"fillmode\":\"overlay\",\"size\":10,\"solidity\":0.2}},\"type\":\"histogram\"}],\"scattergl\":[{\"type\":\"scattergl\",\"marker\":{\"colorbar\":{\"outlinewidth\":0,\"ticks\":\"\"}}}],\"scatter3d\":[{\"type\":\"scatter3d\",\"line\":{\"colorbar\":{\"outlinewidth\":0,\"ticks\":\"\"}},\"marker\":{\"colorbar\":{\"outlinewidth\":0,\"ticks\":\"\"}}}],\"scattermapbox\":[{\"type\":\"scattermapbox\",\"marker\":{\"colorbar\":{\"outlinewidth\":0,\"ticks\":\"\"}}}],\"scatterternary\":[{\"type\":\"scatterternary\",\"marker\":{\"colorbar\":{\"outlinewidth\":0,\"ticks\":\"\"}}}],\"scattercarpet\":[{\"type\":\"scattercarpet\",\"marker\":{\"colorbar\":{\"outlinewidth\":0,\"ticks\":\"\"}}}],\"carpet\":[{\"aaxis\":{\"endlinecolor\":\"#2a3f5f\",\"gridcolor\":\"white\",\"linecolor\":\"white\",\"minorgridcolor\":\"white\",\"startlinecolor\":\"#2a3f5f\"},\"baxis\":{\"endlinecolor\":\"#2a3f5f\",\"gridcolor\":\"white\",\"linecolor\":\"white\",\"minorgridcolor\":\"white\",\"startlinecolor\":\"#2a3f5f\"},\"type\":\"carpet\"}],\"table\":[{\"cells\":{\"fill\":{\"color\":\"#EBF0F8\"},\"line\":{\"color\":\"white\"}},\"header\":{\"fill\":{\"color\":\"#C8D4E3\"},\"line\":{\"color\":\"white\"}},\"type\":\"table\"}],\"barpolar\":[{\"marker\":{\"line\":{\"color\":\"#E5ECF6\",\"width\":0.5},\"pattern\":{\"fillmode\":\"overlay\",\"size\":10,\"solidity\":0.2}},\"type\":\"barpolar\"}],\"pie\":[{\"automargin\":true,\"type\":\"pie\"}]},\"layout\":{\"autotypenumbers\":\"strict\",\"colorway\":[\"#636efa\",\"#EF553B\",\"#00cc96\",\"#ab63fa\",\"#FFA15A\",\"#19d3f3\",\"#FF6692\",\"#B6E880\",\"#FF97FF\",\"#FECB52\"],\"font\":{\"color\":\"#2a3f5f\"},\"hovermode\":\"closest\",\"hoverlabel\":{\"align\":\"left\"},\"paper_bgcolor\":\"white\",\"plot_bgcolor\":\"#E5ECF6\",\"polar\":{\"bgcolor\":\"#E5ECF6\",\"angularaxis\":{\"gridcolor\":\"white\",\"linecolor\":\"white\",\"ticks\":\"\"},\"radialaxis\":{\"gridcolor\":\"white\",\"linecolor\":\"white\",\"ticks\":\"\"}},\"ternary\":{\"bgcolor\":\"#E5ECF6\",\"aaxis\":{\"gridcolor\":\"white\",\"linecolor\":\"white\",\"ticks\":\"\"},\"baxis\":{\"gridcolor\":\"white\",\"linecolor\":\"white\",\"ticks\":\"\"},\"caxis\":{\"gridcolor\":\"white\",\"linecolor\":\"white\",\"ticks\":\"\"}},\"coloraxis\":{\"colorbar\":{\"outlinewidth\":0,\"ticks\":\"\"}},\"colorscale\":{\"sequential\":[[0.0,\"#0d0887\"],[0.1111111111111111,\"#46039f\"],[0.2222222222222222,\"#7201a8\"],[0.3333333333333333,\"#9c179e\"],[0.4444444444444444,\"#bd3786\"],[0.5555555555555556,\"#d8576b\"],[0.6666666666666666,\"#ed7953\"],[0.7777777777777778,\"#fb9f3a\"],[0.8888888888888888,\"#fdca26\"],[1.0,\"#f0f921\"]],\"sequentialminus\":[[0.0,\"#0d0887\"],[0.1111111111111111,\"#46039f\"],[0.2222222222222222,\"#7201a8\"],[0.3333333333333333,\"#9c179e\"],[0.4444444444444444,\"#bd3786\"],[0.5555555555555556,\"#d8576b\"],[0.6666666666666666,\"#ed7953\"],[0.7777777777777778,\"#fb9f3a\"],[0.8888888888888888,\"#fdca26\"],[1.0,\"#f0f921\"]],\"diverging\":[[0,\"#8e0152\"],[0.1,\"#c51b7d\"],[0.2,\"#de77ae\"],[0.3,\"#f1b6da\"],[0.4,\"#fde0ef\"],[0.5,\"#f7f7f7\"],[0.6,\"#e6f5d0\"],[0.7,\"#b8e186\"],[0.8,\"#7fbc41\"],[0.9,\"#4d9221\"],[1,\"#276419\"]]},\"xaxis\":{\"gridcolor\":\"white\",\"linecolor\":\"white\",\"ticks\":\"\",\"title\":{\"standoff\":15},\"zerolinecolor\":\"white\",\"automargin\":true,\"zerolinewidth\":2},\"yaxis\":{\"gridcolor\":\"white\",\"linecolor\":\"white\",\"ticks\":\"\",\"title\":{\"standoff\":15},\"zerolinecolor\":\"white\",\"automargin\":true,\"zerolinewidth\":2},\"scene\":{\"xaxis\":{\"backgroundcolor\":\"#E5ECF6\",\"gridcolor\":\"white\",\"linecolor\":\"white\",\"showbackground\":true,\"ticks\":\"\",\"zerolinecolor\":\"white\",\"gridwidth\":2},\"yaxis\":{\"backgroundcolor\":\"#E5ECF6\",\"gridcolor\":\"white\",\"linecolor\":\"white\",\"showbackground\":true,\"ticks\":\"\",\"zerolinecolor\":\"white\",\"gridwidth\":2},\"zaxis\":{\"backgroundcolor\":\"#E5ECF6\",\"gridcolor\":\"white\",\"linecolor\":\"white\",\"showbackground\":true,\"ticks\":\"\",\"zerolinecolor\":\"white\",\"gridwidth\":2}},\"shapedefaults\":{\"line\":{\"color\":\"#2a3f5f\"}},\"annotationdefaults\":{\"arrowcolor\":\"#2a3f5f\",\"arrowhead\":0,\"arrowwidth\":1},\"geo\":{\"bgcolor\":\"white\",\"landcolor\":\"#E5ECF6\",\"subunitcolor\":\"white\",\"showland\":true,\"showlakes\":true,\"lakecolor\":\"white\"},\"title\":{\"x\":0.05},\"mapbox\":{\"style\":\"light\"}}},\"xaxis\":{\"anchor\":\"y\",\"domain\":[0.0,1.0],\"title\":{\"text\":\"Date\"}},\"yaxis\":{\"anchor\":\"x\",\"domain\":[0.0,1.0],\"title\":{\"text\":\"value\"}},\"legend\":{\"title\":{\"text\":\"variable\"},\"tracegroupgap\":0},\"margin\":{\"t\":60}},                        {\"responsive\": true}                    ).then(function(){\n",
       "                            \n",
       "var gd = document.getElementById('03708eeb-f82c-448f-bf9e-6946de6dc884');\n",
       "var x = new MutationObserver(function (mutations, observer) {{\n",
       "        var display = window.getComputedStyle(gd).display;\n",
       "        if (!display || display === 'none') {{\n",
       "            console.log([gd, 'removed!']);\n",
       "            Plotly.purge(gd);\n",
       "            observer.disconnect();\n",
       "        }}\n",
       "}});\n",
       "\n",
       "// Listen for the removal of the full notebook cells\n",
       "var notebookContainer = gd.closest('#notebook-container');\n",
       "if (notebookContainer) {{\n",
       "    x.observe(notebookContainer, {childList: true});\n",
       "}}\n",
       "\n",
       "// Listen for the clearing of the current output cell\n",
       "var outputEl = gd.closest('.output');\n",
       "if (outputEl) {{\n",
       "    x.observe(outputEl, {childList: true});\n",
       "}}\n",
       "\n",
       "                        })                };                });            </script>        </div>"
      ]
     },
     "metadata": {},
     "output_type": "display_data"
    }
   ],
   "source": [
    "close.plot()"
   ]
  },
  {
   "cell_type": "code",
   "execution_count": 16,
   "id": "589f7a01-ff73-472c-ad15-e6c5a67f4383",
   "metadata": {},
   "outputs": [
    {
     "data": {
      "application/vnd.plotly.v1+json": {
       "config": {
        "plotlyServerURL": "https://plot.ly"
       },
       "data": [
        {
         "alignmentgroup": "True",
         "bingroup": "x",
         "hovertemplate": "variable=TSLA<br>value=%{x}<br>count=%{y}<extra></extra>",
         "legendgroup": "TSLA",
         "marker": {
          "color": "#636efa",
          "pattern": {
           "shape": ""
          }
         },
         "name": "TSLA",
         "offsetgroup": "TSLA",
         "orientation": "v",
         "showlegend": true,
         "type": "histogram",
         "x": [
          null,
          -0.0512345859010529,
          -0.036436802368687404,
          0.046348355546253384,
          0.047812040425278646,
          0.037335010469022656,
          0.03876779427650434,
          0.017417963888751054,
          0.07905243778179138,
          0.005161136057840299,
          0.014823128420135223,
          -0.003234937980317265,
          0.0803450783611821,
          0.007079858095940583,
          -0.00507475414515135,
          -0.014981813142339484,
          0.006486599368272561,
          0.05611341298759176,
          -0.047308971544201106,
          -0.041694894294368345,
          0.010996816105212748,
          -0.03004944796541842,
          -0.048328086073804455,
          0.011291813566499442,
          0.03588835603591267,
          -0.03655231880843268,
          0.019583733431163042,
          0.023758093445249484,
          -0.04955503671370076,
          0.03231684066245499,
          -0.003697576672395231,
          -0.006994645387893739,
          -0.12184121881948873,
          0.005807678470473254,
          -0.004537702888526063,
          -0.007692220213591394,
          0.03695628471433299,
          0.006988279761963367,
          0.04769864576468552,
          -0.08328615317548016,
          -0.008737180698190294,
          -0.09072948807249681,
          0.016427173986372612,
          -0.08254582843646041,
          -0.008174386751047313,
          0.05712909369145702,
          -0.05875856161837267,
          0.05141017778952928,
          -0.06801379812405906,
          -0.0005494634476534976,
          -0.06416505716141863,
          0.01656871415985961,
          -0.06925464690507588,
          0.04877737911795821,
          0.07427138936829314,
          0.07333306253742577,
          -0.001803563389055185,
          -0.02359349020027357,
          0.04677398003874078,
          -0.09219359988526965,
          0.0160472016783606,
          0.0025460558898939833,
          0.012474516432601446,
          -0.008930555308462429,
          -0.031190911234383223,
          -0.07102153990705962,
          0.023887157055640484,
          0.05482367080362738,
          -0.08540769912654234,
          0.017174980283869212,
          0.0935443480214786,
          -0.004007805884153504,
          -0.004306310889948484,
          0.04524889345059324,
          -0.0032016505127857586,
          -0.0500435578248114,
          -0.01793718238090891,
          -0.017579227799377373,
          0.012429131666979787,
          0.025535704813974602,
          -0.005720802000385383,
          0.055279044880592876,
          0.02543516968760029,
          -0.06548005948146851,
          -0.005433611636988744,
          0.017033448479672808,
          0.005371861218914864,
          0.0073572315408600986,
          0.001999426810217919,
          0.020716718219316865,
          0.008023464466653252,
          0.09780470722853529,
          0.0019752262198982073,
          -0.013994935471540293,
          -0.0356637312112531,
          0.061655036992220635,
          0.02212352234272652,
          0.05784976985791013,
          0.00042631152414229767,
          0.011134400598203698,
          0.02265568716125621,
          0.004023022853486102,
          -0.0663030068235908,
          0.007819434052879659,
          -0.024412625864385085,
          0.03890581776676605,
          -0.026249292544206493,
          0.046750143628413676,
          0.03096359891583922,
          -0.008912075793144236,
          -0.008372333511224461,
          -0.0037062197211366055,
          -0.020481852686155544,
          -0.022764022407583906,
          0.0225584954757323,
          0.002170125887066332,
          -0.003455684406709514,
          -0.026953121859416895,
          -0.01135058160727187,
          -0.0249982267189629,
          -0.007526203685978228,
          0.005623955563764049,
          -0.02507581222110289,
          0.015580556255471167,
          0.03381677109982606,
          0.01959815762903916,
          0.03602289482946186,
          0.01581694096302666,
          -0.04037188096320543,
          0.03587437200418364,
          0.003767273730617582,
          -0.0013168523341049454,
          0.018856110452001085,
          -0.0011000625419275156,
          -0.025685948599634356,
          -0.040591728559117746,
          -0.04594757245188685,
          0.0024698479153155706,
          0.02510775852537339,
          0.017212112374233923,
          -0.06810050474193607,
          -0.011036096899372572,
          -0.08614516909902215,
          0.029042940273044104,
          -0.034597517632881325,
          -0.011129075632041241,
          -0.06324275500689214,
          -0.0004931214719139376,
          -0.02897383620084637,
          0.003418039229395209,
          0.020622332969329804,
          -0.07545550981161053,
          0.07005219876844393,
          0.003829479437051919,
          0.008401793106927569,
          -0.0664744863679374,
          0.03454266549727758,
          -0.014875967194030837,
          0.05287573097725584,
          0.009981122376490958,
          0.00200319154854367,
          0.015238384603380561,
          -0.004288512900427199,
          0.0012306146011606955,
          -0.05636033352596026,
          0.0015350350619269815,
          -0.03641259777431871,
          -0.05007952633400592,
          -0.02932818513088775,
          -0.07166757185130745,
          0.07393437216942544,
          0.027527264924482875,
          -0.02561618738169713,
          0.018172303095892017,
          -0.03857627852399581,
          -0.020062058831236462,
          -0.016269016527425406,
          -0.06837231343190053,
          0.012152311933396831,
          0.07821783885404354,
          -0.0018558752377418886,
          0.0003281065208000644,
          -0.011425739989130657,
          0.07670184691003823,
          0,
          0.0008217959148295595,
          -0.06368676805520912,
          -0.01441485156488942,
          -0.032143331123685615,
          -0.003447430865732959,
          0.0323454827685834,
          -0.0627198857086465,
          -0.04093677795344208,
          -0.025784367661833008,
          0.005548438139381551,
          -0.047187179094365206,
          -0.00239632976495896,
          -0.08053641461716088,
          -0.0016690545895901021,
          -0.08882756559936855,
          -0.017550833466474902,
          -0.1140885333144338,
          0.03308891531476843,
          0.0808269069678893,
          0.011164017515666869,
          -0.12242248574195735,
          0.05124885285593783,
          -0.029039097760312105,
          0.024651090365942707,
          0.059349011404278285,
          -0.007681374256751861,
          0.036769060182475055,
          0.0027592625752506095,
          -0.009388119582672827,
          0.07426473736900463,
          -0.020609982513142944,
          -0.012501946153228194,
          0.0491468120625187,
          0.07742468874848996,
          0.0009739087975544347,
          0.003752820129427681,
          0.10967259156647335,
          0.11000180416824756,
          -0.06318150994943417,
          0.03936155894904236,
          0.047280928205116535,
          0.03781489703913388,
          0.009082654784473565,
          0.025160537355481072,
          0.010525791279409002,
          0.022763049555982517,
          0.029956849516678652,
          -0.05030873801899527,
          -0.011427700782035255,
          0.0750616556523096,
          0.02384709913101113,
          -0.05694553722096751,
          0.031033480898909227,
          -0.05251789433835996,
          0.017682553475729224,
          0.006024129792842503,
          -0.025684180003413215,
          0.0546017865369246,
          -0.009247209573726933,
          -0.014291975817664837,
          -0.05853928157947319,
          0.03609219282314147,
          -0.020122331071529054,
          -0.03147407730028162,
          -0.03041929843714275,
          -0.04989011995084991,
          0.0030071956856769777,
          0.005996271168666301,
          0.050320947926932424,
          -0.015333393227232373,
          0.020393505108375454,
          -0.02172378153438792,
          0.017320796272765726,
          0.07819919143822474,
          -0.03254381959196684,
          0.0055977366381618765,
          -0.009416281069083654,
          0.007352522816861606,
          -0.013659325116185062,
          0.024789906342217005,
          0.007220929756684091,
          0.06237201971890638,
          -0.061168427796826186,
          -0.011244043709844997,
          -0.036660076287605925,
          -0.002479553165553039,
          -0.0029720256079851515,
          0.012357047570192181,
          -0.03346003653646468
         ],
         "xaxis": "x",
         "yaxis": "y"
        }
       ],
       "layout": {
        "autosize": true,
        "barmode": "relative",
        "legend": {
         "title": {
          "text": "variable"
         },
         "tracegroupgap": 0
        },
        "margin": {
         "t": 60
        },
        "template": {
         "data": {
          "bar": [
           {
            "error_x": {
             "color": "#2a3f5f"
            },
            "error_y": {
             "color": "#2a3f5f"
            },
            "marker": {
             "line": {
              "color": "#E5ECF6",
              "width": 0.5
             },
             "pattern": {
              "fillmode": "overlay",
              "size": 10,
              "solidity": 0.2
             }
            },
            "type": "bar"
           }
          ],
          "barpolar": [
           {
            "marker": {
             "line": {
              "color": "#E5ECF6",
              "width": 0.5
             },
             "pattern": {
              "fillmode": "overlay",
              "size": 10,
              "solidity": 0.2
             }
            },
            "type": "barpolar"
           }
          ],
          "carpet": [
           {
            "aaxis": {
             "endlinecolor": "#2a3f5f",
             "gridcolor": "white",
             "linecolor": "white",
             "minorgridcolor": "white",
             "startlinecolor": "#2a3f5f"
            },
            "baxis": {
             "endlinecolor": "#2a3f5f",
             "gridcolor": "white",
             "linecolor": "white",
             "minorgridcolor": "white",
             "startlinecolor": "#2a3f5f"
            },
            "type": "carpet"
           }
          ],
          "choropleth": [
           {
            "colorbar": {
             "outlinewidth": 0,
             "ticks": ""
            },
            "type": "choropleth"
           }
          ],
          "contour": [
           {
            "colorbar": {
             "outlinewidth": 0,
             "ticks": ""
            },
            "colorscale": [
             [
              0,
              "#0d0887"
             ],
             [
              0.1111111111111111,
              "#46039f"
             ],
             [
              0.2222222222222222,
              "#7201a8"
             ],
             [
              0.3333333333333333,
              "#9c179e"
             ],
             [
              0.4444444444444444,
              "#bd3786"
             ],
             [
              0.5555555555555556,
              "#d8576b"
             ],
             [
              0.6666666666666666,
              "#ed7953"
             ],
             [
              0.7777777777777778,
              "#fb9f3a"
             ],
             [
              0.8888888888888888,
              "#fdca26"
             ],
             [
              1,
              "#f0f921"
             ]
            ],
            "type": "contour"
           }
          ],
          "contourcarpet": [
           {
            "colorbar": {
             "outlinewidth": 0,
             "ticks": ""
            },
            "type": "contourcarpet"
           }
          ],
          "heatmap": [
           {
            "colorbar": {
             "outlinewidth": 0,
             "ticks": ""
            },
            "colorscale": [
             [
              0,
              "#0d0887"
             ],
             [
              0.1111111111111111,
              "#46039f"
             ],
             [
              0.2222222222222222,
              "#7201a8"
             ],
             [
              0.3333333333333333,
              "#9c179e"
             ],
             [
              0.4444444444444444,
              "#bd3786"
             ],
             [
              0.5555555555555556,
              "#d8576b"
             ],
             [
              0.6666666666666666,
              "#ed7953"
             ],
             [
              0.7777777777777778,
              "#fb9f3a"
             ],
             [
              0.8888888888888888,
              "#fdca26"
             ],
             [
              1,
              "#f0f921"
             ]
            ],
            "type": "heatmap"
           }
          ],
          "heatmapgl": [
           {
            "colorbar": {
             "outlinewidth": 0,
             "ticks": ""
            },
            "colorscale": [
             [
              0,
              "#0d0887"
             ],
             [
              0.1111111111111111,
              "#46039f"
             ],
             [
              0.2222222222222222,
              "#7201a8"
             ],
             [
              0.3333333333333333,
              "#9c179e"
             ],
             [
              0.4444444444444444,
              "#bd3786"
             ],
             [
              0.5555555555555556,
              "#d8576b"
             ],
             [
              0.6666666666666666,
              "#ed7953"
             ],
             [
              0.7777777777777778,
              "#fb9f3a"
             ],
             [
              0.8888888888888888,
              "#fdca26"
             ],
             [
              1,
              "#f0f921"
             ]
            ],
            "type": "heatmapgl"
           }
          ],
          "histogram": [
           {
            "marker": {
             "pattern": {
              "fillmode": "overlay",
              "size": 10,
              "solidity": 0.2
             }
            },
            "type": "histogram"
           }
          ],
          "histogram2d": [
           {
            "colorbar": {
             "outlinewidth": 0,
             "ticks": ""
            },
            "colorscale": [
             [
              0,
              "#0d0887"
             ],
             [
              0.1111111111111111,
              "#46039f"
             ],
             [
              0.2222222222222222,
              "#7201a8"
             ],
             [
              0.3333333333333333,
              "#9c179e"
             ],
             [
              0.4444444444444444,
              "#bd3786"
             ],
             [
              0.5555555555555556,
              "#d8576b"
             ],
             [
              0.6666666666666666,
              "#ed7953"
             ],
             [
              0.7777777777777778,
              "#fb9f3a"
             ],
             [
              0.8888888888888888,
              "#fdca26"
             ],
             [
              1,
              "#f0f921"
             ]
            ],
            "type": "histogram2d"
           }
          ],
          "histogram2dcontour": [
           {
            "colorbar": {
             "outlinewidth": 0,
             "ticks": ""
            },
            "colorscale": [
             [
              0,
              "#0d0887"
             ],
             [
              0.1111111111111111,
              "#46039f"
             ],
             [
              0.2222222222222222,
              "#7201a8"
             ],
             [
              0.3333333333333333,
              "#9c179e"
             ],
             [
              0.4444444444444444,
              "#bd3786"
             ],
             [
              0.5555555555555556,
              "#d8576b"
             ],
             [
              0.6666666666666666,
              "#ed7953"
             ],
             [
              0.7777777777777778,
              "#fb9f3a"
             ],
             [
              0.8888888888888888,
              "#fdca26"
             ],
             [
              1,
              "#f0f921"
             ]
            ],
            "type": "histogram2dcontour"
           }
          ],
          "mesh3d": [
           {
            "colorbar": {
             "outlinewidth": 0,
             "ticks": ""
            },
            "type": "mesh3d"
           }
          ],
          "parcoords": [
           {
            "line": {
             "colorbar": {
              "outlinewidth": 0,
              "ticks": ""
             }
            },
            "type": "parcoords"
           }
          ],
          "pie": [
           {
            "automargin": true,
            "type": "pie"
           }
          ],
          "scatter": [
           {
            "fillpattern": {
             "fillmode": "overlay",
             "size": 10,
             "solidity": 0.2
            },
            "type": "scatter"
           }
          ],
          "scatter3d": [
           {
            "line": {
             "colorbar": {
              "outlinewidth": 0,
              "ticks": ""
             }
            },
            "marker": {
             "colorbar": {
              "outlinewidth": 0,
              "ticks": ""
             }
            },
            "type": "scatter3d"
           }
          ],
          "scattercarpet": [
           {
            "marker": {
             "colorbar": {
              "outlinewidth": 0,
              "ticks": ""
             }
            },
            "type": "scattercarpet"
           }
          ],
          "scattergeo": [
           {
            "marker": {
             "colorbar": {
              "outlinewidth": 0,
              "ticks": ""
             }
            },
            "type": "scattergeo"
           }
          ],
          "scattergl": [
           {
            "marker": {
             "colorbar": {
              "outlinewidth": 0,
              "ticks": ""
             }
            },
            "type": "scattergl"
           }
          ],
          "scattermapbox": [
           {
            "marker": {
             "colorbar": {
              "outlinewidth": 0,
              "ticks": ""
             }
            },
            "type": "scattermapbox"
           }
          ],
          "scatterpolar": [
           {
            "marker": {
             "colorbar": {
              "outlinewidth": 0,
              "ticks": ""
             }
            },
            "type": "scatterpolar"
           }
          ],
          "scatterpolargl": [
           {
            "marker": {
             "colorbar": {
              "outlinewidth": 0,
              "ticks": ""
             }
            },
            "type": "scatterpolargl"
           }
          ],
          "scatterternary": [
           {
            "marker": {
             "colorbar": {
              "outlinewidth": 0,
              "ticks": ""
             }
            },
            "type": "scatterternary"
           }
          ],
          "surface": [
           {
            "colorbar": {
             "outlinewidth": 0,
             "ticks": ""
            },
            "colorscale": [
             [
              0,
              "#0d0887"
             ],
             [
              0.1111111111111111,
              "#46039f"
             ],
             [
              0.2222222222222222,
              "#7201a8"
             ],
             [
              0.3333333333333333,
              "#9c179e"
             ],
             [
              0.4444444444444444,
              "#bd3786"
             ],
             [
              0.5555555555555556,
              "#d8576b"
             ],
             [
              0.6666666666666666,
              "#ed7953"
             ],
             [
              0.7777777777777778,
              "#fb9f3a"
             ],
             [
              0.8888888888888888,
              "#fdca26"
             ],
             [
              1,
              "#f0f921"
             ]
            ],
            "type": "surface"
           }
          ],
          "table": [
           {
            "cells": {
             "fill": {
              "color": "#EBF0F8"
             },
             "line": {
              "color": "white"
             }
            },
            "header": {
             "fill": {
              "color": "#C8D4E3"
             },
             "line": {
              "color": "white"
             }
            },
            "type": "table"
           }
          ]
         },
         "layout": {
          "annotationdefaults": {
           "arrowcolor": "#2a3f5f",
           "arrowhead": 0,
           "arrowwidth": 1
          },
          "autotypenumbers": "strict",
          "coloraxis": {
           "colorbar": {
            "outlinewidth": 0,
            "ticks": ""
           }
          },
          "colorscale": {
           "diverging": [
            [
             0,
             "#8e0152"
            ],
            [
             0.1,
             "#c51b7d"
            ],
            [
             0.2,
             "#de77ae"
            ],
            [
             0.3,
             "#f1b6da"
            ],
            [
             0.4,
             "#fde0ef"
            ],
            [
             0.5,
             "#f7f7f7"
            ],
            [
             0.6,
             "#e6f5d0"
            ],
            [
             0.7,
             "#b8e186"
            ],
            [
             0.8,
             "#7fbc41"
            ],
            [
             0.9,
             "#4d9221"
            ],
            [
             1,
             "#276419"
            ]
           ],
           "sequential": [
            [
             0,
             "#0d0887"
            ],
            [
             0.1111111111111111,
             "#46039f"
            ],
            [
             0.2222222222222222,
             "#7201a8"
            ],
            [
             0.3333333333333333,
             "#9c179e"
            ],
            [
             0.4444444444444444,
             "#bd3786"
            ],
            [
             0.5555555555555556,
             "#d8576b"
            ],
            [
             0.6666666666666666,
             "#ed7953"
            ],
            [
             0.7777777777777778,
             "#fb9f3a"
            ],
            [
             0.8888888888888888,
             "#fdca26"
            ],
            [
             1,
             "#f0f921"
            ]
           ],
           "sequentialminus": [
            [
             0,
             "#0d0887"
            ],
            [
             0.1111111111111111,
             "#46039f"
            ],
            [
             0.2222222222222222,
             "#7201a8"
            ],
            [
             0.3333333333333333,
             "#9c179e"
            ],
            [
             0.4444444444444444,
             "#bd3786"
            ],
            [
             0.5555555555555556,
             "#d8576b"
            ],
            [
             0.6666666666666666,
             "#ed7953"
            ],
            [
             0.7777777777777778,
             "#fb9f3a"
            ],
            [
             0.8888888888888888,
             "#fdca26"
            ],
            [
             1,
             "#f0f921"
            ]
           ]
          },
          "colorway": [
           "#636efa",
           "#EF553B",
           "#00cc96",
           "#ab63fa",
           "#FFA15A",
           "#19d3f3",
           "#FF6692",
           "#B6E880",
           "#FF97FF",
           "#FECB52"
          ],
          "font": {
           "color": "#2a3f5f"
          },
          "geo": {
           "bgcolor": "white",
           "lakecolor": "white",
           "landcolor": "#E5ECF6",
           "showlakes": true,
           "showland": true,
           "subunitcolor": "white"
          },
          "hoverlabel": {
           "align": "left"
          },
          "hovermode": "closest",
          "mapbox": {
           "style": "light"
          },
          "paper_bgcolor": "white",
          "plot_bgcolor": "#E5ECF6",
          "polar": {
           "angularaxis": {
            "gridcolor": "white",
            "linecolor": "white",
            "ticks": ""
           },
           "bgcolor": "#E5ECF6",
           "radialaxis": {
            "gridcolor": "white",
            "linecolor": "white",
            "ticks": ""
           }
          },
          "scene": {
           "xaxis": {
            "backgroundcolor": "#E5ECF6",
            "gridcolor": "white",
            "gridwidth": 2,
            "linecolor": "white",
            "showbackground": true,
            "ticks": "",
            "zerolinecolor": "white"
           },
           "yaxis": {
            "backgroundcolor": "#E5ECF6",
            "gridcolor": "white",
            "gridwidth": 2,
            "linecolor": "white",
            "showbackground": true,
            "ticks": "",
            "zerolinecolor": "white"
           },
           "zaxis": {
            "backgroundcolor": "#E5ECF6",
            "gridcolor": "white",
            "gridwidth": 2,
            "linecolor": "white",
            "showbackground": true,
            "ticks": "",
            "zerolinecolor": "white"
           }
          },
          "shapedefaults": {
           "line": {
            "color": "#2a3f5f"
           }
          },
          "ternary": {
           "aaxis": {
            "gridcolor": "white",
            "linecolor": "white",
            "ticks": ""
           },
           "baxis": {
            "gridcolor": "white",
            "linecolor": "white",
            "ticks": ""
           },
           "bgcolor": "#E5ECF6",
           "caxis": {
            "gridcolor": "white",
            "linecolor": "white",
            "ticks": ""
           }
          },
          "title": {
           "x": 0.05
          },
          "xaxis": {
           "automargin": true,
           "gridcolor": "white",
           "linecolor": "white",
           "ticks": "",
           "title": {
            "standoff": 15
           },
           "zerolinecolor": "white",
           "zerolinewidth": 2
          },
          "yaxis": {
           "automargin": true,
           "gridcolor": "white",
           "linecolor": "white",
           "ticks": "",
           "title": {
            "standoff": 15
           },
           "zerolinecolor": "white",
           "zerolinewidth": 2
          }
         }
        },
        "xaxis": {
         "anchor": "y",
         "autorange": true,
         "domain": [
          0,
          1
         ],
         "range": [
          -0.125,
          0.11499999999999999
         ],
         "title": {
          "text": "value"
         },
         "type": "linear"
        },
        "yaxis": {
         "anchor": "x",
         "autorange": true,
         "domain": [
          0,
          1
         ],
         "range": [
          0,
          42.10526315789474
         ],
         "title": {
          "text": "count"
         }
        }
       }
      },
      "image/png": "[encoded data removed]",
      "text/html": [
       "<div>                            <div id=\"5b913451-f259-41a9-af3b-bbb916be2ef0\" class=\"plotly-graph-div\" style=\"height:525px; width:100%;\"></div>            <script type=\"text/javascript\">                require([\"plotly\"], function(Plotly) {                    window.PLOTLYENV=window.PLOTLYENV || {};                                    if (document.getElementById(\"5b913451-f259-41a9-af3b-bbb916be2ef0\")) {                    Plotly.newPlot(                        \"5b913451-f259-41a9-af3b-bbb916be2ef0\",                        [{\"alignmentgroup\":\"True\",\"bingroup\":\"x\",\"hovertemplate\":\"variable=TSLA<br>value=%{x}<br>count=%{y}<extra></extra>\",\"legendgroup\":\"TSLA\",\"marker\":{\"color\":\"#636efa\",\"pattern\":{\"shape\":\"\"}},\"name\":\"TSLA\",\"offsetgroup\":\"TSLA\",\"orientation\":\"v\",\"showlegend\":true,\"x\":[null,-0.0512345859010529,-0.036436802368687404,0.046348355546253384,0.047812040425278646,0.037335010469022656,0.03876779427650434,0.017417963888751054,0.07905243778179138,0.005161136057840299,0.014823128420135223,-0.003234937980317265,0.0803450783611821,0.007079858095940583,-0.00507475414515135,-0.014981813142339484,0.006486599368272561,0.05611341298759176,-0.047308971544201106,-0.041694894294368345,0.010996816105212748,-0.03004944796541842,-0.048328086073804455,0.011291813566499442,0.03588835603591267,-0.03655231880843268,0.019583733431163042,0.023758093445249484,-0.04955503671370076,0.03231684066245499,-0.003697576672395231,-0.006994645387893739,-0.12184121881948873,0.005807678470473254,-0.004537702888526063,-0.007692220213591394,0.03695628471433299,0.006988279761963367,0.04769864576468552,-0.08328615317548016,-0.008737180698190294,-0.09072948807249681,0.016427173986372612,-0.08254582843646041,-0.008174386751047313,0.05712909369145702,-0.05875856161837267,0.05141017778952928,-0.06801379812405906,-0.0005494634476534976,-0.06416505716141863,0.01656871415985961,-0.06925464690507588,0.04877737911795821,0.07427138936829314,0.07333306253742577,-0.001803563389055185,-0.02359349020027357,0.04677398003874078,-0.09219359988526965,0.0160472016783606,0.0025460558898939833,0.012474516432601446,-0.008930555308462429,-0.031190911234383223,-0.07102153990705962,0.023887157055640484,0.05482367080362738,-0.08540769912654234,0.017174980283869212,0.0935443480214786,-0.004007805884153504,-0.004306310889948484,0.04524889345059324,-0.0032016505127857586,-0.0500435578248114,-0.01793718238090891,-0.017579227799377373,0.012429131666979787,0.025535704813974602,-0.005720802000385383,0.055279044880592876,0.02543516968760029,-0.06548005948146851,-0.005433611636988744,0.017033448479672808,0.005371861218914864,0.0073572315408600986,0.001999426810217919,0.020716718219316865,0.008023464466653252,0.09780470722853529,0.0019752262198982073,-0.013994935471540293,-0.0356637312112531,0.061655036992220635,0.02212352234272652,0.05784976985791013,0.00042631152414229767,0.011134400598203698,0.02265568716125621,0.004023022853486102,-0.0663030068235908,0.007819434052879659,-0.024412625864385085,0.03890581776676605,-0.026249292544206493,0.046750143628413676,0.03096359891583922,-0.008912075793144236,-0.008372333511224461,-0.0037062197211366055,-0.020481852686155544,-0.022764022407583906,0.0225584954757323,0.002170125887066332,-0.003455684406709514,-0.026953121859416895,-0.01135058160727187,-0.0249982267189629,-0.007526203685978228,0.005623955563764049,-0.02507581222110289,0.015580556255471167,0.03381677109982606,0.01959815762903916,0.03602289482946186,0.01581694096302666,-0.04037188096320543,0.03587437200418364,0.003767273730617582,-0.0013168523341049454,0.018856110452001085,-0.0011000625419275156,-0.025685948599634356,-0.040591728559117746,-0.04594757245188685,0.0024698479153155706,0.02510775852537339,0.017212112374233923,-0.06810050474193607,-0.011036096899372572,-0.08614516909902215,0.029042940273044104,-0.034597517632881325,-0.011129075632041241,-0.06324275500689214,-0.0004931214719139376,-0.02897383620084637,0.003418039229395209,0.020622332969329804,-0.07545550981161053,0.07005219876844393,0.003829479437051919,0.008401793106927569,-0.0664744863679374,0.03454266549727758,-0.014875967194030837,0.05287573097725584,0.009981122376490958,0.00200319154854367,0.015238384603380561,-0.004288512900427199,0.0012306146011606955,-0.05636033352596026,0.0015350350619269815,-0.03641259777431871,-0.05007952633400592,-0.02932818513088775,-0.07166757185130745,0.07393437216942544,0.027527264924482875,-0.02561618738169713,0.018172303095892017,-0.03857627852399581,-0.020062058831236462,-0.016269016527425406,-0.06837231343190053,0.012152311933396831,0.07821783885404354,-0.0018558752377418886,0.0003281065208000644,-0.011425739989130657,0.07670184691003823,0.0,0.0008217959148295595,-0.06368676805520912,-0.01441485156488942,-0.032143331123685615,-0.003447430865732959,0.0323454827685834,-0.0627198857086465,-0.04093677795344208,-0.025784367661833008,0.005548438139381551,-0.047187179094365206,-0.00239632976495896,-0.08053641461716088,-0.0016690545895901021,-0.08882756559936855,-0.017550833466474902,-0.1140885333144338,0.03308891531476843,0.0808269069678893,0.011164017515666869,-0.12242248574195735,0.05124885285593783,-0.029039097760312105,0.024651090365942707,0.059349011404278285,-0.007681374256751861,0.036769060182475055,0.0027592625752506095,-0.009388119582672827,0.07426473736900463,-0.020609982513142944,-0.012501946153228194,0.0491468120625187,0.07742468874848996,0.0009739087975544347,0.003752820129427681,0.10967259156647335,0.11000180416824756,-0.06318150994943417,0.03936155894904236,0.047280928205116535,0.03781489703913388,0.009082654784473565,0.025160537355481072,0.010525791279409002,0.022763049555982517,0.029956849516678652,-0.05030873801899527,-0.011427700782035255,0.0750616556523096,0.02384709913101113,-0.05694553722096751,0.031033480898909227,-0.05251789433835996,0.017682553475729224,0.006024129792842503,-0.025684180003413215,0.0546017865369246,-0.009247209573726933,-0.014291975817664837,-0.05853928157947319,0.03609219282314147,-0.020122331071529054,-0.03147407730028162,-0.03041929843714275,-0.04989011995084991,0.0030071956856769777,0.005996271168666301,0.050320947926932424,-0.015333393227232373,0.020393505108375454,-0.02172378153438792,0.017320796272765726,0.07819919143822474,-0.03254381959196684,0.0055977366381618765,-0.009416281069083654,0.007352522816861606,-0.013659325116185062,0.024789906342217005,0.007220929756684091,0.06237201971890638,-0.061168427796826186,-0.011244043709844997,-0.036660076287605925,-0.002479553165553039,-0.0029720256079851515,0.012357047570192181,-0.03346003653646468],\"xaxis\":\"x\",\"yaxis\":\"y\",\"type\":\"histogram\"}],                        {\"template\":{\"data\":{\"histogram2dcontour\":[{\"type\":\"histogram2dcontour\",\"colorbar\":{\"outlinewidth\":0,\"ticks\":\"\"},\"colorscale\":[[0.0,\"#0d0887\"],[0.1111111111111111,\"#46039f\"],[0.2222222222222222,\"#7201a8\"],[0.3333333333333333,\"#9c179e\"],[0.4444444444444444,\"#bd3786\"],[0.5555555555555556,\"#d8576b\"],[0.6666666666666666,\"#ed7953\"],[0.7777777777777778,\"#fb9f3a\"],[0.8888888888888888,\"#fdca26\"],[1.0,\"#f0f921\"]]}],\"choropleth\":[{\"type\":\"choropleth\",\"colorbar\":{\"outlinewidth\":0,\"ticks\":\"\"}}],\"histogram2d\":[{\"type\":\"histogram2d\",\"colorbar\":{\"outlinewidth\":0,\"ticks\":\"\"},\"colorscale\":[[0.0,\"#0d0887\"],[0.1111111111111111,\"#46039f\"],[0.2222222222222222,\"#7201a8\"],[0.3333333333333333,\"#9c179e\"],[0.4444444444444444,\"#bd3786\"],[0.5555555555555556,\"#d8576b\"],[0.6666666666666666,\"#ed7953\"],[0.7777777777777778,\"#fb9f3a\"],[0.8888888888888888,\"#fdca26\"],[1.0,\"#f0f921\"]]}],\"heatmap\":[{\"type\":\"heatmap\",\"colorbar\":{\"outlinewidth\":0,\"ticks\":\"\"},\"colorscale\":[[0.0,\"#0d0887\"],[0.1111111111111111,\"#46039f\"],[0.2222222222222222,\"#7201a8\"],[0.3333333333333333,\"#9c179e\"],[0.4444444444444444,\"#bd3786\"],[0.5555555555555556,\"#d8576b\"],[0.6666666666666666,\"#ed7953\"],[0.7777777777777778,\"#fb9f3a\"],[0.8888888888888888,\"#fdca26\"],[1.0,\"#f0f921\"]]}],\"heatmapgl\":[{\"type\":\"heatmapgl\",\"colorbar\":{\"outlinewidth\":0,\"ticks\":\"\"},\"colorscale\":[[0.0,\"#0d0887\"],[0.1111111111111111,\"#46039f\"],[0.2222222222222222,\"#7201a8\"],[0.3333333333333333,\"#9c179e\"],[0.4444444444444444,\"#bd3786\"],[0.5555555555555556,\"#d8576b\"],[0.6666666666666666,\"#ed7953\"],[0.7777777777777778,\"#fb9f3a\"],[0.8888888888888888,\"#fdca26\"],[1.0,\"#f0f921\"]]}],\"contourcarpet\":[{\"type\":\"contourcarpet\",\"colorbar\":{\"outlinewidth\":0,\"ticks\":\"\"}}],\"contour\":[{\"type\":\"contour\",\"colorbar\":{\"outlinewidth\":0,\"ticks\":\"\"},\"colorscale\":[[0.0,\"#0d0887\"],[0.1111111111111111,\"#46039f\"],[0.2222222222222222,\"#7201a8\"],[0.3333333333333333,\"#9c179e\"],[0.4444444444444444,\"#bd3786\"],[0.5555555555555556,\"#d8576b\"],[0.6666666666666666,\"#ed7953\"],[0.7777777777777778,\"#fb9f3a\"],[0.8888888888888888,\"#fdca26\"],[1.0,\"#f0f921\"]]}],\"surface\":[{\"type\":\"surface\",\"colorbar\":{\"outlinewidth\":0,\"ticks\":\"\"},\"colorscale\":[[0.0,\"#0d0887\"],[0.1111111111111111,\"#46039f\"],[0.2222222222222222,\"#7201a8\"],[0.3333333333333333,\"#9c179e\"],[0.4444444444444444,\"#bd3786\"],[0.5555555555555556,\"#d8576b\"],[0.6666666666666666,\"#ed7953\"],[0.7777777777777778,\"#fb9f3a\"],[0.8888888888888888,\"#fdca26\"],[1.0,\"#f0f921\"]]}],\"mesh3d\":[{\"type\":\"mesh3d\",\"colorbar\":{\"outlinewidth\":0,\"ticks\":\"\"}}],\"scatter\":[{\"fillpattern\":{\"fillmode\":\"overlay\",\"size\":10,\"solidity\":0.2},\"type\":\"scatter\"}],\"parcoords\":[{\"type\":\"parcoords\",\"line\":{\"colorbar\":{\"outlinewidth\":0,\"ticks\":\"\"}}}],\"scatterpolargl\":[{\"type\":\"scatterpolargl\",\"marker\":{\"colorbar\":{\"outlinewidth\":0,\"ticks\":\"\"}}}],\"bar\":[{\"error_x\":{\"color\":\"#2a3f5f\"},\"error_y\":{\"color\":\"#2a3f5f\"},\"marker\":{\"line\":{\"color\":\"#E5ECF6\",\"width\":0.5},\"pattern\":{\"fillmode\":\"overlay\",\"size\":10,\"solidity\":0.2}},\"type\":\"bar\"}],\"scattergeo\":[{\"type\":\"scattergeo\",\"marker\":{\"colorbar\":{\"outlinewidth\":0,\"ticks\":\"\"}}}],\"scatterpolar\":[{\"type\":\"scatterpolar\",\"marker\":{\"colorbar\":{\"outlinewidth\":0,\"ticks\":\"\"}}}],\"histogram\":[{\"marker\":{\"pattern\":{\"fillmode\":\"overlay\",\"size\":10,\"solidity\":0.2}},\"type\":\"histogram\"}],\"scattergl\":[{\"type\":\"scattergl\",\"marker\":{\"colorbar\":{\"outlinewidth\":0,\"ticks\":\"\"}}}],\"scatter3d\":[{\"type\":\"scatter3d\",\"line\":{\"colorbar\":{\"outlinewidth\":0,\"ticks\":\"\"}},\"marker\":{\"colorbar\":{\"outlinewidth\":0,\"ticks\":\"\"}}}],\"scattermapbox\":[{\"type\":\"scattermapbox\",\"marker\":{\"colorbar\":{\"outlinewidth\":0,\"ticks\":\"\"}}}],\"scatterternary\":[{\"type\":\"scatterternary\",\"marker\":{\"colorbar\":{\"outlinewidth\":0,\"ticks\":\"\"}}}],\"scattercarpet\":[{\"type\":\"scattercarpet\",\"marker\":{\"colorbar\":{\"outlinewidth\":0,\"ticks\":\"\"}}}],\"carpet\":[{\"aaxis\":{\"endlinecolor\":\"#2a3f5f\",\"gridcolor\":\"white\",\"linecolor\":\"white\",\"minorgridcolor\":\"white\",\"startlinecolor\":\"#2a3f5f\"},\"baxis\":{\"endlinecolor\":\"#2a3f5f\",\"gridcolor\":\"white\",\"linecolor\":\"white\",\"minorgridcolor\":\"white\",\"startlinecolor\":\"#2a3f5f\"},\"type\":\"carpet\"}],\"table\":[{\"cells\":{\"fill\":{\"color\":\"#EBF0F8\"},\"line\":{\"color\":\"white\"}},\"header\":{\"fill\":{\"color\":\"#C8D4E3\"},\"line\":{\"color\":\"white\"}},\"type\":\"table\"}],\"barpolar\":[{\"marker\":{\"line\":{\"color\":\"#E5ECF6\",\"width\":0.5},\"pattern\":{\"fillmode\":\"overlay\",\"size\":10,\"solidity\":0.2}},\"type\":\"barpolar\"}],\"pie\":[{\"automargin\":true,\"type\":\"pie\"}]},\"layout\":{\"autotypenumbers\":\"strict\",\"colorway\":[\"#636efa\",\"#EF553B\",\"#00cc96\",\"#ab63fa\",\"#FFA15A\",\"#19d3f3\",\"#FF6692\",\"#B6E880\",\"#FF97FF\",\"#FECB52\"],\"font\":{\"color\":\"#2a3f5f\"},\"hovermode\":\"closest\",\"hoverlabel\":{\"align\":\"left\"},\"paper_bgcolor\":\"white\",\"plot_bgcolor\":\"#E5ECF6\",\"polar\":{\"bgcolor\":\"#E5ECF6\",\"angularaxis\":{\"gridcolor\":\"white\",\"linecolor\":\"white\",\"ticks\":\"\"},\"radialaxis\":{\"gridcolor\":\"white\",\"linecolor\":\"white\",\"ticks\":\"\"}},\"ternary\":{\"bgcolor\":\"#E5ECF6\",\"aaxis\":{\"gridcolor\":\"white\",\"linecolor\":\"white\",\"ticks\":\"\"},\"baxis\":{\"gridcolor\":\"white\",\"linecolor\":\"white\",\"ticks\":\"\"},\"caxis\":{\"gridcolor\":\"white\",\"linecolor\":\"white\",\"ticks\":\"\"}},\"coloraxis\":{\"colorbar\":{\"outlinewidth\":0,\"ticks\":\"\"}},\"colorscale\":{\"sequential\":[[0.0,\"#0d0887\"],[0.1111111111111111,\"#46039f\"],[0.2222222222222222,\"#7201a8\"],[0.3333333333333333,\"#9c179e\"],[0.4444444444444444,\"#bd3786\"],[0.5555555555555556,\"#d8576b\"],[0.6666666666666666,\"#ed7953\"],[0.7777777777777778,\"#fb9f3a\"],[0.8888888888888888,\"#fdca26\"],[1.0,\"#f0f921\"]],\"sequentialminus\":[[0.0,\"#0d0887\"],[0.1111111111111111,\"#46039f\"],[0.2222222222222222,\"#7201a8\"],[0.3333333333333333,\"#9c179e\"],[0.4444444444444444,\"#bd3786\"],[0.5555555555555556,\"#d8576b\"],[0.6666666666666666,\"#ed7953\"],[0.7777777777777778,\"#fb9f3a\"],[0.8888888888888888,\"#fdca26\"],[1.0,\"#f0f921\"]],\"diverging\":[[0,\"#8e0152\"],[0.1,\"#c51b7d\"],[0.2,\"#de77ae\"],[0.3,\"#f1b6da\"],[0.4,\"#fde0ef\"],[0.5,\"#f7f7f7\"],[0.6,\"#e6f5d0\"],[0.7,\"#b8e186\"],[0.8,\"#7fbc41\"],[0.9,\"#4d9221\"],[1,\"#276419\"]]},\"xaxis\":{\"gridcolor\":\"white\",\"linecolor\":\"white\",\"ticks\":\"\",\"title\":{\"standoff\":15},\"zerolinecolor\":\"white\",\"automargin\":true,\"zerolinewidth\":2},\"yaxis\":{\"gridcolor\":\"white\",\"linecolor\":\"white\",\"ticks\":\"\",\"title\":{\"standoff\":15},\"zerolinecolor\":\"white\",\"automargin\":true,\"zerolinewidth\":2},\"scene\":{\"xaxis\":{\"backgroundcolor\":\"#E5ECF6\",\"gridcolor\":\"white\",\"linecolor\":\"white\",\"showbackground\":true,\"ticks\":\"\",\"zerolinecolor\":\"white\",\"gridwidth\":2},\"yaxis\":{\"backgroundcolor\":\"#E5ECF6\",\"gridcolor\":\"white\",\"linecolor\":\"white\",\"showbackground\":true,\"ticks\":\"\",\"zerolinecolor\":\"white\",\"gridwidth\":2},\"zaxis\":{\"backgroundcolor\":\"#E5ECF6\",\"gridcolor\":\"white\",\"linecolor\":\"white\",\"showbackground\":true,\"ticks\":\"\",\"zerolinecolor\":\"white\",\"gridwidth\":2}},\"shapedefaults\":{\"line\":{\"color\":\"#2a3f5f\"}},\"annotationdefaults\":{\"arrowcolor\":\"#2a3f5f\",\"arrowhead\":0,\"arrowwidth\":1},\"geo\":{\"bgcolor\":\"white\",\"landcolor\":\"#E5ECF6\",\"subunitcolor\":\"white\",\"showland\":true,\"showlakes\":true,\"lakecolor\":\"white\"},\"title\":{\"x\":0.05},\"mapbox\":{\"style\":\"light\"}}},\"xaxis\":{\"anchor\":\"y\",\"domain\":[0.0,1.0],\"title\":{\"text\":\"value\"}},\"yaxis\":{\"anchor\":\"x\",\"domain\":[0.0,1.0],\"title\":{\"text\":\"count\"}},\"legend\":{\"title\":{\"text\":\"variable\"},\"tracegroupgap\":0},\"margin\":{\"t\":60},\"barmode\":\"relative\"},                        {\"responsive\": true}                    ).then(function(){\n",
       "                            \n",
       "var gd = document.getElementById('5b913451-f259-41a9-af3b-bbb916be2ef0');\n",
       "var x = new MutationObserver(function (mutations, observer) {{\n",
       "        var display = window.getComputedStyle(gd).display;\n",
       "        if (!display || display === 'none') {{\n",
       "            console.log([gd, 'removed!']);\n",
       "            Plotly.purge(gd);\n",
       "            observer.disconnect();\n",
       "        }}\n",
       "}});\n",
       "\n",
       "// Listen for the removal of the full notebook cells\n",
       "var notebookContainer = gd.closest('#notebook-container');\n",
       "if (notebookContainer) {{\n",
       "    x.observe(notebookContainer, {childList: true});\n",
       "}}\n",
       "\n",
       "// Listen for the clearing of the current output cell\n",
       "var outputEl = gd.closest('.output');\n",
       "if (outputEl) {{\n",
       "    x.observe(outputEl, {childList: true});\n",
       "}}\n",
       "\n",
       "                        })                };                });            </script>        </div>"
      ]
     },
     "metadata": {},
     "output_type": "display_data"
    }
   ],
   "source": [
    "close['TSLA'].pct_change().plot(kind='hist')"
   ]
  }
 ],
 "metadata": {
  "kernelspec": {
   "display_name": "Python 3 (ipykernel)",
   "language": "python",
   "name": "python3"
  },
  "language_info": {
   "codemirror_mode": {
    "name": "ipython",
    "version": 3
   },
   "file_extension": ".py",
   "mimetype": "text/x-python",
   "name": "python",
   "nbconvert_exporter": "python",
   "pygments_lexer": "ipython3",
   "version": "3.10.10"
  }
 },
 "nbformat": 4,
 "nbformat_minor": 5
}
